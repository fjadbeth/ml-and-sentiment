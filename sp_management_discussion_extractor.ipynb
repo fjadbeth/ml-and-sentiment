{
 "cells": [
  {
   "cell_type": "markdown",
   "id": "e288258f-2c11-4559-90dd-106675dda0bb",
   "metadata": {},
   "source": [
    "# Extract 10-K filings from 2015 to present"
   ]
  },
  {
   "cell_type": "code",
   "execution_count": 3,
   "id": "84bb3263-9ed3-490f-afc0-a082b3f33641",
   "metadata": {},
   "outputs": [
    {
     "name": "stdout",
     "output_type": "stream",
     "text": [
      "Getting S&P 500 tickers...\n",
      "Processing 503 companies from 2015 onwards...\n"
     ]
    },
    {
     "name": "stderr",
     "output_type": "stream",
     "text": [
      "  0%|          | 0/503 [00:00<?, ?it/s]"
     ]
    },
    {
     "name": "stdout",
     "output_type": "stream",
     "text": [
      "Processing MMM (3M CO)\n",
      "  Available columns: ['accession_number', 'filing_date', 'reportDate', 'acceptanceDateTime', 'act', 'form', 'fileNumber', 'items', 'size', 'isXBRL', 'isInlineXBRL', 'primaryDocument', 'primaryDocDescription']\n",
      "  Found 10 10-K filings from 2015 onwards\n",
      "    Error processing filing for MMM: 'NoneType' object is not subscriptable\n",
      "    Error processing filing for MMM: 'NoneType' object is not subscriptable\n",
      "    Error processing filing for MMM: 'NoneType' object is not subscriptable\n",
      "    Error processing filing for MMM: 'NoneType' object is not subscriptable\n"
     ]
    },
    {
     "name": "stderr",
     "output_type": "stream",
     "text": [
      "  0%|          | 1/503 [00:10<1:26:25, 10.33s/it]"
     ]
    },
    {
     "name": "stdout",
     "output_type": "stream",
     "text": [
      "Processing AOS (SMITH A O CORP)\n",
      "  Available columns: ['accession_number', 'filing_date', 'reportDate', 'acceptanceDateTime', 'act', 'form', 'fileNumber', 'items', 'size', 'isXBRL', 'isInlineXBRL', 'primaryDocument', 'primaryDocDescription']\n",
      "  Found 10 10-K filings from 2015 onwards\n"
     ]
    },
    {
     "name": "stderr",
     "output_type": "stream",
     "text": [
      "  0%|          | 2/503 [00:33<2:27:47, 17.70s/it]"
     ]
    },
    {
     "name": "stdout",
     "output_type": "stream",
     "text": [
      "Processing ABT (ABBOTT LABORATORIES)\n",
      "  Available columns: ['accession_number', 'filing_date', 'reportDate', 'acceptanceDateTime', 'act', 'form', 'fileNumber', 'items', 'size', 'isXBRL', 'isInlineXBRL', 'primaryDocument', 'primaryDocDescription']\n",
      "  Found 10 10-K filings from 2015 onwards\n"
     ]
    },
    {
     "name": "stderr",
     "output_type": "stream",
     "text": [
      "  1%|          | 3/503 [01:01<3:06:05, 22.33s/it]"
     ]
    },
    {
     "name": "stdout",
     "output_type": "stream",
     "text": [
      "Processing ABBV (AbbVie Inc.)\n",
      "  Available columns: ['accession_number', 'filing_date', 'reportDate', 'acceptanceDateTime', 'act', 'form', 'fileNumber', 'items', 'size', 'isXBRL', 'isInlineXBRL', 'primaryDocument', 'primaryDocDescription']\n",
      "  Found 10 10-K filings from 2015 onwards\n"
     ]
    },
    {
     "name": "stderr",
     "output_type": "stream",
     "text": [
      "  1%|          | 4/503 [01:30<3:28:56, 25.12s/it]"
     ]
    },
    {
     "name": "stdout",
     "output_type": "stream",
     "text": [
      "Processing ACN (Accenture plc)\n",
      "  Available columns: ['accession_number', 'filing_date', 'reportDate', 'acceptanceDateTime', 'act', 'form', 'fileNumber', 'items', 'size', 'isXBRL', 'isInlineXBRL', 'primaryDocument', 'primaryDocDescription']\n",
      "  Found 10 10-K filings from 2015 onwards\n"
     ]
    },
    {
     "name": "stderr",
     "output_type": "stream",
     "text": [
      "  1%|          | 5/503 [01:58<3:36:10, 26.05s/it]"
     ]
    },
    {
     "name": "stdout",
     "output_type": "stream",
     "text": [
      "Processing ADBE (ADOBE INC.)\n",
      "  Available columns: ['accession_number', 'filing_date', 'reportDate', 'acceptanceDateTime', 'act', 'form', 'fileNumber', 'items', 'size', 'isXBRL', 'isInlineXBRL', 'primaryDocument', 'primaryDocDescription']\n",
      "  Found 10 10-K filings from 2015 onwards\n"
     ]
    },
    {
     "name": "stderr",
     "output_type": "stream",
     "text": [
      "  1%|          | 6/503 [02:26<3:42:27, 26.86s/it]"
     ]
    },
    {
     "name": "stdout",
     "output_type": "stream",
     "text": [
      "Processing AMD (ADVANCED MICRO DEVICES INC)\n",
      "  Available columns: ['accession_number', 'filing_date', 'reportDate', 'acceptanceDateTime', 'act', 'form', 'fileNumber', 'items', 'size', 'isXBRL', 'isInlineXBRL', 'primaryDocument', 'primaryDocDescription']\n",
      "  Found 10 10-K filings from 2015 onwards\n"
     ]
    },
    {
     "name": "stderr",
     "output_type": "stream",
     "text": [
      "  1%|▏         | 7/503 [02:48<3:29:39, 25.36s/it]"
     ]
    },
    {
     "name": "stdout",
     "output_type": "stream",
     "text": [
      "Processing AES (AES CORP)\n",
      "  Available columns: ['accession_number', 'filing_date', 'reportDate', 'acceptanceDateTime', 'act', 'form', 'fileNumber', 'items', 'size', 'isXBRL', 'isInlineXBRL', 'primaryDocument', 'primaryDocDescription']\n",
      "  Found 9 10-K filings from 2015 onwards\n"
     ]
    },
    {
     "name": "stderr",
     "output_type": "stream",
     "text": [
      "  2%|▏         | 8/503 [03:28<4:07:37, 30.01s/it]"
     ]
    },
    {
     "name": "stdout",
     "output_type": "stream",
     "text": [
      "Processing AFL (AFLAC INC)\n",
      "  Available columns: ['accession_number', 'filing_date', 'reportDate', 'acceptanceDateTime', 'act', 'form', 'fileNumber', 'items', 'size', 'isXBRL', 'isInlineXBRL', 'primaryDocument', 'primaryDocDescription']\n",
      "  Found 10 10-K filings from 2015 onwards\n"
     ]
    },
    {
     "name": "stderr",
     "output_type": "stream",
     "text": [
      "  2%|▏         | 9/503 [04:29<5:25:39, 39.55s/it]"
     ]
    },
    {
     "name": "stdout",
     "output_type": "stream",
     "text": [
      "Processing A (AGILENT TECHNOLOGIES, INC.)\n",
      "  Available columns: ['accession_number', 'filing_date', 'reportDate', 'acceptanceDateTime', 'act', 'form', 'fileNumber', 'items', 'size', 'isXBRL', 'isInlineXBRL', 'primaryDocument', 'primaryDocDescription']\n",
      "  Found 10 10-K filings from 2015 onwards\n"
     ]
    },
    {
     "name": "stderr",
     "output_type": "stream",
     "text": [
      "  2%|▏         | 10/503 [05:06<5:17:48, 38.68s/it]"
     ]
    },
    {
     "name": "stdout",
     "output_type": "stream",
     "text": [
      "Processing APD (Air Products & Chemicals, Inc.)\n",
      "  Available columns: ['accession_number', 'filing_date', 'reportDate', 'acceptanceDateTime', 'act', 'form', 'fileNumber', 'items', 'size', 'isXBRL', 'isInlineXBRL', 'primaryDocument', 'primaryDocDescription']\n",
      "  Found 10 10-K filings from 2015 onwards\n"
     ]
    },
    {
     "name": "stderr",
     "output_type": "stream",
     "text": [
      "  2%|▏         | 11/503 [05:40<5:07:32, 37.51s/it]"
     ]
    },
    {
     "name": "stdout",
     "output_type": "stream",
     "text": [
      "Processing ABNB (Airbnb, Inc.)\n",
      "  Available columns: ['accession_number', 'filing_date', 'reportDate', 'acceptanceDateTime', 'act', 'form', 'fileNumber', 'items', 'size', 'isXBRL', 'isInlineXBRL', 'primaryDocument', 'primaryDocDescription']\n",
      "  Found 5 10-K filings from 2015 onwards\n"
     ]
    },
    {
     "name": "stderr",
     "output_type": "stream",
     "text": [
      "  2%|▏         | 12/503 [05:55<4:08:50, 30.41s/it]"
     ]
    },
    {
     "name": "stdout",
     "output_type": "stream",
     "text": [
      "Processing AKAM (AKAMAI TECHNOLOGIES INC)\n",
      "  Available columns: ['accession_number', 'filing_date', 'reportDate', 'acceptanceDateTime', 'act', 'form', 'fileNumber', 'items', 'size', 'isXBRL', 'isInlineXBRL', 'primaryDocument', 'primaryDocDescription']\n",
      "  Found 10 10-K filings from 2015 onwards\n"
     ]
    },
    {
     "name": "stderr",
     "output_type": "stream",
     "text": [
      "  3%|▎         | 13/503 [06:22<4:00:29, 29.45s/it]"
     ]
    },
    {
     "name": "stdout",
     "output_type": "stream",
     "text": [
      "Processing ALB (ALBEMARLE CORP)\n",
      "  Available columns: ['accession_number', 'filing_date', 'reportDate', 'acceptanceDateTime', 'act', 'form', 'fileNumber', 'items', 'size', 'isXBRL', 'isInlineXBRL', 'primaryDocument', 'primaryDocDescription']\n",
      "  Found 10 10-K filings from 2015 onwards\n"
     ]
    },
    {
     "name": "stderr",
     "output_type": "stream",
     "text": [
      "  3%|▎         | 14/503 [07:00<4:20:25, 31.95s/it]"
     ]
    },
    {
     "name": "stdout",
     "output_type": "stream",
     "text": [
      "Processing ARE (ALEXANDRIA REAL ESTATE EQUITIES, INC.)\n",
      "  Available columns: ['accession_number', 'filing_date', 'reportDate', 'acceptanceDateTime', 'act', 'form', 'fileNumber', 'items', 'size', 'isXBRL', 'isInlineXBRL', 'primaryDocument', 'primaryDocDescription']\n",
      "  Found 10 10-K filings from 2015 onwards\n"
     ]
    },
    {
     "name": "stderr",
     "output_type": "stream",
     "text": [
      "  3%|▎         | 15/503 [08:13<6:01:37, 44.46s/it]"
     ]
    },
    {
     "name": "stdout",
     "output_type": "stream",
     "text": [
      "Processing ALGN (ALIGN TECHNOLOGY INC)\n",
      "  Available columns: ['accession_number', 'filing_date', 'reportDate', 'acceptanceDateTime', 'act', 'form', 'fileNumber', 'items', 'size', 'isXBRL', 'isInlineXBRL', 'primaryDocument', 'primaryDocDescription']\n",
      "  Found 10 10-K filings from 2015 onwards\n"
     ]
    },
    {
     "name": "stderr",
     "output_type": "stream",
     "text": [
      "  3%|▎         | 16/503 [08:50<5:42:32, 42.20s/it]"
     ]
    },
    {
     "name": "stdout",
     "output_type": "stream",
     "text": [
      "Processing ALLE (Allegion plc)\n",
      "  Available columns: ['accession_number', 'filing_date', 'reportDate', 'acceptanceDateTime', 'act', 'form', 'fileNumber', 'items', 'size', 'isXBRL', 'isInlineXBRL', 'primaryDocument', 'primaryDocDescription']\n",
      "  Found 10 10-K filings from 2015 onwards\n"
     ]
    },
    {
     "name": "stderr",
     "output_type": "stream",
     "text": [
      "  3%|▎         | 17/503 [09:22<5:16:28, 39.07s/it]"
     ]
    },
    {
     "name": "stdout",
     "output_type": "stream",
     "text": [
      "Processing LNT (ALLIANT ENERGY CORP)\n",
      "  Available columns: ['accession_number', 'filing_date', 'reportDate', 'acceptanceDateTime', 'act', 'form', 'fileNumber', 'items', 'size', 'isXBRL', 'isInlineXBRL', 'primaryDocument', 'primaryDocDescription']\n",
      "  Found 10 10-K filings from 2015 onwards\n"
     ]
    },
    {
     "name": "stderr",
     "output_type": "stream",
     "text": [
      "  4%|▎         | 18/503 [10:04<5:22:25, 39.89s/it]"
     ]
    },
    {
     "name": "stdout",
     "output_type": "stream",
     "text": [
      "Processing ALL (ALLSTATE CORP)\n",
      "  Available columns: ['accession_number', 'filing_date', 'reportDate', 'acceptanceDateTime', 'act', 'form', 'fileNumber', 'items', 'size', 'isXBRL', 'isInlineXBRL', 'primaryDocument', 'primaryDocDescription']\n",
      "  Found 10 10-K filings from 2015 onwards\n"
     ]
    },
    {
     "name": "stderr",
     "output_type": "stream",
     "text": [
      "  4%|▍         | 19/503 [11:21<6:51:39, 51.03s/it]"
     ]
    },
    {
     "name": "stdout",
     "output_type": "stream",
     "text": [
      "Processing GOOGL (Alphabet Inc.)\n",
      "  Available columns: ['accession_number', 'filing_date', 'reportDate', 'acceptanceDateTime', 'act', 'form', 'fileNumber', 'items', 'size', 'isXBRL', 'isInlineXBRL', 'primaryDocument', 'primaryDocDescription']\n",
      "  Found 10 10-K filings from 2015 onwards\n"
     ]
    },
    {
     "name": "stderr",
     "output_type": "stream",
     "text": [
      "  4%|▍         | 20/503 [11:49<5:56:06, 44.24s/it]"
     ]
    },
    {
     "name": "stdout",
     "output_type": "stream",
     "text": [
      "Processing GOOG (Alphabet Inc.)\n",
      "  Available columns: ['accession_number', 'filing_date', 'reportDate', 'acceptanceDateTime', 'act', 'form', 'fileNumber', 'items', 'size', 'isXBRL', 'isInlineXBRL', 'primaryDocument', 'primaryDocDescription']\n",
      "  Found 10 10-K filings from 2015 onwards\n"
     ]
    },
    {
     "name": "stderr",
     "output_type": "stream",
     "text": [
      "  4%|▍         | 21/503 [12:11<5:02:09, 37.61s/it]"
     ]
    },
    {
     "name": "stdout",
     "output_type": "stream",
     "text": [
      "Processing MO (ALTRIA GROUP, INC.)\n",
      "  Available columns: ['accession_number', 'filing_date', 'reportDate', 'acceptanceDateTime', 'act', 'form', 'fileNumber', 'items', 'size', 'isXBRL', 'isInlineXBRL', 'primaryDocument', 'primaryDocDescription']\n",
      "  Found 10 10-K filings from 2015 onwards\n"
     ]
    },
    {
     "name": "stderr",
     "output_type": "stream",
     "text": [
      "  4%|▍         | 22/503 [12:42<4:45:47, 35.65s/it]"
     ]
    },
    {
     "name": "stdout",
     "output_type": "stream",
     "text": [
      "Processing AMZN (AMAZON COM INC)\n",
      "  Available columns: ['accession_number', 'filing_date', 'reportDate', 'acceptanceDateTime', 'act', 'form', 'fileNumber', 'items', 'size', 'isXBRL', 'isInlineXBRL', 'primaryDocument', 'primaryDocDescription']\n",
      "  Found 10 10-K filings from 2015 onwards\n"
     ]
    },
    {
     "name": "stderr",
     "output_type": "stream",
     "text": [
      "  5%|▍         | 23/503 [13:05<4:13:19, 31.67s/it]"
     ]
    },
    {
     "name": "stdout",
     "output_type": "stream",
     "text": [
      "Processing AMCR (Amcor plc)\n",
      "  Available columns: ['accession_number', 'filing_date', 'reportDate', 'acceptanceDateTime', 'act', 'form', 'fileNumber', 'items', 'size', 'isXBRL', 'isInlineXBRL', 'primaryDocument', 'primaryDocDescription']\n",
      "  Found 6 10-K filings from 2015 onwards\n"
     ]
    },
    {
     "name": "stderr",
     "output_type": "stream",
     "text": [
      "  5%|▍         | 24/503 [13:24<3:44:43, 28.15s/it]"
     ]
    },
    {
     "name": "stdout",
     "output_type": "stream",
     "text": [
      "Processing AEE (AMEREN CORP)\n",
      "  Available columns: ['accession_number', 'filing_date', 'reportDate', 'acceptanceDateTime', 'act', 'form', 'fileNumber', 'items', 'size', 'isXBRL', 'isInlineXBRL', 'primaryDocument', 'primaryDocDescription']\n",
      "  Found 10 10-K filings from 2015 onwards\n"
     ]
    },
    {
     "name": "stderr",
     "output_type": "stream",
     "text": [
      "  5%|▍         | 25/503 [14:17<4:41:55, 35.39s/it]"
     ]
    },
    {
     "name": "stdout",
     "output_type": "stream",
     "text": [
      "Processing AEP (AMERICAN ELECTRIC POWER CO INC)\n",
      "  Available columns: ['accession_number', 'filing_date', 'reportDate', 'acceptanceDateTime', 'act', 'form', 'fileNumber', 'items', 'size', 'isXBRL', 'isInlineXBRL', 'primaryDocument', 'primaryDocDescription']\n",
      "  Found 10 10-K filings from 2015 onwards\n"
     ]
    },
    {
     "name": "stderr",
     "output_type": "stream",
     "text": [
      "  5%|▌         | 26/503 [15:20<5:46:44, 43.62s/it]"
     ]
    },
    {
     "name": "stdout",
     "output_type": "stream",
     "text": [
      "Processing AXP (AMERICAN EXPRESS CO)\n",
      "  Available columns: ['accession_number', 'filing_date', 'reportDate', 'acceptanceDateTime', 'act', 'form', 'fileNumber', 'items', 'size', 'isXBRL', 'isInlineXBRL', 'primaryDocument', 'primaryDocDescription']\n",
      "  Found 10 10-K filings from 2015 onwards\n"
     ]
    },
    {
     "name": "stderr",
     "output_type": "stream",
     "text": [
      "  5%|▌         | 27/503 [16:09<5:59:54, 45.37s/it]"
     ]
    },
    {
     "name": "stdout",
     "output_type": "stream",
     "text": [
      "Processing AIG (AMERICAN INTERNATIONAL GROUP, INC.)\n",
      "  Available columns: ['accession_number', 'filing_date', 'reportDate', 'acceptanceDateTime', 'act', 'form', 'fileNumber', 'items', 'size', 'isXBRL', 'isInlineXBRL', 'primaryDocument', 'primaryDocDescription']\n",
      "  Found 10 10-K filings from 2015 onwards\n"
     ]
    },
    {
     "name": "stderr",
     "output_type": "stream",
     "text": [
      "  6%|▌         | 28/503 [18:02<8:38:37, 65.51s/it]"
     ]
    },
    {
     "name": "stdout",
     "output_type": "stream",
     "text": [
      "Processing AMT (AMERICAN TOWER CORP /MA/)\n",
      "  Available columns: ['accession_number', 'filing_date', 'reportDate', 'acceptanceDateTime', 'act', 'form', 'fileNumber', 'items', 'size', 'isXBRL', 'isInlineXBRL', 'primaryDocument', 'primaryDocDescription']\n",
      "  Found 10 10-K filings from 2015 onwards\n"
     ]
    },
    {
     "name": "stderr",
     "output_type": "stream",
     "text": [
      "  6%|▌         | 29/503 [18:39<7:31:42, 57.18s/it]"
     ]
    },
    {
     "name": "stdout",
     "output_type": "stream",
     "text": [
      "Processing AWK (American Water Works Company, Inc.)\n",
      "  Available columns: ['accession_number', 'filing_date', 'reportDate', 'acceptanceDateTime', 'act', 'form', 'fileNumber', 'items', 'size', 'isXBRL', 'isInlineXBRL', 'primaryDocument', 'primaryDocDescription']\n",
      "  Found 10 10-K filings from 2015 onwards\n"
     ]
    },
    {
     "name": "stderr",
     "output_type": "stream",
     "text": [
      "  6%|▌         | 30/503 [19:28<7:10:41, 54.63s/it]"
     ]
    },
    {
     "name": "stdout",
     "output_type": "stream",
     "text": [
      "Processing AMP (AMERIPRISE FINANCIAL INC)\n",
      "  Available columns: ['accession_number', 'filing_date', 'reportDate', 'acceptanceDateTime', 'act', 'form', 'fileNumber', 'items', 'size', 'isXBRL', 'isInlineXBRL', 'primaryDocument', 'primaryDocDescription']\n",
      "  Found 10 10-K filings from 2015 onwards\n"
     ]
    },
    {
     "name": "stderr",
     "output_type": "stream",
     "text": [
      "  6%|▌         | 31/503 [20:23<7:09:47, 54.64s/it]"
     ]
    },
    {
     "name": "stdout",
     "output_type": "stream",
     "text": [
      "Processing AME (AMETEK INC/)\n",
      "  Available columns: ['accession_number', 'filing_date', 'reportDate', 'acceptanceDateTime', 'act', 'form', 'fileNumber', 'items', 'size', 'isXBRL', 'isInlineXBRL', 'primaryDocument', 'primaryDocDescription']\n",
      "  Found 10 10-K filings from 2015 onwards\n"
     ]
    },
    {
     "name": "stderr",
     "output_type": "stream",
     "text": [
      "  6%|▋         | 32/503 [20:54<6:14:27, 47.70s/it]"
     ]
    },
    {
     "name": "stdout",
     "output_type": "stream",
     "text": [
      "Processing AMGN (AMGEN INC)\n",
      "  Available columns: ['accession_number', 'filing_date', 'reportDate', 'acceptanceDateTime', 'act', 'form', 'fileNumber', 'items', 'size', 'isXBRL', 'isInlineXBRL', 'primaryDocument', 'primaryDocDescription']\n",
      "  Found 10 10-K filings from 2015 onwards\n"
     ]
    },
    {
     "name": "stderr",
     "output_type": "stream",
     "text": [
      "  7%|▋         | 33/503 [21:24<5:30:36, 42.21s/it]"
     ]
    },
    {
     "name": "stdout",
     "output_type": "stream",
     "text": [
      "Processing APH (AMPHENOL CORP /DE/)\n",
      "  Available columns: ['accession_number', 'filing_date', 'reportDate', 'acceptanceDateTime', 'act', 'form', 'fileNumber', 'items', 'size', 'isXBRL', 'isInlineXBRL', 'primaryDocument', 'primaryDocDescription']\n",
      "  Found 10 10-K filings from 2015 onwards\n",
      "    Error processing filing for APH: 'NoneType' object is not subscriptable\n",
      "    Error processing filing for APH: 'NoneType' object is not subscriptable\n",
      "    Error processing filing for APH: 'NoneType' object is not subscriptable\n"
     ]
    },
    {
     "name": "stderr",
     "output_type": "stream",
     "text": [
      "  7%|▋         | 34/503 [21:48<4:47:32, 36.79s/it]"
     ]
    },
    {
     "name": "stdout",
     "output_type": "stream",
     "text": [
      "Processing ADI (ANALOG DEVICES INC)\n",
      "  Available columns: ['accession_number', 'filing_date', 'reportDate', 'acceptanceDateTime', 'act', 'form', 'fileNumber', 'items', 'size', 'isXBRL', 'isInlineXBRL', 'primaryDocument', 'primaryDocDescription']\n",
      "  Found 10 10-K filings from 2015 onwards\n"
     ]
    },
    {
     "name": "stderr",
     "output_type": "stream",
     "text": [
      "  7%|▋         | 35/503 [22:13<4:20:35, 33.41s/it]"
     ]
    },
    {
     "name": "stdout",
     "output_type": "stream",
     "text": [
      "Processing ANSS (ANSYS INC)\n",
      "  Available columns: ['accession_number', 'filing_date', 'reportDate', 'acceptanceDateTime', 'act', 'form', 'fileNumber', 'items', 'size', 'isXBRL', 'isInlineXBRL', 'primaryDocument', 'primaryDocDescription']\n",
      "  Found 10 10-K filings from 2015 onwards\n"
     ]
    },
    {
     "name": "stderr",
     "output_type": "stream",
     "text": [
      "  7%|▋         | 36/503 [22:40<4:05:29, 31.54s/it]"
     ]
    },
    {
     "name": "stdout",
     "output_type": "stream",
     "text": [
      "Processing AON (Aon plc)\n",
      "  Available columns: ['accession_number', 'filing_date', 'reportDate', 'acceptanceDateTime', 'act', 'form', 'fileNumber', 'items', 'size', 'isXBRL', 'isInlineXBRL', 'primaryDocument', 'primaryDocDescription']\n",
      "  Found 10 10-K filings from 2015 onwards\n"
     ]
    },
    {
     "name": "stderr",
     "output_type": "stream",
     "text": [
      "  7%|▋         | 37/503 [23:18<4:19:37, 33.43s/it]"
     ]
    },
    {
     "name": "stdout",
     "output_type": "stream",
     "text": [
      "Processing APA (APA Corp)\n",
      "  Available columns: ['accession_number', 'filing_date', 'reportDate', 'acceptanceDateTime', 'act', 'form', 'fileNumber', 'items', 'size', 'isXBRL', 'isInlineXBRL', 'primaryDocument', 'primaryDocDescription']\n",
      "  Found 4 10-K filings from 2015 onwards\n"
     ]
    },
    {
     "name": "stderr",
     "output_type": "stream",
     "text": [
      "  8%|▊         | 38/503 [23:34<3:37:48, 28.10s/it]"
     ]
    },
    {
     "name": "stdout",
     "output_type": "stream",
     "text": [
      "Processing APO (Apollo Global Management, Inc.)\n",
      "  Available columns: ['accession_number', 'filing_date', 'reportDate', 'acceptanceDateTime', 'act', 'form', 'fileNumber', 'items', 'size', 'isXBRL', 'isInlineXBRL', 'primaryDocument', 'primaryDocDescription']\n",
      "  Found 3 10-K filings from 2015 onwards\n"
     ]
    },
    {
     "name": "stderr",
     "output_type": "stream",
     "text": [
      "  8%|▊         | 39/503 [23:51<3:11:54, 24.82s/it]"
     ]
    },
    {
     "name": "stdout",
     "output_type": "stream",
     "text": [
      "Processing AAPL (Apple Inc.)\n",
      "  Available columns: ['accession_number', 'filing_date', 'reportDate', 'acceptanceDateTime', 'act', 'form', 'fileNumber', 'items', 'size', 'isXBRL', 'isInlineXBRL', 'primaryDocument', 'primaryDocDescription']\n",
      "  Found 10 10-K filings from 2015 onwards\n"
     ]
    },
    {
     "name": "stderr",
     "output_type": "stream",
     "text": [
      "  8%|▊         | 40/503 [24:13<3:05:11, 24.00s/it]"
     ]
    },
    {
     "name": "stdout",
     "output_type": "stream",
     "text": [
      "Processing AMAT (APPLIED MATERIALS INC /DE)\n",
      "  Available columns: ['accession_number', 'filing_date', 'reportDate', 'acceptanceDateTime', 'act', 'form', 'fileNumber', 'items', 'size', 'isXBRL', 'isInlineXBRL', 'primaryDocument', 'primaryDocDescription']\n",
      "  Found 10 10-K filings from 2015 onwards\n"
     ]
    },
    {
     "name": "stderr",
     "output_type": "stream",
     "text": [
      "  8%|▊         | 41/503 [24:43<3:17:25, 25.64s/it]"
     ]
    },
    {
     "name": "stdout",
     "output_type": "stream",
     "text": [
      "Processing APTV (Aptiv PLC)\n",
      "  Available columns: ['accession_number', 'filing_date', 'reportDate', 'acceptanceDateTime', 'act', 'form', 'fileNumber', 'items', 'size', 'isXBRL', 'isInlineXBRL', 'primaryDocument', 'primaryDocDescription']\n",
      "  Found 10 10-K filings from 2015 onwards\n"
     ]
    },
    {
     "name": "stderr",
     "output_type": "stream",
     "text": [
      "  8%|▊         | 42/503 [25:22<3:48:52, 29.79s/it]"
     ]
    },
    {
     "name": "stdout",
     "output_type": "stream",
     "text": [
      "Processing ACGL (ARCH CAPITAL GROUP LTD.)\n",
      "  Available columns: ['accession_number', 'filing_date', 'reportDate', 'acceptanceDateTime', 'act', 'form', 'fileNumber', 'items', 'size', 'isXBRL', 'isInlineXBRL', 'primaryDocument', 'primaryDocDescription']\n",
      "  Found 10 10-K filings from 2015 onwards\n"
     ]
    },
    {
     "name": "stderr",
     "output_type": "stream",
     "text": [
      "  9%|▊         | 43/503 [26:16<4:43:00, 36.91s/it]"
     ]
    },
    {
     "name": "stdout",
     "output_type": "stream",
     "text": [
      "Processing ADM (Archer-Daniels-Midland Co)\n",
      "  Available columns: ['accession_number', 'filing_date', 'reportDate', 'acceptanceDateTime', 'act', 'form', 'fileNumber', 'items', 'size', 'isXBRL', 'isInlineXBRL', 'primaryDocument', 'primaryDocDescription']\n",
      "  Found 10 10-K filings from 2015 onwards\n"
     ]
    },
    {
     "name": "stderr",
     "output_type": "stream",
     "text": [
      "  9%|▊         | 44/503 [26:52<4:41:43, 36.83s/it]"
     ]
    },
    {
     "name": "stdout",
     "output_type": "stream",
     "text": [
      "Processing ANET (Arista Networks, Inc.)\n",
      "  Available columns: ['accession_number', 'filing_date', 'reportDate', 'acceptanceDateTime', 'act', 'form', 'fileNumber', 'items', 'size', 'isXBRL', 'isInlineXBRL', 'primaryDocument', 'primaryDocDescription']\n",
      "  Found 10 10-K filings from 2015 onwards\n"
     ]
    },
    {
     "name": "stderr",
     "output_type": "stream",
     "text": [
      "  9%|▉         | 45/503 [27:17<4:12:48, 33.12s/it]"
     ]
    },
    {
     "name": "stdout",
     "output_type": "stream",
     "text": [
      "Processing AJG (Arthur J. Gallagher & Co.)\n",
      "  Available columns: ['accession_number', 'filing_date', 'reportDate', 'acceptanceDateTime', 'act', 'form', 'fileNumber', 'items', 'size', 'isXBRL', 'isInlineXBRL', 'primaryDocument', 'primaryDocDescription']\n",
      "  Found 10 10-K filings from 2015 onwards\n"
     ]
    },
    {
     "name": "stderr",
     "output_type": "stream",
     "text": [
      "  9%|▉         | 46/503 [28:08<4:54:33, 38.67s/it]"
     ]
    },
    {
     "name": "stdout",
     "output_type": "stream",
     "text": [
      "Processing AIZ (ASSURANT, INC.)\n",
      "  Available columns: ['accession_number', 'filing_date', 'reportDate', 'acceptanceDateTime', 'act', 'form', 'fileNumber', 'items', 'size', 'isXBRL', 'isInlineXBRL', 'primaryDocument', 'primaryDocDescription']\n",
      "  Found 10 10-K filings from 2015 onwards\n"
     ]
    },
    {
     "name": "stderr",
     "output_type": "stream",
     "text": [
      "  9%|▉         | 47/503 [28:58<5:19:44, 42.07s/it]"
     ]
    },
    {
     "name": "stdout",
     "output_type": "stream",
     "text": [
      "Processing T (AT&T INC.)\n",
      "  Available columns: ['accession_number', 'filing_date', 'reportDate', 'acceptanceDateTime', 'act', 'form', 'fileNumber', 'items', 'size', 'isXBRL', 'isInlineXBRL', 'primaryDocument', 'primaryDocDescription']\n",
      "  Found 10 10-K filings from 2015 onwards\n"
     ]
    },
    {
     "name": "stderr",
     "output_type": "stream",
     "text": [
      " 10%|▉         | 48/503 [29:27<4:48:08, 38.00s/it]"
     ]
    },
    {
     "name": "stdout",
     "output_type": "stream",
     "text": [
      "Processing ATO (ATMOS ENERGY CORP)\n",
      "  Available columns: ['accession_number', 'filing_date', 'reportDate', 'acceptanceDateTime', 'act', 'form', 'fileNumber', 'items', 'size', 'isXBRL', 'isInlineXBRL', 'primaryDocument', 'primaryDocDescription']\n",
      "  Found 10 10-K filings from 2015 onwards\n"
     ]
    },
    {
     "name": "stderr",
     "output_type": "stream",
     "text": [
      " 10%|▉         | 49/503 [29:59<4:33:44, 36.18s/it]"
     ]
    },
    {
     "name": "stdout",
     "output_type": "stream",
     "text": [
      "Processing ADSK (Autodesk, Inc.)\n",
      "  Available columns: ['accession_number', 'filing_date', 'reportDate', 'acceptanceDateTime', 'act', 'form', 'fileNumber', 'items', 'size', 'isXBRL', 'isInlineXBRL', 'primaryDocument', 'primaryDocDescription']\n",
      "  Found 10 10-K filings from 2015 onwards\n"
     ]
    },
    {
     "name": "stderr",
     "output_type": "stream",
     "text": [
      " 10%|▉         | 50/503 [30:32<4:26:48, 35.34s/it]"
     ]
    },
    {
     "name": "stdout",
     "output_type": "stream",
     "text": [
      "Processing ADP (AUTOMATIC DATA PROCESSING INC)\n",
      "  Available columns: ['accession_number', 'filing_date', 'reportDate', 'acceptanceDateTime', 'act', 'form', 'fileNumber', 'items', 'size', 'isXBRL', 'isInlineXBRL', 'primaryDocument', 'primaryDocDescription']\n",
      "  Found 10 10-K filings from 2015 onwards\n"
     ]
    },
    {
     "name": "stderr",
     "output_type": "stream",
     "text": [
      " 10%|█         | 51/503 [31:07<4:24:14, 35.08s/it]"
     ]
    },
    {
     "name": "stdout",
     "output_type": "stream",
     "text": [
      "Processing AZO (AUTOZONE INC)\n",
      "  Available columns: ['accession_number', 'filing_date', 'reportDate', 'acceptanceDateTime', 'act', 'form', 'fileNumber', 'items', 'size', 'isXBRL', 'isInlineXBRL', 'primaryDocument', 'primaryDocDescription']\n",
      "  Found 10 10-K filings from 2015 onwards\n"
     ]
    },
    {
     "name": "stderr",
     "output_type": "stream",
     "text": [
      " 10%|█         | 52/503 [31:33<4:03:52, 32.45s/it]"
     ]
    },
    {
     "name": "stdout",
     "output_type": "stream",
     "text": [
      "Processing AVB (AVALONBAY COMMUNITIES INC)\n",
      "  Available columns: ['accession_number', 'filing_date', 'reportDate', 'acceptanceDateTime', 'act', 'form', 'fileNumber', 'items', 'size', 'isXBRL', 'isInlineXBRL', 'primaryDocument', 'primaryDocDescription']\n",
      "  Found 10 10-K filings from 2015 onwards\n"
     ]
    },
    {
     "name": "stderr",
     "output_type": "stream",
     "text": [
      " 11%|█         | 53/503 [32:13<4:19:51, 34.65s/it]"
     ]
    },
    {
     "name": "stdout",
     "output_type": "stream",
     "text": [
      "Processing AVY (Avery Dennison Corp)\n",
      "  Available columns: ['accession_number', 'filing_date', 'reportDate', 'acceptanceDateTime', 'act', 'form', 'fileNumber', 'items', 'size', 'isXBRL', 'isInlineXBRL', 'primaryDocument', 'primaryDocDescription']\n",
      "  Found 11 10-K filings from 2015 onwards\n"
     ]
    },
    {
     "name": "stderr",
     "output_type": "stream",
     "text": [
      " 11%|█         | 54/503 [32:35<3:52:00, 31.00s/it]"
     ]
    },
    {
     "name": "stdout",
     "output_type": "stream",
     "text": [
      "Processing AXON (AXON ENTERPRISE, INC.)\n",
      "  Available columns: ['accession_number', 'filing_date', 'reportDate', 'acceptanceDateTime', 'act', 'form', 'fileNumber', 'items', 'size', 'isXBRL', 'isInlineXBRL', 'primaryDocument', 'primaryDocDescription']\n",
      "  Found 10 10-K filings from 2015 onwards\n"
     ]
    },
    {
     "name": "stderr",
     "output_type": "stream",
     "text": [
      " 11%|█         | 55/503 [33:08<3:55:21, 31.52s/it]"
     ]
    },
    {
     "name": "stdout",
     "output_type": "stream",
     "text": [
      "Processing BKR (Baker Hughes Co)\n",
      "  Available columns: ['accession_number', 'filing_date', 'reportDate', 'acceptanceDateTime', 'act', 'form', 'fileNumber', 'items', 'size', 'isXBRL', 'isInlineXBRL', 'primaryDocument', 'primaryDocDescription']\n",
      "  Found 8 10-K filings from 2015 onwards\n"
     ]
    },
    {
     "name": "stderr",
     "output_type": "stream",
     "text": [
      " 11%|█         | 56/503 [33:34<3:41:55, 29.79s/it]"
     ]
    },
    {
     "name": "stdout",
     "output_type": "stream",
     "text": [
      "Processing BALL (BALL Corp)\n",
      "  Available columns: ['accession_number', 'filing_date', 'reportDate', 'acceptanceDateTime', 'act', 'form', 'fileNumber', 'items', 'size', 'isXBRL', 'isInlineXBRL', 'primaryDocument', 'primaryDocDescription']\n",
      "  Found 10 10-K filings from 2015 onwards\n",
      "    Error processing filing for BALL: 'NoneType' object is not subscriptable\n",
      "    Error processing filing for BALL: 'NoneType' object is not subscriptable\n",
      "    Error processing filing for BALL: 'NoneType' object is not subscriptable\n"
     ]
    },
    {
     "name": "stderr",
     "output_type": "stream",
     "text": [
      " 11%|█▏        | 57/503 [33:58<3:29:42, 28.21s/it]"
     ]
    },
    {
     "name": "stdout",
     "output_type": "stream",
     "text": [
      "Processing BAC (BANK OF AMERICA CORP /DE/)\n",
      "  Available columns: ['accession_number', 'filing_date', 'reportDate', 'acceptanceDateTime', 'act', 'form', 'fileNumber', 'items', 'size', 'isXBRL', 'isInlineXBRL', 'primaryDocument', 'primaryDocDescription']\n",
      "  Found 10 10-K filings from 2015 onwards\n"
     ]
    },
    {
     "name": "stderr",
     "output_type": "stream",
     "text": [
      " 12%|█▏        | 58/503 [35:28<5:45:15, 46.55s/it]"
     ]
    },
    {
     "name": "stdout",
     "output_type": "stream",
     "text": [
      "Processing BAX (BAXTER INTERNATIONAL INC)\n",
      "  Available columns: ['accession_number', 'filing_date', 'reportDate', 'acceptanceDateTime', 'act', 'form', 'fileNumber', 'items', 'size', 'isXBRL', 'isInlineXBRL', 'primaryDocument', 'primaryDocDescription']\n",
      "  Found 10 10-K filings from 2015 onwards\n"
     ]
    },
    {
     "name": "stderr",
     "output_type": "stream",
     "text": [
      " 12%|█▏        | 59/503 [36:00<5:13:38, 42.38s/it]"
     ]
    },
    {
     "name": "stdout",
     "output_type": "stream",
     "text": [
      "Processing BDX (BECTON DICKINSON & CO)\n",
      "  Available columns: ['accession_number', 'filing_date', 'reportDate', 'acceptanceDateTime', 'act', 'form', 'fileNumber', 'items', 'size', 'isXBRL', 'isInlineXBRL', 'primaryDocument', 'primaryDocDescription']\n",
      "  Found 10 10-K filings from 2015 onwards\n"
     ]
    },
    {
     "name": "stderr",
     "output_type": "stream",
     "text": [
      " 12%|█▏        | 60/503 [36:27<4:38:24, 37.71s/it]"
     ]
    },
    {
     "name": "stdout",
     "output_type": "stream",
     "text": [
      "Processing BRK-B (BERKSHIRE HATHAWAY INC)\n",
      "  Available columns: ['accession_number', 'filing_date', 'reportDate', 'acceptanceDateTime', 'act', 'form', 'fileNumber', 'items', 'size', 'isXBRL', 'isInlineXBRL', 'primaryDocument', 'primaryDocDescription']\n",
      "  Found 10 10-K filings from 2015 onwards\n"
     ]
    },
    {
     "name": "stderr",
     "output_type": "stream",
     "text": [
      " 12%|█▏        | 61/503 [37:19<5:09:46, 42.05s/it]"
     ]
    },
    {
     "name": "stdout",
     "output_type": "stream",
     "text": [
      "Processing BBY (BEST BUY CO INC)\n",
      "  Available columns: ['accession_number', 'filing_date', 'reportDate', 'acceptanceDateTime', 'act', 'form', 'fileNumber', 'items', 'size', 'isXBRL', 'isInlineXBRL', 'primaryDocument', 'primaryDocDescription']\n",
      "  Found 10 10-K filings from 2015 onwards\n"
     ]
    },
    {
     "name": "stderr",
     "output_type": "stream",
     "text": [
      " 12%|█▏        | 62/503 [37:51<4:45:33, 38.85s/it]"
     ]
    },
    {
     "name": "stdout",
     "output_type": "stream",
     "text": [
      "Processing TECH (BIO-TECHNE Corp)\n",
      "  Available columns: ['accession_number', 'filing_date', 'reportDate', 'acceptanceDateTime', 'act', 'form', 'fileNumber', 'items', 'size', 'isXBRL', 'isInlineXBRL', 'primaryDocument', 'primaryDocDescription']\n",
      "  Found 10 10-K filings from 2015 onwards\n",
      "    Error processing filing for TECH: 'NoneType' object is not subscriptable\n"
     ]
    },
    {
     "name": "stderr",
     "output_type": "stream",
     "text": [
      " 13%|█▎        | 63/503 [38:13<4:09:36, 34.04s/it]"
     ]
    },
    {
     "name": "stdout",
     "output_type": "stream",
     "text": [
      "Processing BIIB (BIOGEN INC.)\n",
      "  Available columns: ['accession_number', 'filing_date', 'reportDate', 'acceptanceDateTime', 'act', 'form', 'fileNumber', 'items', 'size', 'isXBRL', 'isInlineXBRL', 'primaryDocument', 'primaryDocDescription']\n",
      "  Found 10 10-K filings from 2015 onwards\n"
     ]
    },
    {
     "name": "stderr",
     "output_type": "stream",
     "text": [
      " 13%|█▎        | 64/503 [38:45<4:04:10, 33.37s/it]"
     ]
    },
    {
     "name": "stdout",
     "output_type": "stream",
     "text": [
      "Processing BLK (BlackRock, Inc.)\n",
      "  Available columns: ['accession_number', 'filing_date', 'reportDate', 'acceptanceDateTime', 'act', 'form', 'fileNumber', 'items', 'size', 'isXBRL', 'isInlineXBRL', 'primaryDocument', 'primaryDocDescription']\n",
      "  Found 1 10-K filings from 2015 onwards\n"
     ]
    },
    {
     "name": "stderr",
     "output_type": "stream",
     "text": [
      " 13%|█▎        | 65/503 [38:51<3:03:54, 25.19s/it]"
     ]
    },
    {
     "name": "stdout",
     "output_type": "stream",
     "text": [
      "Processing BX (Blackstone Inc.)\n",
      "  Available columns: ['accession_number', 'filing_date', 'reportDate', 'acceptanceDateTime', 'act', 'form', 'fileNumber', 'items', 'size', 'isXBRL', 'isInlineXBRL', 'primaryDocument', 'primaryDocDescription']\n",
      "  Found 10 10-K filings from 2015 onwards\n"
     ]
    },
    {
     "name": "stderr",
     "output_type": "stream",
     "text": [
      " 13%|█▎        | 66/503 [40:01<4:40:28, 38.51s/it]"
     ]
    },
    {
     "name": "stdout",
     "output_type": "stream",
     "text": [
      "Processing BK (Bank of New York Mellon Corp)\n",
      "  Available columns: ['accession_number', 'filing_date', 'reportDate', 'acceptanceDateTime', 'act', 'form', 'fileNumber', 'items', 'size', 'isXBRL', 'isInlineXBRL', 'primaryDocument', 'primaryDocDescription']\n",
      "  Found 10 10-K filings from 2015 onwards\n"
     ]
    },
    {
     "name": "stderr",
     "output_type": "stream",
     "text": [
      " 13%|█▎        | 67/503 [40:27<4:12:55, 34.81s/it]"
     ]
    },
    {
     "name": "stdout",
     "output_type": "stream",
     "text": [
      "Processing BA (BOEING CO)\n",
      "  Available columns: ['accession_number', 'filing_date', 'reportDate', 'acceptanceDateTime', 'act', 'form', 'fileNumber', 'items', 'size', 'isXBRL', 'isInlineXBRL', 'primaryDocument', 'primaryDocDescription']\n",
      "  Found 10 10-K filings from 2015 onwards\n"
     ]
    },
    {
     "name": "stderr",
     "output_type": "stream",
     "text": [
      " 14%|█▎        | 68/503 [40:58<4:03:26, 33.58s/it]"
     ]
    },
    {
     "name": "stdout",
     "output_type": "stream",
     "text": [
      "Processing BKNG (Booking Holdings Inc.)\n",
      "  Available columns: ['accession_number', 'filing_date', 'reportDate', 'acceptanceDateTime', 'act', 'form', 'fileNumber', 'items', 'size', 'isXBRL', 'isInlineXBRL', 'primaryDocument', 'primaryDocDescription']\n",
      "  Found 10 10-K filings from 2015 onwards\n"
     ]
    },
    {
     "name": "stderr",
     "output_type": "stream",
     "text": [
      " 14%|█▎        | 69/503 [41:23<3:44:36, 31.05s/it]"
     ]
    },
    {
     "name": "stdout",
     "output_type": "stream",
     "text": [
      "Processing BWA (BORGWARNER INC)\n",
      "  Available columns: ['accession_number', 'filing_date', 'reportDate', 'acceptanceDateTime', 'act', 'form', 'fileNumber', 'items', 'size', 'isXBRL', 'isInlineXBRL', 'primaryDocument', 'primaryDocDescription']\n",
      "  Found 10 10-K filings from 2015 onwards\n"
     ]
    },
    {
     "name": "stderr",
     "output_type": "stream",
     "text": [
      " 14%|█▍        | 70/503 [41:53<3:42:48, 30.87s/it]"
     ]
    },
    {
     "name": "stdout",
     "output_type": "stream",
     "text": [
      "Processing BSX (BOSTON SCIENTIFIC CORP)\n",
      "  Available columns: ['accession_number', 'filing_date', 'reportDate', 'acceptanceDateTime', 'act', 'form', 'fileNumber', 'items', 'size', 'isXBRL', 'isInlineXBRL', 'primaryDocument', 'primaryDocDescription']\n",
      "  Found 10 10-K filings from 2015 onwards\n"
     ]
    },
    {
     "name": "stderr",
     "output_type": "stream",
     "text": [
      " 14%|█▍        | 71/503 [42:21<3:35:54, 29.99s/it]"
     ]
    },
    {
     "name": "stdout",
     "output_type": "stream",
     "text": [
      "Processing BMY (BRISTOL MYERS SQUIBB CO)\n",
      "  Available columns: ['accession_number', 'filing_date', 'reportDate', 'acceptanceDateTime', 'act', 'form', 'fileNumber', 'items', 'size', 'isXBRL', 'isInlineXBRL', 'primaryDocument', 'primaryDocDescription']\n",
      "  Found 10 10-K filings from 2015 onwards\n"
     ]
    },
    {
     "name": "stderr",
     "output_type": "stream",
     "text": [
      " 14%|█▍        | 72/503 [42:53<3:38:44, 30.45s/it]"
     ]
    },
    {
     "name": "stdout",
     "output_type": "stream",
     "text": [
      "Processing AVGO (Broadcom Inc.)\n",
      "  Available columns: ['accession_number', 'filing_date', 'reportDate', 'acceptanceDateTime', 'act', 'form', 'fileNumber', 'items', 'size', 'isXBRL', 'isInlineXBRL', 'primaryDocument', 'primaryDocDescription']\n",
      "  Found 7 10-K filings from 2015 onwards\n",
      "    WARNING: No MD&A section found for AVGO (CIK: 1730168) for year 2024\n"
     ]
    },
    {
     "name": "stderr",
     "output_type": "stream",
     "text": [
      " 15%|█▍        | 73/503 [43:13<3:17:06, 27.50s/it]"
     ]
    },
    {
     "name": "stdout",
     "output_type": "stream",
     "text": [
      "Processing BR (BROADRIDGE FINANCIAL SOLUTIONS, INC.)\n",
      "  Available columns: ['accession_number', 'filing_date', 'reportDate', 'acceptanceDateTime', 'act', 'form', 'fileNumber', 'items', 'size', 'isXBRL', 'isInlineXBRL', 'primaryDocument', 'primaryDocDescription']\n",
      "  Found 10 10-K filings from 2015 onwards\n"
     ]
    },
    {
     "name": "stderr",
     "output_type": "stream",
     "text": [
      " 15%|█▍        | 74/503 [43:45<3:25:40, 28.77s/it]"
     ]
    },
    {
     "name": "stdout",
     "output_type": "stream",
     "text": [
      "Processing BRO (BROWN & BROWN, INC.)\n",
      "  Available columns: ['accession_number', 'filing_date', 'reportDate', 'acceptanceDateTime', 'act', 'form', 'fileNumber', 'items', 'size', 'isXBRL', 'isInlineXBRL', 'primaryDocument', 'primaryDocDescription']\n",
      "  Found 10 10-K filings from 2015 onwards\n"
     ]
    },
    {
     "name": "stderr",
     "output_type": "stream",
     "text": [
      " 15%|█▍        | 75/503 [44:19<3:36:38, 30.37s/it]"
     ]
    },
    {
     "name": "stdout",
     "output_type": "stream",
     "text": [
      "Processing BF-B (BROWN FORMAN CORP)\n",
      "  Available columns: ['accession_number', 'filing_date', 'reportDate', 'acceptanceDateTime', 'act', 'form', 'fileNumber', 'items', 'size', 'isXBRL', 'isInlineXBRL', 'primaryDocument', 'primaryDocDescription']\n",
      "  Found 10 10-K filings from 2015 onwards\n"
     ]
    },
    {
     "name": "stderr",
     "output_type": "stream",
     "text": [
      " 15%|█▌        | 76/503 [44:46<3:28:01, 29.23s/it]"
     ]
    },
    {
     "name": "stdout",
     "output_type": "stream",
     "text": [
      "Processing BLDR (Builders FirstSource, Inc.)\n",
      "  Available columns: ['accession_number', 'filing_date', 'reportDate', 'acceptanceDateTime', 'act', 'form', 'fileNumber', 'items', 'size', 'isXBRL', 'isInlineXBRL', 'primaryDocument', 'primaryDocDescription']\n",
      "  Found 10 10-K filings from 2015 onwards\n"
     ]
    },
    {
     "name": "stderr",
     "output_type": "stream",
     "text": [
      " 15%|█▌        | 77/503 [45:14<3:24:13, 28.76s/it]"
     ]
    },
    {
     "name": "stdout",
     "output_type": "stream",
     "text": [
      "Processing BG (Bunge Global SA)\n",
      "  Available columns: ['accession_number', 'filing_date', 'reportDate', 'acceptanceDateTime', 'act', 'form', 'fileNumber', 'items', 'size', 'isXBRL', 'isInlineXBRL', 'primaryDocument', 'primaryDocDescription']\n",
      "  Found 2 10-K filings from 2015 onwards\n"
     ]
    },
    {
     "name": "stderr",
     "output_type": "stream",
     "text": [
      " 16%|█▌        | 78/503 [45:21<2:38:12, 22.34s/it]"
     ]
    },
    {
     "name": "stdout",
     "output_type": "stream",
     "text": [
      "Processing BXP (BXP, Inc.)\n",
      "  Available columns: ['accession_number', 'filing_date', 'reportDate', 'acceptanceDateTime', 'act', 'form', 'fileNumber', 'items', 'size', 'isXBRL', 'isInlineXBRL', 'primaryDocument', 'primaryDocDescription']\n",
      "  Found 10 10-K filings from 2015 onwards\n"
     ]
    },
    {
     "name": "stderr",
     "output_type": "stream",
     "text": [
      " 16%|█▌        | 79/503 [46:10<3:34:18, 30.33s/it]"
     ]
    },
    {
     "name": "stdout",
     "output_type": "stream",
     "text": [
      "Processing CHRW (C. H. ROBINSON WORLDWIDE, INC.)\n",
      "  Available columns: ['accession_number', 'filing_date', 'reportDate', 'acceptanceDateTime', 'act', 'form', 'fileNumber', 'items', 'size', 'isXBRL', 'isInlineXBRL', 'primaryDocument', 'primaryDocDescription']\n",
      "  Found 10 10-K filings from 2015 onwards\n"
     ]
    },
    {
     "name": "stderr",
     "output_type": "stream",
     "text": [
      " 16%|█▌        | 80/503 [46:33<3:18:25, 28.14s/it]"
     ]
    },
    {
     "name": "stdout",
     "output_type": "stream",
     "text": [
      "Processing CDNS (CADENCE DESIGN SYSTEMS INC)\n",
      "  Available columns: ['accession_number', 'filing_date', 'reportDate', 'acceptanceDateTime', 'act', 'form', 'fileNumber', 'items', 'size', 'isXBRL', 'isInlineXBRL', 'primaryDocument', 'primaryDocDescription']\n",
      "  Found 11 10-K filings from 2015 onwards\n"
     ]
    },
    {
     "name": "stderr",
     "output_type": "stream",
     "text": [
      " 16%|█▌        | 81/503 [47:01<3:17:48, 28.12s/it]"
     ]
    },
    {
     "name": "stdout",
     "output_type": "stream",
     "text": [
      "Processing CZR (Caesars Entertainment, Inc.)\n",
      "  Available columns: ['accession_number', 'filing_date', 'reportDate', 'acceptanceDateTime', 'act', 'form', 'fileNumber', 'items', 'size', 'isXBRL', 'isInlineXBRL', 'primaryDocument', 'primaryDocDescription']\n",
      "  Found 10 10-K filings from 2015 onwards\n",
      "    Error processing filing for CZR: 'NoneType' object is not subscriptable\n"
     ]
    },
    {
     "name": "stderr",
     "output_type": "stream",
     "text": [
      " 16%|█▋        | 82/503 [47:34<3:27:16, 29.54s/it]"
     ]
    },
    {
     "name": "stdout",
     "output_type": "stream",
     "text": [
      "Processing CPT (CAMDEN PROPERTY TRUST)\n",
      "  Available columns: ['accession_number', 'filing_date', 'reportDate', 'acceptanceDateTime', 'act', 'form', 'fileNumber', 'items', 'size', 'isXBRL', 'isInlineXBRL', 'primaryDocument', 'primaryDocDescription']\n",
      "  Found 10 10-K filings from 2015 onwards\n"
     ]
    },
    {
     "name": "stderr",
     "output_type": "stream",
     "text": [
      " 17%|█▋        | 83/503 [48:04<3:27:22, 29.63s/it]"
     ]
    },
    {
     "name": "stdout",
     "output_type": "stream",
     "text": [
      "Processing CPB (CAMPBELL'S Co)\n",
      "  Available columns: ['accession_number', 'filing_date', 'reportDate', 'acceptanceDateTime', 'act', 'form', 'fileNumber', 'items', 'size', 'isXBRL', 'isInlineXBRL', 'primaryDocument', 'primaryDocDescription']\n",
      "  Found 10 10-K filings from 2015 onwards\n"
     ]
    },
    {
     "name": "stderr",
     "output_type": "stream",
     "text": [
      " 17%|█▋        | 84/503 [48:31<3:22:04, 28.94s/it]"
     ]
    },
    {
     "name": "stdout",
     "output_type": "stream",
     "text": [
      "Processing COF (CAPITAL ONE FINANCIAL CORP)\n",
      "  Available columns: ['accession_number', 'filing_date', 'reportDate', 'acceptanceDateTime', 'act', 'form', 'fileNumber', 'items', 'size', 'isXBRL', 'isInlineXBRL', 'primaryDocument', 'primaryDocDescription']\n",
      "  Found 10 10-K filings from 2015 onwards\n"
     ]
    },
    {
     "name": "stderr",
     "output_type": "stream",
     "text": [
      " 17%|█▋        | 85/503 [49:29<4:23:05, 37.76s/it]"
     ]
    },
    {
     "name": "stdout",
     "output_type": "stream",
     "text": [
      "Processing CAH (CARDINAL HEALTH INC)\n",
      "  Available columns: ['accession_number', 'filing_date', 'reportDate', 'acceptanceDateTime', 'act', 'form', 'fileNumber', 'items', 'size', 'isXBRL', 'isInlineXBRL', 'primaryDocument', 'primaryDocDescription']\n",
      "  Found 10 10-K filings from 2015 onwards\n"
     ]
    },
    {
     "name": "stderr",
     "output_type": "stream",
     "text": [
      "/home/nawa/.local/lib/python3.11/site-packages/edgar/files/htmltools.py:271: FutureWarning: Downcasting object dtype arrays on .fillna, .ffill, .bfill is deprecated and will change in a future version. Call result.infer_objects(copy=False) instead. To opt-in to the future behavior, set `pd.set_option('future.no_silent_downcasting', True)`\n",
      "  chunk_df.Item = chunk_df.Item.ffill().infer_objects(copy=False)\n"
     ]
    },
    {
     "name": "stdout",
     "output_type": "stream",
     "text": [
      "    WARNING: No MD&A section found for CAH (CIK: 721371) for year 2024\n"
     ]
    },
    {
     "name": "stderr",
     "output_type": "stream",
     "text": [
      "/home/nawa/.local/lib/python3.11/site-packages/edgar/files/htmltools.py:271: FutureWarning: Downcasting object dtype arrays on .fillna, .ffill, .bfill is deprecated and will change in a future version. Call result.infer_objects(copy=False) instead. To opt-in to the future behavior, set `pd.set_option('future.no_silent_downcasting', True)`\n",
      "  chunk_df.Item = chunk_df.Item.ffill().infer_objects(copy=False)\n"
     ]
    },
    {
     "name": "stdout",
     "output_type": "stream",
     "text": [
      "    WARNING: No MD&A section found for CAH (CIK: 721371) for year 2023\n"
     ]
    },
    {
     "name": "stderr",
     "output_type": "stream",
     "text": [
      "/home/nawa/.local/lib/python3.11/site-packages/edgar/files/htmltools.py:271: FutureWarning: Downcasting object dtype arrays on .fillna, .ffill, .bfill is deprecated and will change in a future version. Call result.infer_objects(copy=False) instead. To opt-in to the future behavior, set `pd.set_option('future.no_silent_downcasting', True)`\n",
      "  chunk_df.Item = chunk_df.Item.ffill().infer_objects(copy=False)\n"
     ]
    },
    {
     "name": "stdout",
     "output_type": "stream",
     "text": [
      "    WARNING: No MD&A section found for CAH (CIK: 721371) for year 2022\n"
     ]
    },
    {
     "name": "stderr",
     "output_type": "stream",
     "text": [
      "/home/nawa/.local/lib/python3.11/site-packages/edgar/files/htmltools.py:271: FutureWarning: Downcasting object dtype arrays on .fillna, .ffill, .bfill is deprecated and will change in a future version. Call result.infer_objects(copy=False) instead. To opt-in to the future behavior, set `pd.set_option('future.no_silent_downcasting', True)`\n",
      "  chunk_df.Item = chunk_df.Item.ffill().infer_objects(copy=False)\n"
     ]
    },
    {
     "name": "stdout",
     "output_type": "stream",
     "text": [
      "    WARNING: No MD&A section found for CAH (CIK: 721371) for year 2021\n"
     ]
    },
    {
     "name": "stderr",
     "output_type": "stream",
     "text": [
      "/home/nawa/.local/lib/python3.11/site-packages/edgar/files/htmltools.py:271: FutureWarning: Downcasting object dtype arrays on .fillna, .ffill, .bfill is deprecated and will change in a future version. Call result.infer_objects(copy=False) instead. To opt-in to the future behavior, set `pd.set_option('future.no_silent_downcasting', True)`\n",
      "  chunk_df.Item = chunk_df.Item.ffill().infer_objects(copy=False)\n"
     ]
    },
    {
     "name": "stdout",
     "output_type": "stream",
     "text": [
      "    WARNING: No MD&A section found for CAH (CIK: 721371) for year 2020\n"
     ]
    },
    {
     "name": "stderr",
     "output_type": "stream",
     "text": [
      "/home/nawa/.local/lib/python3.11/site-packages/edgar/files/htmltools.py:271: FutureWarning: Downcasting object dtype arrays on .fillna, .ffill, .bfill is deprecated and will change in a future version. Call result.infer_objects(copy=False) instead. To opt-in to the future behavior, set `pd.set_option('future.no_silent_downcasting', True)`\n",
      "  chunk_df.Item = chunk_df.Item.ffill().infer_objects(copy=False)\n"
     ]
    },
    {
     "name": "stdout",
     "output_type": "stream",
     "text": [
      "    WARNING: No MD&A section found for CAH (CIK: 721371) for year 2019\n"
     ]
    },
    {
     "name": "stderr",
     "output_type": "stream",
     "text": [
      "/home/nawa/.local/lib/python3.11/site-packages/edgar/files/htmltools.py:271: FutureWarning: Downcasting object dtype arrays on .fillna, .ffill, .bfill is deprecated and will change in a future version. Call result.infer_objects(copy=False) instead. To opt-in to the future behavior, set `pd.set_option('future.no_silent_downcasting', True)`\n",
      "  chunk_df.Item = chunk_df.Item.ffill().infer_objects(copy=False)\n"
     ]
    },
    {
     "name": "stdout",
     "output_type": "stream",
     "text": [
      "    WARNING: No MD&A section found for CAH (CIK: 721371) for year 2018\n"
     ]
    },
    {
     "name": "stderr",
     "output_type": "stream",
     "text": [
      "/home/nawa/.local/lib/python3.11/site-packages/edgar/files/htmltools.py:271: FutureWarning: Downcasting object dtype arrays on .fillna, .ffill, .bfill is deprecated and will change in a future version. Call result.infer_objects(copy=False) instead. To opt-in to the future behavior, set `pd.set_option('future.no_silent_downcasting', True)`\n",
      "  chunk_df.Item = chunk_df.Item.ffill().infer_objects(copy=False)\n"
     ]
    },
    {
     "name": "stdout",
     "output_type": "stream",
     "text": [
      "    WARNING: No MD&A section found for CAH (CIK: 721371) for year 2017\n"
     ]
    },
    {
     "name": "stderr",
     "output_type": "stream",
     "text": [
      "/home/nawa/.local/lib/python3.11/site-packages/edgar/files/htmltools.py:271: FutureWarning: Downcasting object dtype arrays on .fillna, .ffill, .bfill is deprecated and will change in a future version. Call result.infer_objects(copy=False) instead. To opt-in to the future behavior, set `pd.set_option('future.no_silent_downcasting', True)`\n",
      "  chunk_df.Item = chunk_df.Item.ffill().infer_objects(copy=False)\n"
     ]
    },
    {
     "name": "stdout",
     "output_type": "stream",
     "text": [
      "    WARNING: No MD&A section found for CAH (CIK: 721371) for year 2016\n"
     ]
    },
    {
     "name": "stderr",
     "output_type": "stream",
     "text": [
      "/home/nawa/.local/lib/python3.11/site-packages/edgar/files/htmltools.py:271: FutureWarning: Downcasting object dtype arrays on .fillna, .ffill, .bfill is deprecated and will change in a future version. Call result.infer_objects(copy=False) instead. To opt-in to the future behavior, set `pd.set_option('future.no_silent_downcasting', True)`\n",
      "  chunk_df.Item = chunk_df.Item.ffill().infer_objects(copy=False)\n"
     ]
    },
    {
     "name": "stdout",
     "output_type": "stream",
     "text": [
      "    WARNING: No MD&A section found for CAH (CIK: 721371) for year 2015\n"
     ]
    },
    {
     "name": "stderr",
     "output_type": "stream",
     "text": [
      " 17%|█▋        | 86/503 [49:56<3:59:36, 34.48s/it]"
     ]
    },
    {
     "name": "stdout",
     "output_type": "stream",
     "text": [
      "Processing KMX (CARMAX INC)\n",
      "  Available columns: ['accession_number', 'filing_date', 'reportDate', 'acceptanceDateTime', 'act', 'form', 'fileNumber', 'items', 'size', 'isXBRL', 'isInlineXBRL', 'primaryDocument', 'primaryDocDescription']\n",
      "  Found 10 10-K filings from 2015 onwards\n",
      "    Error processing filing for KMX: 'NoneType' object is not subscriptable\n"
     ]
    },
    {
     "name": "stderr",
     "output_type": "stream",
     "text": [
      " 17%|█▋        | 87/503 [50:21<3:39:10, 31.61s/it]"
     ]
    },
    {
     "name": "stdout",
     "output_type": "stream",
     "text": [
      "Processing CCL (CARNIVAL CORP)\n",
      "  Available columns: ['accession_number', 'filing_date', 'reportDate', 'acceptanceDateTime', 'act', 'form', 'fileNumber', 'items', 'size', 'isXBRL', 'isInlineXBRL', 'primaryDocument', 'primaryDocDescription']\n",
      "  Found 10 10-K filings from 2015 onwards\n"
     ]
    },
    {
     "name": "stderr",
     "output_type": "stream",
     "text": [
      " 17%|█▋        | 88/503 [50:41<3:14:06, 28.06s/it]"
     ]
    },
    {
     "name": "stdout",
     "output_type": "stream",
     "text": [
      "Processing CARR (CARRIER GLOBAL Corp)\n",
      "  Available columns: ['accession_number', 'filing_date', 'reportDate', 'acceptanceDateTime', 'act', 'form', 'fileNumber', 'items', 'size', 'isXBRL', 'isInlineXBRL', 'primaryDocument', 'primaryDocDescription']\n",
      "  Found 5 10-K filings from 2015 onwards\n"
     ]
    },
    {
     "name": "stderr",
     "output_type": "stream",
     "text": [
      " 18%|█▊        | 89/503 [50:53<2:40:51, 23.31s/it]"
     ]
    },
    {
     "name": "stdout",
     "output_type": "stream",
     "text": [
      "Processing CAT (CATERPILLAR INC)\n",
      "  Available columns: ['accession_number', 'filing_date', 'reportDate', 'acceptanceDateTime', 'act', 'form', 'fileNumber', 'items', 'size', 'isXBRL', 'isInlineXBRL', 'primaryDocument', 'primaryDocDescription']\n",
      "  Found 10 10-K filings from 2015 onwards\n"
     ]
    },
    {
     "name": "stderr",
     "output_type": "stream",
     "text": [
      " 18%|█▊        | 90/503 [51:39<3:26:10, 29.95s/it]"
     ]
    },
    {
     "name": "stdout",
     "output_type": "stream",
     "text": [
      "Processing CBOE (Cboe Global Markets, Inc.)\n",
      "  Available columns: ['accession_number', 'filing_date', 'reportDate', 'acceptanceDateTime', 'act', 'form', 'fileNumber', 'items', 'size', 'isXBRL', 'isInlineXBRL', 'primaryDocument', 'primaryDocDescription']\n",
      "  Found 10 10-K filings from 2015 onwards\n",
      "    Error processing filing for CBOE: 'NoneType' object is not subscriptable\n",
      "    Error processing filing for CBOE: 'NoneType' object is not subscriptable\n"
     ]
    },
    {
     "name": "stderr",
     "output_type": "stream",
     "text": [
      " 18%|█▊        | 91/503 [52:07<3:22:18, 29.46s/it]"
     ]
    },
    {
     "name": "stdout",
     "output_type": "stream",
     "text": [
      "Processing CBRE (CBRE GROUP, INC.)\n",
      "  Available columns: ['accession_number', 'filing_date', 'reportDate', 'acceptanceDateTime', 'act', 'form', 'fileNumber', 'items', 'size', 'isXBRL', 'isInlineXBRL', 'primaryDocument', 'primaryDocDescription']\n",
      "  Found 10 10-K filings from 2015 onwards\n"
     ]
    },
    {
     "name": "stderr",
     "output_type": "stream",
     "text": [
      " 18%|█▊        | 92/503 [52:47<3:44:21, 32.75s/it]"
     ]
    },
    {
     "name": "stdout",
     "output_type": "stream",
     "text": [
      "Processing CDW (CDW Corp)\n",
      "  Available columns: ['accession_number', 'filing_date', 'reportDate', 'acceptanceDateTime', 'act', 'form', 'fileNumber', 'items', 'size', 'isXBRL', 'isInlineXBRL', 'primaryDocument', 'primaryDocDescription']\n",
      "  Found 10 10-K filings from 2015 onwards\n"
     ]
    },
    {
     "name": "stderr",
     "output_type": "stream",
     "text": [
      " 18%|█▊        | 93/503 [53:17<3:37:45, 31.87s/it]"
     ]
    },
    {
     "name": "stdout",
     "output_type": "stream",
     "text": [
      "Processing CE (Celanese Corp)\n",
      "  Available columns: ['accession_number', 'filing_date', 'reportDate', 'acceptanceDateTime', 'act', 'form', 'fileNumber', 'items', 'size', 'isXBRL', 'isInlineXBRL', 'primaryDocument', 'primaryDocDescription']\n",
      "  Found 10 10-K filings from 2015 onwards\n"
     ]
    },
    {
     "name": "stderr",
     "output_type": "stream",
     "text": [
      " 19%|█▊        | 94/503 [53:50<3:40:06, 32.29s/it]"
     ]
    },
    {
     "name": "stdout",
     "output_type": "stream",
     "text": [
      "Processing COR (Cencora, Inc.)\n",
      "  Available columns: ['accession_number', 'filing_date', 'reportDate', 'acceptanceDateTime', 'act', 'form', 'fileNumber', 'items', 'size', 'isXBRL', 'isInlineXBRL', 'primaryDocument', 'primaryDocDescription']\n",
      "  Found 10 10-K filings from 2015 onwards\n"
     ]
    },
    {
     "name": "stderr",
     "output_type": "stream",
     "text": [
      " 19%|█▉        | 95/503 [54:14<3:22:15, 29.74s/it]"
     ]
    },
    {
     "name": "stdout",
     "output_type": "stream",
     "text": [
      "Processing CNC (CENTENE CORP)\n",
      "  Available columns: ['accession_number', 'filing_date', 'reportDate', 'acceptanceDateTime', 'act', 'form', 'fileNumber', 'items', 'size', 'isXBRL', 'isInlineXBRL', 'primaryDocument', 'primaryDocDescription']\n",
      "  Found 10 10-K filings from 2015 onwards\n"
     ]
    },
    {
     "name": "stderr",
     "output_type": "stream",
     "text": [
      " 19%|█▉        | 96/503 [54:44<3:22:10, 29.80s/it]"
     ]
    },
    {
     "name": "stdout",
     "output_type": "stream",
     "text": [
      "Processing CNP (CENTERPOINT ENERGY INC)\n",
      "  Available columns: ['accession_number', 'filing_date', 'reportDate', 'acceptanceDateTime', 'act', 'form', 'fileNumber', 'items', 'size', 'isXBRL', 'isInlineXBRL', 'primaryDocument', 'primaryDocDescription']\n",
      "  Found 10 10-K filings from 2015 onwards\n"
     ]
    },
    {
     "name": "stderr",
     "output_type": "stream",
     "text": [
      " 19%|█▉        | 97/503 [55:25<3:45:04, 33.26s/it]"
     ]
    },
    {
     "name": "stdout",
     "output_type": "stream",
     "text": [
      "Processing CF (CF Industries Holdings, Inc.)\n",
      "  Available columns: ['accession_number', 'filing_date', 'reportDate', 'acceptanceDateTime', 'act', 'form', 'fileNumber', 'items', 'size', 'isXBRL', 'isInlineXBRL', 'primaryDocument', 'primaryDocDescription']\n",
      "  Found 10 10-K filings from 2015 onwards\n"
     ]
    },
    {
     "name": "stderr",
     "output_type": "stream",
     "text": [
      " 19%|█▉        | 98/503 [56:03<3:53:15, 34.56s/it]"
     ]
    },
    {
     "name": "stdout",
     "output_type": "stream",
     "text": [
      "Processing CRL (CHARLES RIVER LABORATORIES INTERNATIONAL, INC.)\n",
      "  Available columns: ['accession_number', 'filing_date', 'reportDate', 'acceptanceDateTime', 'act', 'form', 'fileNumber', 'items', 'size', 'isXBRL', 'isInlineXBRL', 'primaryDocument', 'primaryDocDescription']\n",
      "  Found 10 10-K filings from 2015 onwards\n"
     ]
    },
    {
     "name": "stderr",
     "output_type": "stream",
     "text": [
      " 20%|█▉        | 99/503 [56:32<3:40:29, 32.75s/it]"
     ]
    },
    {
     "name": "stdout",
     "output_type": "stream",
     "text": [
      "Processing SCHW (SCHWAB CHARLES CORP)\n",
      "  Available columns: ['accession_number', 'filing_date', 'reportDate', 'acceptanceDateTime', 'act', 'form', 'fileNumber', 'items', 'size', 'isXBRL', 'isInlineXBRL', 'primaryDocument', 'primaryDocDescription']\n",
      "  Found 10 10-K filings from 2015 onwards\n",
      "    Error processing filing for SCHW: 'NoneType' object is not subscriptable\n",
      "    Error processing filing for SCHW: 'NoneType' object is not subscriptable\n"
     ]
    },
    {
     "name": "stderr",
     "output_type": "stream",
     "text": [
      " 20%|█▉        | 100/503 [57:07<3:46:25, 33.71s/it]"
     ]
    },
    {
     "name": "stdout",
     "output_type": "stream",
     "text": [
      "Processing CHTR (CHARTER COMMUNICATIONS, INC. /MO/)\n",
      "  Available columns: ['accession_number', 'filing_date', 'reportDate', 'acceptanceDateTime', 'act', 'form', 'fileNumber', 'items', 'size', 'isXBRL', 'isInlineXBRL', 'primaryDocument', 'primaryDocDescription']\n",
      "  Found 10 10-K filings from 2015 onwards\n"
     ]
    },
    {
     "name": "stderr",
     "output_type": "stream",
     "text": [
      " 20%|██        | 101/503 [57:35<3:33:44, 31.90s/it]"
     ]
    },
    {
     "name": "stdout",
     "output_type": "stream",
     "text": [
      "Processing CVX (CHEVRON CORP)\n",
      "  Available columns: ['accession_number', 'filing_date', 'reportDate', 'acceptanceDateTime', 'act', 'form', 'fileNumber', 'items', 'size', 'isXBRL', 'isInlineXBRL', 'primaryDocument', 'primaryDocDescription']\n",
      "  Found 10 10-K filings from 2015 onwards\n"
     ]
    },
    {
     "name": "stderr",
     "output_type": "stream",
     "text": [
      " 20%|██        | 102/503 [58:16<3:50:39, 34.51s/it]"
     ]
    },
    {
     "name": "stdout",
     "output_type": "stream",
     "text": [
      "Processing CMG (CHIPOTLE MEXICAN GRILL INC)\n",
      "  Available columns: ['accession_number', 'filing_date', 'reportDate', 'acceptanceDateTime', 'act', 'form', 'fileNumber', 'items', 'size', 'isXBRL', 'isInlineXBRL', 'primaryDocument', 'primaryDocDescription']\n",
      "  Found 10 10-K filings from 2015 onwards\n",
      "    WARNING: No MD&A section found for CMG (CIK: 1058090) for year 2023\n",
      "    WARNING: No MD&A section found for CMG (CIK: 1058090) for year 2022\n",
      "    WARNING: No MD&A section found for CMG (CIK: 1058090) for year 2021\n",
      "    Error processing filing for CMG: 'NoneType' object is not subscriptable\n",
      "    Error processing filing for CMG: 'NoneType' object is not subscriptable\n",
      "    Error processing filing for CMG: 'NoneType' object is not subscriptable\n",
      "    Error processing filing for CMG: 'NoneType' object is not subscriptable\n"
     ]
    },
    {
     "name": "stderr",
     "output_type": "stream",
     "text": [
      " 20%|██        | 103/503 [58:31<3:11:16, 28.69s/it]"
     ]
    },
    {
     "name": "stdout",
     "output_type": "stream",
     "text": [
      "Processing CB (Chubb Ltd)\n",
      "  Available columns: ['accession_number', 'filing_date', 'reportDate', 'acceptanceDateTime', 'act', 'form', 'fileNumber', 'items', 'size', 'isXBRL', 'isInlineXBRL', 'primaryDocument', 'primaryDocDescription']\n",
      "  Found 10 10-K filings from 2015 onwards\n"
     ]
    },
    {
     "name": "stderr",
     "output_type": "stream",
     "text": [
      " 21%|██        | 104/503 [59:28<4:07:35, 37.23s/it]"
     ]
    },
    {
     "name": "stdout",
     "output_type": "stream",
     "text": [
      "Processing CHD (CHURCH & DWIGHT CO INC /DE/)\n",
      "  Available columns: ['accession_number', 'filing_date', 'reportDate', 'acceptanceDateTime', 'act', 'form', 'fileNumber', 'items', 'size', 'isXBRL', 'isInlineXBRL', 'primaryDocument', 'primaryDocDescription']\n",
      "  Found 10 10-K filings from 2015 onwards\n"
     ]
    },
    {
     "name": "stderr",
     "output_type": "stream",
     "text": [
      " 21%|██        | 105/503 [1:00:03<4:03:24, 36.69s/it]"
     ]
    },
    {
     "name": "stdout",
     "output_type": "stream",
     "text": [
      "Processing CI (Cigna Group)\n",
      "  Available columns: ['accession_number', 'filing_date', 'reportDate', 'acceptanceDateTime', 'act', 'form', 'fileNumber', 'items', 'size', 'isXBRL', 'isInlineXBRL', 'primaryDocument', 'primaryDocDescription']\n",
      "  Found 7 10-K filings from 2015 onwards\n"
     ]
    },
    {
     "name": "stderr",
     "output_type": "stream",
     "text": [
      " 21%|██        | 106/503 [1:00:33<3:49:32, 34.69s/it]"
     ]
    },
    {
     "name": "stdout",
     "output_type": "stream",
     "text": [
      "Processing CINF (CINCINNATI FINANCIAL CORP)\n",
      "  Available columns: ['accession_number', 'filing_date', 'reportDate', 'acceptanceDateTime', 'act', 'form', 'fileNumber', 'items', 'size', 'isXBRL', 'isInlineXBRL', 'primaryDocument', 'primaryDocDescription']\n",
      "  Found 10 10-K filings from 2015 onwards\n"
     ]
    },
    {
     "name": "stderr",
     "output_type": "stream",
     "text": [
      " 21%|██▏       | 107/503 [1:01:20<4:11:26, 38.10s/it]"
     ]
    },
    {
     "name": "stdout",
     "output_type": "stream",
     "text": [
      "Processing CTAS (CINTAS CORP)\n",
      "  Available columns: ['accession_number', 'filing_date', 'reportDate', 'acceptanceDateTime', 'act', 'form', 'fileNumber', 'items', 'size', 'isXBRL', 'isInlineXBRL', 'primaryDocument', 'primaryDocDescription']\n",
      "  Found 10 10-K filings from 2015 onwards\n"
     ]
    },
    {
     "name": "stderr",
     "output_type": "stream",
     "text": [
      " 21%|██▏       | 108/503 [1:01:47<3:49:06, 34.80s/it]"
     ]
    },
    {
     "name": "stdout",
     "output_type": "stream",
     "text": [
      "Processing CSCO (CISCO SYSTEMS, INC.)\n",
      "  Available columns: ['accession_number', 'filing_date', 'reportDate', 'acceptanceDateTime', 'act', 'form', 'fileNumber', 'items', 'size', 'isXBRL', 'isInlineXBRL', 'primaryDocument', 'primaryDocDescription']\n",
      "  Found 10 10-K filings from 2015 onwards\n"
     ]
    },
    {
     "name": "stderr",
     "output_type": "stream",
     "text": [
      " 22%|██▏       | 109/503 [1:02:17<3:39:59, 33.50s/it]"
     ]
    },
    {
     "name": "stdout",
     "output_type": "stream",
     "text": [
      "Processing C (CITIGROUP INC)\n",
      "  Available columns: ['accession_number', 'filing_date', 'reportDate', 'acceptanceDateTime', 'act', 'form', 'fileNumber', 'items', 'size', 'isXBRL', 'isInlineXBRL', 'primaryDocument', 'primaryDocDescription']\n",
      "  Found 10 10-K filings from 2015 onwards\n"
     ]
    },
    {
     "name": "stderr",
     "output_type": "stream",
     "text": [
      "/home/nawa/.local/lib/python3.11/site-packages/edgar/files/htmltools.py:271: FutureWarning: Downcasting object dtype arrays on .fillna, .ffill, .bfill is deprecated and will change in a future version. Call result.infer_objects(copy=False) instead. To opt-in to the future behavior, set `pd.set_option('future.no_silent_downcasting', True)`\n",
      "  chunk_df.Item = chunk_df.Item.ffill().infer_objects(copy=False)\n"
     ]
    },
    {
     "name": "stdout",
     "output_type": "stream",
     "text": [
      "    WARNING: No MD&A section found for C (CIK: 831001) for year 2024\n"
     ]
    },
    {
     "name": "stderr",
     "output_type": "stream",
     "text": [
      "/home/nawa/.local/lib/python3.11/site-packages/edgar/files/htmltools.py:271: FutureWarning: Downcasting object dtype arrays on .fillna, .ffill, .bfill is deprecated and will change in a future version. Call result.infer_objects(copy=False) instead. To opt-in to the future behavior, set `pd.set_option('future.no_silent_downcasting', True)`\n",
      "  chunk_df.Item = chunk_df.Item.ffill().infer_objects(copy=False)\n"
     ]
    },
    {
     "name": "stdout",
     "output_type": "stream",
     "text": [
      "    WARNING: No MD&A section found for C (CIK: 831001) for year 2023\n"
     ]
    },
    {
     "name": "stderr",
     "output_type": "stream",
     "text": [
      "/home/nawa/.local/lib/python3.11/site-packages/edgar/files/htmltools.py:271: FutureWarning: Downcasting object dtype arrays on .fillna, .ffill, .bfill is deprecated and will change in a future version. Call result.infer_objects(copy=False) instead. To opt-in to the future behavior, set `pd.set_option('future.no_silent_downcasting', True)`\n",
      "  chunk_df.Item = chunk_df.Item.ffill().infer_objects(copy=False)\n"
     ]
    },
    {
     "name": "stdout",
     "output_type": "stream",
     "text": [
      "    WARNING: No MD&A section found for C (CIK: 831001) for year 2022\n"
     ]
    },
    {
     "name": "stderr",
     "output_type": "stream",
     "text": [
      "/home/nawa/.local/lib/python3.11/site-packages/edgar/files/htmltools.py:271: FutureWarning: Downcasting object dtype arrays on .fillna, .ffill, .bfill is deprecated and will change in a future version. Call result.infer_objects(copy=False) instead. To opt-in to the future behavior, set `pd.set_option('future.no_silent_downcasting', True)`\n",
      "  chunk_df.Item = chunk_df.Item.ffill().infer_objects(copy=False)\n"
     ]
    },
    {
     "name": "stdout",
     "output_type": "stream",
     "text": [
      "    WARNING: No MD&A section found for C (CIK: 831001) for year 2021\n"
     ]
    },
    {
     "name": "stderr",
     "output_type": "stream",
     "text": [
      "/home/nawa/.local/lib/python3.11/site-packages/edgar/files/htmltools.py:271: FutureWarning: Downcasting object dtype arrays on .fillna, .ffill, .bfill is deprecated and will change in a future version. Call result.infer_objects(copy=False) instead. To opt-in to the future behavior, set `pd.set_option('future.no_silent_downcasting', True)`\n",
      "  chunk_df.Item = chunk_df.Item.ffill().infer_objects(copy=False)\n"
     ]
    },
    {
     "name": "stdout",
     "output_type": "stream",
     "text": [
      "    WARNING: No MD&A section found for C (CIK: 831001) for year 2020\n"
     ]
    },
    {
     "name": "stderr",
     "output_type": "stream",
     "text": [
      "/home/nawa/.local/lib/python3.11/site-packages/edgar/files/htmltools.py:271: FutureWarning: Downcasting object dtype arrays on .fillna, .ffill, .bfill is deprecated and will change in a future version. Call result.infer_objects(copy=False) instead. To opt-in to the future behavior, set `pd.set_option('future.no_silent_downcasting', True)`\n",
      "  chunk_df.Item = chunk_df.Item.ffill().infer_objects(copy=False)\n"
     ]
    },
    {
     "name": "stdout",
     "output_type": "stream",
     "text": [
      "    WARNING: No MD&A section found for C (CIK: 831001) for year 2019\n"
     ]
    },
    {
     "name": "stderr",
     "output_type": "stream",
     "text": [
      "/home/nawa/.local/lib/python3.11/site-packages/edgar/files/htmltools.py:271: FutureWarning: Downcasting object dtype arrays on .fillna, .ffill, .bfill is deprecated and will change in a future version. Call result.infer_objects(copy=False) instead. To opt-in to the future behavior, set `pd.set_option('future.no_silent_downcasting', True)`\n",
      "  chunk_df.Item = chunk_df.Item.ffill().infer_objects(copy=False)\n"
     ]
    },
    {
     "name": "stdout",
     "output_type": "stream",
     "text": [
      "    WARNING: No MD&A section found for C (CIK: 831001) for year 2018\n"
     ]
    },
    {
     "name": "stderr",
     "output_type": "stream",
     "text": [
      "/home/nawa/.local/lib/python3.11/site-packages/edgar/files/htmltools.py:271: FutureWarning: Downcasting object dtype arrays on .fillna, .ffill, .bfill is deprecated and will change in a future version. Call result.infer_objects(copy=False) instead. To opt-in to the future behavior, set `pd.set_option('future.no_silent_downcasting', True)`\n",
      "  chunk_df.Item = chunk_df.Item.ffill().infer_objects(copy=False)\n"
     ]
    },
    {
     "name": "stdout",
     "output_type": "stream",
     "text": [
      "    WARNING: No MD&A section found for C (CIK: 831001) for year 2017\n"
     ]
    },
    {
     "name": "stderr",
     "output_type": "stream",
     "text": [
      "/home/nawa/.local/lib/python3.11/site-packages/edgar/files/htmltools.py:271: FutureWarning: Downcasting object dtype arrays on .fillna, .ffill, .bfill is deprecated and will change in a future version. Call result.infer_objects(copy=False) instead. To opt-in to the future behavior, set `pd.set_option('future.no_silent_downcasting', True)`\n",
      "  chunk_df.Item = chunk_df.Item.ffill().infer_objects(copy=False)\n"
     ]
    },
    {
     "name": "stdout",
     "output_type": "stream",
     "text": [
      "    WARNING: No MD&A section found for C (CIK: 831001) for year 2016\n"
     ]
    },
    {
     "name": "stderr",
     "output_type": "stream",
     "text": [
      "/home/nawa/.local/lib/python3.11/site-packages/edgar/files/htmltools.py:271: FutureWarning: Downcasting object dtype arrays on .fillna, .ffill, .bfill is deprecated and will change in a future version. Call result.infer_objects(copy=False) instead. To opt-in to the future behavior, set `pd.set_option('future.no_silent_downcasting', True)`\n",
      "  chunk_df.Item = chunk_df.Item.ffill().infer_objects(copy=False)\n"
     ]
    },
    {
     "name": "stdout",
     "output_type": "stream",
     "text": [
      "    WARNING: No MD&A section found for C (CIK: 831001) for year 2015\n"
     ]
    },
    {
     "name": "stderr",
     "output_type": "stream",
     "text": [
      " 22%|██▏       | 110/503 [1:03:44<5:24:13, 49.50s/it]"
     ]
    },
    {
     "name": "stdout",
     "output_type": "stream",
     "text": [
      "Processing CFG (CITIZENS FINANCIAL GROUP INC/RI)\n",
      "  Available columns: ['accession_number', 'filing_date', 'reportDate', 'acceptanceDateTime', 'act', 'form', 'fileNumber', 'items', 'size', 'isXBRL', 'isInlineXBRL', 'primaryDocument', 'primaryDocDescription']\n",
      "  Found 10 10-K filings from 2015 onwards\n"
     ]
    },
    {
     "name": "stderr",
     "output_type": "stream",
     "text": [
      " 22%|██▏       | 111/503 [1:04:36<5:27:48, 50.17s/it]"
     ]
    },
    {
     "name": "stdout",
     "output_type": "stream",
     "text": [
      "Processing CLX (CLOROX CO /DE/)\n",
      "  Available columns: ['accession_number', 'filing_date', 'reportDate', 'acceptanceDateTime', 'act', 'form', 'fileNumber', 'items', 'size', 'isXBRL', 'isInlineXBRL', 'primaryDocument', 'primaryDocDescription']\n",
      "  Found 10 10-K filings from 2015 onwards\n"
     ]
    },
    {
     "name": "stderr",
     "output_type": "stream",
     "text": [
      " 22%|██▏       | 112/503 [1:04:53<4:22:30, 40.28s/it]"
     ]
    },
    {
     "name": "stdout",
     "output_type": "stream",
     "text": [
      "Processing CME (CME GROUP INC.)\n",
      "  Available columns: ['accession_number', 'filing_date', 'reportDate', 'acceptanceDateTime', 'act', 'form', 'fileNumber', 'items', 'size', 'isXBRL', 'isInlineXBRL', 'primaryDocument', 'primaryDocDescription']\n",
      "  Found 10 10-K filings from 2015 onwards\n"
     ]
    },
    {
     "name": "stderr",
     "output_type": "stream",
     "text": [
      " 22%|██▏       | 113/503 [1:05:19<3:54:16, 36.04s/it]"
     ]
    },
    {
     "name": "stdout",
     "output_type": "stream",
     "text": [
      "Processing CMS (CMS ENERGY CORP)\n",
      "  Available columns: ['accession_number', 'filing_date', 'reportDate', 'acceptanceDateTime', 'act', 'form', 'fileNumber', 'items', 'size', 'isXBRL', 'isInlineXBRL', 'primaryDocument', 'primaryDocDescription']\n",
      "  Found 10 10-K filings from 2015 onwards\n"
     ]
    },
    {
     "name": "stderr",
     "output_type": "stream",
     "text": [
      " 23%|██▎       | 114/503 [1:06:05<4:12:00, 38.87s/it]"
     ]
    },
    {
     "name": "stdout",
     "output_type": "stream",
     "text": [
      "Processing KO (COCA COLA CO)\n",
      "  Available columns: ['accession_number', 'filing_date', 'reportDate', 'acceptanceDateTime', 'act', 'form', 'fileNumber', 'items', 'size', 'isXBRL', 'isInlineXBRL', 'primaryDocument', 'primaryDocDescription']\n",
      "  Found 10 10-K filings from 2015 onwards\n"
     ]
    },
    {
     "name": "stderr",
     "output_type": "stream",
     "text": [
      " 23%|██▎       | 115/503 [1:06:36<3:57:52, 36.78s/it]"
     ]
    },
    {
     "name": "stdout",
     "output_type": "stream",
     "text": [
      "Processing CTSH (COGNIZANT TECHNOLOGY SOLUTIONS CORP)\n",
      "  Available columns: ['accession_number', 'filing_date', 'reportDate', 'acceptanceDateTime', 'act', 'form', 'fileNumber', 'items', 'size', 'isXBRL', 'isInlineXBRL', 'primaryDocument', 'primaryDocDescription']\n",
      "  Found 10 10-K filings from 2015 onwards\n"
     ]
    },
    {
     "name": "stderr",
     "output_type": "stream",
     "text": [
      " 23%|██▎       | 116/503 [1:07:04<3:38:59, 33.95s/it]"
     ]
    },
    {
     "name": "stdout",
     "output_type": "stream",
     "text": [
      "Processing CL (COLGATE PALMOLIVE CO)\n",
      "  Available columns: ['accession_number', 'filing_date', 'reportDate', 'acceptanceDateTime', 'act', 'form', 'fileNumber', 'items', 'size', 'isXBRL', 'isInlineXBRL', 'primaryDocument', 'primaryDocDescription']\n",
      "  Found 10 10-K filings from 2015 onwards\n"
     ]
    },
    {
     "name": "stderr",
     "output_type": "stream",
     "text": [
      " 23%|██▎       | 117/503 [1:07:31<3:26:01, 32.02s/it]"
     ]
    },
    {
     "name": "stdout",
     "output_type": "stream",
     "text": [
      "Processing CMCSA (COMCAST CORP)\n",
      "  Available columns: ['accession_number', 'filing_date', 'reportDate', 'acceptanceDateTime', 'act', 'form', 'fileNumber', 'items', 'size', 'isXBRL', 'isInlineXBRL', 'primaryDocument', 'primaryDocDescription']\n",
      "  Found 10 10-K filings from 2015 onwards\n"
     ]
    },
    {
     "name": "stderr",
     "output_type": "stream",
     "text": [
      " 23%|██▎       | 118/503 [1:08:05<3:27:57, 32.41s/it]"
     ]
    },
    {
     "name": "stdout",
     "output_type": "stream",
     "text": [
      "Processing CAG (CONAGRA BRANDS INC.)\n",
      "  Available columns: ['accession_number', 'filing_date', 'reportDate', 'acceptanceDateTime', 'act', 'form', 'fileNumber', 'items', 'size', 'isXBRL', 'isInlineXBRL', 'primaryDocument', 'primaryDocDescription']\n",
      "  Found 10 10-K filings from 2015 onwards\n"
     ]
    },
    {
     "name": "stderr",
     "output_type": "stream",
     "text": [
      " 24%|██▎       | 119/503 [1:08:34<3:21:35, 31.50s/it]"
     ]
    },
    {
     "name": "stdout",
     "output_type": "stream",
     "text": [
      "Processing COP (CONOCOPHILLIPS)\n",
      "  Available columns: ['accession_number', 'filing_date', 'reportDate', 'acceptanceDateTime', 'act', 'form', 'fileNumber', 'items', 'size', 'isXBRL', 'isInlineXBRL', 'primaryDocument', 'primaryDocDescription']\n",
      "  Found 10 10-K filings from 2015 onwards\n",
      "    WARNING: No MD&A section found for COP (CIK: 1163165) for year 2021\n",
      "    WARNING: No MD&A section found for COP (CIK: 1163165) for year 2020\n",
      "    WARNING: No MD&A section found for COP (CIK: 1163165) for year 2019\n"
     ]
    },
    {
     "name": "stderr",
     "output_type": "stream",
     "text": [
      " 24%|██▍       | 120/503 [1:09:23<3:54:35, 36.75s/it]"
     ]
    },
    {
     "name": "stdout",
     "output_type": "stream",
     "text": [
      "Processing ED (CONSOLIDATED EDISON INC)\n",
      "  Available columns: ['accession_number', 'filing_date', 'reportDate', 'acceptanceDateTime', 'act', 'form', 'fileNumber', 'items', 'size', 'isXBRL', 'isInlineXBRL', 'primaryDocument', 'primaryDocDescription']\n",
      "  Found 10 10-K filings from 2015 onwards\n"
     ]
    },
    {
     "name": "stderr",
     "output_type": "stream",
     "text": [
      " 24%|██▍       | 121/503 [1:10:05<4:04:43, 38.44s/it]"
     ]
    },
    {
     "name": "stdout",
     "output_type": "stream",
     "text": [
      "Processing STZ (CONSTELLATION BRANDS, INC.)\n",
      "  Available columns: ['accession_number', 'filing_date', 'reportDate', 'acceptanceDateTime', 'act', 'form', 'fileNumber', 'items', 'size', 'isXBRL', 'isInlineXBRL', 'primaryDocument', 'primaryDocDescription']\n",
      "  Found 10 10-K filings from 2015 onwards\n"
     ]
    },
    {
     "name": "stderr",
     "output_type": "stream",
     "text": [
      " 24%|██▍       | 122/503 [1:10:38<3:53:30, 36.77s/it]"
     ]
    },
    {
     "name": "stdout",
     "output_type": "stream",
     "text": [
      "Processing CEG (Constellation Energy Corp)\n",
      "  Available columns: ['accession_number', 'filing_date', 'reportDate', 'acceptanceDateTime', 'act', 'form', 'fileNumber', 'items', 'size', 'isXBRL', 'isInlineXBRL', 'primaryDocument', 'primaryDocDescription']\n",
      "  Found 4 10-K filings from 2015 onwards\n"
     ]
    },
    {
     "name": "stderr",
     "output_type": "stream",
     "text": [
      " 24%|██▍       | 123/503 [1:11:02<3:29:07, 33.02s/it]"
     ]
    },
    {
     "name": "stdout",
     "output_type": "stream",
     "text": [
      "Processing COO (COOPER COMPANIES, INC.)\n",
      "  Available columns: ['accession_number', 'filing_date', 'reportDate', 'acceptanceDateTime', 'act', 'form', 'fileNumber', 'items', 'size', 'isXBRL', 'isInlineXBRL', 'primaryDocument', 'primaryDocDescription']\n",
      "  Found 10 10-K filings from 2015 onwards\n"
     ]
    },
    {
     "name": "stderr",
     "output_type": "stream",
     "text": [
      " 25%|██▍       | 124/503 [1:11:28<3:15:01, 30.87s/it]"
     ]
    },
    {
     "name": "stdout",
     "output_type": "stream",
     "text": [
      "Processing CPRT (COPART INC)\n",
      "  Available columns: ['accession_number', 'filing_date', 'reportDate', 'acceptanceDateTime', 'act', 'form', 'fileNumber', 'items', 'size', 'isXBRL', 'isInlineXBRL', 'primaryDocument', 'primaryDocDescription']\n",
      "  Found 10 10-K filings from 2015 onwards\n"
     ]
    },
    {
     "name": "stderr",
     "output_type": "stream",
     "text": [
      " 25%|██▍       | 125/503 [1:11:50<2:56:57, 28.09s/it]"
     ]
    },
    {
     "name": "stdout",
     "output_type": "stream",
     "text": [
      "Processing GLW (CORNING INC /NY)\n",
      "  Available columns: ['accession_number', 'filing_date', 'reportDate', 'acceptanceDateTime', 'act', 'form', 'fileNumber', 'items', 'size', 'isXBRL', 'isInlineXBRL', 'primaryDocument', 'primaryDocDescription']\n",
      "  Found 10 10-K filings from 2015 onwards\n",
      "    Error processing filing for GLW: 'NoneType' object is not subscriptable\n",
      "    Error processing filing for GLW: 'NoneType' object is not subscriptable\n"
     ]
    },
    {
     "name": "stderr",
     "output_type": "stream",
     "text": [
      " 25%|██▌       | 126/503 [1:12:23<3:06:31, 29.69s/it]"
     ]
    },
    {
     "name": "stdout",
     "output_type": "stream",
     "text": [
      "Processing CPAY (CORPAY, INC.)\n",
      "  Available columns: ['accession_number', 'filing_date', 'reportDate', 'acceptanceDateTime', 'act', 'form', 'fileNumber', 'items', 'size', 'isXBRL', 'isInlineXBRL', 'primaryDocument', 'primaryDocDescription']\n",
      "  Found 10 10-K filings from 2015 onwards\n"
     ]
    },
    {
     "name": "stderr",
     "output_type": "stream",
     "text": [
      " 25%|██▌       | 127/503 [1:12:53<3:05:34, 29.61s/it]"
     ]
    },
    {
     "name": "stdout",
     "output_type": "stream",
     "text": [
      "Processing CTVA (Corteva, Inc.)\n",
      "  Available columns: ['accession_number', 'filing_date', 'reportDate', 'acceptanceDateTime', 'act', 'form', 'fileNumber', 'items', 'size', 'isXBRL', 'isInlineXBRL', 'primaryDocument', 'primaryDocDescription']\n",
      "  Found 6 10-K filings from 2015 onwards\n"
     ]
    },
    {
     "name": "stderr",
     "output_type": "stream",
     "text": [
      " 25%|██▌       | 128/503 [1:13:14<2:49:57, 27.19s/it]"
     ]
    },
    {
     "name": "stdout",
     "output_type": "stream",
     "text": [
      "Processing CSGP (COSTAR GROUP, INC.)\n",
      "  Available columns: ['accession_number', 'filing_date', 'reportDate', 'acceptanceDateTime', 'act', 'form', 'fileNumber', 'items', 'size', 'isXBRL', 'isInlineXBRL', 'primaryDocument', 'primaryDocDescription']\n",
      "  Found 10 10-K filings from 2015 onwards\n"
     ]
    },
    {
     "name": "stderr",
     "output_type": "stream",
     "text": [
      " 26%|██▌       | 129/503 [1:13:38<2:42:18, 26.04s/it]"
     ]
    },
    {
     "name": "stdout",
     "output_type": "stream",
     "text": [
      "Processing COST (COSTCO WHOLESALE CORP /NEW)\n",
      "  Available columns: ['accession_number', 'filing_date', 'reportDate', 'acceptanceDateTime', 'act', 'form', 'fileNumber', 'items', 'size', 'isXBRL', 'isInlineXBRL', 'primaryDocument', 'primaryDocDescription']\n",
      "  Found 10 10-K filings from 2015 onwards\n"
     ]
    },
    {
     "name": "stderr",
     "output_type": "stream",
     "text": [
      " 26%|██▌       | 130/503 [1:13:57<2:29:32, 24.06s/it]"
     ]
    },
    {
     "name": "stdout",
     "output_type": "stream",
     "text": [
      "Processing CTRA (Coterra Energy Inc.)\n",
      "  Available columns: ['accession_number', 'filing_date', 'reportDate', 'acceptanceDateTime', 'act', 'form', 'fileNumber', 'items', 'size', 'isXBRL', 'isInlineXBRL', 'primaryDocument', 'primaryDocDescription']\n",
      "  Found 10 10-K filings from 2015 onwards\n"
     ]
    },
    {
     "name": "stderr",
     "output_type": "stream",
     "text": [
      " 26%|██▌       | 131/503 [1:14:23<2:33:21, 24.74s/it]"
     ]
    },
    {
     "name": "stdout",
     "output_type": "stream",
     "text": [
      "Processing CRWD (CrowdStrike Holdings, Inc.)\n",
      "  Available columns: ['accession_number', 'filing_date', 'reportDate', 'acceptanceDateTime', 'act', 'form', 'fileNumber', 'items', 'size', 'isXBRL', 'isInlineXBRL', 'primaryDocument', 'primaryDocDescription']\n",
      "  Found 5 10-K filings from 2015 onwards\n"
     ]
    },
    {
     "name": "stderr",
     "output_type": "stream",
     "text": [
      " 26%|██▌       | 132/503 [1:14:35<2:08:19, 20.75s/it]"
     ]
    },
    {
     "name": "stdout",
     "output_type": "stream",
     "text": [
      "Processing CCI (CROWN CASTLE INC.)\n",
      "  Available columns: ['accession_number', 'filing_date', 'reportDate', 'acceptanceDateTime', 'act', 'form', 'fileNumber', 'items', 'size', 'isXBRL', 'isInlineXBRL', 'primaryDocument', 'primaryDocDescription']\n",
      "  Found 9 10-K filings from 2015 onwards\n"
     ]
    },
    {
     "name": "stderr",
     "output_type": "stream",
     "text": [
      " 26%|██▋       | 133/503 [1:14:58<2:13:12, 21.60s/it]"
     ]
    },
    {
     "name": "stdout",
     "output_type": "stream",
     "text": [
      "Processing CSX (CSX CORP)\n",
      "  Available columns: ['accession_number', 'filing_date', 'reportDate', 'acceptanceDateTime', 'act', 'form', 'fileNumber', 'items', 'size', 'isXBRL', 'isInlineXBRL', 'primaryDocument', 'primaryDocDescription']\n",
      "  Found 10 10-K filings from 2015 onwards\n"
     ]
    },
    {
     "name": "stderr",
     "output_type": "stream",
     "text": [
      " 27%|██▋       | 134/503 [1:15:26<2:23:07, 23.27s/it]"
     ]
    },
    {
     "name": "stdout",
     "output_type": "stream",
     "text": [
      "Processing CMI (CUMMINS INC)\n",
      "  Available columns: ['accession_number', 'filing_date', 'reportDate', 'acceptanceDateTime', 'act', 'form', 'fileNumber', 'items', 'size', 'isXBRL', 'isInlineXBRL', 'primaryDocument', 'primaryDocDescription']\n",
      "  Found 10 10-K filings from 2015 onwards\n"
     ]
    },
    {
     "name": "stderr",
     "output_type": "stream",
     "text": [
      " 27%|██▋       | 135/503 [1:16:00<2:43:31, 26.66s/it]"
     ]
    },
    {
     "name": "stdout",
     "output_type": "stream",
     "text": [
      "Processing CVS (CVS HEALTH Corp)\n",
      "  Available columns: ['accession_number', 'filing_date', 'reportDate', 'acceptanceDateTime', 'act', 'form', 'fileNumber', 'items', 'size', 'isXBRL', 'isInlineXBRL', 'primaryDocument', 'primaryDocDescription']\n",
      "  Found 10 10-K filings from 2015 onwards\n",
      "    Error processing filing for CVS: 'NoneType' object is not subscriptable\n"
     ]
    },
    {
     "name": "stderr",
     "output_type": "stream",
     "text": [
      " 27%|██▋       | 136/503 [1:16:27<2:43:28, 26.73s/it]"
     ]
    },
    {
     "name": "stdout",
     "output_type": "stream",
     "text": [
      "Processing DHR (DANAHER CORP /DE/)\n",
      "  Available columns: ['accession_number', 'filing_date', 'reportDate', 'acceptanceDateTime', 'act', 'form', 'fileNumber', 'items', 'size', 'isXBRL', 'isInlineXBRL', 'primaryDocument', 'primaryDocDescription']\n",
      "  Found 10 10-K filings from 2015 onwards\n"
     ]
    },
    {
     "name": "stderr",
     "output_type": "stream",
     "text": [
      " 27%|██▋       | 137/503 [1:16:59<2:53:16, 28.41s/it]"
     ]
    },
    {
     "name": "stdout",
     "output_type": "stream",
     "text": [
      "Processing DRI (DARDEN RESTAURANTS INC)\n",
      "  Available columns: ['accession_number', 'filing_date', 'reportDate', 'acceptanceDateTime', 'act', 'form', 'fileNumber', 'items', 'size', 'isXBRL', 'isInlineXBRL', 'primaryDocument', 'primaryDocDescription']\n",
      "  Found 10 10-K filings from 2015 onwards\n"
     ]
    },
    {
     "name": "stderr",
     "output_type": "stream",
     "text": [
      " 27%|██▋       | 138/503 [1:17:23<2:43:10, 26.82s/it]"
     ]
    },
    {
     "name": "stdout",
     "output_type": "stream",
     "text": [
      "Processing DVA (DAVITA INC.)\n",
      "  Available columns: ['accession_number', 'filing_date', 'reportDate', 'acceptanceDateTime', 'act', 'form', 'fileNumber', 'items', 'size', 'isXBRL', 'isInlineXBRL', 'primaryDocument', 'primaryDocDescription']\n",
      "  Found 10 10-K filings from 2015 onwards\n"
     ]
    },
    {
     "name": "stderr",
     "output_type": "stream",
     "text": [
      " 28%|██▊       | 139/503 [1:17:56<2:54:54, 28.83s/it]"
     ]
    },
    {
     "name": "stdout",
     "output_type": "stream",
     "text": [
      "Processing DAY (Dayforce, Inc.)\n",
      "  Available columns: ['accession_number', 'filing_date', 'reportDate', 'acceptanceDateTime', 'act', 'form', 'fileNumber', 'items', 'size', 'isXBRL', 'isInlineXBRL', 'primaryDocument', 'primaryDocDescription']\n",
      "  Found 7 10-K filings from 2015 onwards\n"
     ]
    },
    {
     "name": "stderr",
     "output_type": "stream",
     "text": [
      " 28%|██▊       | 140/503 [1:18:21<2:47:37, 27.71s/it]"
     ]
    },
    {
     "name": "stdout",
     "output_type": "stream",
     "text": [
      "Processing DECK (DECKERS OUTDOOR CORP)\n",
      "  Available columns: ['accession_number', 'filing_date', 'reportDate', 'acceptanceDateTime', 'act', 'form', 'fileNumber', 'items', 'size', 'isXBRL', 'isInlineXBRL', 'primaryDocument', 'primaryDocDescription']\n",
      "  Found 10 10-K filings from 2015 onwards\n"
     ]
    },
    {
     "name": "stderr",
     "output_type": "stream",
     "text": [
      " 28%|██▊       | 141/503 [1:18:47<2:43:41, 27.13s/it]"
     ]
    },
    {
     "name": "stdout",
     "output_type": "stream",
     "text": [
      "Processing DE (DEERE & CO)\n",
      "  Available columns: ['accession_number', 'filing_date', 'reportDate', 'acceptanceDateTime', 'act', 'form', 'fileNumber', 'items', 'size', 'isXBRL', 'isInlineXBRL', 'primaryDocument', 'primaryDocDescription']\n",
      "  Found 10 10-K filings from 2015 onwards\n"
     ]
    },
    {
     "name": "stderr",
     "output_type": "stream",
     "text": [
      " 28%|██▊       | 142/503 [1:19:36<3:23:31, 33.83s/it]"
     ]
    },
    {
     "name": "stdout",
     "output_type": "stream",
     "text": [
      "Processing DELL (Dell Technologies Inc.)\n",
      "  Available columns: ['accession_number', 'filing_date', 'reportDate', 'acceptanceDateTime', 'act', 'form', 'fileNumber', 'items', 'size', 'isXBRL', 'isInlineXBRL', 'primaryDocument', 'primaryDocDescription']\n",
      "  Found 8 10-K filings from 2015 onwards\n"
     ]
    },
    {
     "name": "stderr",
     "output_type": "stream",
     "text": [
      " 28%|██▊       | 143/503 [1:20:06<3:16:02, 32.67s/it]"
     ]
    },
    {
     "name": "stdout",
     "output_type": "stream",
     "text": [
      "Processing DAL (DELTA AIR LINES, INC.)\n",
      "  Available columns: ['accession_number', 'filing_date', 'reportDate', 'acceptanceDateTime', 'act', 'form', 'fileNumber', 'items', 'size', 'isXBRL', 'isInlineXBRL', 'primaryDocument', 'primaryDocDescription']\n",
      "  Found 10 10-K filings from 2015 onwards\n"
     ]
    },
    {
     "name": "stderr",
     "output_type": "stream",
     "text": [
      " 29%|██▊       | 144/503 [1:20:34<3:06:27, 31.16s/it]"
     ]
    },
    {
     "name": "stdout",
     "output_type": "stream",
     "text": [
      "Processing DVN (DEVON ENERGY CORP/DE)\n",
      "  Available columns: ['accession_number', 'filing_date', 'reportDate', 'acceptanceDateTime', 'act', 'form', 'fileNumber', 'items', 'size', 'isXBRL', 'isInlineXBRL', 'primaryDocument', 'primaryDocDescription']\n",
      "  Found 10 10-K filings from 2015 onwards\n"
     ]
    },
    {
     "name": "stderr",
     "output_type": "stream",
     "text": [
      " 29%|██▉       | 145/503 [1:21:20<3:32:54, 35.68s/it]"
     ]
    },
    {
     "name": "stdout",
     "output_type": "stream",
     "text": [
      "Processing DXCM (DEXCOM INC)\n",
      "  Available columns: ['accession_number', 'filing_date', 'reportDate', 'acceptanceDateTime', 'act', 'form', 'fileNumber', 'items', 'size', 'isXBRL', 'isInlineXBRL', 'primaryDocument', 'primaryDocDescription']\n",
      "  Found 10 10-K filings from 2015 onwards\n"
     ]
    },
    {
     "name": "stderr",
     "output_type": "stream",
     "text": [
      " 29%|██▉       | 146/503 [1:21:47<3:17:06, 33.13s/it]"
     ]
    },
    {
     "name": "stdout",
     "output_type": "stream",
     "text": [
      "Processing FANG (Diamondback Energy, Inc.)\n",
      "  Available columns: ['accession_number', 'filing_date', 'reportDate', 'acceptanceDateTime', 'act', 'form', 'fileNumber', 'items', 'size', 'isXBRL', 'isInlineXBRL', 'primaryDocument', 'primaryDocDescription']\n",
      "  Found 10 10-K filings from 2015 onwards\n"
     ]
    },
    {
     "name": "stderr",
     "output_type": "stream",
     "text": [
      " 29%|██▉       | 147/503 [1:22:16<3:09:14, 31.89s/it]"
     ]
    },
    {
     "name": "stdout",
     "output_type": "stream",
     "text": [
      "Processing DLR (DIGITAL REALTY TRUST, INC.)\n",
      "  Available columns: ['accession_number', 'filing_date', 'reportDate', 'acceptanceDateTime', 'act', 'form', 'fileNumber', 'items', 'size', 'isXBRL', 'isInlineXBRL', 'primaryDocument', 'primaryDocDescription']\n",
      "  Found 10 10-K filings from 2015 onwards\n"
     ]
    },
    {
     "name": "stderr",
     "output_type": "stream",
     "text": [
      " 29%|██▉       | 148/503 [1:23:08<3:43:02, 37.70s/it]"
     ]
    },
    {
     "name": "stdout",
     "output_type": "stream",
     "text": [
      "Processing DFS (Discover Financial Services)\n",
      "  Available columns: ['accession_number', 'filing_date', 'reportDate', 'acceptanceDateTime', 'act', 'form', 'fileNumber', 'items', 'size', 'isXBRL', 'isInlineXBRL', 'primaryDocument', 'primaryDocDescription']\n",
      "  Found 10 10-K filings from 2015 onwards\n"
     ]
    },
    {
     "name": "stderr",
     "output_type": "stream",
     "text": [
      " 30%|██▉       | 149/503 [1:23:47<3:44:52, 38.11s/it]"
     ]
    },
    {
     "name": "stdout",
     "output_type": "stream",
     "text": [
      "Processing DG (DOLLAR GENERAL CORP)\n",
      "  Available columns: ['accession_number', 'filing_date', 'reportDate', 'acceptanceDateTime', 'act', 'form', 'fileNumber', 'items', 'size', 'isXBRL', 'isInlineXBRL', 'primaryDocument', 'primaryDocDescription']\n",
      "  Found 10 10-K filings from 2015 onwards\n",
      "    Error processing filing for DG: 'NoneType' object is not subscriptable\n",
      "    Error processing filing for DG: 'NoneType' object is not subscriptable\n",
      "    Error processing filing for DG: 'NoneType' object is not subscriptable\n"
     ]
    },
    {
     "name": "stderr",
     "output_type": "stream",
     "text": [
      " 30%|██▉       | 150/503 [1:24:04<3:06:33, 31.71s/it]"
     ]
    },
    {
     "name": "stdout",
     "output_type": "stream",
     "text": [
      "Processing DLTR (DOLLAR TREE, INC.)\n",
      "  Available columns: ['accession_number', 'filing_date', 'reportDate', 'acceptanceDateTime', 'act', 'form', 'fileNumber', 'items', 'size', 'isXBRL', 'isInlineXBRL', 'primaryDocument', 'primaryDocDescription']\n",
      "  Found 10 10-K filings from 2015 onwards\n"
     ]
    },
    {
     "name": "stderr",
     "output_type": "stream",
     "text": [
      " 30%|███       | 151/503 [1:24:27<2:51:51, 29.29s/it]"
     ]
    },
    {
     "name": "stdout",
     "output_type": "stream",
     "text": [
      "Processing D (DOMINION ENERGY, INC)\n",
      "  Available columns: ['accession_number', 'filing_date', 'reportDate', 'acceptanceDateTime', 'act', 'form', 'fileNumber', 'items', 'size', 'isXBRL', 'isInlineXBRL', 'primaryDocument', 'primaryDocDescription']\n",
      "  Found 10 10-K filings from 2015 onwards\n"
     ]
    },
    {
     "name": "stderr",
     "output_type": "stream",
     "text": [
      " 30%|███       | 152/503 [1:25:41<4:09:26, 42.64s/it]"
     ]
    },
    {
     "name": "stdout",
     "output_type": "stream",
     "text": [
      "Processing DPZ (DOMINOS PIZZA INC)\n",
      "  Available columns: ['accession_number', 'filing_date', 'reportDate', 'acceptanceDateTime', 'act', 'form', 'fileNumber', 'items', 'size', 'isXBRL', 'isInlineXBRL', 'primaryDocument', 'primaryDocDescription']\n",
      "  Found 10 10-K filings from 2015 onwards\n"
     ]
    },
    {
     "name": "stderr",
     "output_type": "stream",
     "text": [
      " 30%|███       | 153/503 [1:26:14<3:51:57, 39.76s/it]"
     ]
    },
    {
     "name": "stdout",
     "output_type": "stream",
     "text": [
      "Processing DOV (DOVER Corp)\n",
      "  Available columns: ['accession_number', 'filing_date', 'reportDate', 'acceptanceDateTime', 'act', 'form', 'fileNumber', 'items', 'size', 'isXBRL', 'isInlineXBRL', 'primaryDocument', 'primaryDocDescription']\n",
      "  Found 10 10-K filings from 2015 onwards\n"
     ]
    },
    {
     "name": "stderr",
     "output_type": "stream",
     "text": [
      " 31%|███       | 154/503 [1:26:42<3:31:25, 36.35s/it]"
     ]
    },
    {
     "name": "stdout",
     "output_type": "stream",
     "text": [
      "Processing DOW (DOW INC.)\n",
      "  Available columns: ['accession_number', 'filing_date', 'reportDate', 'acceptanceDateTime', 'act', 'form', 'fileNumber', 'items', 'size', 'isXBRL', 'isInlineXBRL', 'primaryDocument', 'primaryDocDescription']\n",
      "  Found 6 10-K filings from 2015 onwards\n"
     ]
    },
    {
     "name": "stderr",
     "output_type": "stream",
     "text": [
      " 31%|███       | 155/503 [1:27:04<3:05:08, 31.92s/it]"
     ]
    },
    {
     "name": "stdout",
     "output_type": "stream",
     "text": [
      "Processing DHI (HORTON D R INC /DE/)\n",
      "  Available columns: ['accession_number', 'filing_date', 'reportDate', 'acceptanceDateTime', 'act', 'form', 'fileNumber', 'items', 'size', 'isXBRL', 'isInlineXBRL', 'primaryDocument', 'primaryDocDescription']\n",
      "  Found 10 10-K filings from 2015 onwards\n"
     ]
    },
    {
     "name": "stderr",
     "output_type": "stream",
     "text": [
      " 31%|███       | 156/503 [1:27:33<2:59:15, 30.99s/it]"
     ]
    },
    {
     "name": "stdout",
     "output_type": "stream",
     "text": [
      "Processing DTE (DTE ENERGY CO)\n",
      "  Available columns: ['accession_number', 'filing_date', 'reportDate', 'acceptanceDateTime', 'act', 'form', 'fileNumber', 'items', 'size', 'isXBRL', 'isInlineXBRL', 'primaryDocument', 'primaryDocDescription']\n",
      "  Found 10 10-K filings from 2015 onwards\n"
     ]
    },
    {
     "name": "stderr",
     "output_type": "stream",
     "text": [
      " 31%|███       | 157/503 [1:28:12<3:13:00, 33.47s/it]"
     ]
    },
    {
     "name": "stdout",
     "output_type": "stream",
     "text": [
      "Processing DUK (Duke Energy CORP)\n",
      "  Available columns: ['accession_number', 'filing_date', 'reportDate', 'acceptanceDateTime', 'act', 'form', 'fileNumber', 'items', 'size', 'isXBRL', 'isInlineXBRL', 'primaryDocument', 'primaryDocDescription']\n",
      "  Found 10 10-K filings from 2015 onwards\n"
     ]
    },
    {
     "name": "stderr",
     "output_type": "stream",
     "text": [
      " 31%|███▏      | 158/503 [1:29:31<4:30:43, 47.08s/it]"
     ]
    },
    {
     "name": "stdout",
     "output_type": "stream",
     "text": [
      "Processing DD (DuPont de Nemours, Inc.)\n",
      "  Available columns: ['accession_number', 'filing_date', 'reportDate', 'acceptanceDateTime', 'act', 'form', 'fileNumber', 'items', 'size', 'isXBRL', 'isInlineXBRL', 'primaryDocument', 'primaryDocDescription']\n",
      "  Found 8 10-K filings from 2015 onwards\n"
     ]
    },
    {
     "name": "stderr",
     "output_type": "stream",
     "text": [
      " 32%|███▏      | 159/503 [1:29:58<3:55:20, 41.05s/it]"
     ]
    },
    {
     "name": "stdout",
     "output_type": "stream",
     "text": [
      "Processing EMN (EASTMAN CHEMICAL CO)\n",
      "  Available columns: ['accession_number', 'filing_date', 'reportDate', 'acceptanceDateTime', 'act', 'form', 'fileNumber', 'items', 'size', 'isXBRL', 'isInlineXBRL', 'primaryDocument', 'primaryDocDescription']\n",
      "  Found 10 10-K filings from 2015 onwards\n",
      "    WARNING: No MD&A section found for EMN (CIK: 915389) for year 2024\n",
      "    WARNING: No MD&A section found for EMN (CIK: 915389) for year 2023\n",
      "    WARNING: No MD&A section found for EMN (CIK: 915389) for year 2022\n",
      "    WARNING: No MD&A section found for EMN (CIK: 915389) for year 2021\n",
      "    WARNING: No MD&A section found for EMN (CIK: 915389) for year 2020\n",
      "    WARNING: No MD&A section found for EMN (CIK: 915389) for year 2019\n",
      "    WARNING: No MD&A section found for EMN (CIK: 915389) for year 2018\n",
      "    WARNING: No MD&A section found for EMN (CIK: 915389) for year 2017\n",
      "    WARNING: No MD&A section found for EMN (CIK: 915389) for year 2016\n",
      "    WARNING: No MD&A section found for EMN (CIK: 915389) for year 2015\n"
     ]
    },
    {
     "name": "stderr",
     "output_type": "stream",
     "text": [
      " 32%|███▏      | 160/503 [1:30:33<3:44:50, 39.33s/it]"
     ]
    },
    {
     "name": "stdout",
     "output_type": "stream",
     "text": [
      "Processing ETN (Eaton Corp plc)\n",
      "  Available columns: ['accession_number', 'filing_date', 'reportDate', 'acceptanceDateTime', 'act', 'form', 'fileNumber', 'items', 'size', 'isXBRL', 'isInlineXBRL', 'primaryDocument', 'primaryDocDescription']\n",
      "  Found 10 10-K filings from 2015 onwards\n"
     ]
    },
    {
     "name": "stderr",
     "output_type": "stream",
     "text": [
      " 32%|███▏      | 161/503 [1:31:03<3:28:01, 36.50s/it]"
     ]
    },
    {
     "name": "stdout",
     "output_type": "stream",
     "text": [
      "Processing EBAY (EBAY INC)\n",
      "  Available columns: ['accession_number', 'filing_date', 'reportDate', 'acceptanceDateTime', 'act', 'form', 'fileNumber', 'items', 'size', 'isXBRL', 'isInlineXBRL', 'primaryDocument', 'primaryDocDescription']\n",
      "  Found 10 10-K filings from 2015 onwards\n"
     ]
    },
    {
     "name": "stderr",
     "output_type": "stream",
     "text": [
      " 32%|███▏      | 162/503 [1:31:31<3:13:12, 34.00s/it]"
     ]
    },
    {
     "name": "stdout",
     "output_type": "stream",
     "text": [
      "Processing ECL (ECOLAB INC.)\n",
      "  Available columns: ['accession_number', 'filing_date', 'reportDate', 'acceptanceDateTime', 'act', 'form', 'fileNumber', 'items', 'size', 'isXBRL', 'isInlineXBRL', 'primaryDocument', 'primaryDocDescription']\n",
      "  Found 10 10-K filings from 2015 onwards\n",
      "    Error processing filing for ECL: 'NoneType' object is not subscriptable\n",
      "    Error processing filing for ECL: 'NoneType' object is not subscriptable\n",
      "    Error processing filing for ECL: 'NoneType' object is not subscriptable\n",
      "    Error processing filing for ECL: 'NoneType' object is not subscriptable\n"
     ]
    },
    {
     "name": "stderr",
     "output_type": "stream",
     "text": [
      " 32%|███▏      | 163/503 [1:32:03<3:08:08, 33.20s/it]"
     ]
    },
    {
     "name": "stdout",
     "output_type": "stream",
     "text": [
      "Processing EIX (EDISON INTERNATIONAL)\n",
      "  Available columns: ['accession_number', 'filing_date', 'reportDate', 'acceptanceDateTime', 'act', 'form', 'fileNumber', 'items', 'size', 'isXBRL', 'isInlineXBRL', 'primaryDocument', 'primaryDocDescription']\n",
      "  Found 10 10-K filings from 2015 onwards\n",
      "    WARNING: No MD&A section found for EIX (CIK: 827052) for year 2024\n"
     ]
    },
    {
     "name": "stderr",
     "output_type": "stream",
     "text": [
      "/home/nawa/.local/lib/python3.11/site-packages/edgar/files/htmltools.py:271: FutureWarning: Downcasting object dtype arrays on .fillna, .ffill, .bfill is deprecated and will change in a future version. Call result.infer_objects(copy=False) instead. To opt-in to the future behavior, set `pd.set_option('future.no_silent_downcasting', True)`\n",
      "  chunk_df.Item = chunk_df.Item.ffill().infer_objects(copy=False)\n"
     ]
    },
    {
     "name": "stdout",
     "output_type": "stream",
     "text": [
      "    WARNING: No MD&A section found for EIX (CIK: 827052) for year 2023\n"
     ]
    },
    {
     "name": "stderr",
     "output_type": "stream",
     "text": [
      "/home/nawa/.local/lib/python3.11/site-packages/edgar/files/htmltools.py:271: FutureWarning: Downcasting object dtype arrays on .fillna, .ffill, .bfill is deprecated and will change in a future version. Call result.infer_objects(copy=False) instead. To opt-in to the future behavior, set `pd.set_option('future.no_silent_downcasting', True)`\n",
      "  chunk_df.Item = chunk_df.Item.ffill().infer_objects(copy=False)\n"
     ]
    },
    {
     "name": "stdout",
     "output_type": "stream",
     "text": [
      "    WARNING: No MD&A section found for EIX (CIK: 827052) for year 2022\n"
     ]
    },
    {
     "name": "stderr",
     "output_type": "stream",
     "text": [
      "/home/nawa/.local/lib/python3.11/site-packages/edgar/files/htmltools.py:271: FutureWarning: Downcasting object dtype arrays on .fillna, .ffill, .bfill is deprecated and will change in a future version. Call result.infer_objects(copy=False) instead. To opt-in to the future behavior, set `pd.set_option('future.no_silent_downcasting', True)`\n",
      "  chunk_df.Item = chunk_df.Item.ffill().infer_objects(copy=False)\n"
     ]
    },
    {
     "name": "stdout",
     "output_type": "stream",
     "text": [
      "    WARNING: No MD&A section found for EIX (CIK: 827052) for year 2021\n",
      "    WARNING: No MD&A section found for EIX (CIK: 827052) for year 2020\n",
      "    WARNING: No MD&A section found for EIX (CIK: 827052) for year 2019\n",
      "    WARNING: No MD&A section found for EIX (CIK: 827052) for year 2018\n",
      "    WARNING: No MD&A section found for EIX (CIK: 827052) for year 2017\n",
      "    WARNING: No MD&A section found for EIX (CIK: 827052) for year 2016\n",
      "    WARNING: No MD&A section found for EIX (CIK: 827052) for year 2015\n"
     ]
    },
    {
     "name": "stderr",
     "output_type": "stream",
     "text": [
      " 33%|███▎      | 164/503 [1:32:39<3:13:28, 34.24s/it]"
     ]
    },
    {
     "name": "stdout",
     "output_type": "stream",
     "text": [
      "Processing EW (Edwards Lifesciences Corp)\n",
      "  Available columns: ['accession_number', 'filing_date', 'reportDate', 'acceptanceDateTime', 'act', 'form', 'fileNumber', 'items', 'size', 'isXBRL', 'isInlineXBRL', 'primaryDocument', 'primaryDocDescription']\n",
      "  Found 10 10-K filings from 2015 onwards\n"
     ]
    },
    {
     "name": "stderr",
     "output_type": "stream",
     "text": [
      " 33%|███▎      | 165/503 [1:33:05<2:58:03, 31.61s/it]"
     ]
    },
    {
     "name": "stdout",
     "output_type": "stream",
     "text": [
      "Processing EA (ELECTRONIC ARTS INC.)\n",
      "  Available columns: ['accession_number', 'filing_date', 'reportDate', 'acceptanceDateTime', 'act', 'form', 'fileNumber', 'items', 'size', 'isXBRL', 'isInlineXBRL', 'primaryDocument', 'primaryDocDescription']\n",
      "  Found 10 10-K filings from 2015 onwards\n"
     ]
    },
    {
     "name": "stderr",
     "output_type": "stream",
     "text": [
      " 33%|███▎      | 166/503 [1:33:30<2:47:08, 29.76s/it]"
     ]
    },
    {
     "name": "stdout",
     "output_type": "stream",
     "text": [
      "Processing ELV (Elevance Health, Inc.)\n",
      "  Available columns: ['accession_number', 'filing_date', 'reportDate', 'acceptanceDateTime', 'act', 'form', 'fileNumber', 'items', 'size', 'isXBRL', 'isInlineXBRL', 'primaryDocument', 'primaryDocDescription']\n",
      "  Found 10 10-K filings from 2015 onwards\n"
     ]
    },
    {
     "name": "stderr",
     "output_type": "stream",
     "text": [
      " 33%|███▎      | 167/503 [1:34:04<2:54:18, 31.13s/it]"
     ]
    },
    {
     "name": "stdout",
     "output_type": "stream",
     "text": [
      "Processing EMR (EMERSON ELECTRIC CO)\n",
      "  Available columns: ['accession_number', 'filing_date', 'reportDate', 'acceptanceDateTime', 'act', 'form', 'fileNumber', 'items', 'size', 'isXBRL', 'isInlineXBRL', 'primaryDocument', 'primaryDocDescription']\n",
      "  Found 10 10-K filings from 2015 onwards\n",
      "    WARNING: No MD&A section found for EMR (CIK: 32604) for year 2023\n"
     ]
    },
    {
     "name": "stderr",
     "output_type": "stream",
     "text": [
      " 33%|███▎      | 168/503 [1:34:29<2:42:33, 29.11s/it]"
     ]
    },
    {
     "name": "stdout",
     "output_type": "stream",
     "text": [
      "Processing ENPH (Enphase Energy, Inc.)\n",
      "  Available columns: ['accession_number', 'filing_date', 'reportDate', 'acceptanceDateTime', 'act', 'form', 'fileNumber', 'items', 'size', 'isXBRL', 'isInlineXBRL', 'primaryDocument', 'primaryDocDescription']\n",
      "  Found 10 10-K filings from 2015 onwards\n"
     ]
    },
    {
     "name": "stderr",
     "output_type": "stream",
     "text": [
      " 34%|███▎      | 169/503 [1:34:53<2:32:56, 27.47s/it]"
     ]
    },
    {
     "name": "stdout",
     "output_type": "stream",
     "text": [
      "Processing ETR (ENTERGY CORP /DE/)\n",
      "  Available columns: ['accession_number', 'filing_date', 'reportDate', 'acceptanceDateTime', 'act', 'form', 'fileNumber', 'items', 'size', 'isXBRL', 'isInlineXBRL', 'primaryDocument', 'primaryDocDescription']\n",
      "  Found 10 10-K filings from 2015 onwards\n"
     ]
    },
    {
     "name": "stderr",
     "output_type": "stream",
     "text": [
      " 34%|███▍      | 170/503 [1:36:26<4:22:08, 47.23s/it]"
     ]
    },
    {
     "name": "stdout",
     "output_type": "stream",
     "text": [
      "Processing EOG (EOG RESOURCES INC)\n",
      "  Available columns: ['accession_number', 'filing_date', 'reportDate', 'acceptanceDateTime', 'act', 'form', 'fileNumber', 'items', 'size', 'isXBRL', 'isInlineXBRL', 'primaryDocument', 'primaryDocDescription']\n",
      "  Found 10 10-K filings from 2015 onwards\n"
     ]
    },
    {
     "name": "stderr",
     "output_type": "stream",
     "text": [
      " 34%|███▍      | 171/503 [1:36:50<3:43:38, 40.42s/it]"
     ]
    },
    {
     "name": "stdout",
     "output_type": "stream",
     "text": [
      "Processing EPAM (EPAM Systems, Inc.)\n",
      "  Available columns: ['accession_number', 'filing_date', 'reportDate', 'acceptanceDateTime', 'act', 'form', 'fileNumber', 'items', 'size', 'isXBRL', 'isInlineXBRL', 'primaryDocument', 'primaryDocDescription']\n",
      "  Found 10 10-K filings from 2015 onwards\n"
     ]
    },
    {
     "name": "stderr",
     "output_type": "stream",
     "text": [
      " 34%|███▍      | 172/503 [1:37:25<3:33:21, 38.68s/it]"
     ]
    },
    {
     "name": "stdout",
     "output_type": "stream",
     "text": [
      "Processing EQT (EQT Corp)\n",
      "  Available columns: ['accession_number', 'filing_date', 'reportDate', 'acceptanceDateTime', 'act', 'form', 'fileNumber', 'items', 'size', 'isXBRL', 'isInlineXBRL', 'primaryDocument', 'primaryDocDescription']\n",
      "  Found 10 10-K filings from 2015 onwards\n"
     ]
    },
    {
     "name": "stderr",
     "output_type": "stream",
     "text": [
      " 34%|███▍      | 173/503 [1:37:55<3:18:43, 36.13s/it]"
     ]
    },
    {
     "name": "stdout",
     "output_type": "stream",
     "text": [
      "Processing EFX (EQUIFAX INC)\n",
      "  Available columns: ['accession_number', 'filing_date', 'reportDate', 'acceptanceDateTime', 'act', 'form', 'fileNumber', 'items', 'size', 'isXBRL', 'isInlineXBRL', 'primaryDocument', 'primaryDocDescription']\n",
      "  Found 10 10-K filings from 2015 onwards\n"
     ]
    },
    {
     "name": "stderr",
     "output_type": "stream",
     "text": [
      " 35%|███▍      | 174/503 [1:38:25<3:07:26, 34.18s/it]"
     ]
    },
    {
     "name": "stdout",
     "output_type": "stream",
     "text": [
      "Processing EQIX (EQUINIX INC)\n",
      "  Available columns: ['accession_number', 'filing_date', 'reportDate', 'acceptanceDateTime', 'act', 'form', 'fileNumber', 'items', 'size', 'isXBRL', 'isInlineXBRL', 'primaryDocument', 'primaryDocDescription']\n",
      "  Found 10 10-K filings from 2015 onwards\n"
     ]
    },
    {
     "name": "stderr",
     "output_type": "stream",
     "text": [
      " 35%|███▍      | 175/503 [1:38:59<3:06:59, 34.21s/it]"
     ]
    },
    {
     "name": "stdout",
     "output_type": "stream",
     "text": [
      "Processing EQR (EQUITY RESIDENTIAL)\n",
      "  Available columns: ['accession_number', 'filing_date', 'reportDate', 'acceptanceDateTime', 'act', 'form', 'fileNumber', 'items', 'size', 'isXBRL', 'isInlineXBRL', 'primaryDocument', 'primaryDocDescription']\n",
      "  Found 10 10-K filings from 2015 onwards\n"
     ]
    },
    {
     "name": "stderr",
     "output_type": "stream",
     "text": [
      " 35%|███▍      | 176/503 [1:40:13<4:10:40, 46.00s/it]"
     ]
    },
    {
     "name": "stdout",
     "output_type": "stream",
     "text": [
      "Processing ERIE (ERIE INDEMNITY CO)\n",
      "  Available columns: ['accession_number', 'filing_date', 'reportDate', 'acceptanceDateTime', 'act', 'form', 'fileNumber', 'items', 'size', 'isXBRL', 'isInlineXBRL', 'primaryDocument', 'primaryDocDescription']\n",
      "  Found 10 10-K filings from 2015 onwards\n"
     ]
    },
    {
     "name": "stderr",
     "output_type": "stream",
     "text": [
      " 35%|███▌      | 177/503 [1:40:41<3:41:13, 40.72s/it]"
     ]
    },
    {
     "name": "stdout",
     "output_type": "stream",
     "text": [
      "Processing ESS (ESSEX PROPERTY TRUST, INC.)\n",
      "  Available columns: ['accession_number', 'filing_date', 'reportDate', 'acceptanceDateTime', 'act', 'form', 'fileNumber', 'items', 'size', 'isXBRL', 'isInlineXBRL', 'primaryDocument', 'primaryDocDescription']\n",
      "  Found 10 10-K filings from 2015 onwards\n"
     ]
    },
    {
     "name": "stderr",
     "output_type": "stream",
     "text": [
      " 35%|███▌      | 178/503 [1:41:21<3:39:00, 40.43s/it]"
     ]
    },
    {
     "name": "stdout",
     "output_type": "stream",
     "text": [
      "Processing EL (ESTEE LAUDER COMPANIES INC)\n",
      "  Available columns: ['accession_number', 'filing_date', 'reportDate', 'acceptanceDateTime', 'act', 'form', 'fileNumber', 'items', 'size', 'isXBRL', 'isInlineXBRL', 'primaryDocument', 'primaryDocDescription']\n",
      "  Found 10 10-K filings from 2015 onwards\n"
     ]
    },
    {
     "name": "stderr",
     "output_type": "stream",
     "text": [
      " 36%|███▌      | 179/503 [1:42:02<3:38:57, 40.55s/it]"
     ]
    },
    {
     "name": "stdout",
     "output_type": "stream",
     "text": [
      "Processing EG (EVEREST GROUP, LTD.)\n",
      "  Available columns: ['accession_number', 'filing_date', 'reportDate', 'acceptanceDateTime', 'act', 'form', 'fileNumber', 'items', 'size', 'isXBRL', 'isInlineXBRL', 'primaryDocument', 'primaryDocDescription']\n",
      "  Found 10 10-K filings from 2015 onwards\n"
     ]
    },
    {
     "name": "stderr",
     "output_type": "stream",
     "text": [
      " 36%|███▌      | 180/503 [1:42:56<3:59:55, 44.57s/it]"
     ]
    },
    {
     "name": "stdout",
     "output_type": "stream",
     "text": [
      "Processing EVRG (Evergy, Inc.)\n",
      "  Available columns: ['accession_number', 'filing_date', 'reportDate', 'acceptanceDateTime', 'act', 'form', 'fileNumber', 'items', 'size', 'isXBRL', 'isInlineXBRL', 'primaryDocument', 'primaryDocDescription']\n",
      "  Found 7 10-K filings from 2015 onwards\n"
     ]
    },
    {
     "name": "stderr",
     "output_type": "stream",
     "text": [
      " 36%|███▌      | 181/503 [1:43:31<3:44:42, 41.87s/it]"
     ]
    },
    {
     "name": "stdout",
     "output_type": "stream",
     "text": [
      "Processing ES (EVERSOURCE ENERGY)\n",
      "  Available columns: ['accession_number', 'filing_date', 'reportDate', 'acceptanceDateTime', 'act', 'form', 'fileNumber', 'items', 'size', 'isXBRL', 'isInlineXBRL', 'primaryDocument', 'primaryDocDescription']\n",
      "  Found 10 10-K filings from 2015 onwards\n",
      "    Error processing filing for ES: 'NoneType' object is not subscriptable\n"
     ]
    },
    {
     "name": "stderr",
     "output_type": "stream",
     "text": [
      " 36%|███▌      | 182/503 [1:44:15<3:47:39, 42.55s/it]"
     ]
    },
    {
     "name": "stdout",
     "output_type": "stream",
     "text": [
      "Processing EXC (EXELON CORP)\n",
      "  Available columns: ['accession_number', 'filing_date', 'reportDate', 'acceptanceDateTime', 'act', 'form', 'fileNumber', 'items', 'size', 'isXBRL', 'isInlineXBRL', 'primaryDocument', 'primaryDocDescription']\n",
      "  Found 10 10-K filings from 2015 onwards\n"
     ]
    },
    {
     "name": "stderr",
     "output_type": "stream",
     "text": [
      " 36%|███▋      | 183/503 [1:46:06<5:35:34, 62.92s/it]"
     ]
    },
    {
     "name": "stdout",
     "output_type": "stream",
     "text": [
      "Processing EXPE (Expedia Group, Inc.)\n",
      "  Available columns: ['accession_number', 'filing_date', 'reportDate', 'acceptanceDateTime', 'act', 'form', 'fileNumber', 'items', 'size', 'isXBRL', 'isInlineXBRL', 'primaryDocument', 'primaryDocDescription']\n",
      "  Found 10 10-K filings from 2015 onwards\n",
      "    WARNING: No MD&A section found for EXPE (CIK: 1324424) for year 2024\n",
      "    WARNING: No MD&A section found for EXPE (CIK: 1324424) for year 2023\n",
      "    WARNING: No MD&A section found for EXPE (CIK: 1324424) for year 2022\n",
      "    WARNING: No MD&A section found for EXPE (CIK: 1324424) for year 2021\n",
      "    WARNING: No MD&A section found for EXPE (CIK: 1324424) for year 2020\n",
      "    WARNING: No MD&A section found for EXPE (CIK: 1324424) for year 2019\n",
      "    WARNING: No MD&A section found for EXPE (CIK: 1324424) for year 2018\n",
      "    WARNING: No MD&A section found for EXPE (CIK: 1324424) for year 2017\n",
      "    WARNING: No MD&A section found for EXPE (CIK: 1324424) for year 2016\n",
      "    WARNING: No MD&A section found for EXPE (CIK: 1324424) for year 2015\n"
     ]
    },
    {
     "name": "stderr",
     "output_type": "stream",
     "text": [
      " 37%|███▋      | 184/503 [1:46:39<4:47:32, 54.08s/it]"
     ]
    },
    {
     "name": "stdout",
     "output_type": "stream",
     "text": [
      "Processing EXPD (EXPEDITORS INTERNATIONAL OF WASHINGTON INC)\n",
      "  Available columns: ['accession_number', 'filing_date', 'reportDate', 'acceptanceDateTime', 'act', 'form', 'fileNumber', 'items', 'size', 'isXBRL', 'isInlineXBRL', 'primaryDocument', 'primaryDocDescription']\n",
      "  Found 10 10-K filings from 2015 onwards\n"
     ]
    },
    {
     "name": "stderr",
     "output_type": "stream",
     "text": [
      " 37%|███▋      | 185/503 [1:47:05<4:01:37, 45.59s/it]"
     ]
    },
    {
     "name": "stdout",
     "output_type": "stream",
     "text": [
      "Processing EXR (Extra Space Storage Inc.)\n",
      "  Available columns: ['accession_number', 'filing_date', 'reportDate', 'acceptanceDateTime', 'act', 'form', 'fileNumber', 'items', 'size', 'isXBRL', 'isInlineXBRL', 'primaryDocument', 'primaryDocDescription']\n",
      "  Found 10 10-K filings from 2015 onwards\n"
     ]
    },
    {
     "name": "stderr",
     "output_type": "stream",
     "text": [
      " 37%|███▋      | 186/503 [1:47:36<3:38:30, 41.36s/it]"
     ]
    },
    {
     "name": "stdout",
     "output_type": "stream",
     "text": [
      "Processing XOM (EXXON MOBIL CORP)\n",
      "  Available columns: ['accession_number', 'filing_date', 'reportDate', 'acceptanceDateTime', 'act', 'form', 'fileNumber', 'items', 'size', 'isXBRL', 'isInlineXBRL', 'primaryDocument', 'primaryDocDescription']\n",
      "  Found 10 10-K filings from 2015 onwards\n"
     ]
    },
    {
     "name": "stderr",
     "output_type": "stream",
     "text": [
      " 37%|███▋      | 187/503 [1:48:27<3:52:01, 44.06s/it]"
     ]
    },
    {
     "name": "stdout",
     "output_type": "stream",
     "text": [
      "Processing FFIV (F5, INC.)\n",
      "  Available columns: ['accession_number', 'filing_date', 'reportDate', 'acceptanceDateTime', 'act', 'form', 'fileNumber', 'items', 'size', 'isXBRL', 'isInlineXBRL', 'primaryDocument', 'primaryDocDescription']\n",
      "  Found 10 10-K filings from 2015 onwards\n"
     ]
    },
    {
     "name": "stderr",
     "output_type": "stream",
     "text": [
      " 37%|███▋      | 188/503 [1:48:51<3:19:49, 38.06s/it]"
     ]
    },
    {
     "name": "stdout",
     "output_type": "stream",
     "text": [
      "Processing FDS (FACTSET RESEARCH SYSTEMS INC)\n",
      "  Available columns: ['accession_number', 'filing_date', 'reportDate', 'acceptanceDateTime', 'act', 'form', 'fileNumber', 'items', 'size', 'isXBRL', 'isInlineXBRL', 'primaryDocument', 'primaryDocDescription']\n",
      "  Found 10 10-K filings from 2015 onwards\n"
     ]
    },
    {
     "name": "stderr",
     "output_type": "stream",
     "text": [
      " 38%|███▊      | 189/503 [1:49:16<2:59:03, 34.22s/it]"
     ]
    },
    {
     "name": "stdout",
     "output_type": "stream",
     "text": [
      "Processing FICO (FAIR ISAAC CORP)\n",
      "  Available columns: ['accession_number', 'filing_date', 'reportDate', 'acceptanceDateTime', 'act', 'form', 'fileNumber', 'items', 'size', 'isXBRL', 'isInlineXBRL', 'primaryDocument', 'primaryDocDescription']\n",
      "  Found 10 10-K filings from 2015 onwards\n"
     ]
    },
    {
     "name": "stderr",
     "output_type": "stream",
     "text": [
      " 38%|███▊      | 190/503 [1:49:41<2:43:16, 31.30s/it]"
     ]
    },
    {
     "name": "stdout",
     "output_type": "stream",
     "text": [
      "Processing FAST (FASTENAL CO)\n",
      "  Available columns: ['accession_number', 'filing_date', 'reportDate', 'acceptanceDateTime', 'act', 'form', 'fileNumber', 'items', 'size', 'isXBRL', 'isInlineXBRL', 'primaryDocument', 'primaryDocDescription']\n",
      "  Found 10 10-K filings from 2015 onwards\n"
     ]
    },
    {
     "name": "stderr",
     "output_type": "stream",
     "text": [
      " 38%|███▊      | 191/503 [1:50:03<2:28:47, 28.61s/it]"
     ]
    },
    {
     "name": "stdout",
     "output_type": "stream",
     "text": [
      "Processing FRT (FEDERAL REALTY INVESTMENT TRUST)\n",
      "  Available columns: ['accession_number', 'filing_date', 'reportDate', 'acceptanceDateTime', 'act', 'form', 'fileNumber', 'items', 'size', 'isXBRL', 'isInlineXBRL', 'primaryDocument', 'primaryDocDescription']\n",
      "  Found 10 10-K filings from 2015 onwards\n"
     ]
    },
    {
     "name": "stderr",
     "output_type": "stream",
     "text": [
      " 38%|███▊      | 192/503 [1:50:33<2:30:08, 28.97s/it]"
     ]
    },
    {
     "name": "stdout",
     "output_type": "stream",
     "text": [
      "Processing FDX (FEDEX CORP)\n",
      "  Available columns: ['accession_number', 'filing_date', 'reportDate', 'acceptanceDateTime', 'act', 'form', 'fileNumber', 'items', 'size', 'isXBRL', 'isInlineXBRL', 'primaryDocument', 'primaryDocDescription']\n",
      "  Found 10 10-K filings from 2015 onwards\n"
     ]
    },
    {
     "name": "stderr",
     "output_type": "stream",
     "text": [
      " 38%|███▊      | 193/503 [1:51:18<2:55:02, 33.88s/it]"
     ]
    },
    {
     "name": "stdout",
     "output_type": "stream",
     "text": [
      "Processing FIS (Fidelity National Information Services, Inc.)\n",
      "  Available columns: ['accession_number', 'filing_date', 'reportDate', 'acceptanceDateTime', 'act', 'form', 'fileNumber', 'items', 'size', 'isXBRL', 'isInlineXBRL', 'primaryDocument', 'primaryDocDescription']\n",
      "  Found 10 10-K filings from 2015 onwards\n"
     ]
    },
    {
     "name": "stderr",
     "output_type": "stream",
     "text": [
      " 39%|███▊      | 194/503 [1:51:45<2:44:23, 31.92s/it]"
     ]
    },
    {
     "name": "stdout",
     "output_type": "stream",
     "text": [
      "Processing FITB (FIFTH THIRD BANCORP)\n",
      "  Available columns: ['accession_number', 'filing_date', 'reportDate', 'acceptanceDateTime', 'act', 'form', 'fileNumber', 'items', 'size', 'isXBRL', 'isInlineXBRL', 'primaryDocument', 'primaryDocDescription']\n",
      "  Found 10 10-K filings from 2015 onwards\n",
      "    WARNING: No MD&A section found for FITB (CIK: 35527) for year 2017\n",
      "    WARNING: No MD&A section found for FITB (CIK: 35527) for year 2016\n",
      "    WARNING: No MD&A section found for FITB (CIK: 35527) for year 2015\n"
     ]
    },
    {
     "name": "stderr",
     "output_type": "stream",
     "text": [
      " 39%|███▉      | 195/503 [1:52:50<3:34:45, 41.84s/it]"
     ]
    },
    {
     "name": "stdout",
     "output_type": "stream",
     "text": [
      "Processing FSLR (FIRST SOLAR, INC.)\n",
      "  Available columns: ['accession_number', 'filing_date', 'reportDate', 'acceptanceDateTime', 'act', 'form', 'fileNumber', 'items', 'size', 'isXBRL', 'isInlineXBRL', 'primaryDocument', 'primaryDocDescription']\n",
      "  Found 10 10-K filings from 2015 onwards\n"
     ]
    },
    {
     "name": "stderr",
     "output_type": "stream",
     "text": [
      " 39%|███▉      | 196/503 [1:53:22<3:17:43, 38.64s/it]"
     ]
    },
    {
     "name": "stdout",
     "output_type": "stream",
     "text": [
      "Processing FE (FIRSTENERGY CORP)\n",
      "  Available columns: ['accession_number', 'filing_date', 'reportDate', 'acceptanceDateTime', 'act', 'form', 'fileNumber', 'items', 'size', 'isXBRL', 'isInlineXBRL', 'primaryDocument', 'primaryDocDescription']\n",
      "  Found 10 10-K filings from 2015 onwards\n"
     ]
    },
    {
     "name": "stderr",
     "output_type": "stream",
     "text": [
      " 39%|███▉      | 197/503 [1:54:05<3:24:37, 40.12s/it]"
     ]
    },
    {
     "name": "stdout",
     "output_type": "stream",
     "text": [
      "Processing FI (FISERV INC)\n",
      "  Available columns: ['accession_number', 'filing_date', 'reportDate', 'acceptanceDateTime', 'act', 'form', 'fileNumber', 'items', 'size', 'isXBRL', 'isInlineXBRL', 'primaryDocument', 'primaryDocDescription']\n",
      "  Found 10 10-K filings from 2015 onwards\n"
     ]
    },
    {
     "name": "stderr",
     "output_type": "stream",
     "text": [
      " 39%|███▉      | 198/503 [1:54:29<2:59:26, 35.30s/it]"
     ]
    },
    {
     "name": "stdout",
     "output_type": "stream",
     "text": [
      "Processing FMC (FMC CORP)\n",
      "  Available columns: ['accession_number', 'filing_date', 'reportDate', 'acceptanceDateTime', 'act', 'form', 'fileNumber', 'items', 'size', 'isXBRL', 'isInlineXBRL', 'primaryDocument', 'primaryDocDescription']\n",
      "  Found 10 10-K filings from 2015 onwards\n"
     ]
    },
    {
     "name": "stderr",
     "output_type": "stream",
     "text": [
      " 40%|███▉      | 199/503 [1:55:01<2:53:33, 34.26s/it]"
     ]
    },
    {
     "name": "stdout",
     "output_type": "stream",
     "text": [
      "Processing F (FORD MOTOR CO)\n",
      "  Available columns: ['accession_number', 'filing_date', 'reportDate', 'acceptanceDateTime', 'act', 'form', 'fileNumber', 'items', 'size', 'isXBRL', 'isInlineXBRL', 'primaryDocument', 'primaryDocDescription']\n",
      "  Found 10 10-K filings from 2015 onwards\n"
     ]
    },
    {
     "name": "stderr",
     "output_type": "stream",
     "text": [
      " 40%|███▉      | 200/503 [1:55:42<3:02:42, 36.18s/it]"
     ]
    },
    {
     "name": "stdout",
     "output_type": "stream",
     "text": [
      "Processing FTNT (Fortinet, Inc.)\n",
      "  Available columns: ['accession_number', 'filing_date', 'reportDate', 'acceptanceDateTime', 'act', 'form', 'fileNumber', 'items', 'size', 'isXBRL', 'isInlineXBRL', 'primaryDocument', 'primaryDocDescription']\n",
      "  Found 10 10-K filings from 2015 onwards\n"
     ]
    },
    {
     "name": "stderr",
     "output_type": "stream",
     "text": [
      " 40%|███▉      | 201/503 [1:56:07<2:46:00, 32.98s/it]"
     ]
    },
    {
     "name": "stdout",
     "output_type": "stream",
     "text": [
      "Processing FTV (Fortive Corp)\n",
      "  Available columns: ['accession_number', 'filing_date', 'reportDate', 'acceptanceDateTime', 'act', 'form', 'fileNumber', 'items', 'size', 'isXBRL', 'isInlineXBRL', 'primaryDocument', 'primaryDocDescription']\n",
      "  Found 9 10-K filings from 2015 onwards\n"
     ]
    },
    {
     "name": "stderr",
     "output_type": "stream",
     "text": [
      " 40%|████      | 202/503 [1:56:32<2:33:02, 30.51s/it]"
     ]
    },
    {
     "name": "stdout",
     "output_type": "stream",
     "text": [
      "Processing FOXA (Fox Corp)\n",
      "  Available columns: ['accession_number', 'filing_date', 'reportDate', 'acceptanceDateTime', 'act', 'form', 'fileNumber', 'items', 'size', 'isXBRL', 'isInlineXBRL', 'primaryDocument', 'primaryDocDescription']\n",
      "  Found 6 10-K filings from 2015 onwards\n"
     ]
    },
    {
     "name": "stderr",
     "output_type": "stream",
     "text": [
      " 40%|████      | 203/503 [1:56:50<2:14:00, 26.80s/it]"
     ]
    },
    {
     "name": "stdout",
     "output_type": "stream",
     "text": [
      "Processing FOX (Fox Corp)\n",
      "  Available columns: ['accession_number', 'filing_date', 'reportDate', 'acceptanceDateTime', 'act', 'form', 'fileNumber', 'items', 'size', 'isXBRL', 'isInlineXBRL', 'primaryDocument', 'primaryDocDescription']\n",
      "  Found 6 10-K filings from 2015 onwards\n"
     ]
    },
    {
     "name": "stderr",
     "output_type": "stream",
     "text": [
      " 41%|████      | 204/503 [1:56:59<1:46:56, 21.46s/it]"
     ]
    },
    {
     "name": "stdout",
     "output_type": "stream",
     "text": [
      "Processing BEN (FRANKLIN RESOURCES INC)\n",
      "  Available columns: ['accession_number', 'filing_date', 'reportDate', 'acceptanceDateTime', 'act', 'form', 'fileNumber', 'items', 'size', 'isXBRL', 'isInlineXBRL', 'primaryDocument', 'primaryDocDescription']\n",
      "  Found 10 10-K filings from 2015 onwards\n"
     ]
    },
    {
     "name": "stderr",
     "output_type": "stream",
     "text": [
      " 41%|████      | 205/503 [1:57:30<2:01:14, 24.41s/it]"
     ]
    },
    {
     "name": "stdout",
     "output_type": "stream",
     "text": [
      "Processing FCX (FREEPORT-MCMORAN INC)\n",
      "  Available columns: ['accession_number', 'filing_date', 'reportDate', 'acceptanceDateTime', 'act', 'form', 'fileNumber', 'items', 'size', 'isXBRL', 'isInlineXBRL', 'primaryDocument', 'primaryDocDescription']\n",
      "  Found 10 10-K filings from 2015 onwards\n",
      "    WARNING: No MD&A section found for FCX (CIK: 831259) for year 2024\n",
      "    WARNING: No MD&A section found for FCX (CIK: 831259) for year 2023\n",
      "    WARNING: No MD&A section found for FCX (CIK: 831259) for year 2022\n",
      "    WARNING: No MD&A section found for FCX (CIK: 831259) for year 2021\n",
      "    WARNING: No MD&A section found for FCX (CIK: 831259) for year 2020\n",
      "    WARNING: No MD&A section found for FCX (CIK: 831259) for year 2019\n",
      "    WARNING: No MD&A section found for FCX (CIK: 831259) for year 2018\n",
      "    WARNING: No MD&A section found for FCX (CIK: 831259) for year 2017\n",
      "    WARNING: No MD&A section found for FCX (CIK: 831259) for year 2016\n",
      "    WARNING: No MD&A section found for FCX (CIK: 831259) for year 2015\n"
     ]
    },
    {
     "name": "stderr",
     "output_type": "stream",
     "text": [
      " 41%|████      | 206/503 [1:58:20<2:37:30, 31.82s/it]"
     ]
    },
    {
     "name": "stdout",
     "output_type": "stream",
     "text": [
      "Processing GRMN (GARMIN LTD)\n",
      "  Available columns: ['accession_number', 'filing_date', 'reportDate', 'acceptanceDateTime', 'act', 'form', 'fileNumber', 'items', 'size', 'isXBRL', 'isInlineXBRL', 'primaryDocument', 'primaryDocDescription']\n",
      "  Found 10 10-K filings from 2015 onwards\n"
     ]
    },
    {
     "name": "stderr",
     "output_type": "stream",
     "text": [
      " 41%|████      | 207/503 [1:58:51<2:36:59, 31.82s/it]"
     ]
    },
    {
     "name": "stdout",
     "output_type": "stream",
     "text": [
      "Processing IT (GARTNER INC)\n",
      "  Available columns: ['accession_number', 'filing_date', 'reportDate', 'acceptanceDateTime', 'act', 'form', 'fileNumber', 'items', 'size', 'isXBRL', 'isInlineXBRL', 'primaryDocument', 'primaryDocDescription']\n",
      "  Found 10 10-K filings from 2015 onwards\n"
     ]
    },
    {
     "name": "stderr",
     "output_type": "stream",
     "text": [
      " 41%|████▏     | 208/503 [1:59:15<2:24:55, 29.48s/it]"
     ]
    },
    {
     "name": "stdout",
     "output_type": "stream",
     "text": [
      "Processing GE (GENERAL ELECTRIC CO)\n",
      "  Available columns: ['accession_number', 'filing_date', 'reportDate', 'acceptanceDateTime', 'act', 'form', 'fileNumber', 'items', 'size', 'isXBRL', 'isInlineXBRL', 'primaryDocument', 'primaryDocDescription']\n",
      "  Found 11 10-K filings from 2015 onwards\n",
      "    WARNING: No MD&A section found for GE (CIK: 40545) for year 2024\n",
      "    WARNING: No MD&A section found for GE (CIK: 40545) for year 2023\n",
      "    WARNING: No MD&A section found for GE (CIK: 40545) for year 2022\n",
      "    WARNING: No MD&A section found for GE (CIK: 40545) for year 2021\n",
      "    WARNING: No MD&A section found for GE (CIK: 40545) for year 2020\n",
      "    WARNING: No MD&A section found for GE (CIK: 40545) for year 2019\n",
      "    WARNING: No MD&A section found for GE (CIK: 40545) for year 2018\n",
      "    WARNING: No MD&A section found for GE (CIK: 40545) for year 2017\n",
      "    WARNING: No MD&A section found for GE (CIK: 40545) for year 2016\n",
      "    WARNING: No MD&A section found for GE (CIK: 40545) for year 2015\n",
      "    WARNING: No MD&A section found for GE (CIK: 40545) for year 2015\n"
     ]
    },
    {
     "name": "stderr",
     "output_type": "stream",
     "text": [
      " 42%|████▏     | 209/503 [2:00:08<2:58:16, 36.38s/it]"
     ]
    },
    {
     "name": "stdout",
     "output_type": "stream",
     "text": [
      "Processing GEHC (GE HealthCare Technologies Inc.)\n",
      "  Available columns: ['accession_number', 'filing_date', 'reportDate', 'acceptanceDateTime', 'act', 'form', 'fileNumber', 'items', 'size', 'isXBRL', 'isInlineXBRL', 'primaryDocument', 'primaryDocDescription']\n",
      "  Found 3 10-K filings from 2015 onwards\n"
     ]
    },
    {
     "name": "stderr",
     "output_type": "stream",
     "text": [
      " 42%|████▏     | 210/503 [2:00:15<2:14:58, 27.64s/it]"
     ]
    },
    {
     "name": "stdout",
     "output_type": "stream",
     "text": [
      "Processing GEV (GE Vernova Inc.)\n",
      "  Available columns: ['accession_number', 'filing_date', 'reportDate', 'acceptanceDateTime', 'act', 'form', 'fileNumber', 'items', 'size', 'isXBRL', 'isInlineXBRL', 'primaryDocument', 'primaryDocDescription']\n",
      "  Found 1 10-K filings from 2015 onwards\n"
     ]
    },
    {
     "name": "stderr",
     "output_type": "stream",
     "text": [
      " 42%|████▏     | 211/503 [2:00:19<1:39:30, 20.45s/it]"
     ]
    },
    {
     "name": "stdout",
     "output_type": "stream",
     "text": [
      "Processing GEN (Gen Digital Inc.)\n",
      "  Available columns: ['accession_number', 'filing_date', 'reportDate', 'acceptanceDateTime', 'act', 'form', 'fileNumber', 'items', 'size', 'isXBRL', 'isInlineXBRL', 'primaryDocument', 'primaryDocDescription']\n",
      "  Found 10 10-K filings from 2015 onwards\n"
     ]
    },
    {
     "name": "stderr",
     "output_type": "stream",
     "text": [
      " 42%|████▏     | 212/503 [2:00:46<1:49:00, 22.48s/it]"
     ]
    },
    {
     "name": "stdout",
     "output_type": "stream",
     "text": [
      "Processing GNRC (GENERAC HOLDINGS INC.)\n",
      "  Available columns: ['accession_number', 'filing_date', 'reportDate', 'acceptanceDateTime', 'act', 'form', 'fileNumber', 'items', 'size', 'isXBRL', 'isInlineXBRL', 'primaryDocument', 'primaryDocDescription']\n",
      "  Found 10 10-K filings from 2015 onwards\n"
     ]
    },
    {
     "name": "stderr",
     "output_type": "stream",
     "text": [
      " 42%|████▏     | 213/503 [2:01:14<1:56:51, 24.18s/it]"
     ]
    },
    {
     "name": "stdout",
     "output_type": "stream",
     "text": [
      "Processing GD (GENERAL DYNAMICS CORP)\n",
      "  Available columns: ['accession_number', 'filing_date', 'reportDate', 'acceptanceDateTime', 'act', 'form', 'fileNumber', 'items', 'size', 'isXBRL', 'isInlineXBRL', 'primaryDocument', 'primaryDocDescription']\n",
      "  Found 10 10-K filings from 2015 onwards\n"
     ]
    },
    {
     "name": "stderr",
     "output_type": "stream",
     "text": [
      " 43%|████▎     | 214/503 [2:01:43<2:02:34, 25.45s/it]"
     ]
    },
    {
     "name": "stdout",
     "output_type": "stream",
     "text": [
      "Processing GIS (GENERAL MILLS INC)\n",
      "  Available columns: ['accession_number', 'filing_date', 'reportDate', 'acceptanceDateTime', 'act', 'form', 'fileNumber', 'items', 'size', 'isXBRL', 'isInlineXBRL', 'primaryDocument', 'primaryDocDescription']\n",
      "  Found 10 10-K filings from 2015 onwards\n"
     ]
    },
    {
     "name": "stderr",
     "output_type": "stream",
     "text": [
      " 43%|████▎     | 215/503 [2:02:22<2:22:09, 29.62s/it]"
     ]
    },
    {
     "name": "stdout",
     "output_type": "stream",
     "text": [
      "Processing GM (General Motors Co)\n",
      "  Available columns: ['accession_number', 'filing_date', 'reportDate', 'acceptanceDateTime', 'act', 'form', 'fileNumber', 'items', 'size', 'isXBRL', 'isInlineXBRL', 'primaryDocument', 'primaryDocDescription']\n",
      "  Found 10 10-K filings from 2015 onwards\n"
     ]
    },
    {
     "name": "stderr",
     "output_type": "stream",
     "text": [
      " 43%|████▎     | 216/503 [2:02:52<2:22:38, 29.82s/it]"
     ]
    },
    {
     "name": "stdout",
     "output_type": "stream",
     "text": [
      "Processing GPC (GENUINE PARTS CO)\n",
      "  Available columns: ['accession_number', 'filing_date', 'reportDate', 'acceptanceDateTime', 'act', 'form', 'fileNumber', 'items', 'size', 'isXBRL', 'isInlineXBRL', 'primaryDocument', 'primaryDocDescription']\n",
      "  Found 10 10-K filings from 2015 onwards\n"
     ]
    },
    {
     "name": "stderr",
     "output_type": "stream",
     "text": [
      " 43%|████▎     | 217/503 [2:03:17<2:14:40, 28.25s/it]"
     ]
    },
    {
     "name": "stdout",
     "output_type": "stream",
     "text": [
      "Processing GILD (GILEAD SCIENCES, INC.)\n",
      "  Available columns: ['accession_number', 'filing_date', 'reportDate', 'acceptanceDateTime', 'act', 'form', 'fileNumber', 'items', 'size', 'isXBRL', 'isInlineXBRL', 'primaryDocument', 'primaryDocDescription']\n",
      "  Found 10 10-K filings from 2015 onwards\n"
     ]
    },
    {
     "name": "stderr",
     "output_type": "stream",
     "text": [
      " 43%|████▎     | 218/503 [2:03:44<2:12:27, 27.89s/it]"
     ]
    },
    {
     "name": "stdout",
     "output_type": "stream",
     "text": [
      "Processing GPN (GLOBAL PAYMENTS INC)\n",
      "  Available columns: ['accession_number', 'filing_date', 'reportDate', 'acceptanceDateTime', 'act', 'form', 'fileNumber', 'items', 'size', 'isXBRL', 'isInlineXBRL', 'primaryDocument', 'primaryDocDescription']\n",
      "  Found 10 10-K filings from 2015 onwards\n"
     ]
    },
    {
     "name": "stderr",
     "output_type": "stream",
     "text": [
      " 44%|████▎     | 219/503 [2:04:08<2:06:36, 26.75s/it]"
     ]
    },
    {
     "name": "stdout",
     "output_type": "stream",
     "text": [
      "Processing GL (GLOBE LIFE INC.)\n",
      "  Available columns: ['accession_number', 'filing_date', 'reportDate', 'acceptanceDateTime', 'act', 'form', 'fileNumber', 'items', 'size', 'isXBRL', 'isInlineXBRL', 'primaryDocument', 'primaryDocDescription']\n",
      "  Found 10 10-K filings from 2015 onwards\n"
     ]
    },
    {
     "name": "stderr",
     "output_type": "stream",
     "text": [
      " 44%|████▎     | 220/503 [2:04:53<2:31:54, 32.21s/it]"
     ]
    },
    {
     "name": "stdout",
     "output_type": "stream",
     "text": [
      "Processing GDDY (GoDaddy Inc.)\n",
      "  Available columns: ['accession_number', 'filing_date', 'reportDate', 'acceptanceDateTime', 'act', 'form', 'fileNumber', 'items', 'size', 'isXBRL', 'isInlineXBRL', 'primaryDocument', 'primaryDocDescription']\n",
      "  Found 10 10-K filings from 2015 onwards\n"
     ]
    },
    {
     "name": "stderr",
     "output_type": "stream",
     "text": [
      " 44%|████▍     | 221/503 [2:05:17<2:20:08, 29.82s/it]"
     ]
    },
    {
     "name": "stdout",
     "output_type": "stream",
     "text": [
      "Processing GS (GOLDMAN SACHS GROUP INC)\n",
      "  Available columns: ['accession_number', 'filing_date', 'reportDate', 'acceptanceDateTime', 'act', 'form', 'fileNumber', 'items', 'size', 'isXBRL', 'isInlineXBRL', 'primaryDocument', 'primaryDocDescription']\n",
      "  Found 10 10-K filings from 2015 onwards\n"
     ]
    },
    {
     "name": "stderr",
     "output_type": "stream",
     "text": [
      " 44%|████▍     | 222/503 [2:06:28<3:16:52, 42.04s/it]"
     ]
    },
    {
     "name": "stdout",
     "output_type": "stream",
     "text": [
      "Processing HAL (HALLIBURTON CO)\n",
      "  Available columns: ['accession_number', 'filing_date', 'reportDate', 'acceptanceDateTime', 'act', 'form', 'fileNumber', 'items', 'size', 'isXBRL', 'isInlineXBRL', 'primaryDocument', 'primaryDocDescription']\n",
      "  Found 10 10-K filings from 2015 onwards\n"
     ]
    },
    {
     "name": "stderr",
     "output_type": "stream",
     "text": [
      " 44%|████▍     | 223/503 [2:06:48<2:46:01, 35.58s/it]"
     ]
    },
    {
     "name": "stdout",
     "output_type": "stream",
     "text": [
      "Processing HIG (HARTFORD INSURANCE GROUP, INC.)\n",
      "  Available columns: ['accession_number', 'filing_date', 'reportDate', 'acceptanceDateTime', 'act', 'form', 'fileNumber', 'items', 'size', 'isXBRL', 'isInlineXBRL', 'primaryDocument', 'primaryDocDescription']\n",
      "  Found 10 10-K filings from 2015 onwards\n"
     ]
    },
    {
     "name": "stderr",
     "output_type": "stream",
     "text": [
      " 45%|████▍     | 224/503 [2:07:48<3:19:02, 42.81s/it]"
     ]
    },
    {
     "name": "stdout",
     "output_type": "stream",
     "text": [
      "Processing HAS (HASBRO, INC.)\n",
      "  Available columns: ['accession_number', 'filing_date', 'reportDate', 'acceptanceDateTime', 'act', 'form', 'fileNumber', 'items', 'size', 'isXBRL', 'isInlineXBRL', 'primaryDocument', 'primaryDocDescription']\n",
      "  Found 10 10-K filings from 2015 onwards\n"
     ]
    },
    {
     "name": "stderr",
     "output_type": "stream",
     "text": [
      " 45%|████▍     | 225/503 [2:08:20<3:03:47, 39.67s/it]"
     ]
    },
    {
     "name": "stdout",
     "output_type": "stream",
     "text": [
      "Processing HCA (HCA Healthcare, Inc.)\n",
      "  Available columns: ['accession_number', 'filing_date', 'reportDate', 'acceptanceDateTime', 'act', 'form', 'fileNumber', 'items', 'size', 'isXBRL', 'isInlineXBRL', 'primaryDocument', 'primaryDocDescription']\n",
      "  Found 10 10-K filings from 2015 onwards\n"
     ]
    },
    {
     "name": "stderr",
     "output_type": "stream",
     "text": [
      " 45%|████▍     | 226/503 [2:08:55<2:56:36, 38.25s/it]"
     ]
    },
    {
     "name": "stdout",
     "output_type": "stream",
     "text": [
      "Processing DOC (HEALTHPEAK PROPERTIES, INC.)\n",
      "  Available columns: ['accession_number', 'filing_date', 'reportDate', 'acceptanceDateTime', 'act', 'form', 'fileNumber', 'items', 'size', 'isXBRL', 'isInlineXBRL', 'primaryDocument', 'primaryDocDescription']\n",
      "  Found 10 10-K filings from 2015 onwards\n",
      "    Error processing filing for DOC: 'NoneType' object is not subscriptable\n",
      "    Error processing filing for DOC: 'NoneType' object is not subscriptable\n"
     ]
    },
    {
     "name": "stderr",
     "output_type": "stream",
     "text": [
      " 45%|████▌     | 227/503 [2:09:38<3:02:50, 39.75s/it]"
     ]
    },
    {
     "name": "stdout",
     "output_type": "stream",
     "text": [
      "Processing HSIC (HENRY SCHEIN INC)\n",
      "  Available columns: ['accession_number', 'filing_date', 'reportDate', 'acceptanceDateTime', 'act', 'form', 'fileNumber', 'items', 'size', 'isXBRL', 'isInlineXBRL', 'primaryDocument', 'primaryDocDescription']\n",
      "  Found 10 10-K filings from 2015 onwards\n"
     ]
    },
    {
     "name": "stderr",
     "output_type": "stream",
     "text": [
      " 45%|████▌     | 228/503 [2:10:14<2:57:09, 38.65s/it]"
     ]
    },
    {
     "name": "stdout",
     "output_type": "stream",
     "text": [
      "Processing HSY (HERSHEY CO)\n",
      "  Available columns: ['accession_number', 'filing_date', 'reportDate', 'acceptanceDateTime', 'act', 'form', 'fileNumber', 'items', 'size', 'isXBRL', 'isInlineXBRL', 'primaryDocument', 'primaryDocDescription']\n",
      "  Found 10 10-K filings from 2015 onwards\n"
     ]
    },
    {
     "name": "stderr",
     "output_type": "stream",
     "text": [
      " 46%|████▌     | 229/503 [2:10:42<2:41:54, 35.45s/it]"
     ]
    },
    {
     "name": "stdout",
     "output_type": "stream",
     "text": [
      "Processing HES (HESS CORP)\n",
      "  Available columns: ['accession_number', 'filing_date', 'reportDate', 'acceptanceDateTime', 'act', 'form', 'fileNumber', 'items', 'size', 'isXBRL', 'isInlineXBRL', 'primaryDocument', 'primaryDocDescription']\n",
      "  Found 10 10-K filings from 2015 onwards\n"
     ]
    },
    {
     "name": "stderr",
     "output_type": "stream",
     "text": [
      " 46%|████▌     | 230/503 [2:11:21<2:46:14, 36.54s/it]"
     ]
    },
    {
     "name": "stdout",
     "output_type": "stream",
     "text": [
      "Processing HPE (Hewlett Packard Enterprise Co)\n",
      "  Available columns: ['accession_number', 'filing_date', 'reportDate', 'acceptanceDateTime', 'act', 'form', 'fileNumber', 'items', 'size', 'isXBRL', 'isInlineXBRL', 'primaryDocument', 'primaryDocDescription']\n",
      "  Found 10 10-K filings from 2015 onwards\n",
      "    WARNING: No MD&A section found for HPE (CIK: 1645590) for year 2015\n"
     ]
    },
    {
     "name": "stderr",
     "output_type": "stream",
     "text": [
      " 46%|████▌     | 231/503 [2:11:57<2:44:07, 36.21s/it]"
     ]
    },
    {
     "name": "stdout",
     "output_type": "stream",
     "text": [
      "Processing HLT (Hilton Worldwide Holdings Inc.)\n",
      "  Available columns: ['accession_number', 'filing_date', 'reportDate', 'acceptanceDateTime', 'act', 'form', 'fileNumber', 'items', 'size', 'isXBRL', 'isInlineXBRL', 'primaryDocument', 'primaryDocDescription']\n",
      "  Found 10 10-K filings from 2015 onwards\n"
     ]
    },
    {
     "name": "stderr",
     "output_type": "stream",
     "text": [
      " 46%|████▌     | 232/503 [2:12:28<2:37:17, 34.82s/it]"
     ]
    },
    {
     "name": "stdout",
     "output_type": "stream",
     "text": [
      "Processing HOLX (HOLOGIC INC)\n",
      "  Available columns: ['accession_number', 'filing_date', 'reportDate', 'acceptanceDateTime', 'act', 'form', 'fileNumber', 'items', 'size', 'isXBRL', 'isInlineXBRL', 'primaryDocument', 'primaryDocDescription']\n",
      "  Found 10 10-K filings from 2015 onwards\n"
     ]
    },
    {
     "name": "stderr",
     "output_type": "stream",
     "text": [
      " 46%|████▋     | 233/503 [2:12:57<2:28:31, 33.00s/it]"
     ]
    },
    {
     "name": "stdout",
     "output_type": "stream",
     "text": [
      "Processing HD (HOME DEPOT, INC.)\n",
      "  Available columns: ['accession_number', 'filing_date', 'reportDate', 'acceptanceDateTime', 'act', 'form', 'fileNumber', 'items', 'size', 'isXBRL', 'isInlineXBRL', 'primaryDocument', 'primaryDocDescription']\n",
      "  Found 10 10-K filings from 2015 onwards\n"
     ]
    },
    {
     "name": "stderr",
     "output_type": "stream",
     "text": [
      " 47%|████▋     | 234/503 [2:13:18<2:11:56, 29.43s/it]"
     ]
    },
    {
     "name": "stdout",
     "output_type": "stream",
     "text": [
      "Processing HON (HONEYWELL INTERNATIONAL INC)\n",
      "  Available columns: ['accession_number', 'filing_date', 'reportDate', 'acceptanceDateTime', 'act', 'form', 'fileNumber', 'items', 'size', 'isXBRL', 'isInlineXBRL', 'primaryDocument', 'primaryDocDescription']\n",
      "  Found 10 10-K filings from 2015 onwards\n"
     ]
    },
    {
     "name": "stderr",
     "output_type": "stream",
     "text": [
      "/home/nawa/.local/lib/python3.11/site-packages/edgar/files/htmltools.py:271: FutureWarning: Downcasting object dtype arrays on .fillna, .ffill, .bfill is deprecated and will change in a future version. Call result.infer_objects(copy=False) instead. To opt-in to the future behavior, set `pd.set_option('future.no_silent_downcasting', True)`\n",
      "  chunk_df.Item = chunk_df.Item.ffill().infer_objects(copy=False)\n"
     ]
    },
    {
     "name": "stdout",
     "output_type": "stream",
     "text": [
      "    WARNING: No MD&A section found for HON (CIK: 773840) for year 2024\n"
     ]
    },
    {
     "name": "stderr",
     "output_type": "stream",
     "text": [
      "/home/nawa/.local/lib/python3.11/site-packages/edgar/files/htmltools.py:271: FutureWarning: Downcasting object dtype arrays on .fillna, .ffill, .bfill is deprecated and will change in a future version. Call result.infer_objects(copy=False) instead. To opt-in to the future behavior, set `pd.set_option('future.no_silent_downcasting', True)`\n",
      "  chunk_df.Item = chunk_df.Item.ffill().infer_objects(copy=False)\n"
     ]
    },
    {
     "name": "stdout",
     "output_type": "stream",
     "text": [
      "    WARNING: No MD&A section found for HON (CIK: 773840) for year 2023\n"
     ]
    },
    {
     "name": "stderr",
     "output_type": "stream",
     "text": [
      "/home/nawa/.local/lib/python3.11/site-packages/edgar/files/htmltools.py:271: FutureWarning: Downcasting object dtype arrays on .fillna, .ffill, .bfill is deprecated and will change in a future version. Call result.infer_objects(copy=False) instead. To opt-in to the future behavior, set `pd.set_option('future.no_silent_downcasting', True)`\n",
      "  chunk_df.Item = chunk_df.Item.ffill().infer_objects(copy=False)\n"
     ]
    },
    {
     "name": "stdout",
     "output_type": "stream",
     "text": [
      "    WARNING: No MD&A section found for HON (CIK: 773840) for year 2022\n"
     ]
    },
    {
     "name": "stderr",
     "output_type": "stream",
     "text": [
      "/home/nawa/.local/lib/python3.11/site-packages/edgar/files/htmltools.py:271: FutureWarning: Downcasting object dtype arrays on .fillna, .ffill, .bfill is deprecated and will change in a future version. Call result.infer_objects(copy=False) instead. To opt-in to the future behavior, set `pd.set_option('future.no_silent_downcasting', True)`\n",
      "  chunk_df.Item = chunk_df.Item.ffill().infer_objects(copy=False)\n"
     ]
    },
    {
     "name": "stdout",
     "output_type": "stream",
     "text": [
      "    WARNING: No MD&A section found for HON (CIK: 773840) for year 2021\n",
      "    WARNING: No MD&A section found for HON (CIK: 773840) for year 2020\n",
      "    Error processing filing for HON: 'NoneType' object is not subscriptable\n"
     ]
    },
    {
     "name": "stderr",
     "output_type": "stream",
     "text": [
      " 47%|████▋     | 235/503 [2:13:51<2:16:07, 30.48s/it]"
     ]
    },
    {
     "name": "stdout",
     "output_type": "stream",
     "text": [
      "Processing HRL (HORMEL FOODS CORP /DE/)\n",
      "  Available columns: ['accession_number', 'filing_date', 'reportDate', 'acceptanceDateTime', 'act', 'form', 'fileNumber', 'items', 'size', 'isXBRL', 'isInlineXBRL', 'primaryDocument', 'primaryDocDescription']\n",
      "  Found 10 10-K filings from 2015 onwards\n"
     ]
    },
    {
     "name": "stderr",
     "output_type": "stream",
     "text": [
      " 47%|████▋     | 236/503 [2:14:16<2:08:11, 28.81s/it]"
     ]
    },
    {
     "name": "stdout",
     "output_type": "stream",
     "text": [
      "Processing HST (HOST HOTELS & RESORTS, INC.)\n",
      "  Available columns: ['accession_number', 'filing_date', 'reportDate', 'acceptanceDateTime', 'act', 'form', 'fileNumber', 'items', 'size', 'isXBRL', 'isInlineXBRL', 'primaryDocument', 'primaryDocDescription']\n",
      "  Found 10 10-K filings from 2015 onwards\n"
     ]
    },
    {
     "name": "stderr",
     "output_type": "stream",
     "text": [
      " 47%|████▋     | 237/503 [2:15:06<2:35:39, 35.11s/it]"
     ]
    },
    {
     "name": "stdout",
     "output_type": "stream",
     "text": [
      "Processing HWM (Howmet Aerospace Inc.)\n",
      "  Available columns: ['accession_number', 'filing_date', 'reportDate', 'acceptanceDateTime', 'act', 'form', 'fileNumber', 'items', 'size', 'isXBRL', 'isInlineXBRL', 'primaryDocument', 'primaryDocDescription']\n",
      "  Found 10 10-K filings from 2015 onwards\n"
     ]
    },
    {
     "name": "stderr",
     "output_type": "stream",
     "text": [
      " 47%|████▋     | 238/503 [2:15:37<2:29:29, 33.85s/it]"
     ]
    },
    {
     "name": "stdout",
     "output_type": "stream",
     "text": [
      "Processing HPQ (HP INC)\n",
      "  Available columns: ['accession_number', 'filing_date', 'reportDate', 'acceptanceDateTime', 'act', 'form', 'fileNumber', 'items', 'size', 'isXBRL', 'isInlineXBRL', 'primaryDocument', 'primaryDocDescription']\n",
      "  Found 10 10-K filings from 2015 onwards\n",
      "    WARNING: No MD&A section found for HPQ (CIK: 47217) for year 2015\n"
     ]
    },
    {
     "name": "stderr",
     "output_type": "stream",
     "text": [
      " 48%|████▊     | 239/503 [2:16:09<2:26:55, 33.39s/it]"
     ]
    },
    {
     "name": "stdout",
     "output_type": "stream",
     "text": [
      "Processing HUBB (HUBBELL INC)\n",
      "  Available columns: ['accession_number', 'filing_date', 'reportDate', 'acceptanceDateTime', 'act', 'form', 'fileNumber', 'items', 'size', 'isXBRL', 'isInlineXBRL', 'primaryDocument', 'primaryDocDescription']\n",
      "  Found 10 10-K filings from 2015 onwards\n"
     ]
    },
    {
     "name": "stderr",
     "output_type": "stream",
     "text": [
      " 48%|████▊     | 240/503 [2:16:36<2:17:22, 31.34s/it]"
     ]
    },
    {
     "name": "stdout",
     "output_type": "stream",
     "text": [
      "Processing HUM (HUMANA INC)\n",
      "  Available columns: ['accession_number', 'filing_date', 'reportDate', 'acceptanceDateTime', 'act', 'form', 'fileNumber', 'items', 'size', 'isXBRL', 'isInlineXBRL', 'primaryDocument', 'primaryDocDescription']\n",
      "  Found 10 10-K filings from 2015 onwards\n"
     ]
    },
    {
     "name": "stderr",
     "output_type": "stream",
     "text": [
      " 48%|████▊     | 241/503 [2:17:08<2:17:57, 31.59s/it]"
     ]
    },
    {
     "name": "stdout",
     "output_type": "stream",
     "text": [
      "Processing HBAN (HUNTINGTON BANCSHARES INC /MD/)\n",
      "  Available columns: ['accession_number', 'filing_date', 'reportDate', 'acceptanceDateTime', 'act', 'form', 'fileNumber', 'items', 'size', 'isXBRL', 'isInlineXBRL', 'primaryDocument', 'primaryDocDescription']\n",
      "  Found 10 10-K filings from 2015 onwards\n"
     ]
    },
    {
     "name": "stderr",
     "output_type": "stream",
     "text": [
      " 48%|████▊     | 242/503 [2:17:56<2:38:28, 36.43s/it]"
     ]
    },
    {
     "name": "stdout",
     "output_type": "stream",
     "text": [
      "Processing HII (HUNTINGTON INGALLS INDUSTRIES, INC.)\n",
      "  Available columns: ['accession_number', 'filing_date', 'reportDate', 'acceptanceDateTime', 'act', 'form', 'fileNumber', 'items', 'size', 'isXBRL', 'isInlineXBRL', 'primaryDocument', 'primaryDocDescription']\n",
      "  Found 10 10-K filings from 2015 onwards\n"
     ]
    },
    {
     "name": "stderr",
     "output_type": "stream",
     "text": [
      " 48%|████▊     | 243/503 [2:18:25<2:28:57, 34.38s/it]"
     ]
    },
    {
     "name": "stdout",
     "output_type": "stream",
     "text": [
      "Processing IBM (INTERNATIONAL BUSINESS MACHINES CORP)\n",
      "  Available columns: ['accession_number', 'filing_date', 'reportDate', 'acceptanceDateTime', 'act', 'form', 'fileNumber', 'items', 'size', 'isXBRL', 'isInlineXBRL', 'primaryDocument', 'primaryDocDescription']\n",
      "  Found 10 10-K filings from 2015 onwards\n"
     ]
    },
    {
     "name": "stderr",
     "output_type": "stream",
     "text": [
      " 49%|████▊     | 244/503 [2:18:48<2:12:57, 30.80s/it]"
     ]
    },
    {
     "name": "stdout",
     "output_type": "stream",
     "text": [
      "Processing IEX (IDEX CORP /DE/)\n",
      "  Available columns: ['accession_number', 'filing_date', 'reportDate', 'acceptanceDateTime', 'act', 'form', 'fileNumber', 'items', 'size', 'isXBRL', 'isInlineXBRL', 'primaryDocument', 'primaryDocDescription']\n",
      "  Found 10 10-K filings from 2015 onwards\n"
     ]
    },
    {
     "name": "stderr",
     "output_type": "stream",
     "text": [
      " 49%|████▊     | 245/503 [2:19:15<2:07:35, 29.67s/it]"
     ]
    },
    {
     "name": "stdout",
     "output_type": "stream",
     "text": [
      "Processing IDXX (IDEXX LABORATORIES INC /DE)\n",
      "  Available columns: ['accession_number', 'filing_date', 'reportDate', 'acceptanceDateTime', 'act', 'form', 'fileNumber', 'items', 'size', 'isXBRL', 'isInlineXBRL', 'primaryDocument', 'primaryDocDescription']\n",
      "  Found 10 10-K filings from 2015 onwards\n",
      "    Error processing filing for IDXX: 'NoneType' object is not subscriptable\n",
      "    Error processing filing for IDXX: 'NoneType' object is not subscriptable\n",
      "    Error processing filing for IDXX: 'NoneType' object is not subscriptable\n"
     ]
    },
    {
     "name": "stderr",
     "output_type": "stream",
     "text": [
      " 49%|████▉     | 246/503 [2:19:35<1:55:36, 26.99s/it]"
     ]
    },
    {
     "name": "stdout",
     "output_type": "stream",
     "text": [
      "Processing ITW (ILLINOIS TOOL WORKS INC)\n",
      "  Available columns: ['accession_number', 'filing_date', 'reportDate', 'acceptanceDateTime', 'act', 'form', 'fileNumber', 'items', 'size', 'isXBRL', 'isInlineXBRL', 'primaryDocument', 'primaryDocDescription']\n",
      "  Found 10 10-K filings from 2015 onwards\n"
     ]
    },
    {
     "name": "stderr",
     "output_type": "stream",
     "text": [
      " 49%|████▉     | 247/503 [2:20:01<1:53:37, 26.63s/it]"
     ]
    },
    {
     "name": "stdout",
     "output_type": "stream",
     "text": [
      "Processing INCY (INCYTE CORP)\n",
      "  Available columns: ['accession_number', 'filing_date', 'reportDate', 'acceptanceDateTime', 'act', 'form', 'fileNumber', 'items', 'size', 'isXBRL', 'isInlineXBRL', 'primaryDocument', 'primaryDocDescription']\n",
      "  Found 10 10-K filings from 2015 onwards\n",
      "    Error processing filing for INCY: 'NoneType' object is not subscriptable\n",
      "    Error processing filing for INCY: 'NoneType' object is not subscriptable\n",
      "    Error processing filing for INCY: 'NoneType' object is not subscriptable\n",
      "    Error processing filing for INCY: 'NoneType' object is not subscriptable\n"
     ]
    },
    {
     "name": "stderr",
     "output_type": "stream",
     "text": [
      " 49%|████▉     | 248/503 [2:20:15<1:36:37, 22.74s/it]"
     ]
    },
    {
     "name": "stdout",
     "output_type": "stream",
     "text": [
      "Processing IR (Ingersoll Rand Inc.)\n",
      "  Available columns: ['accession_number', 'filing_date', 'reportDate', 'acceptanceDateTime', 'act', 'form', 'fileNumber', 'items', 'size', 'isXBRL', 'isInlineXBRL', 'primaryDocument', 'primaryDocDescription']\n",
      "  Found 8 10-K filings from 2015 onwards\n",
      "    Error processing filing for IR: 'NoneType' object is not subscriptable\n"
     ]
    },
    {
     "name": "stderr",
     "output_type": "stream",
     "text": [
      " 50%|████▉     | 249/503 [2:20:38<1:36:16, 22.74s/it]"
     ]
    },
    {
     "name": "stdout",
     "output_type": "stream",
     "text": [
      "Processing PODD (INSULET CORP)\n",
      "  Available columns: ['accession_number', 'filing_date', 'reportDate', 'acceptanceDateTime', 'act', 'form', 'fileNumber', 'items', 'size', 'isXBRL', 'isInlineXBRL', 'primaryDocument', 'primaryDocDescription']\n",
      "  Found 10 10-K filings from 2015 onwards\n"
     ]
    },
    {
     "name": "stderr",
     "output_type": "stream",
     "text": [
      " 50%|████▉     | 250/503 [2:21:00<1:35:07, 22.56s/it]"
     ]
    },
    {
     "name": "stdout",
     "output_type": "stream",
     "text": [
      "Processing INTC (INTEL CORP)\n",
      "  Available columns: ['accession_number', 'filing_date', 'reportDate', 'acceptanceDateTime', 'act', 'form', 'fileNumber', 'items', 'size', 'isXBRL', 'isInlineXBRL', 'primaryDocument', 'primaryDocDescription']\n",
      "  Found 10 10-K filings from 2015 onwards\n",
      "    WARNING: No MD&A section found for INTC (CIK: 50863) for year 2024\n",
      "    WARNING: No MD&A section found for INTC (CIK: 50863) for year 2023\n",
      "    WARNING: No MD&A section found for INTC (CIK: 50863) for year 2022\n",
      "    WARNING: No MD&A section found for INTC (CIK: 50863) for year 2021\n",
      "    WARNING: No MD&A section found for INTC (CIK: 50863) for year 2020\n",
      "    WARNING: No MD&A section found for INTC (CIK: 50863) for year 2019\n",
      "    WARNING: No MD&A section found for INTC (CIK: 50863) for year 2018\n",
      "    WARNING: No MD&A section found for INTC (CIK: 50863) for year 2017\n"
     ]
    },
    {
     "name": "stderr",
     "output_type": "stream",
     "text": [
      " 50%|████▉     | 251/503 [2:21:34<1:49:38, 26.11s/it]"
     ]
    },
    {
     "name": "stdout",
     "output_type": "stream",
     "text": [
      "Processing ICE (Intercontinental Exchange, Inc.)\n",
      "  Available columns: ['accession_number', 'filing_date', 'reportDate', 'acceptanceDateTime', 'act', 'form', 'fileNumber', 'items', 'size', 'isXBRL', 'isInlineXBRL', 'primaryDocument', 'primaryDocDescription']\n",
      "  Found 10 10-K filings from 2015 onwards\n"
     ]
    },
    {
     "name": "stderr",
     "output_type": "stream",
     "text": [
      " 50%|█████     | 252/503 [2:22:11<2:02:26, 29.27s/it]"
     ]
    },
    {
     "name": "stdout",
     "output_type": "stream",
     "text": [
      "Processing IFF (INTERNATIONAL FLAVORS & FRAGRANCES INC)\n",
      "  Available columns: ['accession_number', 'filing_date', 'reportDate', 'acceptanceDateTime', 'act', 'form', 'fileNumber', 'items', 'size', 'isXBRL', 'isInlineXBRL', 'primaryDocument', 'primaryDocDescription']\n",
      "  Found 10 10-K filings from 2015 onwards\n"
     ]
    },
    {
     "name": "stderr",
     "output_type": "stream",
     "text": [
      " 50%|█████     | 253/503 [2:22:41<2:02:41, 29.45s/it]"
     ]
    },
    {
     "name": "stdout",
     "output_type": "stream",
     "text": [
      "Processing IP (INTERNATIONAL PAPER CO /NEW/)\n",
      "  Available columns: ['accession_number', 'filing_date', 'reportDate', 'acceptanceDateTime', 'act', 'form', 'fileNumber', 'items', 'size', 'isXBRL', 'isInlineXBRL', 'primaryDocument', 'primaryDocDescription']\n",
      "  Found 10 10-K filings from 2015 onwards\n"
     ]
    },
    {
     "name": "stderr",
     "output_type": "stream",
     "text": [
      " 50%|█████     | 254/503 [2:23:14<2:07:32, 30.73s/it]"
     ]
    },
    {
     "name": "stdout",
     "output_type": "stream",
     "text": [
      "Processing IPG (INTERPUBLIC GROUP OF COMPANIES, INC.)\n",
      "  Available columns: ['accession_number', 'filing_date', 'reportDate', 'acceptanceDateTime', 'act', 'form', 'fileNumber', 'items', 'size', 'isXBRL', 'isInlineXBRL', 'primaryDocument', 'primaryDocDescription']\n",
      "  Found 10 10-K filings from 2015 onwards\n"
     ]
    },
    {
     "name": "stderr",
     "output_type": "stream",
     "text": [
      " 51%|█████     | 255/503 [2:23:43<2:03:48, 29.95s/it]"
     ]
    },
    {
     "name": "stdout",
     "output_type": "stream",
     "text": [
      "Processing INTU (INTUIT INC.)\n",
      "  Available columns: ['accession_number', 'filing_date', 'reportDate', 'acceptanceDateTime', 'act', 'form', 'fileNumber', 'items', 'size', 'isXBRL', 'isInlineXBRL', 'primaryDocument', 'primaryDocDescription']\n",
      "  Found 10 10-K filings from 2015 onwards\n"
     ]
    },
    {
     "name": "stderr",
     "output_type": "stream",
     "text": [
      " 51%|█████     | 256/503 [2:24:11<2:01:53, 29.61s/it]"
     ]
    },
    {
     "name": "stdout",
     "output_type": "stream",
     "text": [
      "Processing ISRG (INTUITIVE SURGICAL INC)\n",
      "  Available columns: ['accession_number', 'filing_date', 'reportDate', 'acceptanceDateTime', 'act', 'form', 'fileNumber', 'items', 'size', 'isXBRL', 'isInlineXBRL', 'primaryDocument', 'primaryDocDescription']\n",
      "  Found 10 10-K filings from 2015 onwards\n"
     ]
    },
    {
     "name": "stderr",
     "output_type": "stream",
     "text": [
      " 51%|█████     | 257/503 [2:24:35<1:54:00, 27.81s/it]"
     ]
    },
    {
     "name": "stdout",
     "output_type": "stream",
     "text": [
      "Processing IVZ (Invesco Ltd.)\n",
      "  Available columns: ['accession_number', 'filing_date', 'reportDate', 'acceptanceDateTime', 'act', 'form', 'fileNumber', 'items', 'size', 'isXBRL', 'isInlineXBRL', 'primaryDocument', 'primaryDocDescription']\n",
      "  Found 10 10-K filings from 2015 onwards\n"
     ]
    },
    {
     "name": "stderr",
     "output_type": "stream",
     "text": [
      " 51%|█████▏    | 258/503 [2:25:10<2:02:19, 29.96s/it]"
     ]
    },
    {
     "name": "stdout",
     "output_type": "stream",
     "text": [
      "Processing INVH (Invitation Homes Inc.)\n",
      "  Available columns: ['accession_number', 'filing_date', 'reportDate', 'acceptanceDateTime', 'act', 'form', 'fileNumber', 'items', 'size', 'isXBRL', 'isInlineXBRL', 'primaryDocument', 'primaryDocDescription']\n",
      "  Found 9 10-K filings from 2015 onwards\n"
     ]
    },
    {
     "name": "stderr",
     "output_type": "stream",
     "text": [
      " 51%|█████▏    | 259/503 [2:25:34<1:54:17, 28.10s/it]"
     ]
    },
    {
     "name": "stdout",
     "output_type": "stream",
     "text": [
      "Processing IQV (IQVIA HOLDINGS INC.)\n",
      "  Available columns: ['accession_number', 'filing_date', 'reportDate', 'acceptanceDateTime', 'act', 'form', 'fileNumber', 'items', 'size', 'isXBRL', 'isInlineXBRL', 'primaryDocument', 'primaryDocDescription']\n",
      "  Found 10 10-K filings from 2015 onwards\n"
     ]
    },
    {
     "name": "stderr",
     "output_type": "stream",
     "text": [
      " 52%|█████▏    | 260/503 [2:26:08<2:01:02, 29.89s/it]"
     ]
    },
    {
     "name": "stdout",
     "output_type": "stream",
     "text": [
      "Processing IRM (IRON MOUNTAIN INC)\n",
      "  Available columns: ['accession_number', 'filing_date', 'reportDate', 'acceptanceDateTime', 'act', 'form', 'fileNumber', 'items', 'size', 'isXBRL', 'isInlineXBRL', 'primaryDocument', 'primaryDocDescription']\n",
      "  Found 10 10-K filings from 2015 onwards\n"
     ]
    },
    {
     "name": "stderr",
     "output_type": "stream",
     "text": [
      " 52%|█████▏    | 261/503 [2:26:51<2:16:37, 33.87s/it]"
     ]
    },
    {
     "name": "stdout",
     "output_type": "stream",
     "text": [
      "Processing JBHT (HUNT J B TRANSPORT SERVICES INC)\n",
      "  Available columns: ['accession_number', 'filing_date', 'reportDate', 'acceptanceDateTime', 'act', 'form', 'fileNumber', 'items', 'size', 'isXBRL', 'isInlineXBRL', 'primaryDocument', 'primaryDocDescription']\n",
      "  Found 10 10-K filings from 2015 onwards\n"
     ]
    },
    {
     "name": "stderr",
     "output_type": "stream",
     "text": [
      " 52%|█████▏    | 262/503 [2:27:12<2:00:27, 29.99s/it]"
     ]
    },
    {
     "name": "stdout",
     "output_type": "stream",
     "text": [
      "Processing JBL (JABIL INC)\n",
      "  Available columns: ['accession_number', 'filing_date', 'reportDate', 'acceptanceDateTime', 'act', 'form', 'fileNumber', 'items', 'size', 'isXBRL', 'isInlineXBRL', 'primaryDocument', 'primaryDocDescription']\n",
      "  Found 10 10-K filings from 2015 onwards\n"
     ]
    },
    {
     "name": "stderr",
     "output_type": "stream",
     "text": [
      " 52%|█████▏    | 263/503 [2:27:43<2:01:04, 30.27s/it]"
     ]
    },
    {
     "name": "stdout",
     "output_type": "stream",
     "text": [
      "Processing JKHY (JACK HENRY & ASSOCIATES INC)\n",
      "  Available columns: ['accession_number', 'filing_date', 'reportDate', 'acceptanceDateTime', 'act', 'form', 'fileNumber', 'items', 'size', 'isXBRL', 'isInlineXBRL', 'primaryDocument', 'primaryDocDescription']\n",
      "  Found 10 10-K filings from 2015 onwards\n"
     ]
    },
    {
     "name": "stderr",
     "output_type": "stream",
     "text": [
      " 52%|█████▏    | 264/503 [2:28:04<1:49:16, 27.43s/it]"
     ]
    },
    {
     "name": "stdout",
     "output_type": "stream",
     "text": [
      "Processing J (JACOBS SOLUTIONS INC.)\n",
      "  Available columns: ['accession_number', 'filing_date', 'reportDate', 'acceptanceDateTime', 'act', 'form', 'fileNumber', 'items', 'size', 'isXBRL', 'isInlineXBRL', 'primaryDocument', 'primaryDocDescription']\n",
      "  Found 10 10-K filings from 2015 onwards\n"
     ]
    },
    {
     "name": "stderr",
     "output_type": "stream",
     "text": [
      " 53%|█████▎    | 265/503 [2:28:33<1:51:31, 28.11s/it]"
     ]
    },
    {
     "name": "stdout",
     "output_type": "stream",
     "text": [
      "Processing JNJ (JOHNSON & JOHNSON)\n",
      "  Available columns: ['accession_number', 'filing_date', 'reportDate', 'acceptanceDateTime', 'act', 'form', 'fileNumber', 'items', 'size', 'isXBRL', 'isInlineXBRL', 'primaryDocument', 'primaryDocDescription']\n",
      "  Found 10 10-K filings from 2015 onwards\n"
     ]
    },
    {
     "name": "stderr",
     "output_type": "stream",
     "text": [
      " 53%|█████▎    | 266/503 [2:29:03<1:53:10, 28.65s/it]"
     ]
    },
    {
     "name": "stdout",
     "output_type": "stream",
     "text": [
      "Processing JCI (Johnson Controls International plc)\n",
      "  Available columns: ['accession_number', 'filing_date', 'reportDate', 'acceptanceDateTime', 'act', 'form', 'fileNumber', 'items', 'size', 'isXBRL', 'isInlineXBRL', 'primaryDocument', 'primaryDocDescription']\n",
      "  Found 10 10-K filings from 2015 onwards\n"
     ]
    },
    {
     "name": "stderr",
     "output_type": "stream",
     "text": [
      " 53%|█████▎    | 267/503 [2:29:36<1:57:03, 29.76s/it]"
     ]
    },
    {
     "name": "stdout",
     "output_type": "stream",
     "text": [
      "Processing JPM (JPMORGAN CHASE & CO)\n",
      "  Available columns: ['accession_number', 'filing_date', 'reportDate', 'acceptanceDateTime', 'act', 'form', 'fileNumber', 'items', 'size', 'isXBRL', 'isInlineXBRL', 'primaryDocument', 'primaryDocDescription']\n",
      "  Found 10 10-K filings from 2015 onwards\n"
     ]
    },
    {
     "name": "stderr",
     "output_type": "stream",
     "text": [
      " 53%|█████▎    | 268/503 [2:30:53<2:52:18, 43.99s/it]"
     ]
    },
    {
     "name": "stdout",
     "output_type": "stream",
     "text": [
      "Processing JNPR (JUNIPER NETWORKS INC)\n",
      "  Available columns: ['accession_number', 'filing_date', 'reportDate', 'acceptanceDateTime', 'act', 'form', 'fileNumber', 'items', 'size', 'isXBRL', 'isInlineXBRL', 'primaryDocument', 'primaryDocDescription']\n",
      "  Found 10 10-K filings from 2015 onwards\n"
     ]
    },
    {
     "name": "stderr",
     "output_type": "stream",
     "text": [
      " 53%|█████▎    | 269/503 [2:31:23<2:35:11, 39.79s/it]"
     ]
    },
    {
     "name": "stdout",
     "output_type": "stream",
     "text": [
      "Processing K (KELLANOVA)\n",
      "  Available columns: ['accession_number', 'filing_date', 'reportDate', 'acceptanceDateTime', 'act', 'form', 'fileNumber', 'items', 'size', 'isXBRL', 'isInlineXBRL', 'primaryDocument', 'primaryDocDescription']\n",
      "  Found 11 10-K filings from 2015 onwards\n"
     ]
    },
    {
     "name": "stderr",
     "output_type": "stream",
     "text": [
      " 54%|█████▎    | 270/503 [2:32:08<2:40:59, 41.46s/it]"
     ]
    },
    {
     "name": "stdout",
     "output_type": "stream",
     "text": [
      "Processing KVUE (Kenvue Inc.)\n",
      "  Available columns: ['accession_number', 'filing_date', 'reportDate', 'acceptanceDateTime', 'act', 'form', 'fileNumber', 'items', 'size', 'isXBRL', 'isInlineXBRL', 'primaryDocument', 'primaryDocDescription']\n",
      "  Found 2 10-K filings from 2015 onwards\n"
     ]
    },
    {
     "name": "stderr",
     "output_type": "stream",
     "text": [
      " 54%|█████▍    | 271/503 [2:32:15<2:00:36, 31.19s/it]"
     ]
    },
    {
     "name": "stdout",
     "output_type": "stream",
     "text": [
      "Processing KDP (Keurig Dr Pepper Inc.)\n",
      "  Available columns: ['accession_number', 'filing_date', 'reportDate', 'acceptanceDateTime', 'act', 'form', 'fileNumber', 'items', 'size', 'isXBRL', 'isInlineXBRL', 'primaryDocument', 'primaryDocDescription']\n",
      "  Found 10 10-K filings from 2015 onwards\n"
     ]
    },
    {
     "name": "stderr",
     "output_type": "stream",
     "text": [
      " 54%|█████▍    | 272/503 [2:32:49<2:02:22, 31.79s/it]"
     ]
    },
    {
     "name": "stdout",
     "output_type": "stream",
     "text": [
      "Processing KEY (KEYCORP /NEW/)\n",
      "  Available columns: ['accession_number', 'filing_date', 'reportDate', 'acceptanceDateTime', 'act', 'form', 'fileNumber', 'items', 'size', 'isXBRL', 'isInlineXBRL', 'primaryDocument', 'primaryDocDescription']\n",
      "  Found 10 10-K filings from 2015 onwards\n"
     ]
    },
    {
     "name": "stderr",
     "output_type": "stream",
     "text": [
      " 54%|█████▍    | 273/503 [2:33:43<2:28:21, 38.70s/it]"
     ]
    },
    {
     "name": "stdout",
     "output_type": "stream",
     "text": [
      "Processing KEYS (Keysight Technologies, Inc.)\n",
      "  Available columns: ['accession_number', 'filing_date', 'reportDate', 'acceptanceDateTime', 'act', 'form', 'fileNumber', 'items', 'size', 'isXBRL', 'isInlineXBRL', 'primaryDocument', 'primaryDocDescription']\n",
      "  Found 10 10-K filings from 2015 onwards\n"
     ]
    },
    {
     "name": "stderr",
     "output_type": "stream",
     "text": [
      " 54%|█████▍    | 274/503 [2:34:11<2:15:03, 35.39s/it]"
     ]
    },
    {
     "name": "stdout",
     "output_type": "stream",
     "text": [
      "Processing KMB (KIMBERLY CLARK CORP)\n",
      "  Available columns: ['accession_number', 'filing_date', 'reportDate', 'acceptanceDateTime', 'act', 'form', 'fileNumber', 'items', 'size', 'isXBRL', 'isInlineXBRL', 'primaryDocument', 'primaryDocDescription']\n",
      "  Found 10 10-K filings from 2015 onwards\n"
     ]
    },
    {
     "name": "stderr",
     "output_type": "stream",
     "text": [
      " 55%|█████▍    | 275/503 [2:34:37<2:03:10, 32.42s/it]"
     ]
    },
    {
     "name": "stdout",
     "output_type": "stream",
     "text": [
      "Processing KIM (KIMCO REALTY CORP)\n",
      "  Available columns: ['accession_number', 'filing_date', 'reportDate', 'acceptanceDateTime', 'act', 'form', 'fileNumber', 'items', 'size', 'isXBRL', 'isInlineXBRL', 'primaryDocument', 'primaryDocDescription']\n",
      "  Found 10 10-K filings from 2015 onwards\n"
     ]
    },
    {
     "name": "stderr",
     "output_type": "stream",
     "text": [
      " 55%|█████▍    | 276/503 [2:35:30<2:26:06, 38.62s/it]"
     ]
    },
    {
     "name": "stdout",
     "output_type": "stream",
     "text": [
      "Processing KMI (KINDER MORGAN, INC.)\n",
      "  Available columns: ['accession_number', 'filing_date', 'reportDate', 'acceptanceDateTime', 'act', 'form', 'fileNumber', 'items', 'size', 'isXBRL', 'isInlineXBRL', 'primaryDocument', 'primaryDocDescription']\n",
      "  Found 10 10-K filings from 2015 onwards\n"
     ]
    },
    {
     "name": "stderr",
     "output_type": "stream",
     "text": [
      " 55%|█████▌    | 277/503 [2:36:09<2:26:33, 38.91s/it]"
     ]
    },
    {
     "name": "stdout",
     "output_type": "stream",
     "text": [
      "Processing KKR (KKR & Co. Inc.)\n",
      "  Available columns: ['accession_number', 'filing_date', 'reportDate', 'acceptanceDateTime', 'act', 'form', 'fileNumber', 'items', 'size', 'isXBRL', 'isInlineXBRL', 'primaryDocument', 'primaryDocDescription']\n",
      "  Found 10 10-K filings from 2015 onwards\n"
     ]
    },
    {
     "name": "stderr",
     "output_type": "stream",
     "text": [
      " 55%|█████▌    | 278/503 [2:36:58<2:37:18, 41.95s/it]"
     ]
    },
    {
     "name": "stdout",
     "output_type": "stream",
     "text": [
      "Processing KLAC (KLA CORP)\n",
      "  Available columns: ['accession_number', 'filing_date', 'reportDate', 'acceptanceDateTime', 'act', 'form', 'fileNumber', 'items', 'size', 'isXBRL', 'isInlineXBRL', 'primaryDocument', 'primaryDocDescription']\n",
      "  Found 10 10-K filings from 2015 onwards\n"
     ]
    },
    {
     "name": "stderr",
     "output_type": "stream",
     "text": [
      " 55%|█████▌    | 279/503 [2:37:27<2:21:23, 37.87s/it]"
     ]
    },
    {
     "name": "stdout",
     "output_type": "stream",
     "text": [
      "Processing KHC (Kraft Heinz Co)\n",
      "  Available columns: ['accession_number', 'filing_date', 'reportDate', 'acceptanceDateTime', 'act', 'form', 'fileNumber', 'items', 'size', 'isXBRL', 'isInlineXBRL', 'primaryDocument', 'primaryDocDescription']\n",
      "  Found 10 10-K filings from 2015 onwards\n"
     ]
    },
    {
     "name": "stderr",
     "output_type": "stream",
     "text": [
      " 56%|█████▌    | 280/503 [2:38:06<2:22:55, 38.46s/it]"
     ]
    },
    {
     "name": "stdout",
     "output_type": "stream",
     "text": [
      "Processing KR (KROGER CO)\n",
      "  Available columns: ['accession_number', 'filing_date', 'reportDate', 'acceptanceDateTime', 'act', 'form', 'fileNumber', 'items', 'size', 'isXBRL', 'isInlineXBRL', 'primaryDocument', 'primaryDocDescription']\n",
      "  Found 10 10-K filings from 2015 onwards\n",
      "    Error processing filing for KR: 'NoneType' object is not subscriptable\n",
      "    Error processing filing for KR: 'NoneType' object is not subscriptable\n",
      "    Error processing filing for KR: 'NoneType' object is not subscriptable\n"
     ]
    },
    {
     "name": "stderr",
     "output_type": "stream",
     "text": [
      " 56%|█████▌    | 281/503 [2:38:31<2:06:50, 34.28s/it]"
     ]
    },
    {
     "name": "stdout",
     "output_type": "stream",
     "text": [
      "Processing LHX (L3HARRIS TECHNOLOGIES, INC. /DE/)\n",
      "  Available columns: ['accession_number', 'filing_date', 'reportDate', 'acceptanceDateTime', 'act', 'form', 'fileNumber', 'items', 'size', 'isXBRL', 'isInlineXBRL', 'primaryDocument', 'primaryDocDescription']\n",
      "  Found 10 10-K filings from 2015 onwards\n"
     ]
    },
    {
     "name": "stderr",
     "output_type": "stream",
     "text": [
      " 56%|█████▌    | 282/503 [2:39:04<2:04:38, 33.84s/it]"
     ]
    },
    {
     "name": "stdout",
     "output_type": "stream",
     "text": [
      "Processing LH (LABCORP HOLDINGS INC.)\n",
      "  Available columns: ['accession_number', 'filing_date', 'reportDate', 'acceptanceDateTime', 'act', 'form', 'fileNumber', 'items', 'size', 'isXBRL', 'isInlineXBRL', 'primaryDocument', 'primaryDocDescription']\n",
      "  Found 10 10-K filings from 2015 onwards\n"
     ]
    },
    {
     "name": "stderr",
     "output_type": "stream",
     "text": [
      " 56%|█████▋    | 283/503 [2:39:30<1:56:10, 31.68s/it]"
     ]
    },
    {
     "name": "stdout",
     "output_type": "stream",
     "text": [
      "Processing LRCX (LAM RESEARCH CORP)\n",
      "  Available columns: ['accession_number', 'filing_date', 'reportDate', 'acceptanceDateTime', 'act', 'form', 'fileNumber', 'items', 'size', 'isXBRL', 'isInlineXBRL', 'primaryDocument', 'primaryDocDescription']\n",
      "  Found 10 10-K filings from 2015 onwards\n"
     ]
    },
    {
     "name": "stderr",
     "output_type": "stream",
     "text": [
      " 56%|█████▋    | 284/503 [2:39:56<1:48:44, 29.79s/it]"
     ]
    },
    {
     "name": "stdout",
     "output_type": "stream",
     "text": [
      "Processing LW (Lamb Weston Holdings, Inc.)\n",
      "  Available columns: ['accession_number', 'filing_date', 'reportDate', 'acceptanceDateTime', 'act', 'form', 'fileNumber', 'items', 'size', 'isXBRL', 'isInlineXBRL', 'primaryDocument', 'primaryDocDescription']\n",
      "  Found 8 10-K filings from 2015 onwards\n",
      "    Error processing filing for LW: 'NoneType' object is not subscriptable\n",
      "    Error processing filing for LW: 'NoneType' object is not subscriptable\n",
      "    Error processing filing for LW: 'NoneType' object is not subscriptable\n"
     ]
    },
    {
     "name": "stderr",
     "output_type": "stream",
     "text": [
      " 57%|█████▋    | 285/503 [2:40:09<1:30:18, 24.85s/it]"
     ]
    },
    {
     "name": "stdout",
     "output_type": "stream",
     "text": [
      "Processing LVS (LAS VEGAS SANDS CORP)\n",
      "  Available columns: ['accession_number', 'filing_date', 'reportDate', 'acceptanceDateTime', 'act', 'form', 'fileNumber', 'items', 'size', 'isXBRL', 'isInlineXBRL', 'primaryDocument', 'primaryDocDescription']\n",
      "  Found 10 10-K filings from 2015 onwards\n"
     ]
    },
    {
     "name": "stderr",
     "output_type": "stream",
     "text": [
      " 57%|█████▋    | 286/503 [2:40:39<1:35:04, 26.29s/it]"
     ]
    },
    {
     "name": "stdout",
     "output_type": "stream",
     "text": [
      "Processing LDOS (Leidos Holdings, Inc.)\n",
      "  Available columns: ['accession_number', 'filing_date', 'reportDate', 'acceptanceDateTime', 'act', 'form', 'fileNumber', 'items', 'size', 'isXBRL', 'isInlineXBRL', 'primaryDocument', 'primaryDocDescription']\n",
      "  Found 10 10-K filings from 2015 onwards\n"
     ]
    },
    {
     "name": "stderr",
     "output_type": "stream",
     "text": [
      " 57%|█████▋    | 287/503 [2:41:06<1:35:34, 26.55s/it]"
     ]
    },
    {
     "name": "stdout",
     "output_type": "stream",
     "text": [
      "Processing LEN (LENNAR CORP /NEW/)\n",
      "  Available columns: ['accession_number', 'filing_date', 'reportDate', 'acceptanceDateTime', 'act', 'form', 'fileNumber', 'items', 'size', 'isXBRL', 'isInlineXBRL', 'primaryDocument', 'primaryDocDescription']\n",
      "  Found 10 10-K filings from 2015 onwards\n"
     ]
    },
    {
     "name": "stderr",
     "output_type": "stream",
     "text": [
      " 57%|█████▋    | 288/503 [2:41:38<1:41:29, 28.33s/it]"
     ]
    },
    {
     "name": "stdout",
     "output_type": "stream",
     "text": [
      "Processing LII (LENNOX INTERNATIONAL INC)\n",
      "  Available columns: ['accession_number', 'filing_date', 'reportDate', 'acceptanceDateTime', 'act', 'form', 'fileNumber', 'items', 'size', 'isXBRL', 'isInlineXBRL', 'primaryDocument', 'primaryDocDescription']\n",
      "  Found 10 10-K filings from 2015 onwards\n"
     ]
    },
    {
     "name": "stderr",
     "output_type": "stream",
     "text": [
      " 57%|█████▋    | 289/503 [2:42:06<1:40:16, 28.12s/it]"
     ]
    },
    {
     "name": "stdout",
     "output_type": "stream",
     "text": [
      "Processing LLY (ELI LILLY & Co)\n",
      "  Available columns: ['accession_number', 'filing_date', 'reportDate', 'acceptanceDateTime', 'act', 'form', 'fileNumber', 'items', 'size', 'isXBRL', 'isInlineXBRL', 'primaryDocument', 'primaryDocDescription']\n",
      "  Found 10 10-K filings from 2015 onwards\n"
     ]
    },
    {
     "name": "stderr",
     "output_type": "stream",
     "text": [
      " 58%|█████▊    | 290/503 [2:42:32<1:38:02, 27.62s/it]"
     ]
    },
    {
     "name": "stdout",
     "output_type": "stream",
     "text": [
      "Processing LIN (LINDE PLC)\n",
      "  Available columns: ['accession_number', 'filing_date', 'reportDate', 'acceptanceDateTime', 'act', 'form', 'fileNumber', 'items', 'size', 'isXBRL', 'isInlineXBRL', 'primaryDocument', 'primaryDocDescription']\n",
      "  Found 8 10-K filings from 2015 onwards\n"
     ]
    },
    {
     "name": "stderr",
     "output_type": "stream",
     "text": [
      " 58%|█████▊    | 291/503 [2:42:55<1:32:28, 26.17s/it]"
     ]
    },
    {
     "name": "stdout",
     "output_type": "stream",
     "text": [
      "Processing LYV (Live Nation Entertainment, Inc.)\n",
      "  Available columns: ['accession_number', 'filing_date', 'reportDate', 'acceptanceDateTime', 'act', 'form', 'fileNumber', 'items', 'size', 'isXBRL', 'isInlineXBRL', 'primaryDocument', 'primaryDocDescription']\n",
      "  Found 10 10-K filings from 2015 onwards\n"
     ]
    },
    {
     "name": "stderr",
     "output_type": "stream",
     "text": [
      " 58%|█████▊    | 292/503 [2:43:22<1:32:57, 26.43s/it]"
     ]
    },
    {
     "name": "stdout",
     "output_type": "stream",
     "text": [
      "Processing LKQ (LKQ CORP)\n",
      "  Available columns: ['accession_number', 'filing_date', 'reportDate', 'acceptanceDateTime', 'act', 'form', 'fileNumber', 'items', 'size', 'isXBRL', 'isInlineXBRL', 'primaryDocument', 'primaryDocDescription']\n",
      "  Found 10 10-K filings from 2015 onwards\n"
     ]
    },
    {
     "name": "stderr",
     "output_type": "stream",
     "text": [
      " 58%|█████▊    | 293/503 [2:43:51<1:34:52, 27.11s/it]"
     ]
    },
    {
     "name": "stdout",
     "output_type": "stream",
     "text": [
      "Processing LMT (LOCKHEED MARTIN CORP)\n",
      "  Available columns: ['accession_number', 'filing_date', 'reportDate', 'acceptanceDateTime', 'act', 'form', 'fileNumber', 'items', 'size', 'isXBRL', 'isInlineXBRL', 'primaryDocument', 'primaryDocDescription']\n",
      "  Found 10 10-K filings from 2015 onwards\n"
     ]
    },
    {
     "name": "stderr",
     "output_type": "stream",
     "text": [
      " 58%|█████▊    | 294/503 [2:44:17<1:33:22, 26.80s/it]"
     ]
    },
    {
     "name": "stdout",
     "output_type": "stream",
     "text": [
      "Processing L (LOEWS CORP)\n",
      "  Available columns: ['accession_number', 'filing_date', 'reportDate', 'acceptanceDateTime', 'act', 'form', 'fileNumber', 'items', 'size', 'isXBRL', 'isInlineXBRL', 'primaryDocument', 'primaryDocDescription']\n",
      "  Found 10 10-K filings from 2015 onwards\n"
     ]
    },
    {
     "name": "stderr",
     "output_type": "stream",
     "text": [
      " 59%|█████▊    | 295/503 [2:45:06<1:56:23, 33.58s/it]"
     ]
    },
    {
     "name": "stdout",
     "output_type": "stream",
     "text": [
      "Processing LOW (LOWES COMPANIES INC)\n",
      "  Available columns: ['accession_number', 'filing_date', 'reportDate', 'acceptanceDateTime', 'act', 'form', 'fileNumber', 'items', 'size', 'isXBRL', 'isInlineXBRL', 'primaryDocument', 'primaryDocDescription']\n",
      "  Found 10 10-K filings from 2015 onwards\n"
     ]
    },
    {
     "name": "stderr",
     "output_type": "stream",
     "text": [
      " 59%|█████▉    | 296/503 [2:45:33<1:48:14, 31.38s/it]"
     ]
    },
    {
     "name": "stdout",
     "output_type": "stream",
     "text": [
      "Processing LULU (lululemon athletica inc.)\n",
      "  Available columns: ['accession_number', 'filing_date', 'reportDate', 'acceptanceDateTime', 'act', 'form', 'fileNumber', 'items', 'size', 'isXBRL', 'isInlineXBRL', 'primaryDocument', 'primaryDocDescription']\n",
      "  Found 10 10-K filings from 2015 onwards\n"
     ]
    },
    {
     "name": "stderr",
     "output_type": "stream",
     "text": [
      " 59%|█████▉    | 297/503 [2:45:55<1:38:43, 28.76s/it]"
     ]
    },
    {
     "name": "stdout",
     "output_type": "stream",
     "text": [
      "Processing LYB (LyondellBasell Industries N.V.)\n",
      "  Available columns: ['accession_number', 'filing_date', 'reportDate', 'acceptanceDateTime', 'act', 'form', 'fileNumber', 'items', 'size', 'isXBRL', 'isInlineXBRL', 'primaryDocument', 'primaryDocDescription']\n",
      "  Found 10 10-K filings from 2015 onwards\n"
     ]
    },
    {
     "name": "stderr",
     "output_type": "stream",
     "text": [
      " 59%|█████▉    | 298/503 [2:46:31<1:45:06, 30.76s/it]"
     ]
    },
    {
     "name": "stdout",
     "output_type": "stream",
     "text": [
      "Processing MTB (M&T BANK CORP)\n",
      "  Available columns: ['accession_number', 'filing_date', 'reportDate', 'acceptanceDateTime', 'act', 'form', 'fileNumber', 'items', 'size', 'isXBRL', 'isInlineXBRL', 'primaryDocument', 'primaryDocDescription']\n",
      "  Found 10 10-K filings from 2015 onwards\n",
      "    WARNING: No MD&A section found for MTB (CIK: 36270) for year 2023\n",
      "    WARNING: No MD&A section found for MTB (CIK: 36270) for year 2022\n"
     ]
    },
    {
     "name": "stderr",
     "output_type": "stream",
     "text": [
      " 59%|█████▉    | 299/503 [2:47:54<2:37:59, 46.47s/it]"
     ]
    },
    {
     "name": "stdout",
     "output_type": "stream",
     "text": [
      "Processing MPC (Marathon Petroleum Corp)\n",
      "  Available columns: ['accession_number', 'filing_date', 'reportDate', 'acceptanceDateTime', 'act', 'form', 'fileNumber', 'items', 'size', 'isXBRL', 'isInlineXBRL', 'primaryDocument', 'primaryDocDescription']\n",
      "  Found 10 10-K filings from 2015 onwards\n"
     ]
    },
    {
     "name": "stderr",
     "output_type": "stream",
     "text": [
      " 60%|█████▉    | 300/503 [2:48:34<2:30:51, 44.59s/it]"
     ]
    },
    {
     "name": "stdout",
     "output_type": "stream",
     "text": [
      "Processing MKTX (MARKETAXESS HOLDINGS INC)\n",
      "  Available columns: ['accession_number', 'filing_date', 'reportDate', 'acceptanceDateTime', 'act', 'form', 'fileNumber', 'items', 'size', 'isXBRL', 'isInlineXBRL', 'primaryDocument', 'primaryDocDescription']\n",
      "  Found 10 10-K filings from 2015 onwards\n",
      "    WARNING: No MD&A section found for MKTX (CIK: 1278021) for year 2021\n"
     ]
    },
    {
     "name": "stderr",
     "output_type": "stream",
     "text": [
      " 60%|█████▉    | 301/503 [2:49:08<2:18:48, 41.23s/it]"
     ]
    },
    {
     "name": "stdout",
     "output_type": "stream",
     "text": [
      "Processing MAR (MARRIOTT INTERNATIONAL INC /MD/)\n",
      "  Available columns: ['accession_number', 'filing_date', 'reportDate', 'acceptanceDateTime', 'act', 'form', 'fileNumber', 'items', 'size', 'isXBRL', 'isInlineXBRL', 'primaryDocument', 'primaryDocDescription']\n",
      "  Found 10 10-K filings from 2015 onwards\n"
     ]
    },
    {
     "name": "stderr",
     "output_type": "stream",
     "text": [
      " 60%|██████    | 302/503 [2:49:33<2:02:31, 36.57s/it]"
     ]
    },
    {
     "name": "stdout",
     "output_type": "stream",
     "text": [
      "Processing MMC (MARSH & MCLENNAN COMPANIES, INC.)\n",
      "  Available columns: ['accession_number', 'filing_date', 'reportDate', 'acceptanceDateTime', 'act', 'form', 'fileNumber', 'items', 'size', 'isXBRL', 'isInlineXBRL', 'primaryDocument', 'primaryDocDescription']\n",
      "  Found 10 10-K filings from 2015 onwards\n"
     ]
    },
    {
     "name": "stderr",
     "output_type": "stream",
     "text": [
      " 60%|██████    | 303/503 [2:50:03<1:55:29, 34.65s/it]"
     ]
    },
    {
     "name": "stdout",
     "output_type": "stream",
     "text": [
      "Processing MLM (MARTIN MARIETTA MATERIALS INC)\n",
      "  Available columns: ['accession_number', 'filing_date', 'reportDate', 'acceptanceDateTime', 'act', 'form', 'fileNumber', 'items', 'size', 'isXBRL', 'isInlineXBRL', 'primaryDocument', 'primaryDocDescription']\n",
      "  Found 10 10-K filings from 2015 onwards\n"
     ]
    },
    {
     "name": "stderr",
     "output_type": "stream",
     "text": [
      " 60%|██████    | 304/503 [2:50:36<1:53:14, 34.14s/it]"
     ]
    },
    {
     "name": "stdout",
     "output_type": "stream",
     "text": [
      "Processing MAS (MASCO CORP /DE/)\n",
      "  Available columns: ['accession_number', 'filing_date', 'reportDate', 'acceptanceDateTime', 'act', 'form', 'fileNumber', 'items', 'size', 'isXBRL', 'isInlineXBRL', 'primaryDocument', 'primaryDocDescription']\n",
      "  Found 10 10-K filings from 2015 onwards\n"
     ]
    },
    {
     "name": "stderr",
     "output_type": "stream",
     "text": [
      " 61%|██████    | 305/503 [2:51:05<1:47:35, 32.60s/it]"
     ]
    },
    {
     "name": "stdout",
     "output_type": "stream",
     "text": [
      "Processing MA (Mastercard Inc)\n",
      "  Available columns: ['accession_number', 'filing_date', 'reportDate', 'acceptanceDateTime', 'act', 'form', 'fileNumber', 'items', 'size', 'isXBRL', 'isInlineXBRL', 'primaryDocument', 'primaryDocDescription']\n",
      "  Found 10 10-K filings from 2015 onwards\n"
     ]
    },
    {
     "name": "stderr",
     "output_type": "stream",
     "text": [
      " 61%|██████    | 306/503 [2:51:32<1:41:08, 30.80s/it]"
     ]
    },
    {
     "name": "stdout",
     "output_type": "stream",
     "text": [
      "Processing MTCH (Match Group, Inc.)\n",
      "  Available columns: ['accession_number', 'filing_date', 'reportDate', 'acceptanceDateTime', 'act', 'form', 'fileNumber', 'items', 'size', 'isXBRL', 'isInlineXBRL', 'primaryDocument', 'primaryDocDescription']\n",
      "  Found 10 10-K filings from 2015 onwards\n"
     ]
    },
    {
     "name": "stderr",
     "output_type": "stream",
     "text": [
      " 61%|██████    | 307/503 [2:52:01<1:39:09, 30.35s/it]"
     ]
    },
    {
     "name": "stdout",
     "output_type": "stream",
     "text": [
      "Processing MKC (MCCORMICK & CO INC)\n",
      "  Available columns: ['accession_number', 'filing_date', 'reportDate', 'acceptanceDateTime', 'act', 'form', 'fileNumber', 'items', 'size', 'isXBRL', 'isInlineXBRL', 'primaryDocument', 'primaryDocDescription']\n",
      "  Found 10 10-K filings from 2015 onwards\n"
     ]
    },
    {
     "name": "stderr",
     "output_type": "stream",
     "text": [
      " 61%|██████    | 308/503 [2:52:27<1:34:29, 29.07s/it]"
     ]
    },
    {
     "name": "stdout",
     "output_type": "stream",
     "text": [
      "Processing MCD (MCDONALDS CORP)\n",
      "  Available columns: ['accession_number', 'filing_date', 'reportDate', 'acceptanceDateTime', 'act', 'form', 'fileNumber', 'items', 'size', 'isXBRL', 'isInlineXBRL', 'primaryDocument', 'primaryDocDescription']\n",
      "  Found 10 10-K filings from 2015 onwards\n"
     ]
    },
    {
     "name": "stderr",
     "output_type": "stream",
     "text": [
      "/home/nawa/.local/lib/python3.11/site-packages/edgar/files/htmltools.py:271: FutureWarning: Downcasting object dtype arrays on .fillna, .ffill, .bfill is deprecated and will change in a future version. Call result.infer_objects(copy=False) instead. To opt-in to the future behavior, set `pd.set_option('future.no_silent_downcasting', True)`\n",
      "  chunk_df.Item = chunk_df.Item.ffill().infer_objects(copy=False)\n"
     ]
    },
    {
     "name": "stdout",
     "output_type": "stream",
     "text": [
      "    WARNING: No MD&A section found for MCD (CIK: 63908) for year 2024\n"
     ]
    },
    {
     "name": "stderr",
     "output_type": "stream",
     "text": [
      "/home/nawa/.local/lib/python3.11/site-packages/edgar/files/htmltools.py:271: FutureWarning: Downcasting object dtype arrays on .fillna, .ffill, .bfill is deprecated and will change in a future version. Call result.infer_objects(copy=False) instead. To opt-in to the future behavior, set `pd.set_option('future.no_silent_downcasting', True)`\n",
      "  chunk_df.Item = chunk_df.Item.ffill().infer_objects(copy=False)\n"
     ]
    },
    {
     "name": "stdout",
     "output_type": "stream",
     "text": [
      "    WARNING: No MD&A section found for MCD (CIK: 63908) for year 2023\n"
     ]
    },
    {
     "name": "stderr",
     "output_type": "stream",
     "text": [
      "/home/nawa/.local/lib/python3.11/site-packages/edgar/files/htmltools.py:271: FutureWarning: Downcasting object dtype arrays on .fillna, .ffill, .bfill is deprecated and will change in a future version. Call result.infer_objects(copy=False) instead. To opt-in to the future behavior, set `pd.set_option('future.no_silent_downcasting', True)`\n",
      "  chunk_df.Item = chunk_df.Item.ffill().infer_objects(copy=False)\n"
     ]
    },
    {
     "name": "stdout",
     "output_type": "stream",
     "text": [
      "    WARNING: No MD&A section found for MCD (CIK: 63908) for year 2022\n"
     ]
    },
    {
     "name": "stderr",
     "output_type": "stream",
     "text": [
      "/home/nawa/.local/lib/python3.11/site-packages/edgar/files/htmltools.py:271: FutureWarning: Downcasting object dtype arrays on .fillna, .ffill, .bfill is deprecated and will change in a future version. Call result.infer_objects(copy=False) instead. To opt-in to the future behavior, set `pd.set_option('future.no_silent_downcasting', True)`\n",
      "  chunk_df.Item = chunk_df.Item.ffill().infer_objects(copy=False)\n"
     ]
    },
    {
     "name": "stdout",
     "output_type": "stream",
     "text": [
      "    WARNING: No MD&A section found for MCD (CIK: 63908) for year 2021\n"
     ]
    },
    {
     "name": "stderr",
     "output_type": "stream",
     "text": [
      "/home/nawa/.local/lib/python3.11/site-packages/edgar/files/htmltools.py:271: FutureWarning: Downcasting object dtype arrays on .fillna, .ffill, .bfill is deprecated and will change in a future version. Call result.infer_objects(copy=False) instead. To opt-in to the future behavior, set `pd.set_option('future.no_silent_downcasting', True)`\n",
      "  chunk_df.Item = chunk_df.Item.ffill().infer_objects(copy=False)\n"
     ]
    },
    {
     "name": "stdout",
     "output_type": "stream",
     "text": [
      "    WARNING: No MD&A section found for MCD (CIK: 63908) for year 2020\n"
     ]
    },
    {
     "name": "stderr",
     "output_type": "stream",
     "text": [
      "/home/nawa/.local/lib/python3.11/site-packages/edgar/files/htmltools.py:271: FutureWarning: Downcasting object dtype arrays on .fillna, .ffill, .bfill is deprecated and will change in a future version. Call result.infer_objects(copy=False) instead. To opt-in to the future behavior, set `pd.set_option('future.no_silent_downcasting', True)`\n",
      "  chunk_df.Item = chunk_df.Item.ffill().infer_objects(copy=False)\n"
     ]
    },
    {
     "name": "stdout",
     "output_type": "stream",
     "text": [
      "    WARNING: No MD&A section found for MCD (CIK: 63908) for year 2019\n"
     ]
    },
    {
     "name": "stderr",
     "output_type": "stream",
     "text": [
      " 61%|██████▏   | 309/503 [2:52:53<1:30:26, 27.97s/it]"
     ]
    },
    {
     "name": "stdout",
     "output_type": "stream",
     "text": [
      "Processing MCK (MCKESSON CORP)\n",
      "  Available columns: ['accession_number', 'filing_date', 'reportDate', 'acceptanceDateTime', 'act', 'form', 'fileNumber', 'items', 'size', 'isXBRL', 'isInlineXBRL', 'primaryDocument', 'primaryDocDescription']\n",
      "  Found 10 10-K filings from 2015 onwards\n"
     ]
    },
    {
     "name": "stderr",
     "output_type": "stream",
     "text": [
      " 62%|██████▏   | 310/503 [2:53:22<1:31:24, 28.42s/it]"
     ]
    },
    {
     "name": "stdout",
     "output_type": "stream",
     "text": [
      "Processing MDT (Medtronic plc)\n",
      "  Available columns: ['accession_number', 'filing_date', 'reportDate', 'acceptanceDateTime', 'act', 'form', 'fileNumber', 'items', 'size', 'isXBRL', 'isInlineXBRL', 'primaryDocument', 'primaryDocDescription']\n",
      "  Found 10 10-K filings from 2015 onwards\n"
     ]
    },
    {
     "name": "stderr",
     "output_type": "stream",
     "text": [
      " 62%|██████▏   | 311/503 [2:53:56<1:36:08, 30.04s/it]"
     ]
    },
    {
     "name": "stdout",
     "output_type": "stream",
     "text": [
      "Processing MRK (Merck & Co., Inc.)\n",
      "  Available columns: ['accession_number', 'filing_date', 'reportDate', 'acceptanceDateTime', 'act', 'form', 'fileNumber', 'items', 'size', 'isXBRL', 'isInlineXBRL', 'primaryDocument', 'primaryDocDescription']\n",
      "  Found 10 10-K filings from 2015 onwards\n"
     ]
    },
    {
     "name": "stderr",
     "output_type": "stream",
     "text": [
      " 62%|██████▏   | 312/503 [2:54:29<1:38:17, 30.88s/it]"
     ]
    },
    {
     "name": "stdout",
     "output_type": "stream",
     "text": [
      "Processing META (Meta Platforms, Inc.)\n",
      "  Available columns: ['accession_number', 'filing_date', 'reportDate', 'acceptanceDateTime', 'act', 'form', 'fileNumber', 'items', 'size', 'isXBRL', 'isInlineXBRL', 'primaryDocument', 'primaryDocDescription']\n",
      "  Found 10 10-K filings from 2015 onwards\n"
     ]
    },
    {
     "name": "stderr",
     "output_type": "stream",
     "text": [
      " 62%|██████▏   | 313/503 [2:54:52<1:30:02, 28.43s/it]"
     ]
    },
    {
     "name": "stdout",
     "output_type": "stream",
     "text": [
      "Processing MET (METLIFE INC)\n",
      "  Available columns: ['accession_number', 'filing_date', 'reportDate', 'acceptanceDateTime', 'act', 'form', 'fileNumber', 'items', 'size', 'isXBRL', 'isInlineXBRL', 'primaryDocument', 'primaryDocDescription']\n",
      "  Found 10 10-K filings from 2015 onwards\n"
     ]
    },
    {
     "name": "stderr",
     "output_type": "stream",
     "text": [
      " 62%|██████▏   | 314/503 [2:56:05<2:12:02, 41.92s/it]"
     ]
    },
    {
     "name": "stdout",
     "output_type": "stream",
     "text": [
      "Processing MTD (METTLER TOLEDO INTERNATIONAL INC/)\n",
      "  Available columns: ['accession_number', 'filing_date', 'reportDate', 'acceptanceDateTime', 'act', 'form', 'fileNumber', 'items', 'size', 'isXBRL', 'isInlineXBRL', 'primaryDocument', 'primaryDocDescription']\n",
      "  Found 10 10-K filings from 2015 onwards\n"
     ]
    },
    {
     "name": "stderr",
     "output_type": "stream",
     "text": [
      " 63%|██████▎   | 315/503 [2:56:30<1:55:34, 36.88s/it]"
     ]
    },
    {
     "name": "stdout",
     "output_type": "stream",
     "text": [
      "Processing MGM (MGM Resorts International)\n",
      "  Available columns: ['accession_number', 'filing_date', 'reportDate', 'acceptanceDateTime', 'act', 'form', 'fileNumber', 'items', 'size', 'isXBRL', 'isInlineXBRL', 'primaryDocument', 'primaryDocDescription']\n",
      "  Found 10 10-K filings from 2015 onwards\n"
     ]
    },
    {
     "name": "stderr",
     "output_type": "stream",
     "text": [
      " 63%|██████▎   | 316/503 [2:57:11<1:58:56, 38.16s/it]"
     ]
    },
    {
     "name": "stdout",
     "output_type": "stream",
     "text": [
      "Processing MCHP (MICROCHIP TECHNOLOGY INC)\n",
      "  Available columns: ['accession_number', 'filing_date', 'reportDate', 'acceptanceDateTime', 'act', 'form', 'fileNumber', 'items', 'size', 'isXBRL', 'isInlineXBRL', 'primaryDocument', 'primaryDocDescription']\n",
      "  Found 10 10-K filings from 2015 onwards\n"
     ]
    },
    {
     "name": "stderr",
     "output_type": "stream",
     "text": [
      " 63%|██████▎   | 317/503 [2:57:38<1:47:30, 34.68s/it]"
     ]
    },
    {
     "name": "stdout",
     "output_type": "stream",
     "text": [
      "Processing MU (MICRON TECHNOLOGY INC)\n",
      "  Available columns: ['accession_number', 'filing_date', 'reportDate', 'acceptanceDateTime', 'act', 'form', 'fileNumber', 'items', 'size', 'isXBRL', 'isInlineXBRL', 'primaryDocument', 'primaryDocDescription']\n",
      "  Found 10 10-K filings from 2015 onwards\n"
     ]
    },
    {
     "name": "stderr",
     "output_type": "stream",
     "text": [
      " 63%|██████▎   | 318/503 [2:58:04<1:39:07, 32.15s/it]"
     ]
    },
    {
     "name": "stdout",
     "output_type": "stream",
     "text": [
      "Processing MSFT (MICROSOFT CORP)\n",
      "  Available columns: ['accession_number', 'filing_date', 'reportDate', 'acceptanceDateTime', 'act', 'form', 'fileNumber', 'items', 'size', 'isXBRL', 'isInlineXBRL', 'primaryDocument', 'primaryDocDescription']\n",
      "  Found 10 10-K filings from 2015 onwards\n"
     ]
    },
    {
     "name": "stderr",
     "output_type": "stream",
     "text": [
      " 63%|██████▎   | 319/503 [2:58:45<1:46:42, 34.79s/it]"
     ]
    },
    {
     "name": "stdout",
     "output_type": "stream",
     "text": [
      "Processing MAA (MID AMERICA APARTMENT COMMUNITIES INC.)\n",
      "  Available columns: ['accession_number', 'filing_date', 'reportDate', 'acceptanceDateTime', 'act', 'form', 'fileNumber', 'items', 'size', 'isXBRL', 'isInlineXBRL', 'primaryDocument', 'primaryDocDescription']\n",
      "  Found 10 10-K filings from 2015 onwards\n"
     ]
    },
    {
     "name": "stderr",
     "output_type": "stream",
     "text": [
      " 64%|██████▎   | 320/503 [2:59:47<2:11:03, 42.97s/it]"
     ]
    },
    {
     "name": "stdout",
     "output_type": "stream",
     "text": [
      "Processing MRNA (Moderna, Inc.)\n",
      "  Available columns: ['accession_number', 'filing_date', 'reportDate', 'acceptanceDateTime', 'act', 'form', 'fileNumber', 'items', 'size', 'isXBRL', 'isInlineXBRL', 'primaryDocument', 'primaryDocDescription']\n",
      "  Found 7 10-K filings from 2015 onwards\n"
     ]
    },
    {
     "name": "stderr",
     "output_type": "stream",
     "text": [
      " 64%|██████▍   | 321/503 [3:00:08<1:50:12, 36.33s/it]"
     ]
    },
    {
     "name": "stdout",
     "output_type": "stream",
     "text": [
      "Processing MHK (MOHAWK INDUSTRIES INC)\n",
      "  Available columns: ['accession_number', 'filing_date', 'reportDate', 'acceptanceDateTime', 'act', 'form', 'fileNumber', 'items', 'size', 'isXBRL', 'isInlineXBRL', 'primaryDocument', 'primaryDocDescription']\n",
      "  Found 10 10-K filings from 2015 onwards\n"
     ]
    },
    {
     "name": "stderr",
     "output_type": "stream",
     "text": [
      " 64%|██████▍   | 322/503 [3:00:33<1:39:00, 32.82s/it]"
     ]
    },
    {
     "name": "stdout",
     "output_type": "stream",
     "text": [
      "Processing MOH (MOLINA HEALTHCARE, INC.)\n",
      "  Available columns: ['accession_number', 'filing_date', 'reportDate', 'acceptanceDateTime', 'act', 'form', 'fileNumber', 'items', 'size', 'isXBRL', 'isInlineXBRL', 'primaryDocument', 'primaryDocDescription']\n",
      "  Found 10 10-K filings from 2015 onwards\n",
      "    WARNING: No MD&A section found for MOH (CIK: 1179929) for year 2024\n",
      "    WARNING: No MD&A section found for MOH (CIK: 1179929) for year 2023\n"
     ]
    },
    {
     "name": "stderr",
     "output_type": "stream",
     "text": [
      "/home/nawa/.local/lib/python3.11/site-packages/edgar/files/htmltools.py:271: FutureWarning: Downcasting object dtype arrays on .fillna, .ffill, .bfill is deprecated and will change in a future version. Call result.infer_objects(copy=False) instead. To opt-in to the future behavior, set `pd.set_option('future.no_silent_downcasting', True)`\n",
      "  chunk_df.Item = chunk_df.Item.ffill().infer_objects(copy=False)\n"
     ]
    },
    {
     "name": "stdout",
     "output_type": "stream",
     "text": [
      "    WARNING: No MD&A section found for MOH (CIK: 1179929) for year 2022\n"
     ]
    },
    {
     "name": "stderr",
     "output_type": "stream",
     "text": [
      "/home/nawa/.local/lib/python3.11/site-packages/edgar/files/htmltools.py:271: FutureWarning: Downcasting object dtype arrays on .fillna, .ffill, .bfill is deprecated and will change in a future version. Call result.infer_objects(copy=False) instead. To opt-in to the future behavior, set `pd.set_option('future.no_silent_downcasting', True)`\n",
      "  chunk_df.Item = chunk_df.Item.ffill().infer_objects(copy=False)\n"
     ]
    },
    {
     "name": "stdout",
     "output_type": "stream",
     "text": [
      "    WARNING: No MD&A section found for MOH (CIK: 1179929) for year 2021\n"
     ]
    },
    {
     "name": "stderr",
     "output_type": "stream",
     "text": [
      "/home/nawa/.local/lib/python3.11/site-packages/edgar/files/htmltools.py:271: FutureWarning: Downcasting object dtype arrays on .fillna, .ffill, .bfill is deprecated and will change in a future version. Call result.infer_objects(copy=False) instead. To opt-in to the future behavior, set `pd.set_option('future.no_silent_downcasting', True)`\n",
      "  chunk_df.Item = chunk_df.Item.ffill().infer_objects(copy=False)\n"
     ]
    },
    {
     "name": "stdout",
     "output_type": "stream",
     "text": [
      "    WARNING: No MD&A section found for MOH (CIK: 1179929) for year 2020\n"
     ]
    },
    {
     "name": "stderr",
     "output_type": "stream",
     "text": [
      "/home/nawa/.local/lib/python3.11/site-packages/edgar/files/htmltools.py:271: FutureWarning: Downcasting object dtype arrays on .fillna, .ffill, .bfill is deprecated and will change in a future version. Call result.infer_objects(copy=False) instead. To opt-in to the future behavior, set `pd.set_option('future.no_silent_downcasting', True)`\n",
      "  chunk_df.Item = chunk_df.Item.ffill().infer_objects(copy=False)\n"
     ]
    },
    {
     "name": "stdout",
     "output_type": "stream",
     "text": [
      "    WARNING: No MD&A section found for MOH (CIK: 1179929) for year 2019\n"
     ]
    },
    {
     "name": "stderr",
     "output_type": "stream",
     "text": [
      "/home/nawa/.local/lib/python3.11/site-packages/edgar/files/htmltools.py:271: FutureWarning: Downcasting object dtype arrays on .fillna, .ffill, .bfill is deprecated and will change in a future version. Call result.infer_objects(copy=False) instead. To opt-in to the future behavior, set `pd.set_option('future.no_silent_downcasting', True)`\n",
      "  chunk_df.Item = chunk_df.Item.ffill().infer_objects(copy=False)\n"
     ]
    },
    {
     "name": "stdout",
     "output_type": "stream",
     "text": [
      "    WARNING: No MD&A section found for MOH (CIK: 1179929) for year 2018\n"
     ]
    },
    {
     "name": "stderr",
     "output_type": "stream",
     "text": [
      "/home/nawa/.local/lib/python3.11/site-packages/edgar/files/htmltools.py:271: FutureWarning: Downcasting object dtype arrays on .fillna, .ffill, .bfill is deprecated and will change in a future version. Call result.infer_objects(copy=False) instead. To opt-in to the future behavior, set `pd.set_option('future.no_silent_downcasting', True)`\n",
      "  chunk_df.Item = chunk_df.Item.ffill().infer_objects(copy=False)\n"
     ]
    },
    {
     "name": "stdout",
     "output_type": "stream",
     "text": [
      "    WARNING: No MD&A section found for MOH (CIK: 1179929) for year 2017\n"
     ]
    },
    {
     "name": "stderr",
     "output_type": "stream",
     "text": [
      "/home/nawa/.local/lib/python3.11/site-packages/edgar/files/htmltools.py:271: FutureWarning: Downcasting object dtype arrays on .fillna, .ffill, .bfill is deprecated and will change in a future version. Call result.infer_objects(copy=False) instead. To opt-in to the future behavior, set `pd.set_option('future.no_silent_downcasting', True)`\n",
      "  chunk_df.Item = chunk_df.Item.ffill().infer_objects(copy=False)\n"
     ]
    },
    {
     "name": "stdout",
     "output_type": "stream",
     "text": [
      "    WARNING: No MD&A section found for MOH (CIK: 1179929) for year 2016\n"
     ]
    },
    {
     "name": "stderr",
     "output_type": "stream",
     "text": [
      " 64%|██████▍   | 323/503 [3:01:06<1:39:25, 33.14s/it]"
     ]
    },
    {
     "name": "stdout",
     "output_type": "stream",
     "text": [
      "Processing TAP (MOLSON COORS BEVERAGE CO)\n",
      "  Available columns: ['accession_number', 'filing_date', 'reportDate', 'acceptanceDateTime', 'act', 'form', 'fileNumber', 'items', 'size', 'isXBRL', 'isInlineXBRL', 'primaryDocument', 'primaryDocDescription']\n",
      "  Found 10 10-K filings from 2015 onwards\n",
      "    WARNING: No MD&A section found for TAP (CIK: 24545) for year 2020\n"
     ]
    },
    {
     "name": "stderr",
     "output_type": "stream",
     "text": [
      " 64%|██████▍   | 324/503 [3:01:43<1:42:01, 34.20s/it]"
     ]
    },
    {
     "name": "stdout",
     "output_type": "stream",
     "text": [
      "Processing MDLZ (Mondelez International, Inc.)\n",
      "  Available columns: ['accession_number', 'filing_date', 'reportDate', 'acceptanceDateTime', 'act', 'form', 'fileNumber', 'items', 'size', 'isXBRL', 'isInlineXBRL', 'primaryDocument', 'primaryDocDescription']\n",
      "  Found 10 10-K filings from 2015 onwards\n"
     ]
    },
    {
     "name": "stderr",
     "output_type": "stream",
     "text": [
      " 65%|██████▍   | 325/503 [3:02:20<1:43:44, 34.97s/it]"
     ]
    },
    {
     "name": "stdout",
     "output_type": "stream",
     "text": [
      "Processing MPWR (MONOLITHIC POWER SYSTEMS INC)\n",
      "  Available columns: ['accession_number', 'filing_date', 'reportDate', 'acceptanceDateTime', 'act', 'form', 'fileNumber', 'items', 'size', 'isXBRL', 'isInlineXBRL', 'primaryDocument', 'primaryDocDescription']\n",
      "  Found 9 10-K filings from 2015 onwards\n"
     ]
    },
    {
     "name": "stderr",
     "output_type": "stream",
     "text": [
      " 65%|██████▍   | 326/503 [3:02:42<1:32:05, 31.22s/it]"
     ]
    },
    {
     "name": "stdout",
     "output_type": "stream",
     "text": [
      "Processing MNST (Monster Beverage Corp)\n",
      "  Available columns: ['accession_number', 'filing_date', 'reportDate', 'acceptanceDateTime', 'act', 'form', 'fileNumber', 'items', 'size', 'isXBRL', 'isInlineXBRL', 'primaryDocument', 'primaryDocDescription']\n",
      "  Found 10 10-K filings from 2015 onwards\n"
     ]
    },
    {
     "name": "stderr",
     "output_type": "stream",
     "text": [
      " 65%|██████▌   | 327/503 [3:03:11<1:28:59, 30.34s/it]"
     ]
    },
    {
     "name": "stdout",
     "output_type": "stream",
     "text": [
      "Processing MCO (MOODYS CORP /DE/)\n",
      "  Available columns: ['accession_number', 'filing_date', 'reportDate', 'acceptanceDateTime', 'act', 'form', 'fileNumber', 'items', 'size', 'isXBRL', 'isInlineXBRL', 'primaryDocument', 'primaryDocDescription']\n",
      "  Found 10 10-K filings from 2015 onwards\n"
     ]
    },
    {
     "name": "stderr",
     "output_type": "stream",
     "text": [
      " 65%|██████▌   | 328/503 [3:03:50<1:36:15, 33.00s/it]"
     ]
    },
    {
     "name": "stdout",
     "output_type": "stream",
     "text": [
      "Processing MS (MORGAN STANLEY)\n",
      "  Available columns: ['accession_number', 'filing_date', 'reportDate', 'acceptanceDateTime', 'act', 'form', 'fileNumber', 'items', 'size', 'isXBRL', 'isInlineXBRL', 'primaryDocument', 'primaryDocDescription']\n",
      "  Found 10 10-K filings from 2015 onwards\n"
     ]
    },
    {
     "name": "stderr",
     "output_type": "stream",
     "text": [
      "/home/nawa/.local/lib/python3.11/site-packages/edgar/files/htmltools.py:271: FutureWarning: Downcasting object dtype arrays on .fillna, .ffill, .bfill is deprecated and will change in a future version. Call result.infer_objects(copy=False) instead. To opt-in to the future behavior, set `pd.set_option('future.no_silent_downcasting', True)`\n",
      "  chunk_df.Item = chunk_df.Item.ffill().infer_objects(copy=False)\n"
     ]
    },
    {
     "name": "stdout",
     "output_type": "stream",
     "text": [
      "    WARNING: No MD&A section found for MS (CIK: 895421) for year 2024\n"
     ]
    },
    {
     "name": "stderr",
     "output_type": "stream",
     "text": [
      "/home/nawa/.local/lib/python3.11/site-packages/edgar/files/htmltools.py:271: FutureWarning: Downcasting object dtype arrays on .fillna, .ffill, .bfill is deprecated and will change in a future version. Call result.infer_objects(copy=False) instead. To opt-in to the future behavior, set `pd.set_option('future.no_silent_downcasting', True)`\n",
      "  chunk_df.Item = chunk_df.Item.ffill().infer_objects(copy=False)\n"
     ]
    },
    {
     "name": "stdout",
     "output_type": "stream",
     "text": [
      "    WARNING: No MD&A section found for MS (CIK: 895421) for year 2023\n"
     ]
    },
    {
     "name": "stderr",
     "output_type": "stream",
     "text": [
      "/home/nawa/.local/lib/python3.11/site-packages/edgar/files/htmltools.py:271: FutureWarning: Downcasting object dtype arrays on .fillna, .ffill, .bfill is deprecated and will change in a future version. Call result.infer_objects(copy=False) instead. To opt-in to the future behavior, set `pd.set_option('future.no_silent_downcasting', True)`\n",
      "  chunk_df.Item = chunk_df.Item.ffill().infer_objects(copy=False)\n"
     ]
    },
    {
     "name": "stdout",
     "output_type": "stream",
     "text": [
      "    WARNING: No MD&A section found for MS (CIK: 895421) for year 2022\n"
     ]
    },
    {
     "name": "stderr",
     "output_type": "stream",
     "text": [
      "/home/nawa/.local/lib/python3.11/site-packages/edgar/files/htmltools.py:271: FutureWarning: Downcasting object dtype arrays on .fillna, .ffill, .bfill is deprecated and will change in a future version. Call result.infer_objects(copy=False) instead. To opt-in to the future behavior, set `pd.set_option('future.no_silent_downcasting', True)`\n",
      "  chunk_df.Item = chunk_df.Item.ffill().infer_objects(copy=False)\n"
     ]
    },
    {
     "name": "stdout",
     "output_type": "stream",
     "text": [
      "    WARNING: No MD&A section found for MS (CIK: 895421) for year 2021\n"
     ]
    },
    {
     "name": "stderr",
     "output_type": "stream",
     "text": [
      "/home/nawa/.local/lib/python3.11/site-packages/edgar/files/htmltools.py:271: FutureWarning: Downcasting object dtype arrays on .fillna, .ffill, .bfill is deprecated and will change in a future version. Call result.infer_objects(copy=False) instead. To opt-in to the future behavior, set `pd.set_option('future.no_silent_downcasting', True)`\n",
      "  chunk_df.Item = chunk_df.Item.ffill().infer_objects(copy=False)\n"
     ]
    },
    {
     "name": "stdout",
     "output_type": "stream",
     "text": [
      "    WARNING: No MD&A section found for MS (CIK: 895421) for year 2020\n"
     ]
    },
    {
     "name": "stderr",
     "output_type": "stream",
     "text": [
      "/home/nawa/.local/lib/python3.11/site-packages/edgar/files/htmltools.py:271: FutureWarning: Downcasting object dtype arrays on .fillna, .ffill, .bfill is deprecated and will change in a future version. Call result.infer_objects(copy=False) instead. To opt-in to the future behavior, set `pd.set_option('future.no_silent_downcasting', True)`\n",
      "  chunk_df.Item = chunk_df.Item.ffill().infer_objects(copy=False)\n"
     ]
    },
    {
     "name": "stdout",
     "output_type": "stream",
     "text": [
      "    WARNING: No MD&A section found for MS (CIK: 895421) for year 2019\n"
     ]
    },
    {
     "name": "stderr",
     "output_type": "stream",
     "text": [
      "/home/nawa/.local/lib/python3.11/site-packages/edgar/files/htmltools.py:271: FutureWarning: Downcasting object dtype arrays on .fillna, .ffill, .bfill is deprecated and will change in a future version. Call result.infer_objects(copy=False) instead. To opt-in to the future behavior, set `pd.set_option('future.no_silent_downcasting', True)`\n",
      "  chunk_df.Item = chunk_df.Item.ffill().infer_objects(copy=False)\n"
     ]
    },
    {
     "name": "stdout",
     "output_type": "stream",
     "text": [
      "    WARNING: No MD&A section found for MS (CIK: 895421) for year 2018\n"
     ]
    },
    {
     "name": "stderr",
     "output_type": "stream",
     "text": [
      "/home/nawa/.local/lib/python3.11/site-packages/edgar/files/htmltools.py:271: FutureWarning: Downcasting object dtype arrays on .fillna, .ffill, .bfill is deprecated and will change in a future version. Call result.infer_objects(copy=False) instead. To opt-in to the future behavior, set `pd.set_option('future.no_silent_downcasting', True)`\n",
      "  chunk_df.Item = chunk_df.Item.ffill().infer_objects(copy=False)\n"
     ]
    },
    {
     "name": "stdout",
     "output_type": "stream",
     "text": [
      "    WARNING: No MD&A section found for MS (CIK: 895421) for year 2017\n"
     ]
    },
    {
     "name": "stderr",
     "output_type": "stream",
     "text": [
      " 65%|██████▌   | 329/503 [3:04:58<2:06:31, 43.63s/it]"
     ]
    },
    {
     "name": "stdout",
     "output_type": "stream",
     "text": [
      "Processing MOS (MOSAIC CO)\n",
      "  Available columns: ['accession_number', 'filing_date', 'reportDate', 'acceptanceDateTime', 'act', 'form', 'fileNumber', 'items', 'size', 'isXBRL', 'isInlineXBRL', 'primaryDocument', 'primaryDocDescription']\n",
      "  Found 9 10-K filings from 2015 onwards\n"
     ]
    },
    {
     "name": "stderr",
     "output_type": "stream",
     "text": [
      " 66%|██████▌   | 330/503 [3:05:29<1:54:30, 39.72s/it]"
     ]
    },
    {
     "name": "stdout",
     "output_type": "stream",
     "text": [
      "Processing MSI (Motorola Solutions, Inc.)\n",
      "  Available columns: ['accession_number', 'filing_date', 'reportDate', 'acceptanceDateTime', 'act', 'form', 'fileNumber', 'items', 'size', 'isXBRL', 'isInlineXBRL', 'primaryDocument', 'primaryDocDescription']\n",
      "  Found 10 10-K filings from 2015 onwards\n"
     ]
    },
    {
     "name": "stderr",
     "output_type": "stream",
     "text": [
      " 66%|██████▌   | 331/503 [3:06:00<1:46:41, 37.22s/it]"
     ]
    },
    {
     "name": "stdout",
     "output_type": "stream",
     "text": [
      "Processing MSCI (MSCI Inc.)\n",
      "  Available columns: ['accession_number', 'filing_date', 'reportDate', 'acceptanceDateTime', 'act', 'form', 'fileNumber', 'items', 'size', 'isXBRL', 'isInlineXBRL', 'primaryDocument', 'primaryDocDescription']\n",
      "  Found 10 10-K filings from 2015 onwards\n"
     ]
    },
    {
     "name": "stderr",
     "output_type": "stream",
     "text": [
      " 66%|██████▌   | 332/503 [3:06:37<1:45:53, 37.15s/it]"
     ]
    },
    {
     "name": "stdout",
     "output_type": "stream",
     "text": [
      "Processing NDAQ (NASDAQ, INC.)\n",
      "  Available columns: ['accession_number', 'filing_date', 'reportDate', 'acceptanceDateTime', 'act', 'form', 'fileNumber', 'items', 'size', 'isXBRL', 'isInlineXBRL', 'primaryDocument', 'primaryDocDescription']\n",
      "  Found 10 10-K filings from 2015 onwards\n",
      "    Error processing filing for NDAQ: 'NoneType' object is not subscriptable\n"
     ]
    },
    {
     "name": "stderr",
     "output_type": "stream",
     "text": [
      " 66%|██████▌   | 333/503 [3:07:04<1:36:16, 33.98s/it]"
     ]
    },
    {
     "name": "stdout",
     "output_type": "stream",
     "text": [
      "Processing NTAP (NetApp, Inc.)\n",
      "  Available columns: ['accession_number', 'filing_date', 'reportDate', 'acceptanceDateTime', 'act', 'form', 'fileNumber', 'items', 'size', 'isXBRL', 'isInlineXBRL', 'primaryDocument', 'primaryDocDescription']\n",
      "  Found 10 10-K filings from 2015 onwards\n"
     ]
    },
    {
     "name": "stderr",
     "output_type": "stream",
     "text": [
      " 66%|██████▋   | 334/503 [3:07:36<1:34:32, 33.57s/it]"
     ]
    },
    {
     "name": "stdout",
     "output_type": "stream",
     "text": [
      "Processing NFLX (NETFLIX INC)\n",
      "  Available columns: ['accession_number', 'filing_date', 'reportDate', 'acceptanceDateTime', 'act', 'form', 'fileNumber', 'items', 'size', 'isXBRL', 'isInlineXBRL', 'primaryDocument', 'primaryDocDescription']\n",
      "  Found 10 10-K filings from 2015 onwards\n"
     ]
    },
    {
     "name": "stderr",
     "output_type": "stream",
     "text": [
      " 67%|██████▋   | 335/503 [3:08:00<1:26:01, 30.73s/it]"
     ]
    },
    {
     "name": "stdout",
     "output_type": "stream",
     "text": [
      "Processing NEM (NEWMONT Corp /DE/)\n",
      "  Available columns: ['accession_number', 'filing_date', 'reportDate', 'acceptanceDateTime', 'act', 'form', 'fileNumber', 'items', 'size', 'isXBRL', 'isInlineXBRL', 'primaryDocument', 'primaryDocDescription']\n",
      "  Found 10 10-K filings from 2015 onwards\n",
      "    Error processing filing for NEM: 'NoneType' object is not subscriptable\n",
      "    Error processing filing for NEM: 'NoneType' object is not subscriptable\n",
      "    Error processing filing for NEM: 'NoneType' object is not subscriptable\n",
      "    Error processing filing for NEM: 'NoneType' object is not subscriptable\n"
     ]
    },
    {
     "name": "stderr",
     "output_type": "stream",
     "text": [
      " 67%|██████▋   | 336/503 [3:08:46<1:37:48, 35.14s/it]"
     ]
    },
    {
     "name": "stdout",
     "output_type": "stream",
     "text": [
      "Processing NWSA (NEWS CORP)\n",
      "  Available columns: ['accession_number', 'filing_date', 'reportDate', 'acceptanceDateTime', 'act', 'form', 'fileNumber', 'items', 'size', 'isXBRL', 'isInlineXBRL', 'primaryDocument', 'primaryDocDescription']\n",
      "  Found 10 10-K filings from 2015 onwards\n"
     ]
    },
    {
     "name": "stderr",
     "output_type": "stream",
     "text": [
      " 67%|██████▋   | 337/503 [3:09:27<1:42:10, 36.93s/it]"
     ]
    },
    {
     "name": "stdout",
     "output_type": "stream",
     "text": [
      "Processing NWS (NEWS CORP)\n",
      "  Available columns: ['accession_number', 'filing_date', 'reportDate', 'acceptanceDateTime', 'act', 'form', 'fileNumber', 'items', 'size', 'isXBRL', 'isInlineXBRL', 'primaryDocument', 'primaryDocDescription']\n",
      "  Found 10 10-K filings from 2015 onwards\n"
     ]
    },
    {
     "name": "stderr",
     "output_type": "stream",
     "text": [
      " 67%|██████▋   | 338/503 [3:09:59<1:37:39, 35.51s/it]"
     ]
    },
    {
     "name": "stdout",
     "output_type": "stream",
     "text": [
      "Processing NEE (NEXTERA ENERGY INC)\n",
      "  Available columns: ['accession_number', 'filing_date', 'reportDate', 'acceptanceDateTime', 'act', 'form', 'fileNumber', 'items', 'size', 'isXBRL', 'isInlineXBRL', 'primaryDocument', 'primaryDocDescription']\n",
      "  Found 10 10-K filings from 2015 onwards\n"
     ]
    },
    {
     "name": "stderr",
     "output_type": "stream",
     "text": [
      " 67%|██████▋   | 339/503 [3:10:37<1:39:00, 36.22s/it]"
     ]
    },
    {
     "name": "stdout",
     "output_type": "stream",
     "text": [
      "Processing NKE (NIKE, Inc.)\n",
      "  Available columns: ['accession_number', 'filing_date', 'reportDate', 'acceptanceDateTime', 'act', 'form', 'fileNumber', 'items', 'size', 'isXBRL', 'isInlineXBRL', 'primaryDocument', 'primaryDocDescription']\n",
      "  Found 10 10-K filings from 2015 onwards\n"
     ]
    },
    {
     "name": "stderr",
     "output_type": "stream",
     "text": [
      " 68%|██████▊   | 340/503 [3:11:05<1:31:32, 33.70s/it]"
     ]
    },
    {
     "name": "stdout",
     "output_type": "stream",
     "text": [
      "Processing NI (NISOURCE INC.)\n",
      "  Available columns: ['accession_number', 'filing_date', 'reportDate', 'acceptanceDateTime', 'act', 'form', 'fileNumber', 'items', 'size', 'isXBRL', 'isInlineXBRL', 'primaryDocument', 'primaryDocDescription']\n",
      "  Found 10 10-K filings from 2015 onwards\n"
     ]
    },
    {
     "name": "stderr",
     "output_type": "stream",
     "text": [
      " 68%|██████▊   | 341/503 [3:11:39<1:30:59, 33.70s/it]"
     ]
    },
    {
     "name": "stdout",
     "output_type": "stream",
     "text": [
      "Processing NDSN (NORDSON CORP)\n",
      "  Available columns: ['accession_number', 'filing_date', 'reportDate', 'acceptanceDateTime', 'act', 'form', 'fileNumber', 'items', 'size', 'isXBRL', 'isInlineXBRL', 'primaryDocument', 'primaryDocDescription']\n",
      "  Found 10 10-K filings from 2015 onwards\n"
     ]
    },
    {
     "name": "stderr",
     "output_type": "stream",
     "text": [
      " 68%|██████▊   | 342/503 [3:12:08<1:26:33, 32.26s/it]"
     ]
    },
    {
     "name": "stdout",
     "output_type": "stream",
     "text": [
      "Processing NSC (NORFOLK SOUTHERN CORP)\n",
      "  Available columns: ['accession_number', 'filing_date', 'reportDate', 'acceptanceDateTime', 'act', 'form', 'fileNumber', 'items', 'size', 'isXBRL', 'isInlineXBRL', 'primaryDocument', 'primaryDocDescription']\n",
      "  Found 10 10-K filings from 2015 onwards\n"
     ]
    },
    {
     "name": "stderr",
     "output_type": "stream",
     "text": [
      " 68%|██████▊   | 343/503 [3:12:34<1:21:38, 30.62s/it]"
     ]
    },
    {
     "name": "stdout",
     "output_type": "stream",
     "text": [
      "Processing NTRS (NORTHERN TRUST CORP)\n",
      "  Available columns: ['accession_number', 'filing_date', 'reportDate', 'acceptanceDateTime', 'act', 'form', 'fileNumber', 'items', 'size', 'isXBRL', 'isInlineXBRL', 'primaryDocument', 'primaryDocDescription']\n",
      "  Found 10 10-K filings from 2015 onwards\n"
     ]
    },
    {
     "name": "stderr",
     "output_type": "stream",
     "text": [
      " 68%|██████▊   | 344/503 [3:13:23<1:35:27, 36.02s/it]"
     ]
    },
    {
     "name": "stdout",
     "output_type": "stream",
     "text": [
      "Processing NOC (NORTHROP GRUMMAN CORP /DE/)\n",
      "  Available columns: ['accession_number', 'filing_date', 'reportDate', 'acceptanceDateTime', 'act', 'form', 'fileNumber', 'items', 'size', 'isXBRL', 'isInlineXBRL', 'primaryDocument', 'primaryDocDescription']\n",
      "  Found 10 10-K filings from 2015 onwards\n"
     ]
    },
    {
     "name": "stderr",
     "output_type": "stream",
     "text": [
      " 69%|██████▊   | 345/503 [3:13:52<1:29:11, 33.87s/it]"
     ]
    },
    {
     "name": "stdout",
     "output_type": "stream",
     "text": [
      "Processing NCLH (Norwegian Cruise Line Holdings Ltd.)\n",
      "  Available columns: ['accession_number', 'filing_date', 'reportDate', 'acceptanceDateTime', 'act', 'form', 'fileNumber', 'items', 'size', 'isXBRL', 'isInlineXBRL', 'primaryDocument', 'primaryDocDescription']\n",
      "  Found 10 10-K filings from 2015 onwards\n"
     ]
    },
    {
     "name": "stderr",
     "output_type": "stream",
     "text": [
      " 69%|██████▉   | 346/503 [3:14:22<1:25:23, 32.63s/it]"
     ]
    },
    {
     "name": "stdout",
     "output_type": "stream",
     "text": [
      "Processing NRG (NRG ENERGY, INC.)\n",
      "  Available columns: ['accession_number', 'filing_date', 'reportDate', 'acceptanceDateTime', 'act', 'form', 'fileNumber', 'items', 'size', 'isXBRL', 'isInlineXBRL', 'primaryDocument', 'primaryDocDescription']\n",
      "  Found 10 10-K filings from 2015 onwards\n"
     ]
    },
    {
     "name": "stderr",
     "output_type": "stream",
     "text": [
      " 69%|██████▉   | 347/503 [3:15:04<1:32:35, 35.61s/it]"
     ]
    },
    {
     "name": "stdout",
     "output_type": "stream",
     "text": [
      "Processing NUE (NUCOR CORP)\n",
      "  Available columns: ['accession_number', 'filing_date', 'reportDate', 'acceptanceDateTime', 'act', 'form', 'fileNumber', 'items', 'size', 'isXBRL', 'isInlineXBRL', 'primaryDocument', 'primaryDocDescription']\n",
      "  Found 10 10-K filings from 2015 onwards\n"
     ]
    },
    {
     "name": "stderr",
     "output_type": "stream",
     "text": [
      " 69%|██████▉   | 348/503 [3:15:33<1:26:37, 33.53s/it]"
     ]
    },
    {
     "name": "stdout",
     "output_type": "stream",
     "text": [
      "Processing NVDA (NVIDIA CORP)\n",
      "  Available columns: ['accession_number', 'filing_date', 'reportDate', 'acceptanceDateTime', 'act', 'form', 'fileNumber', 'items', 'size', 'isXBRL', 'isInlineXBRL', 'primaryDocument', 'primaryDocDescription']\n",
      "  Found 11 10-K filings from 2015 onwards\n"
     ]
    },
    {
     "name": "stderr",
     "output_type": "stream",
     "text": [
      " 69%|██████▉   | 349/503 [3:15:57<1:18:36, 30.63s/it]"
     ]
    },
    {
     "name": "stdout",
     "output_type": "stream",
     "text": [
      "Processing NVR (NVR INC)\n",
      "  Available columns: ['accession_number', 'filing_date', 'reportDate', 'acceptanceDateTime', 'act', 'form', 'fileNumber', 'items', 'size', 'isXBRL', 'isInlineXBRL', 'primaryDocument', 'primaryDocDescription']\n",
      "  Found 10 10-K filings from 2015 onwards\n"
     ]
    },
    {
     "name": "stderr",
     "output_type": "stream",
     "text": [
      " 70%|██████▉   | 350/503 [3:16:21<1:13:02, 28.64s/it]"
     ]
    },
    {
     "name": "stdout",
     "output_type": "stream",
     "text": [
      "Processing NXPI (NXP Semiconductors N.V.)\n",
      "  Available columns: ['accession_number', 'filing_date', 'reportDate', 'acceptanceDateTime', 'act', 'form', 'fileNumber', 'items', 'size', 'isXBRL', 'isInlineXBRL', 'primaryDocument', 'primaryDocDescription']\n",
      "  Found 6 10-K filings from 2015 onwards\n"
     ]
    },
    {
     "name": "stderr",
     "output_type": "stream",
     "text": [
      " 70%|██████▉   | 351/503 [3:16:39<1:04:58, 25.65s/it]"
     ]
    },
    {
     "name": "stdout",
     "output_type": "stream",
     "text": [
      "Processing ORLY (O REILLY AUTOMOTIVE INC)\n",
      "  Available columns: ['accession_number', 'filing_date', 'reportDate', 'acceptanceDateTime', 'act', 'form', 'fileNumber', 'items', 'size', 'isXBRL', 'isInlineXBRL', 'primaryDocument', 'primaryDocDescription']\n",
      "  Found 10 10-K filings from 2015 onwards\n"
     ]
    },
    {
     "name": "stderr",
     "output_type": "stream",
     "text": [
      " 70%|██████▉   | 352/503 [3:17:03<1:02:41, 24.91s/it]"
     ]
    },
    {
     "name": "stdout",
     "output_type": "stream",
     "text": [
      "Processing OXY (OCCIDENTAL PETROLEUM CORP /DE/)\n",
      "  Available columns: ['accession_number', 'filing_date', 'reportDate', 'acceptanceDateTime', 'act', 'form', 'fileNumber', 'items', 'size', 'isXBRL', 'isInlineXBRL', 'primaryDocument', 'primaryDocDescription']\n",
      "  Found 10 10-K filings from 2015 onwards\n"
     ]
    },
    {
     "name": "stderr",
     "output_type": "stream",
     "text": [
      " 70%|███████   | 353/503 [3:17:38<1:10:04, 28.03s/it]"
     ]
    },
    {
     "name": "stdout",
     "output_type": "stream",
     "text": [
      "Processing ODFL (OLD DOMINION FREIGHT LINE, INC.)\n",
      "  Available columns: ['accession_number', 'filing_date', 'reportDate', 'acceptanceDateTime', 'act', 'form', 'fileNumber', 'items', 'size', 'isXBRL', 'isInlineXBRL', 'primaryDocument', 'primaryDocDescription']\n",
      "  Found 10 10-K filings from 2015 onwards\n",
      "    WARNING: No MD&A section found for ODFL (CIK: 878927) for year 2016\n",
      "    WARNING: No MD&A section found for ODFL (CIK: 878927) for year 2015\n"
     ]
    },
    {
     "name": "stderr",
     "output_type": "stream",
     "text": [
      " 70%|███████   | 354/503 [3:17:59<1:04:36, 26.02s/it]"
     ]
    },
    {
     "name": "stdout",
     "output_type": "stream",
     "text": [
      "Processing OMC (OMNICOM GROUP INC.)\n",
      "  Available columns: ['accession_number', 'filing_date', 'reportDate', 'acceptanceDateTime', 'act', 'form', 'fileNumber', 'items', 'size', 'isXBRL', 'isInlineXBRL', 'primaryDocument', 'primaryDocDescription']\n",
      "  Found 10 10-K filings from 2015 onwards\n"
     ]
    },
    {
     "name": "stderr",
     "output_type": "stream",
     "text": [
      " 71%|███████   | 355/503 [3:18:23<1:02:13, 25.23s/it]"
     ]
    },
    {
     "name": "stdout",
     "output_type": "stream",
     "text": [
      "Processing ON (ON SEMICONDUCTOR CORP)\n",
      "  Available columns: ['accession_number', 'filing_date', 'reportDate', 'acceptanceDateTime', 'act', 'form', 'fileNumber', 'items', 'size', 'isXBRL', 'isInlineXBRL', 'primaryDocument', 'primaryDocDescription']\n",
      "  Found 10 10-K filings from 2015 onwards\n"
     ]
    },
    {
     "name": "stderr",
     "output_type": "stream",
     "text": [
      " 71%|███████   | 356/503 [3:18:52<1:05:14, 26.63s/it]"
     ]
    },
    {
     "name": "stdout",
     "output_type": "stream",
     "text": [
      "Processing OKE (ONEOK INC /NEW/)\n",
      "  Available columns: ['accession_number', 'filing_date', 'reportDate', 'acceptanceDateTime', 'act', 'form', 'fileNumber', 'items', 'size', 'isXBRL', 'isInlineXBRL', 'primaryDocument', 'primaryDocDescription']\n",
      "  Found 10 10-K filings from 2015 onwards\n"
     ]
    },
    {
     "name": "stderr",
     "output_type": "stream",
     "text": [
      " 71%|███████   | 357/503 [3:19:25<1:09:04, 28.39s/it]"
     ]
    },
    {
     "name": "stdout",
     "output_type": "stream",
     "text": [
      "Processing ORCL (ORACLE CORP)\n",
      "  Available columns: ['accession_number', 'filing_date', 'reportDate', 'acceptanceDateTime', 'act', 'form', 'fileNumber', 'items', 'size', 'isXBRL', 'isInlineXBRL', 'primaryDocument', 'primaryDocDescription']\n",
      "  Found 10 10-K filings from 2015 onwards\n"
     ]
    },
    {
     "name": "stderr",
     "output_type": "stream",
     "text": [
      " 71%|███████   | 358/503 [3:20:02<1:14:56, 31.01s/it]"
     ]
    },
    {
     "name": "stdout",
     "output_type": "stream",
     "text": [
      "Processing OTIS (Otis Worldwide Corp)\n",
      "  Available columns: ['accession_number', 'filing_date', 'reportDate', 'acceptanceDateTime', 'act', 'form', 'fileNumber', 'items', 'size', 'isXBRL', 'isInlineXBRL', 'primaryDocument', 'primaryDocDescription']\n",
      "  Found 5 10-K filings from 2015 onwards\n"
     ]
    },
    {
     "name": "stderr",
     "output_type": "stream",
     "text": [
      " 71%|███████▏  | 359/503 [3:20:17<1:02:31, 26.05s/it]"
     ]
    },
    {
     "name": "stdout",
     "output_type": "stream",
     "text": [
      "Processing PCAR (PACCAR INC)\n",
      "  Available columns: ['accession_number', 'filing_date', 'reportDate', 'acceptanceDateTime', 'act', 'form', 'fileNumber', 'items', 'size', 'isXBRL', 'isInlineXBRL', 'primaryDocument', 'primaryDocDescription']\n",
      "  Found 10 10-K filings from 2015 onwards\n"
     ]
    },
    {
     "name": "stderr",
     "output_type": "stream",
     "text": [
      " 72%|███████▏  | 360/503 [3:21:01<1:15:27, 31.66s/it]"
     ]
    },
    {
     "name": "stdout",
     "output_type": "stream",
     "text": [
      "Processing PKG (PACKAGING CORP OF AMERICA)\n",
      "  Available columns: ['accession_number', 'filing_date', 'reportDate', 'acceptanceDateTime', 'act', 'form', 'fileNumber', 'items', 'size', 'isXBRL', 'isInlineXBRL', 'primaryDocument', 'primaryDocDescription']\n",
      "  Found 10 10-K filings from 2015 onwards\n"
     ]
    },
    {
     "name": "stderr",
     "output_type": "stream",
     "text": [
      " 72%|███████▏  | 361/503 [3:21:38<1:18:50, 33.32s/it]"
     ]
    },
    {
     "name": "stdout",
     "output_type": "stream",
     "text": [
      "Processing PLTR (Palantir Technologies Inc.)\n",
      "  Available columns: ['accession_number', 'filing_date', 'reportDate', 'acceptanceDateTime', 'act', 'form', 'fileNumber', 'items', 'size', 'isXBRL', 'isInlineXBRL', 'primaryDocument', 'primaryDocDescription']\n",
      "  Found 5 10-K filings from 2015 onwards\n"
     ]
    },
    {
     "name": "stderr",
     "output_type": "stream",
     "text": [
      " 72%|███████▏  | 362/503 [3:21:54<1:05:54, 28.05s/it]"
     ]
    },
    {
     "name": "stdout",
     "output_type": "stream",
     "text": [
      "Processing PANW (Palo Alto Networks Inc)\n",
      "  Available columns: ['accession_number', 'filing_date', 'reportDate', 'acceptanceDateTime', 'act', 'form', 'fileNumber', 'items', 'size', 'isXBRL', 'isInlineXBRL', 'primaryDocument', 'primaryDocDescription']\n",
      "  Found 10 10-K filings from 2015 onwards\n"
     ]
    },
    {
     "name": "stderr",
     "output_type": "stream",
     "text": [
      " 72%|███████▏  | 363/503 [3:22:21<1:04:40, 27.72s/it]"
     ]
    },
    {
     "name": "stdout",
     "output_type": "stream",
     "text": [
      "Processing PARA (Paramount Global)\n",
      "  Available columns: ['accession_number', 'filing_date', 'reportDate', 'acceptanceDateTime', 'act', 'form', 'fileNumber', 'items', 'size', 'isXBRL', 'isInlineXBRL', 'primaryDocument', 'primaryDocDescription']\n",
      "  Found 10 10-K filings from 2015 onwards\n"
     ]
    },
    {
     "name": "stderr",
     "output_type": "stream",
     "text": [
      " 72%|███████▏  | 364/503 [3:22:57<1:10:00, 30.22s/it]"
     ]
    },
    {
     "name": "stdout",
     "output_type": "stream",
     "text": [
      "Processing PH (Parker-Hannifin Corp)\n",
      "  Available columns: ['accession_number', 'filing_date', 'reportDate', 'acceptanceDateTime', 'act', 'form', 'fileNumber', 'items', 'size', 'isXBRL', 'isInlineXBRL', 'primaryDocument', 'primaryDocDescription']\n",
      "  Found 10 10-K filings from 2015 onwards\n"
     ]
    },
    {
     "name": "stderr",
     "output_type": "stream",
     "text": [
      " 73%|███████▎  | 365/503 [3:23:24<1:07:17, 29.26s/it]"
     ]
    },
    {
     "name": "stdout",
     "output_type": "stream",
     "text": [
      "Processing PAYX (PAYCHEX INC)\n",
      "  Available columns: ['accession_number', 'filing_date', 'reportDate', 'acceptanceDateTime', 'act', 'form', 'fileNumber', 'items', 'size', 'isXBRL', 'isInlineXBRL', 'primaryDocument', 'primaryDocDescription']\n",
      "  Found 10 10-K filings from 2015 onwards\n",
      "    Error processing filing for PAYX: 'NoneType' object is not subscriptable\n",
      "    Error processing filing for PAYX: 'NoneType' object is not subscriptable\n",
      "    Error processing filing for PAYX: 'NoneType' object is not subscriptable\n",
      "    Error processing filing for PAYX: 'NoneType' object is not subscriptable\n"
     ]
    },
    {
     "name": "stderr",
     "output_type": "stream",
     "text": [
      " 73%|███████▎  | 366/503 [3:23:42<59:11, 25.92s/it]  "
     ]
    },
    {
     "name": "stdout",
     "output_type": "stream",
     "text": [
      "Processing PAYC (Paycom Software, Inc.)\n",
      "  Available columns: ['accession_number', 'filing_date', 'reportDate', 'acceptanceDateTime', 'act', 'form', 'fileNumber', 'items', 'size', 'isXBRL', 'isInlineXBRL', 'primaryDocument', 'primaryDocDescription']\n",
      "  Found 10 10-K filings from 2015 onwards\n"
     ]
    },
    {
     "name": "stderr",
     "output_type": "stream",
     "text": [
      " 73%|███████▎  | 367/503 [3:24:10<59:59, 26.47s/it]"
     ]
    },
    {
     "name": "stdout",
     "output_type": "stream",
     "text": [
      "Processing PYPL (PayPal Holdings, Inc.)\n",
      "  Available columns: ['accession_number', 'filing_date', 'reportDate', 'acceptanceDateTime', 'act', 'form', 'fileNumber', 'items', 'size', 'isXBRL', 'isInlineXBRL', 'primaryDocument', 'primaryDocDescription']\n",
      "  Found 10 10-K filings from 2015 onwards\n"
     ]
    },
    {
     "name": "stderr",
     "output_type": "stream",
     "text": [
      " 73%|███████▎  | 368/503 [3:24:39<1:01:20, 27.26s/it]"
     ]
    },
    {
     "name": "stdout",
     "output_type": "stream",
     "text": [
      "Processing PNR (PENTAIR plc)\n",
      "  Available columns: ['accession_number', 'filing_date', 'reportDate', 'acceptanceDateTime', 'act', 'form', 'fileNumber', 'items', 'size', 'isXBRL', 'isInlineXBRL', 'primaryDocument', 'primaryDocDescription']\n",
      "  Found 10 10-K filings from 2015 onwards\n"
     ]
    },
    {
     "name": "stderr",
     "output_type": "stream",
     "text": [
      " 73%|███████▎  | 369/503 [3:25:08<1:02:12, 27.86s/it]"
     ]
    },
    {
     "name": "stdout",
     "output_type": "stream",
     "text": [
      "Processing PEP (PEPSICO INC)\n",
      "  Available columns: ['accession_number', 'filing_date', 'reportDate', 'acceptanceDateTime', 'act', 'form', 'fileNumber', 'items', 'size', 'isXBRL', 'isInlineXBRL', 'primaryDocument', 'primaryDocDescription']\n",
      "  Found 10 10-K filings from 2015 onwards\n"
     ]
    },
    {
     "name": "stderr",
     "output_type": "stream",
     "text": [
      " 74%|███████▎  | 370/503 [3:25:42<1:05:30, 29.55s/it]"
     ]
    },
    {
     "name": "stdout",
     "output_type": "stream",
     "text": [
      "Processing PFE (PFIZER INC)\n",
      "  Available columns: ['accession_number', 'filing_date', 'reportDate', 'acceptanceDateTime', 'act', 'form', 'fileNumber', 'items', 'size', 'isXBRL', 'isInlineXBRL', 'primaryDocument', 'primaryDocDescription']\n",
      "  Found 10 10-K filings from 2015 onwards\n"
     ]
    },
    {
     "name": "stderr",
     "output_type": "stream",
     "text": [
      " 74%|███████▍  | 371/503 [3:26:10<1:03:46, 28.99s/it]"
     ]
    },
    {
     "name": "stdout",
     "output_type": "stream",
     "text": [
      "Processing PCG (PG&E Corp)\n",
      "  Available columns: ['accession_number', 'filing_date', 'reportDate', 'acceptanceDateTime', 'act', 'form', 'fileNumber', 'items', 'size', 'isXBRL', 'isInlineXBRL', 'primaryDocument', 'primaryDocDescription']\n",
      "  Found 10 10-K filings from 2015 onwards\n"
     ]
    },
    {
     "name": "stderr",
     "output_type": "stream",
     "text": [
      " 74%|███████▍  | 372/503 [3:26:49<1:10:05, 32.11s/it]"
     ]
    },
    {
     "name": "stdout",
     "output_type": "stream",
     "text": [
      "Processing PM (Philip Morris International Inc.)\n",
      "  Available columns: ['accession_number', 'filing_date', 'reportDate', 'acceptanceDateTime', 'act', 'form', 'fileNumber', 'items', 'size', 'isXBRL', 'isInlineXBRL', 'primaryDocument', 'primaryDocDescription']\n",
      "  Found 10 10-K filings from 2015 onwards\n"
     ]
    },
    {
     "name": "stderr",
     "output_type": "stream",
     "text": [
      " 74%|███████▍  | 373/503 [3:27:23<1:10:32, 32.55s/it]"
     ]
    },
    {
     "name": "stdout",
     "output_type": "stream",
     "text": [
      "Processing PSX (Phillips 66)\n",
      "  Available columns: ['accession_number', 'filing_date', 'reportDate', 'acceptanceDateTime', 'act', 'form', 'fileNumber', 'items', 'size', 'isXBRL', 'isInlineXBRL', 'primaryDocument', 'primaryDocDescription']\n",
      "  Found 10 10-K filings from 2015 onwards\n"
     ]
    },
    {
     "name": "stderr",
     "output_type": "stream",
     "text": [
      " 74%|███████▍  | 374/503 [3:27:58<1:12:01, 33.50s/it]"
     ]
    },
    {
     "name": "stdout",
     "output_type": "stream",
     "text": [
      "Processing PNW (PINNACLE WEST CAPITAL CORP)\n",
      "  Available columns: ['accession_number', 'filing_date', 'reportDate', 'acceptanceDateTime', 'act', 'form', 'fileNumber', 'items', 'size', 'isXBRL', 'isInlineXBRL', 'primaryDocument', 'primaryDocDescription']\n",
      "  Found 10 10-K filings from 2015 onwards\n"
     ]
    },
    {
     "name": "stderr",
     "output_type": "stream",
     "text": [
      " 75%|███████▍  | 375/503 [3:28:40<1:16:33, 35.89s/it]"
     ]
    },
    {
     "name": "stdout",
     "output_type": "stream",
     "text": [
      "Processing PNC (PNC FINANCIAL SERVICES GROUP, INC.)\n",
      "  Available columns: ['accession_number', 'filing_date', 'reportDate', 'acceptanceDateTime', 'act', 'form', 'fileNumber', 'items', 'size', 'isXBRL', 'isInlineXBRL', 'primaryDocument', 'primaryDocDescription']\n",
      "  Found 10 10-K filings from 2015 onwards\n"
     ]
    },
    {
     "name": "stderr",
     "output_type": "stream",
     "text": [
      " 75%|███████▍  | 376/503 [3:29:42<1:32:51, 43.87s/it]"
     ]
    },
    {
     "name": "stdout",
     "output_type": "stream",
     "text": [
      "Processing POOL (POOL CORP)\n",
      "  Available columns: ['accession_number', 'filing_date', 'reportDate', 'acceptanceDateTime', 'act', 'form', 'fileNumber', 'items', 'size', 'isXBRL', 'isInlineXBRL', 'primaryDocument', 'primaryDocDescription']\n",
      "  Found 10 10-K filings from 2015 onwards\n"
     ]
    },
    {
     "name": "stderr",
     "output_type": "stream",
     "text": [
      " 75%|███████▍  | 377/503 [3:30:08<1:20:26, 38.31s/it]"
     ]
    },
    {
     "name": "stdout",
     "output_type": "stream",
     "text": [
      "Processing PPG (PPG INDUSTRIES INC)\n",
      "  Available columns: ['accession_number', 'filing_date', 'reportDate', 'acceptanceDateTime', 'act', 'form', 'fileNumber', 'items', 'size', 'isXBRL', 'isInlineXBRL', 'primaryDocument', 'primaryDocDescription']\n",
      "  Found 10 10-K filings from 2015 onwards\n"
     ]
    },
    {
     "name": "stderr",
     "output_type": "stream",
     "text": [
      " 75%|███████▌  | 378/503 [3:30:37<1:13:57, 35.50s/it]"
     ]
    },
    {
     "name": "stdout",
     "output_type": "stream",
     "text": [
      "Processing PPL (PPL Corp)\n",
      "  Available columns: ['accession_number', 'filing_date', 'reportDate', 'acceptanceDateTime', 'act', 'form', 'fileNumber', 'items', 'size', 'isXBRL', 'isInlineXBRL', 'primaryDocument', 'primaryDocDescription']\n",
      "  Found 10 10-K filings from 2015 onwards\n"
     ]
    },
    {
     "name": "stderr",
     "output_type": "stream",
     "text": [
      " 75%|███████▌  | 379/503 [3:31:46<1:34:16, 45.62s/it]"
     ]
    },
    {
     "name": "stdout",
     "output_type": "stream",
     "text": [
      "Processing PFG (PRINCIPAL FINANCIAL GROUP INC)\n",
      "  Available columns: ['accession_number', 'filing_date', 'reportDate', 'acceptanceDateTime', 'act', 'form', 'fileNumber', 'items', 'size', 'isXBRL', 'isInlineXBRL', 'primaryDocument', 'primaryDocDescription']\n",
      "  Found 10 10-K filings from 2015 onwards\n",
      "    WARNING: No MD&A section found for PFG (CIK: 1126328) for year 2024\n",
      "    WARNING: No MD&A section found for PFG (CIK: 1126328) for year 2023\n",
      "    WARNING: No MD&A section found for PFG (CIK: 1126328) for year 2022\n",
      "    WARNING: No MD&A section found for PFG (CIK: 1126328) for year 2021\n",
      "    WARNING: No MD&A section found for PFG (CIK: 1126328) for year 2020\n",
      "    WARNING: No MD&A section found for PFG (CIK: 1126328) for year 2019\n"
     ]
    },
    {
     "name": "stderr",
     "output_type": "stream",
     "text": [
      " 76%|███████▌  | 380/503 [3:33:21<2:04:17, 60.63s/it]"
     ]
    },
    {
     "name": "stdout",
     "output_type": "stream",
     "text": [
      "Processing PG (PROCTER & GAMBLE Co)\n",
      "  Available columns: ['accession_number', 'filing_date', 'reportDate', 'acceptanceDateTime', 'act', 'form', 'fileNumber', 'items', 'size', 'isXBRL', 'isInlineXBRL', 'primaryDocument', 'primaryDocDescription']\n",
      "  Found 10 10-K filings from 2015 onwards\n"
     ]
    },
    {
     "name": "stderr",
     "output_type": "stream",
     "text": [
      " 76%|███████▌  | 381/503 [3:33:54<1:46:22, 52.32s/it]"
     ]
    },
    {
     "name": "stdout",
     "output_type": "stream",
     "text": [
      "Processing PGR (PROGRESSIVE CORP/OH/)\n",
      "  Available columns: ['accession_number', 'filing_date', 'reportDate', 'acceptanceDateTime', 'act', 'form', 'fileNumber', 'items', 'size', 'isXBRL', 'isInlineXBRL', 'primaryDocument', 'primaryDocDescription']\n",
      "  Found 9 10-K filings from 2015 onwards\n"
     ]
    },
    {
     "name": "stderr",
     "output_type": "stream",
     "text": [
      " 76%|███████▌  | 382/503 [3:34:14<1:25:30, 42.40s/it]"
     ]
    },
    {
     "name": "stdout",
     "output_type": "stream",
     "text": [
      "Processing PLD (Prologis, Inc.)\n",
      "  Available columns: ['accession_number', 'filing_date', 'reportDate', 'acceptanceDateTime', 'act', 'form', 'fileNumber', 'items', 'size', 'isXBRL', 'isInlineXBRL', 'primaryDocument', 'primaryDocDescription']\n",
      "  Found 10 10-K filings from 2015 onwards\n"
     ]
    },
    {
     "name": "stderr",
     "output_type": "stream",
     "text": [
      " 76%|███████▌  | 383/503 [3:35:27<1:43:38, 51.82s/it]"
     ]
    },
    {
     "name": "stdout",
     "output_type": "stream",
     "text": [
      "Processing PRU (PRUDENTIAL FINANCIAL INC)\n",
      "  Available columns: ['accession_number', 'filing_date', 'reportDate', 'acceptanceDateTime', 'act', 'form', 'fileNumber', 'items', 'size', 'isXBRL', 'isInlineXBRL', 'primaryDocument', 'primaryDocDescription']\n",
      "  Found 10 10-K filings from 2015 onwards\n"
     ]
    },
    {
     "name": "stderr",
     "output_type": "stream",
     "text": [
      " 76%|███████▋  | 384/503 [3:36:52<2:02:01, 61.53s/it]"
     ]
    },
    {
     "name": "stdout",
     "output_type": "stream",
     "text": [
      "Processing PEG (PUBLIC SERVICE ENTERPRISE GROUP INC)\n",
      "  Available columns: ['accession_number', 'filing_date', 'reportDate', 'acceptanceDateTime', 'act', 'form', 'fileNumber', 'items', 'size', 'isXBRL', 'isInlineXBRL', 'primaryDocument', 'primaryDocDescription']\n",
      "  Found 10 10-K filings from 2015 onwards\n"
     ]
    },
    {
     "name": "stderr",
     "output_type": "stream",
     "text": [
      " 77%|███████▋  | 385/503 [3:37:49<1:58:36, 60.31s/it]"
     ]
    },
    {
     "name": "stdout",
     "output_type": "stream",
     "text": [
      "Processing PTC (PTC INC.)\n",
      "  Available columns: ['accession_number', 'filing_date', 'reportDate', 'acceptanceDateTime', 'act', 'form', 'fileNumber', 'items', 'size', 'isXBRL', 'isInlineXBRL', 'primaryDocument', 'primaryDocDescription']\n",
      "  Found 10 10-K filings from 2015 onwards\n"
     ]
    },
    {
     "name": "stderr",
     "output_type": "stream",
     "text": [
      " 77%|███████▋  | 386/503 [3:38:29<1:45:27, 54.08s/it]"
     ]
    },
    {
     "name": "stdout",
     "output_type": "stream",
     "text": [
      "Processing PSA (Public Storage)\n",
      "  Available columns: ['accession_number', 'filing_date', 'reportDate', 'acceptanceDateTime', 'act', 'form', 'fileNumber', 'items', 'size', 'isXBRL', 'isInlineXBRL', 'primaryDocument', 'primaryDocDescription']\n",
      "  Found 10 10-K filings from 2015 onwards\n",
      "    Error processing filing for PSA: 'NoneType' object is not subscriptable\n",
      "    Error processing filing for PSA: 'NoneType' object is not subscriptable\n",
      "    Error processing filing for PSA: 'NoneType' object is not subscriptable\n",
      "    Error processing filing for PSA: 'NoneType' object is not subscriptable\n"
     ]
    },
    {
     "name": "stderr",
     "output_type": "stream",
     "text": [
      " 77%|███████▋  | 387/503 [3:38:54<1:27:40, 45.35s/it]"
     ]
    },
    {
     "name": "stdout",
     "output_type": "stream",
     "text": [
      "Processing PHM (PULTEGROUP INC/MI/)\n",
      "  Available columns: ['accession_number', 'filing_date', 'reportDate', 'acceptanceDateTime', 'act', 'form', 'fileNumber', 'items', 'size', 'isXBRL', 'isInlineXBRL', 'primaryDocument', 'primaryDocDescription']\n",
      "  Found 10 10-K filings from 2015 onwards\n"
     ]
    },
    {
     "name": "stderr",
     "output_type": "stream",
     "text": [
      " 77%|███████▋  | 388/503 [3:39:21<1:16:47, 40.06s/it]"
     ]
    },
    {
     "name": "stdout",
     "output_type": "stream",
     "text": [
      "Processing PWR (QUANTA SERVICES, INC.)\n",
      "  Available columns: ['accession_number', 'filing_date', 'reportDate', 'acceptanceDateTime', 'act', 'form', 'fileNumber', 'items', 'size', 'isXBRL', 'isInlineXBRL', 'primaryDocument', 'primaryDocDescription']\n",
      "  Found 10 10-K filings from 2015 onwards\n"
     ]
    },
    {
     "name": "stderr",
     "output_type": "stream",
     "text": [
      " 77%|███████▋  | 389/503 [3:39:54<1:11:41, 37.73s/it]"
     ]
    },
    {
     "name": "stdout",
     "output_type": "stream",
     "text": [
      "Processing QCOM (QUALCOMM INC/DE)\n",
      "  Available columns: ['accession_number', 'filing_date', 'reportDate', 'acceptanceDateTime', 'act', 'form', 'fileNumber', 'items', 'size', 'isXBRL', 'isInlineXBRL', 'primaryDocument', 'primaryDocDescription']\n",
      "  Found 10 10-K filings from 2015 onwards\n"
     ]
    },
    {
     "name": "stderr",
     "output_type": "stream",
     "text": [
      " 78%|███████▊  | 390/503 [3:40:17<1:02:59, 33.45s/it]"
     ]
    },
    {
     "name": "stdout",
     "output_type": "stream",
     "text": [
      "Processing DGX (QUEST DIAGNOSTICS INC)\n",
      "  Available columns: ['accession_number', 'filing_date', 'reportDate', 'acceptanceDateTime', 'act', 'form', 'fileNumber', 'items', 'size', 'isXBRL', 'isInlineXBRL', 'primaryDocument', 'primaryDocDescription']\n",
      "  Found 10 10-K filings from 2015 onwards\n"
     ]
    },
    {
     "name": "stderr",
     "output_type": "stream",
     "text": [
      " 78%|███████▊  | 391/503 [3:40:46<1:00:06, 32.20s/it]"
     ]
    },
    {
     "name": "stdout",
     "output_type": "stream",
     "text": [
      "Processing RL (RALPH LAUREN CORP)\n",
      "  Available columns: ['accession_number', 'filing_date', 'reportDate', 'acceptanceDateTime', 'act', 'form', 'fileNumber', 'items', 'size', 'isXBRL', 'isInlineXBRL', 'primaryDocument', 'primaryDocDescription']\n",
      "  Found 10 10-K filings from 2015 onwards\n"
     ]
    },
    {
     "name": "stderr",
     "output_type": "stream",
     "text": [
      " 78%|███████▊  | 392/503 [3:41:16<58:14, 31.48s/it]  "
     ]
    },
    {
     "name": "stdout",
     "output_type": "stream",
     "text": [
      "Processing RJF (RAYMOND JAMES FINANCIAL INC)\n",
      "  Available columns: ['accession_number', 'filing_date', 'reportDate', 'acceptanceDateTime', 'act', 'form', 'fileNumber', 'items', 'size', 'isXBRL', 'isInlineXBRL', 'primaryDocument', 'primaryDocDescription']\n",
      "  Found 10 10-K filings from 2015 onwards\n"
     ]
    },
    {
     "name": "stderr",
     "output_type": "stream",
     "text": [
      " 78%|███████▊  | 393/503 [3:42:08<1:09:00, 37.64s/it]"
     ]
    },
    {
     "name": "stdout",
     "output_type": "stream",
     "text": [
      "Processing RTX (RTX Corp)\n",
      "  Available columns: ['accession_number', 'filing_date', 'reportDate', 'acceptanceDateTime', 'act', 'form', 'fileNumber', 'items', 'size', 'isXBRL', 'isInlineXBRL', 'primaryDocument', 'primaryDocDescription']\n",
      "  Found 10 10-K filings from 2015 onwards\n"
     ]
    },
    {
     "name": "stderr",
     "output_type": "stream",
     "text": [
      " 78%|███████▊  | 394/503 [3:42:33<1:01:10, 33.67s/it]"
     ]
    },
    {
     "name": "stdout",
     "output_type": "stream",
     "text": [
      "Processing O (REALTY INCOME CORP)\n",
      "  Available columns: ['accession_number', 'filing_date', 'reportDate', 'acceptanceDateTime', 'act', 'form', 'fileNumber', 'items', 'size', 'isXBRL', 'isInlineXBRL', 'primaryDocument', 'primaryDocDescription']\n",
      "  Found 10 10-K filings from 2015 onwards\n"
     ]
    },
    {
     "name": "stderr",
     "output_type": "stream",
     "text": [
      " 79%|███████▊  | 395/503 [3:44:53<1:58:07, 65.63s/it]"
     ]
    },
    {
     "name": "stdout",
     "output_type": "stream",
     "text": [
      "Processing REG (REGENCY CENTERS CORP)\n",
      "  Available columns: ['accession_number', 'filing_date', 'reportDate', 'acceptanceDateTime', 'act', 'form', 'fileNumber', 'items', 'size', 'isXBRL', 'isInlineXBRL', 'primaryDocument', 'primaryDocDescription']\n",
      "  Found 10 10-K filings from 2015 onwards\n"
     ]
    },
    {
     "name": "stderr",
     "output_type": "stream",
     "text": [
      " 79%|███████▊  | 396/503 [3:46:18<2:07:25, 71.45s/it]"
     ]
    },
    {
     "name": "stdout",
     "output_type": "stream",
     "text": [
      "Processing REGN (REGENERON PHARMACEUTICALS, INC.)\n",
      "  Available columns: ['accession_number', 'filing_date', 'reportDate', 'acceptanceDateTime', 'act', 'form', 'fileNumber', 'items', 'size', 'isXBRL', 'isInlineXBRL', 'primaryDocument', 'primaryDocDescription']\n",
      "  Found 10 10-K filings from 2015 onwards\n"
     ]
    },
    {
     "name": "stderr",
     "output_type": "stream",
     "text": [
      " 79%|███████▉  | 397/503 [3:46:50<1:45:18, 59.60s/it]"
     ]
    },
    {
     "name": "stdout",
     "output_type": "stream",
     "text": [
      "Processing RF (REGIONS FINANCIAL CORP)\n",
      "  Available columns: ['accession_number', 'filing_date', 'reportDate', 'acceptanceDateTime', 'act', 'form', 'fileNumber', 'items', 'size', 'isXBRL', 'isInlineXBRL', 'primaryDocument', 'primaryDocDescription']\n",
      "  Found 10 10-K filings from 2015 onwards\n"
     ]
    },
    {
     "name": "stderr",
     "output_type": "stream",
     "text": [
      " 79%|███████▉  | 398/503 [3:47:38<1:38:11, 56.11s/it]"
     ]
    },
    {
     "name": "stdout",
     "output_type": "stream",
     "text": [
      "Processing RSG (REPUBLIC SERVICES, INC.)\n",
      "  Available columns: ['accession_number', 'filing_date', 'reportDate', 'acceptanceDateTime', 'act', 'form', 'fileNumber', 'items', 'size', 'isXBRL', 'isInlineXBRL', 'primaryDocument', 'primaryDocDescription']\n",
      "  Found 10 10-K filings from 2015 onwards\n"
     ]
    },
    {
     "name": "stderr",
     "output_type": "stream",
     "text": [
      " 79%|███████▉  | 399/503 [3:48:12<1:26:08, 49.69s/it]"
     ]
    },
    {
     "name": "stdout",
     "output_type": "stream",
     "text": [
      "Processing RMD (RESMED INC)\n",
      "  Available columns: ['accession_number', 'filing_date', 'reportDate', 'acceptanceDateTime', 'act', 'form', 'fileNumber', 'items', 'size', 'isXBRL', 'isInlineXBRL', 'primaryDocument', 'primaryDocDescription']\n",
      "  Found 10 10-K filings from 2015 onwards\n",
      "    WARNING: No MD&A section found for RMD (CIK: 943819) for year 2021\n",
      "    WARNING: No MD&A section found for RMD (CIK: 943819) for year 2020\n",
      "    Error processing filing for RMD: 'NoneType' object is not subscriptable\n",
      "    Error processing filing for RMD: 'NoneType' object is not subscriptable\n"
     ]
    },
    {
     "name": "stderr",
     "output_type": "stream",
     "text": [
      " 80%|███████▉  | 400/503 [3:48:36<1:12:03, 41.98s/it]"
     ]
    },
    {
     "name": "stdout",
     "output_type": "stream",
     "text": [
      "Processing RVTY (REVVITY, INC.)\n",
      "  Available columns: ['accession_number', 'filing_date', 'reportDate', 'acceptanceDateTime', 'act', 'form', 'fileNumber', 'items', 'size', 'isXBRL', 'isInlineXBRL', 'primaryDocument', 'primaryDocDescription']\n",
      "  Found 10 10-K filings from 2015 onwards\n"
     ]
    },
    {
     "name": "stderr",
     "output_type": "stream",
     "text": [
      " 80%|███████▉  | 401/503 [3:49:05<1:04:45, 38.10s/it]"
     ]
    },
    {
     "name": "stdout",
     "output_type": "stream",
     "text": [
      "Processing ROK (ROCKWELL AUTOMATION, INC)\n",
      "  Available columns: ['accession_number', 'filing_date', 'reportDate', 'acceptanceDateTime', 'act', 'form', 'fileNumber', 'items', 'size', 'isXBRL', 'isInlineXBRL', 'primaryDocument', 'primaryDocDescription']\n",
      "  Found 10 10-K filings from 2015 onwards\n"
     ]
    },
    {
     "name": "stderr",
     "output_type": "stream",
     "text": [
      " 80%|███████▉  | 402/503 [3:49:37<1:00:35, 35.99s/it]"
     ]
    },
    {
     "name": "stdout",
     "output_type": "stream",
     "text": [
      "Processing ROL (ROLLINS INC)\n",
      "  Available columns: ['accession_number', 'filing_date', 'reportDate', 'acceptanceDateTime', 'act', 'form', 'fileNumber', 'items', 'size', 'isXBRL', 'isInlineXBRL', 'primaryDocument', 'primaryDocDescription']\n",
      "  Found 10 10-K filings from 2015 onwards\n"
     ]
    },
    {
     "name": "stderr",
     "output_type": "stream",
     "text": [
      " 80%|████████  | 403/503 [3:50:01<54:24, 32.64s/it]  "
     ]
    },
    {
     "name": "stdout",
     "output_type": "stream",
     "text": [
      "Processing ROP (ROPER TECHNOLOGIES INC)\n",
      "  Available columns: ['accession_number', 'filing_date', 'reportDate', 'acceptanceDateTime', 'act', 'form', 'fileNumber', 'items', 'size', 'isXBRL', 'isInlineXBRL', 'primaryDocument', 'primaryDocDescription']\n",
      "  Found 10 10-K filings from 2015 onwards\n"
     ]
    },
    {
     "name": "stderr",
     "output_type": "stream",
     "text": [
      " 80%|████████  | 404/503 [3:50:27<50:30, 30.61s/it]"
     ]
    },
    {
     "name": "stdout",
     "output_type": "stream",
     "text": [
      "Processing ROST (ROSS STORES, INC.)\n",
      "  Available columns: ['accession_number', 'filing_date', 'reportDate', 'acceptanceDateTime', 'act', 'form', 'fileNumber', 'items', 'size', 'isXBRL', 'isInlineXBRL', 'primaryDocument', 'primaryDocDescription']\n",
      "  Found 10 10-K filings from 2015 onwards\n"
     ]
    },
    {
     "name": "stderr",
     "output_type": "stream",
     "text": [
      " 81%|████████  | 405/503 [3:50:47<44:40, 27.35s/it]"
     ]
    },
    {
     "name": "stdout",
     "output_type": "stream",
     "text": [
      "Processing RCL (ROYAL CARIBBEAN CRUISES LTD)\n",
      "  Available columns: ['accession_number', 'filing_date', 'reportDate', 'acceptanceDateTime', 'act', 'form', 'fileNumber', 'items', 'size', 'isXBRL', 'isInlineXBRL', 'primaryDocument', 'primaryDocDescription']\n",
      "  Found 10 10-K filings from 2015 onwards\n"
     ]
    },
    {
     "name": "stderr",
     "output_type": "stream",
     "text": [
      " 81%|████████  | 406/503 [3:51:15<44:24, 27.47s/it]"
     ]
    },
    {
     "name": "stdout",
     "output_type": "stream",
     "text": [
      "Processing SPGI (S&P Global Inc.)\n",
      "  Available columns: ['accession_number', 'filing_date', 'reportDate', 'acceptanceDateTime', 'act', 'form', 'fileNumber', 'items', 'size', 'isXBRL', 'isInlineXBRL', 'primaryDocument', 'primaryDocDescription']\n",
      "  Found 10 10-K filings from 2015 onwards\n"
     ]
    },
    {
     "name": "stderr",
     "output_type": "stream",
     "text": [
      " 81%|████████  | 407/503 [3:51:48<46:46, 29.24s/it]"
     ]
    },
    {
     "name": "stdout",
     "output_type": "stream",
     "text": [
      "Processing CRM (Salesforce, Inc.)\n",
      "  Available columns: ['accession_number', 'filing_date', 'reportDate', 'acceptanceDateTime', 'act', 'form', 'fileNumber', 'items', 'size', 'isXBRL', 'isInlineXBRL', 'primaryDocument', 'primaryDocDescription']\n",
      "  Found 10 10-K filings from 2015 onwards\n"
     ]
    },
    {
     "name": "stderr",
     "output_type": "stream",
     "text": [
      " 81%|████████  | 408/503 [3:52:14<44:47, 28.29s/it]"
     ]
    },
    {
     "name": "stdout",
     "output_type": "stream",
     "text": [
      "Processing SBAC (SBA COMMUNICATIONS CORP)\n",
      "  Available columns: ['accession_number', 'filing_date', 'reportDate', 'acceptanceDateTime', 'act', 'form', 'fileNumber', 'items', 'size', 'isXBRL', 'isInlineXBRL', 'primaryDocument', 'primaryDocDescription']\n",
      "  Found 10 10-K filings from 2015 onwards\n",
      "    Error processing filing for SBAC: 'NoneType' object is not subscriptable\n",
      "    Error processing filing for SBAC: 'NoneType' object is not subscriptable\n",
      "    Error processing filing for SBAC: 'NoneType' object is not subscriptable\n",
      "    Error processing filing for SBAC: 'NoneType' object is not subscriptable\n"
     ]
    },
    {
     "name": "stderr",
     "output_type": "stream",
     "text": [
      " 81%|████████▏ | 409/503 [3:52:38<42:01, 26.82s/it]"
     ]
    },
    {
     "name": "stdout",
     "output_type": "stream",
     "text": [
      "Processing SLB (SCHLUMBERGER LIMITED/NV)\n",
      "  Available columns: ['accession_number', 'filing_date', 'reportDate', 'acceptanceDateTime', 'act', 'form', 'fileNumber', 'items', 'size', 'isXBRL', 'isInlineXBRL', 'primaryDocument', 'primaryDocDescription']\n",
      "  Found 10 10-K filings from 2015 onwards\n"
     ]
    },
    {
     "name": "stderr",
     "output_type": "stream",
     "text": [
      " 82%|████████▏ | 410/503 [3:53:20<48:35, 31.35s/it]"
     ]
    },
    {
     "name": "stdout",
     "output_type": "stream",
     "text": [
      "Processing STX (Seagate Technology Holdings plc)\n",
      "  Available columns: ['accession_number', 'filing_date', 'reportDate', 'acceptanceDateTime', 'act', 'form', 'fileNumber', 'items', 'size', 'isXBRL', 'isInlineXBRL', 'primaryDocument', 'primaryDocDescription']\n",
      "  Found 10 10-K filings from 2015 onwards\n"
     ]
    },
    {
     "name": "stderr",
     "output_type": "stream",
     "text": [
      " 82%|████████▏ | 411/503 [3:53:53<48:56, 31.92s/it]"
     ]
    },
    {
     "name": "stdout",
     "output_type": "stream",
     "text": [
      "Processing SRE (SEMPRA)\n",
      "  Available columns: ['accession_number', 'filing_date', 'reportDate', 'acceptanceDateTime', 'act', 'form', 'fileNumber', 'items', 'size', 'isXBRL', 'isInlineXBRL', 'primaryDocument', 'primaryDocDescription']\n",
      "  Found 10 10-K filings from 2015 onwards\n"
     ]
    },
    {
     "name": "stderr",
     "output_type": "stream",
     "text": [
      " 82%|████████▏ | 412/503 [3:54:44<57:11, 37.70s/it]"
     ]
    },
    {
     "name": "stdout",
     "output_type": "stream",
     "text": [
      "Processing NOW (ServiceNow, Inc.)\n",
      "  Available columns: ['accession_number', 'filing_date', 'reportDate', 'acceptanceDateTime', 'act', 'form', 'fileNumber', 'items', 'size', 'isXBRL', 'isInlineXBRL', 'primaryDocument', 'primaryDocDescription']\n",
      "  Found 10 10-K filings from 2015 onwards\n"
     ]
    },
    {
     "name": "stderr",
     "output_type": "stream",
     "text": [
      " 82%|████████▏ | 413/503 [3:55:13<52:51, 35.24s/it]"
     ]
    },
    {
     "name": "stdout",
     "output_type": "stream",
     "text": [
      "Processing SHW (SHERWIN WILLIAMS CO)\n",
      "  Available columns: ['accession_number', 'filing_date', 'reportDate', 'acceptanceDateTime', 'act', 'form', 'fileNumber', 'items', 'size', 'isXBRL', 'isInlineXBRL', 'primaryDocument', 'primaryDocDescription']\n",
      "  Found 10 10-K filings from 2015 onwards\n"
     ]
    },
    {
     "name": "stderr",
     "output_type": "stream",
     "text": [
      " 82%|████████▏ | 414/503 [3:55:38<47:25, 31.98s/it]"
     ]
    },
    {
     "name": "stdout",
     "output_type": "stream",
     "text": [
      "Processing SPG (SIMON PROPERTY GROUP INC /DE/)\n",
      "  Available columns: ['accession_number', 'filing_date', 'reportDate', 'acceptanceDateTime', 'act', 'form', 'fileNumber', 'items', 'size', 'isXBRL', 'isInlineXBRL', 'primaryDocument', 'primaryDocDescription']\n",
      "  Found 10 10-K filings from 2015 onwards\n",
      "    Error processing filing for SPG: 'NoneType' object is not subscriptable\n",
      "    Error processing filing for SPG: 'NoneType' object is not subscriptable\n",
      "    Error processing filing for SPG: 'NoneType' object is not subscriptable\n"
     ]
    },
    {
     "name": "stderr",
     "output_type": "stream",
     "text": [
      " 83%|████████▎ | 415/503 [3:56:20<51:21, 35.02s/it]"
     ]
    },
    {
     "name": "stdout",
     "output_type": "stream",
     "text": [
      "Processing SWKS (SKYWORKS SOLUTIONS, INC.)\n",
      "  Available columns: ['accession_number', 'filing_date', 'reportDate', 'acceptanceDateTime', 'act', 'form', 'fileNumber', 'items', 'size', 'isXBRL', 'isInlineXBRL', 'primaryDocument', 'primaryDocDescription']\n",
      "  Found 10 10-K filings from 2015 onwards\n"
     ]
    },
    {
     "name": "stderr",
     "output_type": "stream",
     "text": [
      " 83%|████████▎ | 416/503 [3:56:43<45:33, 31.42s/it]"
     ]
    },
    {
     "name": "stdout",
     "output_type": "stream",
     "text": [
      "Processing SJM (J M SMUCKER Co)\n",
      "  Available columns: ['accession_number', 'filing_date', 'reportDate', 'acceptanceDateTime', 'act', 'form', 'fileNumber', 'items', 'size', 'isXBRL', 'isInlineXBRL', 'primaryDocument', 'primaryDocDescription']\n",
      "  Found 10 10-K filings from 2015 onwards\n"
     ]
    },
    {
     "name": "stderr",
     "output_type": "stream",
     "text": [
      " 83%|████████▎ | 417/503 [3:57:08<42:21, 29.55s/it]"
     ]
    },
    {
     "name": "stdout",
     "output_type": "stream",
     "text": [
      "Processing SW (Smurfit Westrock plc)\n",
      "  Available columns: ['accession_number', 'filing_date', 'reportDate', 'acceptanceDateTime', 'act', 'form', 'fileNumber', 'items', 'size', 'isXBRL', 'isInlineXBRL', 'primaryDocument', 'primaryDocDescription']\n",
      "  Found 0 10-K filings from 2015 onwards\n"
     ]
    },
    {
     "name": "stderr",
     "output_type": "stream",
     "text": [
      " 83%|████████▎ | 418/503 [3:57:09<29:48, 21.04s/it]"
     ]
    },
    {
     "name": "stdout",
     "output_type": "stream",
     "text": [
      "Processing SNA (Snap-on Inc)\n",
      "  Available columns: ['accession_number', 'filing_date', 'reportDate', 'acceptanceDateTime', 'act', 'form', 'fileNumber', 'items', 'size', 'isXBRL', 'isInlineXBRL', 'primaryDocument', 'primaryDocDescription']\n",
      "  Found 11 10-K filings from 2015 onwards\n"
     ]
    },
    {
     "name": "stderr",
     "output_type": "stream",
     "text": [
      " 83%|████████▎ | 419/503 [3:57:47<36:31, 26.08s/it]"
     ]
    },
    {
     "name": "stdout",
     "output_type": "stream",
     "text": [
      "Processing SOLV (Solventum Corp)\n",
      "  Available columns: ['accession_number', 'filing_date', 'reportDate', 'acceptanceDateTime', 'act', 'form', 'fileNumber', 'items', 'size', 'isXBRL', 'isInlineXBRL', 'primaryDocument', 'primaryDocDescription']\n",
      "  Found 1 10-K filings from 2015 onwards\n"
     ]
    },
    {
     "name": "stderr",
     "output_type": "stream",
     "text": [
      " 83%|████████▎ | 420/503 [3:57:52<27:13, 19.68s/it]"
     ]
    },
    {
     "name": "stdout",
     "output_type": "stream",
     "text": [
      "Processing SO (SOUTHERN CO)\n",
      "  Available columns: ['accession_number', 'filing_date', 'reportDate', 'acceptanceDateTime', 'act', 'form', 'fileNumber', 'items', 'size', 'isXBRL', 'isInlineXBRL', 'primaryDocument', 'primaryDocDescription']\n",
      "  Found 10 10-K filings from 2015 onwards\n"
     ]
    },
    {
     "name": "stderr",
     "output_type": "stream",
     "text": [
      " 84%|████████▎ | 421/503 [3:59:11<51:27, 37.65s/it]"
     ]
    },
    {
     "name": "stdout",
     "output_type": "stream",
     "text": [
      "Processing LUV (SOUTHWEST AIRLINES CO)\n",
      "  Available columns: ['accession_number', 'filing_date', 'reportDate', 'acceptanceDateTime', 'act', 'form', 'fileNumber', 'items', 'size', 'isXBRL', 'isInlineXBRL', 'primaryDocument', 'primaryDocDescription']\n",
      "  Found 10 10-K filings from 2015 onwards\n"
     ]
    },
    {
     "name": "stderr",
     "output_type": "stream",
     "text": [
      " 84%|████████▍ | 422/503 [3:59:43<48:16, 35.77s/it]"
     ]
    },
    {
     "name": "stdout",
     "output_type": "stream",
     "text": [
      "Processing SWK (STANLEY BLACK & DECKER, INC.)\n",
      "  Available columns: ['accession_number', 'filing_date', 'reportDate', 'acceptanceDateTime', 'act', 'form', 'fileNumber', 'items', 'size', 'isXBRL', 'isInlineXBRL', 'primaryDocument', 'primaryDocDescription']\n",
      "  Found 11 10-K filings from 2015 onwards\n"
     ]
    },
    {
     "name": "stderr",
     "output_type": "stream",
     "text": [
      " 84%|████████▍ | 423/503 [4:00:22<49:13, 36.91s/it]"
     ]
    },
    {
     "name": "stdout",
     "output_type": "stream",
     "text": [
      "Processing SBUX (STARBUCKS CORP)\n",
      "  Available columns: ['accession_number', 'filing_date', 'reportDate', 'acceptanceDateTime', 'act', 'form', 'fileNumber', 'items', 'size', 'isXBRL', 'isInlineXBRL', 'primaryDocument', 'primaryDocDescription']\n",
      "  Found 10 10-K filings from 2015 onwards\n"
     ]
    },
    {
     "name": "stderr",
     "output_type": "stream",
     "text": [
      " 84%|████████▍ | 424/503 [4:00:52<45:29, 34.55s/it]"
     ]
    },
    {
     "name": "stdout",
     "output_type": "stream",
     "text": [
      "Processing STT (STATE STREET CORP)\n",
      "  Available columns: ['accession_number', 'filing_date', 'reportDate', 'acceptanceDateTime', 'act', 'form', 'fileNumber', 'items', 'size', 'isXBRL', 'isInlineXBRL', 'primaryDocument', 'primaryDocDescription']\n",
      "  Found 10 10-K filings from 2015 onwards\n"
     ]
    },
    {
     "name": "stderr",
     "output_type": "stream",
     "text": [
      " 84%|████████▍ | 425/503 [4:01:47<53:14, 40.96s/it]"
     ]
    },
    {
     "name": "stdout",
     "output_type": "stream",
     "text": [
      "Processing STLD (STEEL DYNAMICS INC)\n",
      "  Available columns: ['accession_number', 'filing_date', 'reportDate', 'acceptanceDateTime', 'act', 'form', 'fileNumber', 'items', 'size', 'isXBRL', 'isInlineXBRL', 'primaryDocument', 'primaryDocDescription']\n",
      "  Found 10 10-K filings from 2015 onwards\n",
      "    Error processing filing for STLD: 'NoneType' object is not subscriptable\n",
      "    Error processing filing for STLD: 'NoneType' object is not subscriptable\n",
      "    Error processing filing for STLD: 'NoneType' object is not subscriptable\n"
     ]
    },
    {
     "name": "stderr",
     "output_type": "stream",
     "text": [
      " 85%|████████▍ | 426/503 [4:02:11<45:55, 35.79s/it]"
     ]
    },
    {
     "name": "stdout",
     "output_type": "stream",
     "text": [
      "Processing STE (STERIS plc)\n",
      "  Available columns: ['accession_number', 'filing_date', 'reportDate', 'acceptanceDateTime', 'act', 'form', 'fileNumber', 'items', 'size', 'isXBRL', 'isInlineXBRL', 'primaryDocument', 'primaryDocDescription']\n",
      "  Found 6 10-K filings from 2015 onwards\n"
     ]
    },
    {
     "name": "stderr",
     "output_type": "stream",
     "text": [
      " 85%|████████▍ | 427/503 [4:02:29<38:36, 30.48s/it]"
     ]
    },
    {
     "name": "stdout",
     "output_type": "stream",
     "text": [
      "Processing SYK (STRYKER CORP)\n",
      "  Available columns: ['accession_number', 'filing_date', 'reportDate', 'acceptanceDateTime', 'act', 'form', 'fileNumber', 'items', 'size', 'isXBRL', 'isInlineXBRL', 'primaryDocument', 'primaryDocDescription']\n",
      "  Found 10 10-K filings from 2015 onwards\n"
     ]
    },
    {
     "name": "stderr",
     "output_type": "stream",
     "text": [
      " 85%|████████▌ | 428/503 [4:02:54<36:04, 28.87s/it]"
     ]
    },
    {
     "name": "stdout",
     "output_type": "stream",
     "text": [
      "Processing SMCI (Super Micro Computer, Inc.)\n",
      "  Available columns: ['accession_number', 'filing_date', 'reportDate', 'acceptanceDateTime', 'act', 'form', 'fileNumber', 'items', 'size', 'isXBRL', 'isInlineXBRL', 'primaryDocument', 'primaryDocDescription']\n",
      "  Found 9 10-K filings from 2015 onwards\n"
     ]
    },
    {
     "name": "stderr",
     "output_type": "stream",
     "text": [
      " 85%|████████▌ | 429/503 [4:03:22<35:01, 28.39s/it]"
     ]
    },
    {
     "name": "stdout",
     "output_type": "stream",
     "text": [
      "Processing SYF (Synchrony Financial)\n",
      "  Available columns: ['accession_number', 'filing_date', 'reportDate', 'acceptanceDateTime', 'act', 'form', 'fileNumber', 'items', 'size', 'isXBRL', 'isInlineXBRL', 'primaryDocument', 'primaryDocDescription']\n",
      "  Found 10 10-K filings from 2015 onwards\n",
      "    WARNING: No MD&A section found for SYF (CIK: 1601712) for year 2024\n",
      "    WARNING: No MD&A section found for SYF (CIK: 1601712) for year 2023\n",
      "    WARNING: No MD&A section found for SYF (CIK: 1601712) for year 2022\n",
      "    WARNING: No MD&A section found for SYF (CIK: 1601712) for year 2021\n",
      "    WARNING: No MD&A section found for SYF (CIK: 1601712) for year 2020\n",
      "    WARNING: No MD&A section found for SYF (CIK: 1601712) for year 2019\n",
      "    WARNING: No MD&A section found for SYF (CIK: 1601712) for year 2018\n"
     ]
    },
    {
     "name": "stderr",
     "output_type": "stream",
     "text": [
      " 85%|████████▌ | 430/503 [4:03:50<34:21, 28.24s/it]"
     ]
    },
    {
     "name": "stdout",
     "output_type": "stream",
     "text": [
      "Processing SNPS (SYNOPSYS INC)\n",
      "  Available columns: ['accession_number', 'filing_date', 'reportDate', 'acceptanceDateTime', 'act', 'form', 'fileNumber', 'items', 'size', 'isXBRL', 'isInlineXBRL', 'primaryDocument', 'primaryDocDescription']\n",
      "  Found 10 10-K filings from 2015 onwards\n"
     ]
    },
    {
     "name": "stderr",
     "output_type": "stream",
     "text": [
      " 86%|████████▌ | 431/503 [4:04:18<33:56, 28.29s/it]"
     ]
    },
    {
     "name": "stdout",
     "output_type": "stream",
     "text": [
      "Processing SYY (SYSCO CORP)\n",
      "  Available columns: ['accession_number', 'filing_date', 'reportDate', 'acceptanceDateTime', 'act', 'form', 'fileNumber', 'items', 'size', 'isXBRL', 'isInlineXBRL', 'primaryDocument', 'primaryDocDescription']\n",
      "  Found 10 10-K filings from 2015 onwards\n",
      "    WARNING: No MD&A section found for SYY (CIK: 96021) for year 2020\n"
     ]
    },
    {
     "name": "stderr",
     "output_type": "stream",
     "text": [
      " 86%|████████▌ | 432/503 [4:04:50<34:46, 29.38s/it]"
     ]
    },
    {
     "name": "stdout",
     "output_type": "stream",
     "text": [
      "Processing TMUS (T-Mobile US, Inc.)\n",
      "  Available columns: ['accession_number', 'filing_date', 'reportDate', 'acceptanceDateTime', 'act', 'form', 'fileNumber', 'items', 'size', 'isXBRL', 'isInlineXBRL', 'primaryDocument', 'primaryDocDescription']\n",
      "  Found 10 10-K filings from 2015 onwards\n"
     ]
    },
    {
     "name": "stderr",
     "output_type": "stream",
     "text": [
      " 86%|████████▌ | 433/503 [4:05:24<35:59, 30.85s/it]"
     ]
    },
    {
     "name": "stdout",
     "output_type": "stream",
     "text": [
      "Processing TROW (PRICE T ROWE GROUP INC)\n",
      "  Available columns: ['accession_number', 'filing_date', 'reportDate', 'acceptanceDateTime', 'act', 'form', 'fileNumber', 'items', 'size', 'isXBRL', 'isInlineXBRL', 'primaryDocument', 'primaryDocDescription']\n",
      "  Found 10 10-K filings from 2015 onwards\n"
     ]
    },
    {
     "name": "stderr",
     "output_type": "stream",
     "text": [
      " 86%|████████▋ | 434/503 [4:05:54<35:07, 30.54s/it]"
     ]
    },
    {
     "name": "stdout",
     "output_type": "stream",
     "text": [
      "Processing TTWO (TAKE TWO INTERACTIVE SOFTWARE INC)\n",
      "  Available columns: ['accession_number', 'filing_date', 'reportDate', 'acceptanceDateTime', 'act', 'form', 'fileNumber', 'items', 'size', 'isXBRL', 'isInlineXBRL', 'primaryDocument', 'primaryDocDescription']\n",
      "  Found 10 10-K filings from 2015 onwards\n"
     ]
    },
    {
     "name": "stderr",
     "output_type": "stream",
     "text": [
      " 86%|████████▋ | 435/503 [4:06:20<33:04, 29.18s/it]"
     ]
    },
    {
     "name": "stdout",
     "output_type": "stream",
     "text": [
      "Processing TPR (TAPESTRY, INC.)\n",
      "  Available columns: ['accession_number', 'filing_date', 'reportDate', 'acceptanceDateTime', 'act', 'form', 'fileNumber', 'items', 'size', 'isXBRL', 'isInlineXBRL', 'primaryDocument', 'primaryDocDescription']\n",
      "  Found 10 10-K filings from 2015 onwards\n"
     ]
    },
    {
     "name": "stderr",
     "output_type": "stream",
     "text": [
      " 87%|████████▋ | 436/503 [4:06:51<33:20, 29.86s/it]"
     ]
    },
    {
     "name": "stdout",
     "output_type": "stream",
     "text": [
      "Processing TRGP (Targa Resources Corp.)\n",
      "  Available columns: ['accession_number', 'filing_date', 'reportDate', 'acceptanceDateTime', 'act', 'form', 'fileNumber', 'items', 'size', 'isXBRL', 'isInlineXBRL', 'primaryDocument', 'primaryDocDescription']\n",
      "  Found 10 10-K filings from 2015 onwards\n"
     ]
    },
    {
     "name": "stderr",
     "output_type": "stream",
     "text": [
      " 87%|████████▋ | 437/503 [4:07:55<43:52, 39.89s/it]"
     ]
    },
    {
     "name": "stdout",
     "output_type": "stream",
     "text": [
      "Processing TGT (TARGET CORP)\n",
      "  Available columns: ['accession_number', 'filing_date', 'reportDate', 'acceptanceDateTime', 'act', 'form', 'fileNumber', 'items', 'size', 'isXBRL', 'isInlineXBRL', 'primaryDocument', 'primaryDocDescription']\n",
      "  Found 10 10-K filings from 2015 onwards\n"
     ]
    },
    {
     "name": "stderr",
     "output_type": "stream",
     "text": [
      " 87%|████████▋ | 438/503 [4:08:19<38:01, 35.10s/it]"
     ]
    },
    {
     "name": "stdout",
     "output_type": "stream",
     "text": [
      "Processing TEL (TE Connectivity plc)\n",
      "  Available columns: ['accession_number', 'filing_date', 'reportDate', 'acceptanceDateTime', 'act', 'form', 'fileNumber', 'items', 'size', 'isXBRL', 'isInlineXBRL', 'primaryDocument', 'primaryDocDescription']\n",
      "  Found 10 10-K filings from 2015 onwards\n"
     ]
    },
    {
     "name": "stderr",
     "output_type": "stream",
     "text": [
      " 87%|████████▋ | 439/503 [4:09:03<40:33, 38.02s/it]"
     ]
    },
    {
     "name": "stdout",
     "output_type": "stream",
     "text": [
      "Processing TDY (TELEDYNE TECHNOLOGIES INC)\n",
      "  Available columns: ['accession_number', 'filing_date', 'reportDate', 'acceptanceDateTime', 'act', 'form', 'fileNumber', 'items', 'size', 'isXBRL', 'isInlineXBRL', 'primaryDocument', 'primaryDocDescription']\n",
      "  Found 10 10-K filings from 2015 onwards\n"
     ]
    },
    {
     "name": "stderr",
     "output_type": "stream",
     "text": [
      " 87%|████████▋ | 440/503 [4:09:38<38:49, 36.98s/it]"
     ]
    },
    {
     "name": "stdout",
     "output_type": "stream",
     "text": [
      "Processing TFX (TELEFLEX INC)\n",
      "  Available columns: ['accession_number', 'filing_date', 'reportDate', 'acceptanceDateTime', 'act', 'form', 'fileNumber', 'items', 'size', 'isXBRL', 'isInlineXBRL', 'primaryDocument', 'primaryDocDescription']\n",
      "  Found 10 10-K filings from 2015 onwards\n"
     ]
    },
    {
     "name": "stderr",
     "output_type": "stream",
     "text": [
      " 88%|████████▊ | 441/503 [4:10:07<35:40, 34.53s/it]"
     ]
    },
    {
     "name": "stdout",
     "output_type": "stream",
     "text": [
      "Processing TER (TERADYNE, INC)\n",
      "  Available columns: ['accession_number', 'filing_date', 'reportDate', 'acceptanceDateTime', 'act', 'form', 'fileNumber', 'items', 'size', 'isXBRL', 'isInlineXBRL', 'primaryDocument', 'primaryDocDescription']\n",
      "  Found 10 10-K filings from 2015 onwards\n"
     ]
    },
    {
     "name": "stderr",
     "output_type": "stream",
     "text": [
      " 88%|████████▊ | 442/503 [4:10:48<37:11, 36.58s/it]"
     ]
    },
    {
     "name": "stdout",
     "output_type": "stream",
     "text": [
      "Processing TSLA (Tesla, Inc.)\n",
      "  Available columns: ['accession_number', 'filing_date', 'reportDate', 'acceptanceDateTime', 'act', 'form', 'fileNumber', 'items', 'size', 'isXBRL', 'isInlineXBRL', 'primaryDocument', 'primaryDocDescription']\n",
      "  Found 10 10-K filings from 2015 onwards\n"
     ]
    },
    {
     "name": "stderr",
     "output_type": "stream",
     "text": [
      " 88%|████████▊ | 443/503 [4:11:27<37:13, 37.23s/it]"
     ]
    },
    {
     "name": "stdout",
     "output_type": "stream",
     "text": [
      "Processing TXN (TEXAS INSTRUMENTS INC)\n",
      "  Available columns: ['accession_number', 'filing_date', 'reportDate', 'acceptanceDateTime', 'act', 'form', 'fileNumber', 'items', 'size', 'isXBRL', 'isInlineXBRL', 'primaryDocument', 'primaryDocDescription']\n",
      "  Found 10 10-K filings from 2015 onwards\n"
     ]
    },
    {
     "name": "stderr",
     "output_type": "stream",
     "text": [
      " 88%|████████▊ | 444/503 [4:11:55<34:02, 34.62s/it]"
     ]
    },
    {
     "name": "stdout",
     "output_type": "stream",
     "text": [
      "Processing TPL (Texas Pacific Land Corp)\n",
      "  Available columns: ['accession_number', 'filing_date', 'reportDate', 'acceptanceDateTime', 'act', 'form', 'fileNumber', 'items', 'size', 'isXBRL', 'isInlineXBRL', 'primaryDocument', 'primaryDocDescription']\n",
      "  Found 5 10-K filings from 2015 onwards\n"
     ]
    },
    {
     "name": "stderr",
     "output_type": "stream",
     "text": [
      " 88%|████████▊ | 445/503 [4:12:08<26:59, 27.92s/it]"
     ]
    },
    {
     "name": "stdout",
     "output_type": "stream",
     "text": [
      "Processing TXT (TEXTRON INC)\n",
      "  Available columns: ['accession_number', 'filing_date', 'reportDate', 'acceptanceDateTime', 'act', 'form', 'fileNumber', 'items', 'size', 'isXBRL', 'isInlineXBRL', 'primaryDocument', 'primaryDocDescription']\n",
      "  Found 11 10-K filings from 2015 onwards\n"
     ]
    },
    {
     "name": "stderr",
     "output_type": "stream",
     "text": [
      " 89%|████████▊ | 446/503 [4:12:42<28:19, 29.81s/it]"
     ]
    },
    {
     "name": "stdout",
     "output_type": "stream",
     "text": [
      "Processing TMO (THERMO FISHER SCIENTIFIC INC.)\n",
      "  Available columns: ['accession_number', 'filing_date', 'reportDate', 'acceptanceDateTime', 'act', 'form', 'fileNumber', 'items', 'size', 'isXBRL', 'isInlineXBRL', 'primaryDocument', 'primaryDocDescription']\n",
      "  Found 10 10-K filings from 2015 onwards\n"
     ]
    },
    {
     "name": "stderr",
     "output_type": "stream",
     "text": [
      " 89%|████████▉ | 447/503 [4:13:09<27:07, 29.06s/it]"
     ]
    },
    {
     "name": "stdout",
     "output_type": "stream",
     "text": [
      "Processing TJX (TJX COMPANIES INC /DE/)\n",
      "  Available columns: ['accession_number', 'filing_date', 'reportDate', 'acceptanceDateTime', 'act', 'form', 'fileNumber', 'items', 'size', 'isXBRL', 'isInlineXBRL', 'primaryDocument', 'primaryDocDescription']\n",
      "  Found 10 10-K filings from 2015 onwards\n"
     ]
    },
    {
     "name": "stderr",
     "output_type": "stream",
     "text": [
      " 89%|████████▉ | 448/503 [4:13:35<25:46, 28.12s/it]"
     ]
    },
    {
     "name": "stdout",
     "output_type": "stream",
     "text": [
      "Processing TSCO (TRACTOR SUPPLY CO /DE/)\n",
      "  Available columns: ['accession_number', 'filing_date', 'reportDate', 'acceptanceDateTime', 'act', 'form', 'fileNumber', 'items', 'size', 'isXBRL', 'isInlineXBRL', 'primaryDocument', 'primaryDocDescription']\n",
      "  Found 11 10-K filings from 2015 onwards\n"
     ]
    },
    {
     "name": "stderr",
     "output_type": "stream",
     "text": [
      " 89%|████████▉ | 449/503 [4:13:58<23:58, 26.64s/it]"
     ]
    },
    {
     "name": "stdout",
     "output_type": "stream",
     "text": [
      "Processing TT (Trane Technologies plc)\n",
      "  Available columns: ['accession_number', 'filing_date', 'reportDate', 'acceptanceDateTime', 'act', 'form', 'fileNumber', 'items', 'size', 'isXBRL', 'isInlineXBRL', 'primaryDocument', 'primaryDocDescription']\n",
      "  Found 10 10-K filings from 2015 onwards\n"
     ]
    },
    {
     "name": "stderr",
     "output_type": "stream",
     "text": [
      " 89%|████████▉ | 450/503 [4:14:31<25:02, 28.34s/it]"
     ]
    },
    {
     "name": "stdout",
     "output_type": "stream",
     "text": [
      "Processing TDG (TransDigm Group INC)\n",
      "  Available columns: ['accession_number', 'filing_date', 'reportDate', 'acceptanceDateTime', 'act', 'form', 'fileNumber', 'items', 'size', 'isXBRL', 'isInlineXBRL', 'primaryDocument', 'primaryDocDescription']\n",
      "  Found 10 10-K filings from 2015 onwards\n"
     ]
    },
    {
     "name": "stderr",
     "output_type": "stream",
     "text": [
      " 90%|████████▉ | 451/503 [4:15:03<25:28, 29.40s/it]"
     ]
    },
    {
     "name": "stdout",
     "output_type": "stream",
     "text": [
      "Processing TRV (TRAVELERS COMPANIES, INC.)\n",
      "  Available columns: ['accession_number', 'filing_date', 'reportDate', 'acceptanceDateTime', 'act', 'form', 'fileNumber', 'items', 'size', 'isXBRL', 'isInlineXBRL', 'primaryDocument', 'primaryDocDescription']\n",
      "  Found 10 10-K filings from 2015 onwards\n"
     ]
    },
    {
     "name": "stderr",
     "output_type": "stream",
     "text": [
      " 90%|████████▉ | 452/503 [4:16:00<32:08, 37.81s/it]"
     ]
    },
    {
     "name": "stdout",
     "output_type": "stream",
     "text": [
      "Processing TRMB (TRIMBLE INC.)\n",
      "  Available columns: ['accession_number', 'filing_date', 'reportDate', 'acceptanceDateTime', 'act', 'form', 'fileNumber', 'items', 'size', 'isXBRL', 'isInlineXBRL', 'primaryDocument', 'primaryDocDescription']\n",
      "  Found 10 10-K filings from 2015 onwards\n"
     ]
    },
    {
     "name": "stderr",
     "output_type": "stream",
     "text": [
      " 90%|█████████ | 453/503 [4:16:24<28:01, 33.64s/it]"
     ]
    },
    {
     "name": "stdout",
     "output_type": "stream",
     "text": [
      "Processing TFC (TRUIST FINANCIAL CORP)\n",
      "  Available columns: ['accession_number', 'filing_date', 'reportDate', 'acceptanceDateTime', 'act', 'form', 'fileNumber', 'items', 'size', 'isXBRL', 'isInlineXBRL', 'primaryDocument', 'primaryDocDescription']\n",
      "  Found 10 10-K filings from 2015 onwards\n"
     ]
    },
    {
     "name": "stderr",
     "output_type": "stream",
     "text": [
      " 90%|█████████ | 454/503 [4:17:13<31:16, 38.30s/it]"
     ]
    },
    {
     "name": "stdout",
     "output_type": "stream",
     "text": [
      "Processing TYL (TYLER TECHNOLOGIES INC)\n",
      "  Available columns: ['accession_number', 'filing_date', 'reportDate', 'acceptanceDateTime', 'act', 'form', 'fileNumber', 'items', 'size', 'isXBRL', 'isInlineXBRL', 'primaryDocument', 'primaryDocDescription']\n",
      "  Found 10 10-K filings from 2015 onwards\n"
     ]
    },
    {
     "name": "stderr",
     "output_type": "stream",
     "text": [
      " 90%|█████████ | 455/503 [4:17:38<27:30, 34.39s/it]"
     ]
    },
    {
     "name": "stdout",
     "output_type": "stream",
     "text": [
      "Processing TSN (TYSON FOODS, INC.)\n",
      "  Available columns: ['accession_number', 'filing_date', 'reportDate', 'acceptanceDateTime', 'act', 'form', 'fileNumber', 'items', 'size', 'isXBRL', 'isInlineXBRL', 'primaryDocument', 'primaryDocDescription']\n",
      "  Found 10 10-K filings from 2015 onwards\n"
     ]
    },
    {
     "name": "stderr",
     "output_type": "stream",
     "text": [
      " 91%|█████████ | 456/503 [4:18:08<25:51, 33.01s/it]"
     ]
    },
    {
     "name": "stdout",
     "output_type": "stream",
     "text": [
      "Processing USB (US BANCORP \\DE\\)\n",
      "  Available columns: ['accession_number', 'filing_date', 'reportDate', 'acceptanceDateTime', 'act', 'form', 'fileNumber', 'items', 'size', 'isXBRL', 'isInlineXBRL', 'primaryDocument', 'primaryDocDescription']\n",
      "  Found 10 10-K filings from 2015 onwards\n"
     ]
    },
    {
     "name": "stderr",
     "output_type": "stream",
     "text": [
      " 91%|█████████ | 457/503 [4:18:30<22:45, 29.69s/it]"
     ]
    },
    {
     "name": "stdout",
     "output_type": "stream",
     "text": [
      "Processing UBER (Uber Technologies, Inc)\n",
      "  Available columns: ['accession_number', 'filing_date', 'reportDate', 'acceptanceDateTime', 'act', 'form', 'fileNumber', 'items', 'size', 'isXBRL', 'isInlineXBRL', 'primaryDocument', 'primaryDocDescription']\n",
      "  Found 6 10-K filings from 2015 onwards\n"
     ]
    },
    {
     "name": "stderr",
     "output_type": "stream",
     "text": [
      " 91%|█████████ | 458/503 [4:18:49<19:49, 26.44s/it]"
     ]
    },
    {
     "name": "stdout",
     "output_type": "stream",
     "text": [
      "Processing UDR (UDR, Inc.)\n",
      "  Available columns: ['accession_number', 'filing_date', 'reportDate', 'acceptanceDateTime', 'act', 'form', 'fileNumber', 'items', 'size', 'isXBRL', 'isInlineXBRL', 'primaryDocument', 'primaryDocDescription']\n",
      "  Found 10 10-K filings from 2015 onwards\n",
      "    Error processing filing for UDR: 'NoneType' object is not subscriptable\n",
      "    Error processing filing for UDR: 'NoneType' object is not subscriptable\n"
     ]
    },
    {
     "name": "stderr",
     "output_type": "stream",
     "text": [
      " 91%|█████████▏| 459/503 [4:19:26<21:45, 29.67s/it]"
     ]
    },
    {
     "name": "stdout",
     "output_type": "stream",
     "text": [
      "Processing ULTA (Ulta Beauty, Inc.)\n",
      "  Available columns: ['accession_number', 'filing_date', 'reportDate', 'acceptanceDateTime', 'act', 'form', 'fileNumber', 'items', 'size', 'isXBRL', 'isInlineXBRL', 'primaryDocument', 'primaryDocDescription']\n",
      "  Found 10 10-K filings from 2015 onwards\n",
      "    Error processing filing for ULTA: 'NoneType' object is not subscriptable\n",
      "    Error processing filing for ULTA: 'NoneType' object is not subscriptable\n"
     ]
    },
    {
     "name": "stderr",
     "output_type": "stream",
     "text": [
      " 91%|█████████▏| 460/503 [4:19:46<19:10, 26.75s/it]"
     ]
    },
    {
     "name": "stdout",
     "output_type": "stream",
     "text": [
      "Processing UNP (UNION PACIFIC CORP)\n",
      "  Available columns: ['accession_number', 'filing_date', 'reportDate', 'acceptanceDateTime', 'act', 'form', 'fileNumber', 'items', 'size', 'isXBRL', 'isInlineXBRL', 'primaryDocument', 'primaryDocDescription']\n",
      "  Found 10 10-K filings from 2015 onwards\n",
      "    Error processing filing for UNP: 'NoneType' object is not subscriptable\n",
      "    Error processing filing for UNP: 'NoneType' object is not subscriptable\n",
      "    Error processing filing for UNP: 'NoneType' object is not subscriptable\n",
      "    Error processing filing for UNP: 'NoneType' object is not subscriptable\n"
     ]
    },
    {
     "name": "stderr",
     "output_type": "stream",
     "text": [
      " 92%|█████████▏| 461/503 [4:20:04<16:57, 24.24s/it]"
     ]
    },
    {
     "name": "stdout",
     "output_type": "stream",
     "text": [
      "Processing UAL (United Airlines Holdings, Inc.)\n",
      "  Available columns: ['accession_number', 'filing_date', 'reportDate', 'acceptanceDateTime', 'act', 'form', 'fileNumber', 'items', 'size', 'isXBRL', 'isInlineXBRL', 'primaryDocument', 'primaryDocDescription']\n",
      "  Found 10 10-K filings from 2015 onwards\n"
     ]
    },
    {
     "name": "stderr",
     "output_type": "stream",
     "text": [
      " 92%|█████████▏| 462/503 [4:20:35<17:47, 26.04s/it]"
     ]
    },
    {
     "name": "stdout",
     "output_type": "stream",
     "text": [
      "Processing UPS (UNITED PARCEL SERVICE INC)\n",
      "  Available columns: ['accession_number', 'filing_date', 'reportDate', 'acceptanceDateTime', 'act', 'form', 'fileNumber', 'items', 'size', 'isXBRL', 'isInlineXBRL', 'primaryDocument', 'primaryDocDescription']\n",
      "  Found 10 10-K filings from 2015 onwards\n"
     ]
    },
    {
     "name": "stderr",
     "output_type": "stream",
     "text": [
      " 92%|█████████▏| 463/503 [4:21:09<19:01, 28.54s/it]"
     ]
    },
    {
     "name": "stdout",
     "output_type": "stream",
     "text": [
      "Processing URI (UNITED RENTALS, INC.)\n",
      "  Available columns: ['accession_number', 'filing_date', 'reportDate', 'acceptanceDateTime', 'act', 'form', 'fileNumber', 'items', 'size', 'isXBRL', 'isInlineXBRL', 'primaryDocument', 'primaryDocDescription']\n",
      "  Found 10 10-K filings from 2015 onwards\n"
     ]
    },
    {
     "name": "stderr",
     "output_type": "stream",
     "text": [
      " 92%|█████████▏| 464/503 [4:21:37<18:28, 28.42s/it]"
     ]
    },
    {
     "name": "stdout",
     "output_type": "stream",
     "text": [
      "Processing UNH (UNITEDHEALTH GROUP INC)\n",
      "  Available columns: ['accession_number', 'filing_date', 'reportDate', 'acceptanceDateTime', 'act', 'form', 'fileNumber', 'items', 'size', 'isXBRL', 'isInlineXBRL', 'primaryDocument', 'primaryDocDescription']\n",
      "  Found 10 10-K filings from 2015 onwards\n"
     ]
    },
    {
     "name": "stderr",
     "output_type": "stream",
     "text": [
      " 92%|█████████▏| 465/503 [4:22:03<17:30, 27.65s/it]"
     ]
    },
    {
     "name": "stdout",
     "output_type": "stream",
     "text": [
      "Processing UHS (UNIVERSAL HEALTH SERVICES INC)\n",
      "  Available columns: ['accession_number', 'filing_date', 'reportDate', 'acceptanceDateTime', 'act', 'form', 'fileNumber', 'items', 'size', 'isXBRL', 'isInlineXBRL', 'primaryDocument', 'primaryDocDescription']\n",
      "  Found 10 10-K filings from 2015 onwards\n"
     ]
    },
    {
     "name": "stderr",
     "output_type": "stream",
     "text": [
      " 93%|█████████▎| 466/503 [4:22:47<20:04, 32.54s/it]"
     ]
    },
    {
     "name": "stdout",
     "output_type": "stream",
     "text": [
      "Processing VLO (VALERO ENERGY CORP/TX)\n",
      "  Available columns: ['accession_number', 'filing_date', 'reportDate', 'acceptanceDateTime', 'act', 'form', 'fileNumber', 'items', 'size', 'isXBRL', 'isInlineXBRL', 'primaryDocument', 'primaryDocDescription']\n",
      "  Found 10 10-K filings from 2015 onwards\n"
     ]
    },
    {
     "name": "stderr",
     "output_type": "stream",
     "text": [
      " 93%|█████████▎| 467/503 [4:23:20<19:37, 32.72s/it]"
     ]
    },
    {
     "name": "stdout",
     "output_type": "stream",
     "text": [
      "Processing VTR (Ventas, Inc.)\n",
      "  Available columns: ['accession_number', 'filing_date', 'reportDate', 'acceptanceDateTime', 'act', 'form', 'fileNumber', 'items', 'size', 'isXBRL', 'isInlineXBRL', 'primaryDocument', 'primaryDocDescription']\n",
      "  Found 10 10-K filings from 2015 onwards\n"
     ]
    },
    {
     "name": "stderr",
     "output_type": "stream",
     "text": [
      " 93%|█████████▎| 468/503 [4:24:16<23:12, 39.80s/it]"
     ]
    },
    {
     "name": "stdout",
     "output_type": "stream",
     "text": [
      "Processing VLTO (Veralto Corp)\n",
      "  Available columns: ['accession_number', 'filing_date', 'reportDate', 'acceptanceDateTime', 'act', 'form', 'fileNumber', 'items', 'size', 'isXBRL', 'isInlineXBRL', 'primaryDocument', 'primaryDocDescription']\n",
      "  Found 2 10-K filings from 2015 onwards\n"
     ]
    },
    {
     "name": "stderr",
     "output_type": "stream",
     "text": [
      " 93%|█████████▎| 469/503 [4:24:27<17:32, 30.95s/it]"
     ]
    },
    {
     "name": "stdout",
     "output_type": "stream",
     "text": [
      "Processing VRSN (VERISIGN INC/CA)\n",
      "  Available columns: ['accession_number', 'filing_date', 'reportDate', 'acceptanceDateTime', 'act', 'form', 'fileNumber', 'items', 'size', 'isXBRL', 'isInlineXBRL', 'primaryDocument', 'primaryDocDescription']\n",
      "  Found 10 10-K filings from 2015 onwards\n"
     ]
    },
    {
     "name": "stderr",
     "output_type": "stream",
     "text": [
      " 93%|█████████▎| 470/503 [4:24:44<14:49, 26.95s/it]"
     ]
    },
    {
     "name": "stdout",
     "output_type": "stream",
     "text": [
      "Processing VRSK (Verisk Analytics, Inc.)\n",
      "  Available columns: ['accession_number', 'filing_date', 'reportDate', 'acceptanceDateTime', 'act', 'form', 'fileNumber', 'items', 'size', 'isXBRL', 'isInlineXBRL', 'primaryDocument', 'primaryDocDescription']\n",
      "  Found 10 10-K filings from 2015 onwards\n"
     ]
    },
    {
     "name": "stderr",
     "output_type": "stream",
     "text": [
      " 94%|█████████▎| 471/503 [4:25:17<15:17, 28.67s/it]"
     ]
    },
    {
     "name": "stdout",
     "output_type": "stream",
     "text": [
      "Processing VZ (VERIZON COMMUNICATIONS INC)\n",
      "  Available columns: ['accession_number', 'filing_date', 'reportDate', 'acceptanceDateTime', 'act', 'form', 'fileNumber', 'items', 'size', 'isXBRL', 'isInlineXBRL', 'primaryDocument', 'primaryDocDescription']\n",
      "  Found 10 10-K filings from 2015 onwards\n"
     ]
    },
    {
     "name": "stderr",
     "output_type": "stream",
     "text": [
      " 94%|█████████▍| 472/503 [4:25:43<14:22, 27.83s/it]"
     ]
    },
    {
     "name": "stdout",
     "output_type": "stream",
     "text": [
      "Processing VRTX (VERTEX PHARMACEUTICALS INC / MA)\n",
      "  Available columns: ['accession_number', 'filing_date', 'reportDate', 'acceptanceDateTime', 'act', 'form', 'fileNumber', 'items', 'size', 'isXBRL', 'isInlineXBRL', 'primaryDocument', 'primaryDocDescription']\n",
      "  Found 10 10-K filings from 2015 onwards\n"
     ]
    },
    {
     "name": "stderr",
     "output_type": "stream",
     "text": [
      " 94%|█████████▍| 473/503 [4:26:08<13:26, 26.90s/it]"
     ]
    },
    {
     "name": "stdout",
     "output_type": "stream",
     "text": [
      "Processing VTRS (Viatris Inc)\n",
      "  Available columns: ['accession_number', 'filing_date', 'reportDate', 'acceptanceDateTime', 'act', 'form', 'fileNumber', 'items', 'size', 'isXBRL', 'isInlineXBRL', 'primaryDocument', 'primaryDocDescription']\n",
      "  Found 6 10-K filings from 2015 onwards\n"
     ]
    },
    {
     "name": "stderr",
     "output_type": "stream",
     "text": [
      "/home/nawa/.local/lib/python3.11/site-packages/edgar/files/htmltools.py:271: FutureWarning: Downcasting object dtype arrays on .fillna, .ffill, .bfill is deprecated and will change in a future version. Call result.infer_objects(copy=False) instead. To opt-in to the future behavior, set `pd.set_option('future.no_silent_downcasting', True)`\n",
      "  chunk_df.Item = chunk_df.Item.ffill().infer_objects(copy=False)\n"
     ]
    },
    {
     "name": "stdout",
     "output_type": "stream",
     "text": [
      "    WARNING: No MD&A section found for VTRS (CIK: 1792044) for year 2019\n"
     ]
    },
    {
     "name": "stderr",
     "output_type": "stream",
     "text": [
      " 94%|█████████▍| 474/503 [4:26:23<11:21, 23.51s/it]"
     ]
    },
    {
     "name": "stdout",
     "output_type": "stream",
     "text": [
      "Processing VICI (VICI PROPERTIES INC.)\n",
      "  Available columns: ['accession_number', 'filing_date', 'reportDate', 'acceptanceDateTime', 'act', 'form', 'fileNumber', 'items', 'size', 'isXBRL', 'isInlineXBRL', 'primaryDocument', 'primaryDocDescription']\n",
      "  Found 8 10-K filings from 2015 onwards\n"
     ]
    },
    {
     "name": "stderr",
     "output_type": "stream",
     "text": [
      " 94%|█████████▍| 475/503 [4:26:45<10:43, 22.98s/it]"
     ]
    },
    {
     "name": "stdout",
     "output_type": "stream",
     "text": [
      "Processing V (VISA INC.)\n",
      "  Available columns: ['accession_number', 'filing_date', 'reportDate', 'acceptanceDateTime', 'act', 'form', 'fileNumber', 'items', 'size', 'isXBRL', 'isInlineXBRL', 'primaryDocument', 'primaryDocDescription']\n",
      "  Found 10 10-K filings from 2015 onwards\n"
     ]
    },
    {
     "name": "stderr",
     "output_type": "stream",
     "text": [
      " 95%|█████████▍| 476/503 [4:27:14<11:12, 24.91s/it]"
     ]
    },
    {
     "name": "stdout",
     "output_type": "stream",
     "text": [
      "Processing VST (Vistra Corp.)\n",
      "  Available columns: ['accession_number', 'filing_date', 'reportDate', 'acceptanceDateTime', 'act', 'form', 'fileNumber', 'items', 'size', 'isXBRL', 'isInlineXBRL', 'primaryDocument', 'primaryDocDescription']\n",
      "  Found 8 10-K filings from 2015 onwards\n"
     ]
    },
    {
     "name": "stderr",
     "output_type": "stream",
     "text": [
      " 95%|█████████▍| 477/503 [4:27:44<11:26, 26.42s/it]"
     ]
    },
    {
     "name": "stdout",
     "output_type": "stream",
     "text": [
      "Processing VMC (Vulcan Materials CO)\n",
      "  Available columns: ['accession_number', 'filing_date', 'reportDate', 'acceptanceDateTime', 'act', 'form', 'fileNumber', 'items', 'size', 'isXBRL', 'isInlineXBRL', 'primaryDocument', 'primaryDocDescription']\n",
      "  Found 10 10-K filings from 2015 onwards\n",
      "    Error processing filing for VMC: 'NoneType' object is not subscriptable\n",
      "    Error processing filing for VMC: 'NoneType' object is not subscriptable\n",
      "    Error processing filing for VMC: 'NoneType' object is not subscriptable\n",
      "    Error processing filing for VMC: 'NoneType' object is not subscriptable\n"
     ]
    },
    {
     "name": "stderr",
     "output_type": "stream",
     "text": [
      " 95%|█████████▌| 478/503 [4:28:08<10:41, 25.65s/it]"
     ]
    },
    {
     "name": "stdout",
     "output_type": "stream",
     "text": [
      "Processing WRB (BERKLEY W R CORP)\n",
      "  Available columns: ['accession_number', 'filing_date', 'reportDate', 'acceptanceDateTime', 'act', 'form', 'fileNumber', 'items', 'size', 'isXBRL', 'isInlineXBRL', 'primaryDocument', 'primaryDocDescription']\n",
      "  Found 10 10-K filings from 2015 onwards\n"
     ]
    },
    {
     "name": "stderr",
     "output_type": "stream",
     "text": [
      " 95%|█████████▌| 479/503 [4:28:43<11:23, 28.47s/it]"
     ]
    },
    {
     "name": "stdout",
     "output_type": "stream",
     "text": [
      "Processing GWW (W.W. GRAINGER, INC.)\n",
      "  Available columns: ['accession_number', 'filing_date', 'reportDate', 'acceptanceDateTime', 'act', 'form', 'fileNumber', 'items', 'size', 'isXBRL', 'isInlineXBRL', 'primaryDocument', 'primaryDocDescription']\n",
      "  Found 10 10-K filings from 2015 onwards\n"
     ]
    },
    {
     "name": "stderr",
     "output_type": "stream",
     "text": [
      " 95%|█████████▌| 480/503 [4:29:07<10:22, 27.07s/it]"
     ]
    },
    {
     "name": "stdout",
     "output_type": "stream",
     "text": [
      "Processing WAB (WESTINGHOUSE AIR BRAKE TECHNOLOGIES CORP)\n",
      "  Available columns: ['accession_number', 'filing_date', 'reportDate', 'acceptanceDateTime', 'act', 'form', 'fileNumber', 'items', 'size', 'isXBRL', 'isInlineXBRL', 'primaryDocument', 'primaryDocDescription']\n",
      "  Found 10 10-K filings from 2015 onwards\n"
     ]
    },
    {
     "name": "stderr",
     "output_type": "stream",
     "text": [
      " 96%|█████████▌| 481/503 [4:29:35<10:03, 27.43s/it]"
     ]
    },
    {
     "name": "stdout",
     "output_type": "stream",
     "text": [
      "Processing WBA (Walgreens Boots Alliance, Inc.)\n",
      "  Available columns: ['accession_number', 'filing_date', 'reportDate', 'acceptanceDateTime', 'act', 'form', 'fileNumber', 'items', 'size', 'isXBRL', 'isInlineXBRL', 'primaryDocument', 'primaryDocDescription']\n",
      "  Found 10 10-K filings from 2015 onwards\n"
     ]
    },
    {
     "name": "stderr",
     "output_type": "stream",
     "text": [
      " 96%|█████████▌| 482/503 [4:30:04<09:41, 27.67s/it]"
     ]
    },
    {
     "name": "stdout",
     "output_type": "stream",
     "text": [
      "Processing WMT (Walmart Inc.)\n",
      "  Available columns: ['accession_number', 'filing_date', 'reportDate', 'acceptanceDateTime', 'act', 'form', 'fileNumber', 'items', 'size', 'isXBRL', 'isInlineXBRL', 'primaryDocument', 'primaryDocDescription']\n",
      "  Found 10 10-K filings from 2015 onwards\n"
     ]
    },
    {
     "name": "stderr",
     "output_type": "stream",
     "text": [
      " 96%|█████████▌| 483/503 [4:30:27<08:46, 26.30s/it]"
     ]
    },
    {
     "name": "stdout",
     "output_type": "stream",
     "text": [
      "Processing DIS (Walt Disney Co)\n",
      "  Available columns: ['accession_number', 'filing_date', 'reportDate', 'acceptanceDateTime', 'act', 'form', 'fileNumber', 'items', 'size', 'isXBRL', 'isInlineXBRL', 'primaryDocument', 'primaryDocDescription']\n",
      "  Found 6 10-K filings from 2015 onwards\n"
     ]
    },
    {
     "name": "stderr",
     "output_type": "stream",
     "text": [
      " 96%|█████████▌| 484/503 [4:30:48<07:51, 24.81s/it]"
     ]
    },
    {
     "name": "stdout",
     "output_type": "stream",
     "text": [
      "Processing WBD (Warner Bros. Discovery, Inc.)\n",
      "  Available columns: ['accession_number', 'filing_date', 'reportDate', 'acceptanceDateTime', 'act', 'form', 'fileNumber', 'items', 'size', 'isXBRL', 'isInlineXBRL', 'primaryDocument', 'primaryDocDescription']\n",
      "  Found 10 10-K filings from 2015 onwards\n"
     ]
    },
    {
     "name": "stderr",
     "output_type": "stream",
     "text": [
      " 96%|█████████▋| 485/503 [4:31:24<08:24, 28.02s/it]"
     ]
    },
    {
     "name": "stdout",
     "output_type": "stream",
     "text": [
      "Processing WM (WASTE MANAGEMENT INC)\n",
      "  Available columns: ['accession_number', 'filing_date', 'reportDate', 'acceptanceDateTime', 'act', 'form', 'fileNumber', 'items', 'size', 'isXBRL', 'isInlineXBRL', 'primaryDocument', 'primaryDocDescription']\n",
      "  Found 10 10-K filings from 2015 onwards\n",
      "    Error processing filing for WM: 'NoneType' object is not subscriptable\n",
      "    Error processing filing for WM: 'NoneType' object is not subscriptable\n"
     ]
    },
    {
     "name": "stderr",
     "output_type": "stream",
     "text": [
      " 97%|█████████▋| 486/503 [4:31:49<07:43, 27.24s/it]"
     ]
    },
    {
     "name": "stdout",
     "output_type": "stream",
     "text": [
      "Processing WAT (WATERS CORP /DE/)\n",
      "  Available columns: ['accession_number', 'filing_date', 'reportDate', 'acceptanceDateTime', 'act', 'form', 'fileNumber', 'items', 'size', 'isXBRL', 'isInlineXBRL', 'primaryDocument', 'primaryDocDescription']\n",
      "  Found 10 10-K filings from 2015 onwards\n"
     ]
    },
    {
     "name": "stderr",
     "output_type": "stream",
     "text": [
      " 97%|█████████▋| 487/503 [4:32:25<07:56, 29.81s/it]"
     ]
    },
    {
     "name": "stdout",
     "output_type": "stream",
     "text": [
      "Processing WEC (WEC ENERGY GROUP, INC.)\n",
      "  Available columns: ['accession_number', 'filing_date', 'reportDate', 'acceptanceDateTime', 'act', 'form', 'fileNumber', 'items', 'size', 'isXBRL', 'isInlineXBRL', 'primaryDocument', 'primaryDocDescription']\n",
      "  Found 10 10-K filings from 2015 onwards\n"
     ]
    },
    {
     "name": "stderr",
     "output_type": "stream",
     "text": [
      " 97%|█████████▋| 488/503 [4:33:04<08:08, 32.56s/it]"
     ]
    },
    {
     "name": "stdout",
     "output_type": "stream",
     "text": [
      "Processing WFC (WELLS FARGO & COMPANY/MN)\n",
      "  Available columns: ['accession_number', 'filing_date', 'reportDate', 'acceptanceDateTime', 'act', 'form', 'fileNumber', 'items', 'size', 'isXBRL', 'isInlineXBRL', 'primaryDocument', 'primaryDocDescription']\n",
      "  Found 10 10-K filings from 2015 onwards\n"
     ]
    },
    {
     "name": "stderr",
     "output_type": "stream",
     "text": [
      " 97%|█████████▋| 489/503 [4:33:30<07:07, 30.57s/it]"
     ]
    },
    {
     "name": "stdout",
     "output_type": "stream",
     "text": [
      "Processing WELL (WELLTOWER INC.)\n",
      "  Available columns: ['accession_number', 'filing_date', 'reportDate', 'acceptanceDateTime', 'act', 'form', 'fileNumber', 'items', 'size', 'isXBRL', 'isInlineXBRL', 'primaryDocument', 'primaryDocDescription']\n",
      "  Found 10 10-K filings from 2015 onwards\n",
      "    Error processing filing for WELL: 'NoneType' object is not subscriptable\n"
     ]
    },
    {
     "name": "stderr",
     "output_type": "stream",
     "text": [
      " 97%|█████████▋| 490/503 [4:34:47<09:37, 44.46s/it]"
     ]
    },
    {
     "name": "stdout",
     "output_type": "stream",
     "text": [
      "Processing WST (WEST PHARMACEUTICAL SERVICES INC)\n",
      "  Available columns: ['accession_number', 'filing_date', 'reportDate', 'acceptanceDateTime', 'act', 'form', 'fileNumber', 'items', 'size', 'isXBRL', 'isInlineXBRL', 'primaryDocument', 'primaryDocDescription']\n",
      "  Found 10 10-K filings from 2015 onwards\n"
     ]
    },
    {
     "name": "stderr",
     "output_type": "stream",
     "text": [
      " 98%|█████████▊| 491/503 [4:35:16<08:00, 40.00s/it]"
     ]
    },
    {
     "name": "stdout",
     "output_type": "stream",
     "text": [
      "Processing WDC (WESTERN DIGITAL CORP)\n",
      "  Available columns: ['accession_number', 'filing_date', 'reportDate', 'acceptanceDateTime', 'act', 'form', 'fileNumber', 'items', 'size', 'isXBRL', 'isInlineXBRL', 'primaryDocument', 'primaryDocDescription']\n",
      "  Found 10 10-K filings from 2015 onwards\n",
      "    WARNING: No MD&A section found for WDC (CIK: 106040) for year 2019\n"
     ]
    },
    {
     "name": "stderr",
     "output_type": "stream",
     "text": [
      " 98%|█████████▊| 492/503 [4:35:41<06:31, 35.61s/it]"
     ]
    },
    {
     "name": "stdout",
     "output_type": "stream",
     "text": [
      "Processing WY (WEYERHAEUSER CO)\n",
      "  Available columns: ['accession_number', 'filing_date', 'reportDate', 'acceptanceDateTime', 'act', 'form', 'fileNumber', 'items', 'size', 'isXBRL', 'isInlineXBRL', 'primaryDocument', 'primaryDocDescription']\n",
      "  Found 10 10-K filings from 2015 onwards\n",
      "    WARNING: No MD&A section found for WY (CIK: 106535) for year 2024\n",
      "    WARNING: No MD&A section found for WY (CIK: 106535) for year 2023\n",
      "    WARNING: No MD&A section found for WY (CIK: 106535) for year 2022\n",
      "    WARNING: No MD&A section found for WY (CIK: 106535) for year 2021\n",
      "    WARNING: No MD&A section found for WY (CIK: 106535) for year 2020\n",
      "    WARNING: No MD&A section found for WY (CIK: 106535) for year 2019\n",
      "    WARNING: No MD&A section found for WY (CIK: 106535) for year 2018\n",
      "    WARNING: No MD&A section found for WY (CIK: 106535) for year 2017\n",
      "    WARNING: No MD&A section found for WY (CIK: 106535) for year 2016\n",
      "    WARNING: No MD&A section found for WY (CIK: 106535) for year 2015\n"
     ]
    },
    {
     "name": "stderr",
     "output_type": "stream",
     "text": [
      " 98%|█████████▊| 493/503 [4:36:19<06:02, 36.22s/it]"
     ]
    },
    {
     "name": "stdout",
     "output_type": "stream",
     "text": [
      "Processing WMB (WILLIAMS COMPANIES, INC.)\n",
      "  Available columns: ['accession_number', 'filing_date', 'reportDate', 'acceptanceDateTime', 'act', 'form', 'fileNumber', 'items', 'size', 'isXBRL', 'isInlineXBRL', 'primaryDocument', 'primaryDocDescription']\n",
      "  Found 10 10-K filings from 2015 onwards\n"
     ]
    },
    {
     "name": "stderr",
     "output_type": "stream",
     "text": [
      " 98%|█████████▊| 494/503 [4:36:54<05:21, 35.76s/it]"
     ]
    },
    {
     "name": "stdout",
     "output_type": "stream",
     "text": [
      "Processing WTW (WILLIS TOWERS WATSON PLC)\n",
      "  Available columns: ['accession_number', 'filing_date', 'reportDate', 'acceptanceDateTime', 'act', 'form', 'fileNumber', 'items', 'size', 'isXBRL', 'isInlineXBRL', 'primaryDocument', 'primaryDocDescription']\n",
      "  Found 10 10-K filings from 2015 onwards\n"
     ]
    },
    {
     "name": "stderr",
     "output_type": "stream",
     "text": [
      " 98%|█████████▊| 495/503 [4:37:46<05:26, 40.76s/it]"
     ]
    },
    {
     "name": "stdout",
     "output_type": "stream",
     "text": [
      "Processing WDAY (Workday, Inc.)\n",
      "  Available columns: ['accession_number', 'filing_date', 'reportDate', 'acceptanceDateTime', 'act', 'form', 'fileNumber', 'items', 'size', 'isXBRL', 'isInlineXBRL', 'primaryDocument', 'primaryDocDescription']\n",
      "  Found 10 10-K filings from 2015 onwards\n"
     ]
    },
    {
     "name": "stderr",
     "output_type": "stream",
     "text": [
      " 99%|█████████▊| 496/503 [4:38:13<04:15, 36.53s/it]"
     ]
    },
    {
     "name": "stdout",
     "output_type": "stream",
     "text": [
      "Processing WYNN (WYNN RESORTS LTD)\n",
      "  Available columns: ['accession_number', 'filing_date', 'reportDate', 'acceptanceDateTime', 'act', 'form', 'fileNumber', 'items', 'size', 'isXBRL', 'isInlineXBRL', 'primaryDocument', 'primaryDocDescription']\n",
      "  Found 10 10-K filings from 2015 onwards\n"
     ]
    },
    {
     "name": "stderr",
     "output_type": "stream",
     "text": [
      " 99%|█████████▉| 497/503 [4:38:39<03:20, 33.46s/it]"
     ]
    },
    {
     "name": "stdout",
     "output_type": "stream",
     "text": [
      "Processing XEL (XCEL ENERGY INC)\n",
      "  Available columns: ['accession_number', 'filing_date', 'reportDate', 'acceptanceDateTime', 'act', 'form', 'fileNumber', 'items', 'size', 'isXBRL', 'isInlineXBRL', 'primaryDocument', 'primaryDocDescription']\n",
      "  Found 10 10-K filings from 2015 onwards\n"
     ]
    },
    {
     "name": "stderr",
     "output_type": "stream",
     "text": [
      " 99%|█████████▉| 498/503 [4:39:16<02:52, 34.43s/it]"
     ]
    },
    {
     "name": "stdout",
     "output_type": "stream",
     "text": [
      "Processing XYL (Xylem Inc.)\n",
      "  Available columns: ['accession_number', 'filing_date', 'reportDate', 'acceptanceDateTime', 'act', 'form', 'fileNumber', 'items', 'size', 'isXBRL', 'isInlineXBRL', 'primaryDocument', 'primaryDocDescription']\n",
      "  Found 9 10-K filings from 2015 onwards\n"
     ]
    },
    {
     "name": "stderr",
     "output_type": "stream",
     "text": [
      " 99%|█████████▉| 499/503 [4:39:43<02:09, 32.31s/it]"
     ]
    },
    {
     "name": "stdout",
     "output_type": "stream",
     "text": [
      "Processing YUM (YUM BRANDS INC)\n",
      "  Available columns: ['accession_number', 'filing_date', 'reportDate', 'acceptanceDateTime', 'act', 'form', 'fileNumber', 'items', 'size', 'isXBRL', 'isInlineXBRL', 'primaryDocument', 'primaryDocDescription']\n",
      "  Found 10 10-K filings from 2015 onwards\n"
     ]
    },
    {
     "name": "stderr",
     "output_type": "stream",
     "text": [
      " 99%|█████████▉| 500/503 [4:40:16<01:37, 32.36s/it]"
     ]
    },
    {
     "name": "stdout",
     "output_type": "stream",
     "text": [
      "Processing ZBRA (ZEBRA TECHNOLOGIES CORP)\n",
      "  Available columns: ['accession_number', 'filing_date', 'reportDate', 'acceptanceDateTime', 'act', 'form', 'fileNumber', 'items', 'size', 'isXBRL', 'isInlineXBRL', 'primaryDocument', 'primaryDocDescription']\n",
      "  Found 10 10-K filings from 2015 onwards\n"
     ]
    },
    {
     "name": "stderr",
     "output_type": "stream",
     "text": [
      "100%|█████████▉| 501/503 [4:40:41<01:00, 30.32s/it]"
     ]
    },
    {
     "name": "stdout",
     "output_type": "stream",
     "text": [
      "Processing ZBH (ZIMMER BIOMET HOLDINGS, INC.)\n",
      "  Available columns: ['accession_number', 'filing_date', 'reportDate', 'acceptanceDateTime', 'act', 'form', 'fileNumber', 'items', 'size', 'isXBRL', 'isInlineXBRL', 'primaryDocument', 'primaryDocDescription']\n",
      "  Found 10 10-K filings from 2015 onwards\n"
     ]
    },
    {
     "name": "stderr",
     "output_type": "stream",
     "text": [
      "100%|█████████▉| 502/503 [4:41:21<00:33, 33.18s/it]"
     ]
    },
    {
     "name": "stdout",
     "output_type": "stream",
     "text": [
      "Processing ZTS (Zoetis Inc.)\n",
      "  Available columns: ['accession_number', 'filing_date', 'reportDate', 'acceptanceDateTime', 'act', 'form', 'fileNumber', 'items', 'size', 'isXBRL', 'isInlineXBRL', 'primaryDocument', 'primaryDocDescription']\n",
      "  Found 10 10-K filings from 2015 onwards\n"
     ]
    },
    {
     "name": "stderr",
     "output_type": "stream",
     "text": [
      "100%|██████████| 503/503 [4:41:51<00:00, 33.62s/it]\n"
     ]
    },
    {
     "name": "stdout",
     "output_type": "stream",
     "text": [
      "Extraction complete.\n",
      "Processing MMM (3M CO)\n",
      "  Available columns: ['accession_number', 'filing_date', 'reportDate', 'acceptanceDateTime', 'act', 'form', 'fileNumber', 'items', 'size', 'isXBRL', 'isInlineXBRL', 'primaryDocument', 'primaryDocDescription']\n",
      "  Found 10 10-K filings from 2015 onwards\n",
      "    Error processing filing for MMM: 'NoneType' object is not subscriptable\n",
      "    Error processing filing for MMM: 'NoneType' object is not subscriptable\n",
      "    Error processing filing for MMM: 'NoneType' object is not subscriptable\n",
      "    Error processing filing for MMM: 'NoneType' object is not subscriptable\n",
      "Processing AOS (SMITH A O CORP)\n",
      "  Available columns: ['accession_number', 'filing_date', 'reportDate', 'acceptanceDateTime', 'act', 'form', 'fileNumber', 'items', 'size', 'isXBRL', 'isInlineXBRL', 'primaryDocument', 'primaryDocDescription']\n",
      "  Found 10 10-K filings from 2015 onwards\n",
      "Processing ABT (ABBOTT LABORATORIES)\n",
      "  Available columns: ['accession_number', 'filing_date', 'reportDate', 'acceptanceDateTime', 'act', 'form', 'fileNumber', 'items', 'size', 'isXBRL', 'isInlineXBRL', 'primaryDocument', 'primaryDocDescription']\n",
      "  Found 10 10-K filings from 2015 onwards\n",
      "Processing ABBV (AbbVie Inc.)\n",
      "  Available columns: ['accession_number', 'filing_date', 'reportDate', 'acceptanceDateTime', 'act', 'form', 'fileNumber', 'items', 'size', 'isXBRL', 'isInlineXBRL', 'primaryDocument', 'primaryDocDescription']\n",
      "  Found 10 10-K filings from 2015 onwards\n",
      "Processing ACN (Accenture plc)\n",
      "  Available columns: ['accession_number', 'filing_date', 'reportDate', 'acceptanceDateTime', 'act', 'form', 'fileNumber', 'items', 'size', 'isXBRL', 'isInlineXBRL', 'primaryDocument', 'primaryDocDescription']\n",
      "  Found 10 10-K filings from 2015 onwards\n",
      "Processing ADBE (ADOBE INC.)\n",
      "  Available columns: ['accession_number', 'filing_date', 'reportDate', 'acceptanceDateTime', 'act', 'form', 'fileNumber', 'items', 'size', 'isXBRL', 'isInlineXBRL', 'primaryDocument', 'primaryDocDescription']\n",
      "  Found 10 10-K filings from 2015 onwards\n",
      "Processing AMD (ADVANCED MICRO DEVICES INC)\n",
      "  Available columns: ['accession_number', 'filing_date', 'reportDate', 'acceptanceDateTime', 'act', 'form', 'fileNumber', 'items', 'size', 'isXBRL', 'isInlineXBRL', 'primaryDocument', 'primaryDocDescription']\n",
      "  Found 10 10-K filings from 2015 onwards\n",
      "Processing AES (AES CORP)\n",
      "  Available columns: ['accession_number', 'filing_date', 'reportDate', 'acceptanceDateTime', 'act', 'form', 'fileNumber', 'items', 'size', 'isXBRL', 'isInlineXBRL', 'primaryDocument', 'primaryDocDescription']\n",
      "  Found 9 10-K filings from 2015 onwards\n",
      "Processing AFL (AFLAC INC)\n",
      "  Available columns: ['accession_number', 'filing_date', 'reportDate', 'acceptanceDateTime', 'act', 'form', 'fileNumber', 'items', 'size', 'isXBRL', 'isInlineXBRL', 'primaryDocument', 'primaryDocDescription']\n",
      "  Found 10 10-K filings from 2015 onwards\n",
      "Processing A (AGILENT TECHNOLOGIES, INC.)\n",
      "  Available columns: ['accession_number', 'filing_date', 'reportDate', 'acceptanceDateTime', 'act', 'form', 'fileNumber', 'items', 'size', 'isXBRL', 'isInlineXBRL', 'primaryDocument', 'primaryDocDescription']\n",
      "  Found 10 10-K filings from 2015 onwards\n",
      "Processing APD (Air Products & Chemicals, Inc.)\n",
      "  Available columns: ['accession_number', 'filing_date', 'reportDate', 'acceptanceDateTime', 'act', 'form', 'fileNumber', 'items', 'size', 'isXBRL', 'isInlineXBRL', 'primaryDocument', 'primaryDocDescription']\n",
      "  Found 10 10-K filings from 2015 onwards\n",
      "Processing ABNB (Airbnb, Inc.)\n",
      "  Available columns: ['accession_number', 'filing_date', 'reportDate', 'acceptanceDateTime', 'act', 'form', 'fileNumber', 'items', 'size', 'isXBRL', 'isInlineXBRL', 'primaryDocument', 'primaryDocDescription']\n",
      "  Found 5 10-K filings from 2015 onwards\n",
      "Processing AKAM (AKAMAI TECHNOLOGIES INC)\n",
      "  Available columns: ['accession_number', 'filing_date', 'reportDate', 'acceptanceDateTime', 'act', 'form', 'fileNumber', 'items', 'size', 'isXBRL', 'isInlineXBRL', 'primaryDocument', 'primaryDocDescription']\n",
      "  Found 10 10-K filings from 2015 onwards\n",
      "Processing ALB (ALBEMARLE CORP)\n",
      "  Available columns: ['accession_number', 'filing_date', 'reportDate', 'acceptanceDateTime', 'act', 'form', 'fileNumber', 'items', 'size', 'isXBRL', 'isInlineXBRL', 'primaryDocument', 'primaryDocDescription']\n",
      "  Found 10 10-K filings from 2015 onwards\n",
      "Processing ARE (ALEXANDRIA REAL ESTATE EQUITIES, INC.)\n",
      "  Available columns: ['accession_number', 'filing_date', 'reportDate', 'acceptanceDateTime', 'act', 'form', 'fileNumber', 'items', 'size', 'isXBRL', 'isInlineXBRL', 'primaryDocument', 'primaryDocDescription']\n",
      "  Found 10 10-K filings from 2015 onwards\n",
      "Processing ALGN (ALIGN TECHNOLOGY INC)\n",
      "  Available columns: ['accession_number', 'filing_date', 'reportDate', 'acceptanceDateTime', 'act', 'form', 'fileNumber', 'items', 'size', 'isXBRL', 'isInlineXBRL', 'primaryDocument', 'primaryDocDescription']\n",
      "  Found 10 10-K filings from 2015 onwards\n",
      "Processing ALLE (Allegion plc)\n",
      "  Available columns: ['accession_number', 'filing_date', 'reportDate', 'acceptanceDateTime', 'act', 'form', 'fileNumber', 'items', 'size', 'isXBRL', 'isInlineXBRL', 'primaryDocument', 'primaryDocDescription']\n",
      "  Found 10 10-K filings from 2015 onwards\n",
      "Processing LNT (ALLIANT ENERGY CORP)\n",
      "  Available columns: ['accession_number', 'filing_date', 'reportDate', 'acceptanceDateTime', 'act', 'form', 'fileNumber', 'items', 'size', 'isXBRL', 'isInlineXBRL', 'primaryDocument', 'primaryDocDescription']\n",
      "  Found 10 10-K filings from 2015 onwards\n",
      "Processing ALL (ALLSTATE CORP)\n",
      "  Available columns: ['accession_number', 'filing_date', 'reportDate', 'acceptanceDateTime', 'act', 'form', 'fileNumber', 'items', 'size', 'isXBRL', 'isInlineXBRL', 'primaryDocument', 'primaryDocDescription']\n",
      "  Found 10 10-K filings from 2015 onwards\n",
      "Processing GOOGL (Alphabet Inc.)\n",
      "  Available columns: ['accession_number', 'filing_date', 'reportDate', 'acceptanceDateTime', 'act', 'form', 'fileNumber', 'items', 'size', 'isXBRL', 'isInlineXBRL', 'primaryDocument', 'primaryDocDescription']\n",
      "  Found 10 10-K filings from 2015 onwards\n",
      "Processing GOOG (Alphabet Inc.)\n",
      "  Available columns: ['accession_number', 'filing_date', 'reportDate', 'acceptanceDateTime', 'act', 'form', 'fileNumber', 'items', 'size', 'isXBRL', 'isInlineXBRL', 'primaryDocument', 'primaryDocDescription']\n",
      "  Found 10 10-K filings from 2015 onwards\n",
      "Processing MO (ALTRIA GROUP, INC.)\n",
      "  Available columns: ['accession_number', 'filing_date', 'reportDate', 'acceptanceDateTime', 'act', 'form', 'fileNumber', 'items', 'size', 'isXBRL', 'isInlineXBRL', 'primaryDocument', 'primaryDocDescription']\n",
      "  Found 10 10-K filings from 2015 onwards\n",
      "Processing AMZN (AMAZON COM INC)\n",
      "  Available columns: ['accession_number', 'filing_date', 'reportDate', 'acceptanceDateTime', 'act', 'form', 'fileNumber', 'items', 'size', 'isXBRL', 'isInlineXBRL', 'primaryDocument', 'primaryDocDescription']\n",
      "  Found 10 10-K filings from 2015 onwards\n",
      "Processing AMCR (Amcor plc)\n",
      "  Available columns: ['accession_number', 'filing_date', 'reportDate', 'acceptanceDateTime', 'act', 'form', 'fileNumber', 'items', 'size', 'isXBRL', 'isInlineXBRL', 'primaryDocument', 'primaryDocDescription']\n",
      "  Found 6 10-K filings from 2015 onwards\n",
      "Processing AEE (AMEREN CORP)\n",
      "  Available columns: ['accession_number', 'filing_date', 'reportDate', 'acceptanceDateTime', 'act', 'form', 'fileNumber', 'items', 'size', 'isXBRL', 'isInlineXBRL', 'primaryDocument', 'primaryDocDescription']\n",
      "  Found 10 10-K filings from 2015 onwards\n",
      "Processing AEP (AMERICAN ELECTRIC POWER CO INC)\n",
      "  Available columns: ['accession_number', 'filing_date', 'reportDate', 'acceptanceDateTime', 'act', 'form', 'fileNumber', 'items', 'size', 'isXBRL', 'isInlineXBRL', 'primaryDocument', 'primaryDocDescription']\n",
      "  Found 10 10-K filings from 2015 onwards\n",
      "Processing AXP (AMERICAN EXPRESS CO)\n",
      "  Available columns: ['accession_number', 'filing_date', 'reportDate', 'acceptanceDateTime', 'act', 'form', 'fileNumber', 'items', 'size', 'isXBRL', 'isInlineXBRL', 'primaryDocument', 'primaryDocDescription']\n",
      "  Found 10 10-K filings from 2015 onwards\n",
      "Processing AIG (AMERICAN INTERNATIONAL GROUP, INC.)\n",
      "  Available columns: ['accession_number', 'filing_date', 'reportDate', 'acceptanceDateTime', 'act', 'form', 'fileNumber', 'items', 'size', 'isXBRL', 'isInlineXBRL', 'primaryDocument', 'primaryDocDescription']\n",
      "  Found 10 10-K filings from 2015 onwards\n",
      "Processing AMT (AMERICAN TOWER CORP /MA/)\n",
      "  Available columns: ['accession_number', 'filing_date', 'reportDate', 'acceptanceDateTime', 'act', 'form', 'fileNumber', 'items', 'size', 'isXBRL', 'isInlineXBRL', 'primaryDocument', 'primaryDocDescription']\n",
      "  Found 10 10-K filings from 2015 onwards\n",
      "Processing AWK (American Water Works Company, Inc.)\n",
      "  Available columns: ['accession_number', 'filing_date', 'reportDate', 'acceptanceDateTime', 'act', 'form', 'fileNumber', 'items', 'size', 'isXBRL', 'isInlineXBRL', 'primaryDocument', 'primaryDocDescription']\n",
      "  Found 10 10-K filings from 2015 onwards\n",
      "Processing AMP (AMERIPRISE FINANCIAL INC)\n",
      "  Available columns: ['accession_number', 'filing_date', 'reportDate', 'acceptanceDateTime', 'act', 'form', 'fileNumber', 'items', 'size', 'isXBRL', 'isInlineXBRL', 'primaryDocument', 'primaryDocDescription']\n",
      "  Found 10 10-K filings from 2015 onwards\n",
      "Processing AME (AMETEK INC/)\n",
      "  Available columns: ['accession_number', 'filing_date', 'reportDate', 'acceptanceDateTime', 'act', 'form', 'fileNumber', 'items', 'size', 'isXBRL', 'isInlineXBRL', 'primaryDocument', 'primaryDocDescription']\n",
      "  Found 10 10-K filings from 2015 onwards\n",
      "Processing AMGN (AMGEN INC)\n",
      "  Available columns: ['accession_number', 'filing_date', 'reportDate', 'acceptanceDateTime', 'act', 'form', 'fileNumber', 'items', 'size', 'isXBRL', 'isInlineXBRL', 'primaryDocument', 'primaryDocDescription']\n",
      "  Found 10 10-K filings from 2015 onwards\n",
      "Processing APH (AMPHENOL CORP /DE/)\n",
      "  Available columns: ['accession_number', 'filing_date', 'reportDate', 'acceptanceDateTime', 'act', 'form', 'fileNumber', 'items', 'size', 'isXBRL', 'isInlineXBRL', 'primaryDocument', 'primaryDocDescription']\n",
      "  Found 10 10-K filings from 2015 onwards\n",
      "    Error processing filing for APH: 'NoneType' object is not subscriptable\n",
      "    Error processing filing for APH: 'NoneType' object is not subscriptable\n",
      "    Error processing filing for APH: 'NoneType' object is not subscriptable\n",
      "Processing ADI (ANALOG DEVICES INC)\n",
      "  Available columns: ['accession_number', 'filing_date', 'reportDate', 'acceptanceDateTime', 'act', 'form', 'fileNumber', 'items', 'size', 'isXBRL', 'isInlineXBRL', 'primaryDocument', 'primaryDocDescription']\n",
      "  Found 10 10-K filings from 2015 onwards\n",
      "Processing ANSS (ANSYS INC)\n",
      "  Available columns: ['accession_number', 'filing_date', 'reportDate', 'acceptanceDateTime', 'act', 'form', 'fileNumber', 'items', 'size', 'isXBRL', 'isInlineXBRL', 'primaryDocument', 'primaryDocDescription']\n",
      "  Found 10 10-K filings from 2015 onwards\n",
      "Processing AON (Aon plc)\n",
      "  Available columns: ['accession_number', 'filing_date', 'reportDate', 'acceptanceDateTime', 'act', 'form', 'fileNumber', 'items', 'size', 'isXBRL', 'isInlineXBRL', 'primaryDocument', 'primaryDocDescription']\n",
      "  Found 10 10-K filings from 2015 onwards\n",
      "Processing APA (APA Corp)\n",
      "  Available columns: ['accession_number', 'filing_date', 'reportDate', 'acceptanceDateTime', 'act', 'form', 'fileNumber', 'items', 'size', 'isXBRL', 'isInlineXBRL', 'primaryDocument', 'primaryDocDescription']\n",
      "  Found 4 10-K filings from 2015 onwards\n",
      "Processing APO (Apollo Global Management, Inc.)\n",
      "  Available columns: ['accession_number', 'filing_date', 'reportDate', 'acceptanceDateTime', 'act', 'form', 'fileNumber', 'items', 'size', 'isXBRL', 'isInlineXBRL', 'primaryDocument', 'primaryDocDescription']\n",
      "  Found 3 10-K filings from 2015 onwards\n",
      "Processing AAPL (Apple Inc.)\n",
      "  Available columns: ['accession_number', 'filing_date', 'reportDate', 'acceptanceDateTime', 'act', 'form', 'fileNumber', 'items', 'size', 'isXBRL', 'isInlineXBRL', 'primaryDocument', 'primaryDocDescription']\n",
      "  Found 10 10-K filings from 2015 onwards\n",
      "Processing AMAT (APPLIED MATERIALS INC /DE)\n",
      "  Available columns: ['accession_number', 'filing_date', 'reportDate', 'acceptanceDateTime', 'act', 'form', 'fileNumber', 'items', 'size', 'isXBRL', 'isInlineXBRL', 'primaryDocument', 'primaryDocDescription']\n",
      "  Found 10 10-K filings from 2015 onwards\n",
      "Processing APTV (Aptiv PLC)\n",
      "  Available columns: ['accession_number', 'filing_date', 'reportDate', 'acceptanceDateTime', 'act', 'form', 'fileNumber', 'items', 'size', 'isXBRL', 'isInlineXBRL', 'primaryDocument', 'primaryDocDescription']\n",
      "  Found 10 10-K filings from 2015 onwards\n",
      "Processing ACGL (ARCH CAPITAL GROUP LTD.)\n",
      "  Available columns: ['accession_number', 'filing_date', 'reportDate', 'acceptanceDateTime', 'act', 'form', 'fileNumber', 'items', 'size', 'isXBRL', 'isInlineXBRL', 'primaryDocument', 'primaryDocDescription']\n",
      "  Found 10 10-K filings from 2015 onwards\n",
      "Processing ADM (Archer-Daniels-Midland Co)\n",
      "  Available columns: ['accession_number', 'filing_date', 'reportDate', 'acceptanceDateTime', 'act', 'form', 'fileNumber', 'items', 'size', 'isXBRL', 'isInlineXBRL', 'primaryDocument', 'primaryDocDescription']\n",
      "  Found 10 10-K filings from 2015 onwards\n",
      "Processing ANET (Arista Networks, Inc.)\n",
      "  Available columns: ['accession_number', 'filing_date', 'reportDate', 'acceptanceDateTime', 'act', 'form', 'fileNumber', 'items', 'size', 'isXBRL', 'isInlineXBRL', 'primaryDocument', 'primaryDocDescription']\n",
      "  Found 10 10-K filings from 2015 onwards\n",
      "Processing AJG (Arthur J. Gallagher & Co.)\n",
      "  Available columns: ['accession_number', 'filing_date', 'reportDate', 'acceptanceDateTime', 'act', 'form', 'fileNumber', 'items', 'size', 'isXBRL', 'isInlineXBRL', 'primaryDocument', 'primaryDocDescription']\n",
      "  Found 10 10-K filings from 2015 onwards\n",
      "Processing AIZ (ASSURANT, INC.)\n",
      "  Available columns: ['accession_number', 'filing_date', 'reportDate', 'acceptanceDateTime', 'act', 'form', 'fileNumber', 'items', 'size', 'isXBRL', 'isInlineXBRL', 'primaryDocument', 'primaryDocDescription']\n",
      "  Found 10 10-K filings from 2015 onwards\n",
      "Processing T (AT&T INC.)\n",
      "  Available columns: ['accession_number', 'filing_date', 'reportDate', 'acceptanceDateTime', 'act', 'form', 'fileNumber', 'items', 'size', 'isXBRL', 'isInlineXBRL', 'primaryDocument', 'primaryDocDescription']\n",
      "  Found 10 10-K filings from 2015 onwards\n",
      "Processing ATO (ATMOS ENERGY CORP)\n",
      "  Available columns: ['accession_number', 'filing_date', 'reportDate', 'acceptanceDateTime', 'act', 'form', 'fileNumber', 'items', 'size', 'isXBRL', 'isInlineXBRL', 'primaryDocument', 'primaryDocDescription']\n",
      "  Found 10 10-K filings from 2015 onwards\n",
      "Processing ADSK (Autodesk, Inc.)\n",
      "  Available columns: ['accession_number', 'filing_date', 'reportDate', 'acceptanceDateTime', 'act', 'form', 'fileNumber', 'items', 'size', 'isXBRL', 'isInlineXBRL', 'primaryDocument', 'primaryDocDescription']\n",
      "  Found 10 10-K filings from 2015 onwards\n",
      "Processing ADP (AUTOMATIC DATA PROCESSING INC)\n",
      "  Available columns: ['accession_number', 'filing_date', 'reportDate', 'acceptanceDateTime', 'act', 'form', 'fileNumber', 'items', 'size', 'isXBRL', 'isInlineXBRL', 'primaryDocument', 'primaryDocDescription']\n",
      "  Found 10 10-K filings from 2015 onwards\n",
      "Processing AZO (AUTOZONE INC)\n",
      "  Available columns: ['accession_number', 'filing_date', 'reportDate', 'acceptanceDateTime', 'act', 'form', 'fileNumber', 'items', 'size', 'isXBRL', 'isInlineXBRL', 'primaryDocument', 'primaryDocDescription']\n",
      "  Found 10 10-K filings from 2015 onwards\n",
      "Processing AVB (AVALONBAY COMMUNITIES INC)\n",
      "  Available columns: ['accession_number', 'filing_date', 'reportDate', 'acceptanceDateTime', 'act', 'form', 'fileNumber', 'items', 'size', 'isXBRL', 'isInlineXBRL', 'primaryDocument', 'primaryDocDescription']\n",
      "  Found 10 10-K filings from 2015 onwards\n",
      "Processing AVY (Avery Dennison Corp)\n",
      "  Available columns: ['accession_number', 'filing_date', 'reportDate', 'acceptanceDateTime', 'act', 'form', 'fileNumber', 'items', 'size', 'isXBRL', 'isInlineXBRL', 'primaryDocument', 'primaryDocDescription']\n",
      "  Found 11 10-K filings from 2015 onwards\n",
      "Processing AXON (AXON ENTERPRISE, INC.)\n",
      "  Available columns: ['accession_number', 'filing_date', 'reportDate', 'acceptanceDateTime', 'act', 'form', 'fileNumber', 'items', 'size', 'isXBRL', 'isInlineXBRL', 'primaryDocument', 'primaryDocDescription']\n",
      "  Found 10 10-K filings from 2015 onwards\n",
      "Processing BKR (Baker Hughes Co)\n",
      "  Available columns: ['accession_number', 'filing_date', 'reportDate', 'acceptanceDateTime', 'act', 'form', 'fileNumber', 'items', 'size', 'isXBRL', 'isInlineXBRL', 'primaryDocument', 'primaryDocDescription']\n",
      "  Found 8 10-K filings from 2015 onwards\n",
      "Processing BALL (BALL Corp)\n",
      "  Available columns: ['accession_number', 'filing_date', 'reportDate', 'acceptanceDateTime', 'act', 'form', 'fileNumber', 'items', 'size', 'isXBRL', 'isInlineXBRL', 'primaryDocument', 'primaryDocDescription']\n",
      "  Found 10 10-K filings from 2015 onwards\n",
      "    Error processing filing for BALL: 'NoneType' object is not subscriptable\n",
      "    Error processing filing for BALL: 'NoneType' object is not subscriptable\n",
      "    Error processing filing for BALL: 'NoneType' object is not subscriptable\n",
      "Processing BAC (BANK OF AMERICA CORP /DE/)\n",
      "  Available columns: ['accession_number', 'filing_date', 'reportDate', 'acceptanceDateTime', 'act', 'form', 'fileNumber', 'items', 'size', 'isXBRL', 'isInlineXBRL', 'primaryDocument', 'primaryDocDescription']\n",
      "  Found 10 10-K filings from 2015 onwards\n",
      "Processing BAX (BAXTER INTERNATIONAL INC)\n",
      "  Available columns: ['accession_number', 'filing_date', 'reportDate', 'acceptanceDateTime', 'act', 'form', 'fileNumber', 'items', 'size', 'isXBRL', 'isInlineXBRL', 'primaryDocument', 'primaryDocDescription']\n",
      "  Found 10 10-K filings from 2015 onwards\n",
      "Processing BDX (BECTON DICKINSON & CO)\n",
      "  Available columns: ['accession_number', 'filing_date', 'reportDate', 'acceptanceDateTime', 'act', 'form', 'fileNumber', 'items', 'size', 'isXBRL', 'isInlineXBRL', 'primaryDocument', 'primaryDocDescription']\n",
      "  Found 10 10-K filings from 2015 onwards\n",
      "Processing BRK-B (BERKSHIRE HATHAWAY INC)\n",
      "  Available columns: ['accession_number', 'filing_date', 'reportDate', 'acceptanceDateTime', 'act', 'form', 'fileNumber', 'items', 'size', 'isXBRL', 'isInlineXBRL', 'primaryDocument', 'primaryDocDescription']\n",
      "  Found 10 10-K filings from 2015 onwards\n",
      "Processing BBY (BEST BUY CO INC)\n",
      "  Available columns: ['accession_number', 'filing_date', 'reportDate', 'acceptanceDateTime', 'act', 'form', 'fileNumber', 'items', 'size', 'isXBRL', 'isInlineXBRL', 'primaryDocument', 'primaryDocDescription']\n",
      "  Found 10 10-K filings from 2015 onwards\n",
      "Processing TECH (BIO-TECHNE Corp)\n",
      "  Available columns: ['accession_number', 'filing_date', 'reportDate', 'acceptanceDateTime', 'act', 'form', 'fileNumber', 'items', 'size', 'isXBRL', 'isInlineXBRL', 'primaryDocument', 'primaryDocDescription']\n",
      "  Found 10 10-K filings from 2015 onwards\n",
      "    Error processing filing for TECH: 'NoneType' object is not subscriptable\n",
      "Processing BIIB (BIOGEN INC.)\n",
      "  Available columns: ['accession_number', 'filing_date', 'reportDate', 'acceptanceDateTime', 'act', 'form', 'fileNumber', 'items', 'size', 'isXBRL', 'isInlineXBRL', 'primaryDocument', 'primaryDocDescription']\n",
      "  Found 10 10-K filings from 2015 onwards\n",
      "Processing BLK (BlackRock, Inc.)\n",
      "  Available columns: ['accession_number', 'filing_date', 'reportDate', 'acceptanceDateTime', 'act', 'form', 'fileNumber', 'items', 'size', 'isXBRL', 'isInlineXBRL', 'primaryDocument', 'primaryDocDescription']\n",
      "  Found 1 10-K filings from 2015 onwards\n",
      "Processing BX (Blackstone Inc.)\n",
      "  Available columns: ['accession_number', 'filing_date', 'reportDate', 'acceptanceDateTime', 'act', 'form', 'fileNumber', 'items', 'size', 'isXBRL', 'isInlineXBRL', 'primaryDocument', 'primaryDocDescription']\n",
      "  Found 10 10-K filings from 2015 onwards\n",
      "Processing BK (Bank of New York Mellon Corp)\n",
      "  Available columns: ['accession_number', 'filing_date', 'reportDate', 'acceptanceDateTime', 'act', 'form', 'fileNumber', 'items', 'size', 'isXBRL', 'isInlineXBRL', 'primaryDocument', 'primaryDocDescription']\n",
      "  Found 10 10-K filings from 2015 onwards\n",
      "Processing BA (BOEING CO)\n",
      "  Available columns: ['accession_number', 'filing_date', 'reportDate', 'acceptanceDateTime', 'act', 'form', 'fileNumber', 'items', 'size', 'isXBRL', 'isInlineXBRL', 'primaryDocument', 'primaryDocDescription']\n",
      "  Found 10 10-K filings from 2015 onwards\n",
      "Processing BKNG (Booking Holdings Inc.)\n",
      "  Available columns: ['accession_number', 'filing_date', 'reportDate', 'acceptanceDateTime', 'act', 'form', 'fileNumber', 'items', 'size', 'isXBRL', 'isInlineXBRL', 'primaryDocument', 'primaryDocDescription']\n",
      "  Found 10 10-K filings from 2015 onwards\n",
      "Processing BWA (BORGWARNER INC)\n",
      "  Available columns: ['accession_number', 'filing_date', 'reportDate', 'acceptanceDateTime', 'act', 'form', 'fileNumber', 'items', 'size', 'isXBRL', 'isInlineXBRL', 'primaryDocument', 'primaryDocDescription']\n",
      "  Found 10 10-K filings from 2015 onwards\n",
      "Processing BSX (BOSTON SCIENTIFIC CORP)\n",
      "  Available columns: ['accession_number', 'filing_date', 'reportDate', 'acceptanceDateTime', 'act', 'form', 'fileNumber', 'items', 'size', 'isXBRL', 'isInlineXBRL', 'primaryDocument', 'primaryDocDescription']\n",
      "  Found 10 10-K filings from 2015 onwards\n",
      "Processing BMY (BRISTOL MYERS SQUIBB CO)\n",
      "  Available columns: ['accession_number', 'filing_date', 'reportDate', 'acceptanceDateTime', 'act', 'form', 'fileNumber', 'items', 'size', 'isXBRL', 'isInlineXBRL', 'primaryDocument', 'primaryDocDescription']\n",
      "  Found 10 10-K filings from 2015 onwards\n",
      "Processing AVGO (Broadcom Inc.)\n",
      "  Available columns: ['accession_number', 'filing_date', 'reportDate', 'acceptanceDateTime', 'act', 'form', 'fileNumber', 'items', 'size', 'isXBRL', 'isInlineXBRL', 'primaryDocument', 'primaryDocDescription']\n",
      "  Found 7 10-K filings from 2015 onwards\n",
      "    WARNING: No MD&A section found for AVGO (CIK: 1730168) for year 2024\n",
      "Processing BR (BROADRIDGE FINANCIAL SOLUTIONS, INC.)\n",
      "  Available columns: ['accession_number', 'filing_date', 'reportDate', 'acceptanceDateTime', 'act', 'form', 'fileNumber', 'items', 'size', 'isXBRL', 'isInlineXBRL', 'primaryDocument', 'primaryDocDescription']\n",
      "  Found 10 10-K filings from 2015 onwards\n",
      "Processing BRO (BROWN & BROWN, INC.)\n",
      "  Available columns: ['accession_number', 'filing_date', 'reportDate', 'acceptanceDateTime', 'act', 'form', 'fileNumber', 'items', 'size', 'isXBRL', 'isInlineXBRL', 'primaryDocument', 'primaryDocDescription']\n",
      "  Found 10 10-K filings from 2015 onwards\n",
      "Processing BF-B (BROWN FORMAN CORP)\n",
      "  Available columns: ['accession_number', 'filing_date', 'reportDate', 'acceptanceDateTime', 'act', 'form', 'fileNumber', 'items', 'size', 'isXBRL', 'isInlineXBRL', 'primaryDocument', 'primaryDocDescription']\n",
      "  Found 10 10-K filings from 2015 onwards\n",
      "Processing BLDR (Builders FirstSource, Inc.)\n",
      "  Available columns: ['accession_number', 'filing_date', 'reportDate', 'acceptanceDateTime', 'act', 'form', 'fileNumber', 'items', 'size', 'isXBRL', 'isInlineXBRL', 'primaryDocument', 'primaryDocDescription']\n",
      "  Found 10 10-K filings from 2015 onwards\n",
      "Processing BG (Bunge Global SA)\n",
      "  Available columns: ['accession_number', 'filing_date', 'reportDate', 'acceptanceDateTime', 'act', 'form', 'fileNumber', 'items', 'size', 'isXBRL', 'isInlineXBRL', 'primaryDocument', 'primaryDocDescription']\n",
      "  Found 2 10-K filings from 2015 onwards\n",
      "Processing BXP (BXP, Inc.)\n",
      "  Available columns: ['accession_number', 'filing_date', 'reportDate', 'acceptanceDateTime', 'act', 'form', 'fileNumber', 'items', 'size', 'isXBRL', 'isInlineXBRL', 'primaryDocument', 'primaryDocDescription']\n",
      "  Found 10 10-K filings from 2015 onwards\n",
      "Processing CHRW (C. H. ROBINSON WORLDWIDE, INC.)\n",
      "  Available columns: ['accession_number', 'filing_date', 'reportDate', 'acceptanceDateTime', 'act', 'form', 'fileNumber', 'items', 'size', 'isXBRL', 'isInlineXBRL', 'primaryDocument', 'primaryDocDescription']\n",
      "  Found 10 10-K filings from 2015 onwards\n",
      "Processing CDNS (CADENCE DESIGN SYSTEMS INC)\n",
      "  Available columns: ['accession_number', 'filing_date', 'reportDate', 'acceptanceDateTime', 'act', 'form', 'fileNumber', 'items', 'size', 'isXBRL', 'isInlineXBRL', 'primaryDocument', 'primaryDocDescription']\n",
      "  Found 11 10-K filings from 2015 onwards\n",
      "Processing CZR (Caesars Entertainment, Inc.)\n",
      "  Available columns: ['accession_number', 'filing_date', 'reportDate', 'acceptanceDateTime', 'act', 'form', 'fileNumber', 'items', 'size', 'isXBRL', 'isInlineXBRL', 'primaryDocument', 'primaryDocDescription']\n",
      "  Found 10 10-K filings from 2015 onwards\n",
      "    Error processing filing for CZR: 'NoneType' object is not subscriptable\n",
      "Processing CPT (CAMDEN PROPERTY TRUST)\n",
      "  Available columns: ['accession_number', 'filing_date', 'reportDate', 'acceptanceDateTime', 'act', 'form', 'fileNumber', 'items', 'size', 'isXBRL', 'isInlineXBRL', 'primaryDocument', 'primaryDocDescription']\n",
      "  Found 10 10-K filings from 2015 onwards\n",
      "Processing CPB (CAMPBELL'S Co)\n",
      "  Available columns: ['accession_number', 'filing_date', 'reportDate', 'acceptanceDateTime', 'act', 'form', 'fileNumber', 'items', 'size', 'isXBRL', 'isInlineXBRL', 'primaryDocument', 'primaryDocDescription']\n",
      "  Found 10 10-K filings from 2015 onwards\n",
      "Processing COF (CAPITAL ONE FINANCIAL CORP)\n",
      "  Available columns: ['accession_number', 'filing_date', 'reportDate', 'acceptanceDateTime', 'act', 'form', 'fileNumber', 'items', 'size', 'isXBRL', 'isInlineXBRL', 'primaryDocument', 'primaryDocDescription']\n",
      "  Found 10 10-K filings from 2015 onwards\n",
      "Processing CAH (CARDINAL HEALTH INC)\n",
      "  Available columns: ['accession_number', 'filing_date', 'reportDate', 'acceptanceDateTime', 'act', 'form', 'fileNumber', 'items', 'size', 'isXBRL', 'isInlineXBRL', 'primaryDocument', 'primaryDocDescription']\n",
      "  Found 10 10-K filings from 2015 onwards\n"
     ]
    },
    {
     "name": "stderr",
     "output_type": "stream",
     "text": [
      "/home/nawa/.local/lib/python3.11/site-packages/edgar/files/htmltools.py:271: FutureWarning: Downcasting object dtype arrays on .fillna, .ffill, .bfill is deprecated and will change in a future version. Call result.infer_objects(copy=False) instead. To opt-in to the future behavior, set `pd.set_option('future.no_silent_downcasting', True)`\n",
      "  chunk_df.Item = chunk_df.Item.ffill().infer_objects(copy=False)\n"
     ]
    },
    {
     "name": "stdout",
     "output_type": "stream",
     "text": [
      "    WARNING: No MD&A section found for CAH (CIK: 721371) for year 2024\n"
     ]
    },
    {
     "name": "stderr",
     "output_type": "stream",
     "text": [
      "/home/nawa/.local/lib/python3.11/site-packages/edgar/files/htmltools.py:271: FutureWarning: Downcasting object dtype arrays on .fillna, .ffill, .bfill is deprecated and will change in a future version. Call result.infer_objects(copy=False) instead. To opt-in to the future behavior, set `pd.set_option('future.no_silent_downcasting', True)`\n",
      "  chunk_df.Item = chunk_df.Item.ffill().infer_objects(copy=False)\n"
     ]
    },
    {
     "name": "stdout",
     "output_type": "stream",
     "text": [
      "    WARNING: No MD&A section found for CAH (CIK: 721371) for year 2023\n"
     ]
    },
    {
     "name": "stderr",
     "output_type": "stream",
     "text": [
      "/home/nawa/.local/lib/python3.11/site-packages/edgar/files/htmltools.py:271: FutureWarning: Downcasting object dtype arrays on .fillna, .ffill, .bfill is deprecated and will change in a future version. Call result.infer_objects(copy=False) instead. To opt-in to the future behavior, set `pd.set_option('future.no_silent_downcasting', True)`\n",
      "  chunk_df.Item = chunk_df.Item.ffill().infer_objects(copy=False)\n"
     ]
    },
    {
     "name": "stdout",
     "output_type": "stream",
     "text": [
      "    WARNING: No MD&A section found for CAH (CIK: 721371) for year 2022\n"
     ]
    },
    {
     "name": "stderr",
     "output_type": "stream",
     "text": [
      "/home/nawa/.local/lib/python3.11/site-packages/edgar/files/htmltools.py:271: FutureWarning: Downcasting object dtype arrays on .fillna, .ffill, .bfill is deprecated and will change in a future version. Call result.infer_objects(copy=False) instead. To opt-in to the future behavior, set `pd.set_option('future.no_silent_downcasting', True)`\n",
      "  chunk_df.Item = chunk_df.Item.ffill().infer_objects(copy=False)\n"
     ]
    },
    {
     "name": "stdout",
     "output_type": "stream",
     "text": [
      "    WARNING: No MD&A section found for CAH (CIK: 721371) for year 2021\n"
     ]
    },
    {
     "name": "stderr",
     "output_type": "stream",
     "text": [
      "/home/nawa/.local/lib/python3.11/site-packages/edgar/files/htmltools.py:271: FutureWarning: Downcasting object dtype arrays on .fillna, .ffill, .bfill is deprecated and will change in a future version. Call result.infer_objects(copy=False) instead. To opt-in to the future behavior, set `pd.set_option('future.no_silent_downcasting', True)`\n",
      "  chunk_df.Item = chunk_df.Item.ffill().infer_objects(copy=False)\n"
     ]
    },
    {
     "name": "stdout",
     "output_type": "stream",
     "text": [
      "    WARNING: No MD&A section found for CAH (CIK: 721371) for year 2020\n"
     ]
    },
    {
     "name": "stderr",
     "output_type": "stream",
     "text": [
      "/home/nawa/.local/lib/python3.11/site-packages/edgar/files/htmltools.py:271: FutureWarning: Downcasting object dtype arrays on .fillna, .ffill, .bfill is deprecated and will change in a future version. Call result.infer_objects(copy=False) instead. To opt-in to the future behavior, set `pd.set_option('future.no_silent_downcasting', True)`\n",
      "  chunk_df.Item = chunk_df.Item.ffill().infer_objects(copy=False)\n"
     ]
    },
    {
     "name": "stdout",
     "output_type": "stream",
     "text": [
      "    WARNING: No MD&A section found for CAH (CIK: 721371) for year 2019\n"
     ]
    },
    {
     "name": "stderr",
     "output_type": "stream",
     "text": [
      "/home/nawa/.local/lib/python3.11/site-packages/edgar/files/htmltools.py:271: FutureWarning: Downcasting object dtype arrays on .fillna, .ffill, .bfill is deprecated and will change in a future version. Call result.infer_objects(copy=False) instead. To opt-in to the future behavior, set `pd.set_option('future.no_silent_downcasting', True)`\n",
      "  chunk_df.Item = chunk_df.Item.ffill().infer_objects(copy=False)\n"
     ]
    },
    {
     "name": "stdout",
     "output_type": "stream",
     "text": [
      "    WARNING: No MD&A section found for CAH (CIK: 721371) for year 2018\n"
     ]
    },
    {
     "name": "stderr",
     "output_type": "stream",
     "text": [
      "/home/nawa/.local/lib/python3.11/site-packages/edgar/files/htmltools.py:271: FutureWarning: Downcasting object dtype arrays on .fillna, .ffill, .bfill is deprecated and will change in a future version. Call result.infer_objects(copy=False) instead. To opt-in to the future behavior, set `pd.set_option('future.no_silent_downcasting', True)`\n",
      "  chunk_df.Item = chunk_df.Item.ffill().infer_objects(copy=False)\n"
     ]
    },
    {
     "name": "stdout",
     "output_type": "stream",
     "text": [
      "    WARNING: No MD&A section found for CAH (CIK: 721371) for year 2017\n"
     ]
    },
    {
     "name": "stderr",
     "output_type": "stream",
     "text": [
      "/home/nawa/.local/lib/python3.11/site-packages/edgar/files/htmltools.py:271: FutureWarning: Downcasting object dtype arrays on .fillna, .ffill, .bfill is deprecated and will change in a future version. Call result.infer_objects(copy=False) instead. To opt-in to the future behavior, set `pd.set_option('future.no_silent_downcasting', True)`\n",
      "  chunk_df.Item = chunk_df.Item.ffill().infer_objects(copy=False)\n"
     ]
    },
    {
     "name": "stdout",
     "output_type": "stream",
     "text": [
      "    WARNING: No MD&A section found for CAH (CIK: 721371) for year 2016\n"
     ]
    },
    {
     "name": "stderr",
     "output_type": "stream",
     "text": [
      "/home/nawa/.local/lib/python3.11/site-packages/edgar/files/htmltools.py:271: FutureWarning: Downcasting object dtype arrays on .fillna, .ffill, .bfill is deprecated and will change in a future version. Call result.infer_objects(copy=False) instead. To opt-in to the future behavior, set `pd.set_option('future.no_silent_downcasting', True)`\n",
      "  chunk_df.Item = chunk_df.Item.ffill().infer_objects(copy=False)\n"
     ]
    },
    {
     "name": "stdout",
     "output_type": "stream",
     "text": [
      "    WARNING: No MD&A section found for CAH (CIK: 721371) for year 2015\n",
      "Processing KMX (CARMAX INC)\n",
      "  Available columns: ['accession_number', 'filing_date', 'reportDate', 'acceptanceDateTime', 'act', 'form', 'fileNumber', 'items', 'size', 'isXBRL', 'isInlineXBRL', 'primaryDocument', 'primaryDocDescription']\n",
      "  Found 10 10-K filings from 2015 onwards\n",
      "    Error processing filing for KMX: 'NoneType' object is not subscriptable\n",
      "Processing CCL (CARNIVAL CORP)\n",
      "  Available columns: ['accession_number', 'filing_date', 'reportDate', 'acceptanceDateTime', 'act', 'form', 'fileNumber', 'items', 'size', 'isXBRL', 'isInlineXBRL', 'primaryDocument', 'primaryDocDescription']\n",
      "  Found 10 10-K filings from 2015 onwards\n",
      "Processing CARR (CARRIER GLOBAL Corp)\n",
      "  Available columns: ['accession_number', 'filing_date', 'reportDate', 'acceptanceDateTime', 'act', 'form', 'fileNumber', 'items', 'size', 'isXBRL', 'isInlineXBRL', 'primaryDocument', 'primaryDocDescription']\n",
      "  Found 5 10-K filings from 2015 onwards\n",
      "Processing CAT (CATERPILLAR INC)\n",
      "  Available columns: ['accession_number', 'filing_date', 'reportDate', 'acceptanceDateTime', 'act', 'form', 'fileNumber', 'items', 'size', 'isXBRL', 'isInlineXBRL', 'primaryDocument', 'primaryDocDescription']\n",
      "  Found 10 10-K filings from 2015 onwards\n",
      "Processing CBOE (Cboe Global Markets, Inc.)\n",
      "  Available columns: ['accession_number', 'filing_date', 'reportDate', 'acceptanceDateTime', 'act', 'form', 'fileNumber', 'items', 'size', 'isXBRL', 'isInlineXBRL', 'primaryDocument', 'primaryDocDescription']\n",
      "  Found 10 10-K filings from 2015 onwards\n",
      "    Error processing filing for CBOE: 'NoneType' object is not subscriptable\n",
      "    Error processing filing for CBOE: 'NoneType' object is not subscriptable\n",
      "Processing CBRE (CBRE GROUP, INC.)\n",
      "  Available columns: ['accession_number', 'filing_date', 'reportDate', 'acceptanceDateTime', 'act', 'form', 'fileNumber', 'items', 'size', 'isXBRL', 'isInlineXBRL', 'primaryDocument', 'primaryDocDescription']\n",
      "  Found 10 10-K filings from 2015 onwards\n",
      "Processing CDW (CDW Corp)\n",
      "  Available columns: ['accession_number', 'filing_date', 'reportDate', 'acceptanceDateTime', 'act', 'form', 'fileNumber', 'items', 'size', 'isXBRL', 'isInlineXBRL', 'primaryDocument', 'primaryDocDescription']\n",
      "  Found 10 10-K filings from 2015 onwards\n",
      "Processing CE (Celanese Corp)\n",
      "  Available columns: ['accession_number', 'filing_date', 'reportDate', 'acceptanceDateTime', 'act', 'form', 'fileNumber', 'items', 'size', 'isXBRL', 'isInlineXBRL', 'primaryDocument', 'primaryDocDescription']\n",
      "  Found 10 10-K filings from 2015 onwards\n",
      "Processing COR (Cencora, Inc.)\n",
      "  Available columns: ['accession_number', 'filing_date', 'reportDate', 'acceptanceDateTime', 'act', 'form', 'fileNumber', 'items', 'size', 'isXBRL', 'isInlineXBRL', 'primaryDocument', 'primaryDocDescription']\n",
      "  Found 10 10-K filings from 2015 onwards\n",
      "Processing CNC (CENTENE CORP)\n",
      "  Available columns: ['accession_number', 'filing_date', 'reportDate', 'acceptanceDateTime', 'act', 'form', 'fileNumber', 'items', 'size', 'isXBRL', 'isInlineXBRL', 'primaryDocument', 'primaryDocDescription']\n",
      "  Found 10 10-K filings from 2015 onwards\n",
      "Processing CNP (CENTERPOINT ENERGY INC)\n",
      "  Available columns: ['accession_number', 'filing_date', 'reportDate', 'acceptanceDateTime', 'act', 'form', 'fileNumber', 'items', 'size', 'isXBRL', 'isInlineXBRL', 'primaryDocument', 'primaryDocDescription']\n",
      "  Found 10 10-K filings from 2015 onwards\n",
      "Processing CF (CF Industries Holdings, Inc.)\n",
      "  Available columns: ['accession_number', 'filing_date', 'reportDate', 'acceptanceDateTime', 'act', 'form', 'fileNumber', 'items', 'size', 'isXBRL', 'isInlineXBRL', 'primaryDocument', 'primaryDocDescription']\n",
      "  Found 10 10-K filings from 2015 onwards\n",
      "Processing CRL (CHARLES RIVER LABORATORIES INTERNATIONAL, INC.)\n",
      "  Available columns: ['accession_number', 'filing_date', 'reportDate', 'acceptanceDateTime', 'act', 'form', 'fileNumber', 'items', 'size', 'isXBRL', 'isInlineXBRL', 'primaryDocument', 'primaryDocDescription']\n",
      "  Found 10 10-K filings from 2015 onwards\n",
      "Processing SCHW (SCHWAB CHARLES CORP)\n",
      "  Available columns: ['accession_number', 'filing_date', 'reportDate', 'acceptanceDateTime', 'act', 'form', 'fileNumber', 'items', 'size', 'isXBRL', 'isInlineXBRL', 'primaryDocument', 'primaryDocDescription']\n",
      "  Found 10 10-K filings from 2015 onwards\n",
      "    Error processing filing for SCHW: 'NoneType' object is not subscriptable\n",
      "    Error processing filing for SCHW: 'NoneType' object is not subscriptable\n",
      "Processing CHTR (CHARTER COMMUNICATIONS, INC. /MO/)\n",
      "  Available columns: ['accession_number', 'filing_date', 'reportDate', 'acceptanceDateTime', 'act', 'form', 'fileNumber', 'items', 'size', 'isXBRL', 'isInlineXBRL', 'primaryDocument', 'primaryDocDescription']\n",
      "  Found 10 10-K filings from 2015 onwards\n",
      "Processing CVX (CHEVRON CORP)\n",
      "  Available columns: ['accession_number', 'filing_date', 'reportDate', 'acceptanceDateTime', 'act', 'form', 'fileNumber', 'items', 'size', 'isXBRL', 'isInlineXBRL', 'primaryDocument', 'primaryDocDescription']\n",
      "  Found 10 10-K filings from 2015 onwards\n",
      "Processing CMG (CHIPOTLE MEXICAN GRILL INC)\n",
      "  Available columns: ['accession_number', 'filing_date', 'reportDate', 'acceptanceDateTime', 'act', 'form', 'fileNumber', 'items', 'size', 'isXBRL', 'isInlineXBRL', 'primaryDocument', 'primaryDocDescription']\n",
      "  Found 10 10-K filings from 2015 onwards\n",
      "    WARNING: No MD&A section found for CMG (CIK: 1058090) for year 2023\n",
      "    WARNING: No MD&A section found for CMG (CIK: 1058090) for year 2022\n",
      "    WARNING: No MD&A section found for CMG (CIK: 1058090) for year 2021\n",
      "    Error processing filing for CMG: 'NoneType' object is not subscriptable\n",
      "    Error processing filing for CMG: 'NoneType' object is not subscriptable\n",
      "    Error processing filing for CMG: 'NoneType' object is not subscriptable\n",
      "    Error processing filing for CMG: 'NoneType' object is not subscriptable\n",
      "Processing CB (Chubb Ltd)\n",
      "  Available columns: ['accession_number', 'filing_date', 'reportDate', 'acceptanceDateTime', 'act', 'form', 'fileNumber', 'items', 'size', 'isXBRL', 'isInlineXBRL', 'primaryDocument', 'primaryDocDescription']\n",
      "  Found 10 10-K filings from 2015 onwards\n",
      "Processing CHD (CHURCH & DWIGHT CO INC /DE/)\n",
      "  Available columns: ['accession_number', 'filing_date', 'reportDate', 'acceptanceDateTime', 'act', 'form', 'fileNumber', 'items', 'size', 'isXBRL', 'isInlineXBRL', 'primaryDocument', 'primaryDocDescription']\n",
      "  Found 10 10-K filings from 2015 onwards\n",
      "Processing CI (Cigna Group)\n",
      "  Available columns: ['accession_number', 'filing_date', 'reportDate', 'acceptanceDateTime', 'act', 'form', 'fileNumber', 'items', 'size', 'isXBRL', 'isInlineXBRL', 'primaryDocument', 'primaryDocDescription']\n",
      "  Found 7 10-K filings from 2015 onwards\n",
      "Processing CINF (CINCINNATI FINANCIAL CORP)\n",
      "  Available columns: ['accession_number', 'filing_date', 'reportDate', 'acceptanceDateTime', 'act', 'form', 'fileNumber', 'items', 'size', 'isXBRL', 'isInlineXBRL', 'primaryDocument', 'primaryDocDescription']\n",
      "  Found 10 10-K filings from 2015 onwards\n",
      "Processing CTAS (CINTAS CORP)\n",
      "  Available columns: ['accession_number', 'filing_date', 'reportDate', 'acceptanceDateTime', 'act', 'form', 'fileNumber', 'items', 'size', 'isXBRL', 'isInlineXBRL', 'primaryDocument', 'primaryDocDescription']\n",
      "  Found 10 10-K filings from 2015 onwards\n",
      "Processing CSCO (CISCO SYSTEMS, INC.)\n",
      "  Available columns: ['accession_number', 'filing_date', 'reportDate', 'acceptanceDateTime', 'act', 'form', 'fileNumber', 'items', 'size', 'isXBRL', 'isInlineXBRL', 'primaryDocument', 'primaryDocDescription']\n",
      "  Found 10 10-K filings from 2015 onwards\n",
      "Processing C (CITIGROUP INC)\n",
      "  Available columns: ['accession_number', 'filing_date', 'reportDate', 'acceptanceDateTime', 'act', 'form', 'fileNumber', 'items', 'size', 'isXBRL', 'isInlineXBRL', 'primaryDocument', 'primaryDocDescription']\n",
      "  Found 10 10-K filings from 2015 onwards\n"
     ]
    },
    {
     "name": "stderr",
     "output_type": "stream",
     "text": [
      "/home/nawa/.local/lib/python3.11/site-packages/edgar/files/htmltools.py:271: FutureWarning: Downcasting object dtype arrays on .fillna, .ffill, .bfill is deprecated and will change in a future version. Call result.infer_objects(copy=False) instead. To opt-in to the future behavior, set `pd.set_option('future.no_silent_downcasting', True)`\n",
      "  chunk_df.Item = chunk_df.Item.ffill().infer_objects(copy=False)\n"
     ]
    },
    {
     "name": "stdout",
     "output_type": "stream",
     "text": [
      "    WARNING: No MD&A section found for C (CIK: 831001) for year 2024\n"
     ]
    },
    {
     "name": "stderr",
     "output_type": "stream",
     "text": [
      "/home/nawa/.local/lib/python3.11/site-packages/edgar/files/htmltools.py:271: FutureWarning: Downcasting object dtype arrays on .fillna, .ffill, .bfill is deprecated and will change in a future version. Call result.infer_objects(copy=False) instead. To opt-in to the future behavior, set `pd.set_option('future.no_silent_downcasting', True)`\n",
      "  chunk_df.Item = chunk_df.Item.ffill().infer_objects(copy=False)\n"
     ]
    },
    {
     "name": "stdout",
     "output_type": "stream",
     "text": [
      "    WARNING: No MD&A section found for C (CIK: 831001) for year 2023\n"
     ]
    },
    {
     "name": "stderr",
     "output_type": "stream",
     "text": [
      "/home/nawa/.local/lib/python3.11/site-packages/edgar/files/htmltools.py:271: FutureWarning: Downcasting object dtype arrays on .fillna, .ffill, .bfill is deprecated and will change in a future version. Call result.infer_objects(copy=False) instead. To opt-in to the future behavior, set `pd.set_option('future.no_silent_downcasting', True)`\n",
      "  chunk_df.Item = chunk_df.Item.ffill().infer_objects(copy=False)\n"
     ]
    },
    {
     "name": "stdout",
     "output_type": "stream",
     "text": [
      "    WARNING: No MD&A section found for C (CIK: 831001) for year 2022\n"
     ]
    },
    {
     "name": "stderr",
     "output_type": "stream",
     "text": [
      "/home/nawa/.local/lib/python3.11/site-packages/edgar/files/htmltools.py:271: FutureWarning: Downcasting object dtype arrays on .fillna, .ffill, .bfill is deprecated and will change in a future version. Call result.infer_objects(copy=False) instead. To opt-in to the future behavior, set `pd.set_option('future.no_silent_downcasting', True)`\n",
      "  chunk_df.Item = chunk_df.Item.ffill().infer_objects(copy=False)\n"
     ]
    },
    {
     "name": "stdout",
     "output_type": "stream",
     "text": [
      "    WARNING: No MD&A section found for C (CIK: 831001) for year 2021\n"
     ]
    },
    {
     "name": "stderr",
     "output_type": "stream",
     "text": [
      "/home/nawa/.local/lib/python3.11/site-packages/edgar/files/htmltools.py:271: FutureWarning: Downcasting object dtype arrays on .fillna, .ffill, .bfill is deprecated and will change in a future version. Call result.infer_objects(copy=False) instead. To opt-in to the future behavior, set `pd.set_option('future.no_silent_downcasting', True)`\n",
      "  chunk_df.Item = chunk_df.Item.ffill().infer_objects(copy=False)\n"
     ]
    },
    {
     "name": "stdout",
     "output_type": "stream",
     "text": [
      "    WARNING: No MD&A section found for C (CIK: 831001) for year 2020\n"
     ]
    },
    {
     "name": "stderr",
     "output_type": "stream",
     "text": [
      "/home/nawa/.local/lib/python3.11/site-packages/edgar/files/htmltools.py:271: FutureWarning: Downcasting object dtype arrays on .fillna, .ffill, .bfill is deprecated and will change in a future version. Call result.infer_objects(copy=False) instead. To opt-in to the future behavior, set `pd.set_option('future.no_silent_downcasting', True)`\n",
      "  chunk_df.Item = chunk_df.Item.ffill().infer_objects(copy=False)\n"
     ]
    },
    {
     "name": "stdout",
     "output_type": "stream",
     "text": [
      "    WARNING: No MD&A section found for C (CIK: 831001) for year 2019\n"
     ]
    },
    {
     "name": "stderr",
     "output_type": "stream",
     "text": [
      "/home/nawa/.local/lib/python3.11/site-packages/edgar/files/htmltools.py:271: FutureWarning: Downcasting object dtype arrays on .fillna, .ffill, .bfill is deprecated and will change in a future version. Call result.infer_objects(copy=False) instead. To opt-in to the future behavior, set `pd.set_option('future.no_silent_downcasting', True)`\n",
      "  chunk_df.Item = chunk_df.Item.ffill().infer_objects(copy=False)\n"
     ]
    },
    {
     "name": "stdout",
     "output_type": "stream",
     "text": [
      "    WARNING: No MD&A section found for C (CIK: 831001) for year 2018\n"
     ]
    },
    {
     "name": "stderr",
     "output_type": "stream",
     "text": [
      "/home/nawa/.local/lib/python3.11/site-packages/edgar/files/htmltools.py:271: FutureWarning: Downcasting object dtype arrays on .fillna, .ffill, .bfill is deprecated and will change in a future version. Call result.infer_objects(copy=False) instead. To opt-in to the future behavior, set `pd.set_option('future.no_silent_downcasting', True)`\n",
      "  chunk_df.Item = chunk_df.Item.ffill().infer_objects(copy=False)\n"
     ]
    },
    {
     "name": "stdout",
     "output_type": "stream",
     "text": [
      "    WARNING: No MD&A section found for C (CIK: 831001) for year 2017\n"
     ]
    },
    {
     "name": "stderr",
     "output_type": "stream",
     "text": [
      "/home/nawa/.local/lib/python3.11/site-packages/edgar/files/htmltools.py:271: FutureWarning: Downcasting object dtype arrays on .fillna, .ffill, .bfill is deprecated and will change in a future version. Call result.infer_objects(copy=False) instead. To opt-in to the future behavior, set `pd.set_option('future.no_silent_downcasting', True)`\n",
      "  chunk_df.Item = chunk_df.Item.ffill().infer_objects(copy=False)\n"
     ]
    },
    {
     "name": "stdout",
     "output_type": "stream",
     "text": [
      "    WARNING: No MD&A section found for C (CIK: 831001) for year 2016\n"
     ]
    },
    {
     "name": "stderr",
     "output_type": "stream",
     "text": [
      "/home/nawa/.local/lib/python3.11/site-packages/edgar/files/htmltools.py:271: FutureWarning: Downcasting object dtype arrays on .fillna, .ffill, .bfill is deprecated and will change in a future version. Call result.infer_objects(copy=False) instead. To opt-in to the future behavior, set `pd.set_option('future.no_silent_downcasting', True)`\n",
      "  chunk_df.Item = chunk_df.Item.ffill().infer_objects(copy=False)\n"
     ]
    },
    {
     "name": "stdout",
     "output_type": "stream",
     "text": [
      "    WARNING: No MD&A section found for C (CIK: 831001) for year 2015\n",
      "Processing CFG (CITIZENS FINANCIAL GROUP INC/RI)\n",
      "  Available columns: ['accession_number', 'filing_date', 'reportDate', 'acceptanceDateTime', 'act', 'form', 'fileNumber', 'items', 'size', 'isXBRL', 'isInlineXBRL', 'primaryDocument', 'primaryDocDescription']\n",
      "  Found 10 10-K filings from 2015 onwards\n",
      "Processing CLX (CLOROX CO /DE/)\n",
      "  Available columns: ['accession_number', 'filing_date', 'reportDate', 'acceptanceDateTime', 'act', 'form', 'fileNumber', 'items', 'size', 'isXBRL', 'isInlineXBRL', 'primaryDocument', 'primaryDocDescription']\n",
      "  Found 10 10-K filings from 2015 onwards\n",
      "Processing CME (CME GROUP INC.)\n",
      "  Available columns: ['accession_number', 'filing_date', 'reportDate', 'acceptanceDateTime', 'act', 'form', 'fileNumber', 'items', 'size', 'isXBRL', 'isInlineXBRL', 'primaryDocument', 'primaryDocDescription']\n",
      "  Found 10 10-K filings from 2015 onwards\n",
      "Processing CMS (CMS ENERGY CORP)\n",
      "  Available columns: ['accession_number', 'filing_date', 'reportDate', 'acceptanceDateTime', 'act', 'form', 'fileNumber', 'items', 'size', 'isXBRL', 'isInlineXBRL', 'primaryDocument', 'primaryDocDescription']\n",
      "  Found 10 10-K filings from 2015 onwards\n",
      "Processing KO (COCA COLA CO)\n",
      "  Available columns: ['accession_number', 'filing_date', 'reportDate', 'acceptanceDateTime', 'act', 'form', 'fileNumber', 'items', 'size', 'isXBRL', 'isInlineXBRL', 'primaryDocument', 'primaryDocDescription']\n",
      "  Found 10 10-K filings from 2015 onwards\n",
      "Processing CTSH (COGNIZANT TECHNOLOGY SOLUTIONS CORP)\n",
      "  Available columns: ['accession_number', 'filing_date', 'reportDate', 'acceptanceDateTime', 'act', 'form', 'fileNumber', 'items', 'size', 'isXBRL', 'isInlineXBRL', 'primaryDocument', 'primaryDocDescription']\n",
      "  Found 10 10-K filings from 2015 onwards\n",
      "Processing CL (COLGATE PALMOLIVE CO)\n",
      "  Available columns: ['accession_number', 'filing_date', 'reportDate', 'acceptanceDateTime', 'act', 'form', 'fileNumber', 'items', 'size', 'isXBRL', 'isInlineXBRL', 'primaryDocument', 'primaryDocDescription']\n",
      "  Found 10 10-K filings from 2015 onwards\n",
      "Processing CMCSA (COMCAST CORP)\n",
      "  Available columns: ['accession_number', 'filing_date', 'reportDate', 'acceptanceDateTime', 'act', 'form', 'fileNumber', 'items', 'size', 'isXBRL', 'isInlineXBRL', 'primaryDocument', 'primaryDocDescription']\n",
      "  Found 10 10-K filings from 2015 onwards\n",
      "Processing CAG (CONAGRA BRANDS INC.)\n",
      "  Available columns: ['accession_number', 'filing_date', 'reportDate', 'acceptanceDateTime', 'act', 'form', 'fileNumber', 'items', 'size', 'isXBRL', 'isInlineXBRL', 'primaryDocument', 'primaryDocDescription']\n",
      "  Found 10 10-K filings from 2015 onwards\n",
      "Processing COP (CONOCOPHILLIPS)\n",
      "  Available columns: ['accession_number', 'filing_date', 'reportDate', 'acceptanceDateTime', 'act', 'form', 'fileNumber', 'items', 'size', 'isXBRL', 'isInlineXBRL', 'primaryDocument', 'primaryDocDescription']\n",
      "  Found 10 10-K filings from 2015 onwards\n",
      "    WARNING: No MD&A section found for COP (CIK: 1163165) for year 2021\n",
      "    WARNING: No MD&A section found for COP (CIK: 1163165) for year 2020\n",
      "    WARNING: No MD&A section found for COP (CIK: 1163165) for year 2019\n",
      "Processing ED (CONSOLIDATED EDISON INC)\n",
      "  Available columns: ['accession_number', 'filing_date', 'reportDate', 'acceptanceDateTime', 'act', 'form', 'fileNumber', 'items', 'size', 'isXBRL', 'isInlineXBRL', 'primaryDocument', 'primaryDocDescription']\n",
      "  Found 10 10-K filings from 2015 onwards\n",
      "Processing STZ (CONSTELLATION BRANDS, INC.)\n",
      "  Available columns: ['accession_number', 'filing_date', 'reportDate', 'acceptanceDateTime', 'act', 'form', 'fileNumber', 'items', 'size', 'isXBRL', 'isInlineXBRL', 'primaryDocument', 'primaryDocDescription']\n",
      "  Found 10 10-K filings from 2015 onwards\n",
      "Processing CEG (Constellation Energy Corp)\n",
      "  Available columns: ['accession_number', 'filing_date', 'reportDate', 'acceptanceDateTime', 'act', 'form', 'fileNumber', 'items', 'size', 'isXBRL', 'isInlineXBRL', 'primaryDocument', 'primaryDocDescription']\n",
      "  Found 4 10-K filings from 2015 onwards\n",
      "Processing COO (COOPER COMPANIES, INC.)\n",
      "  Available columns: ['accession_number', 'filing_date', 'reportDate', 'acceptanceDateTime', 'act', 'form', 'fileNumber', 'items', 'size', 'isXBRL', 'isInlineXBRL', 'primaryDocument', 'primaryDocDescription']\n",
      "  Found 10 10-K filings from 2015 onwards\n",
      "Processing CPRT (COPART INC)\n",
      "  Available columns: ['accession_number', 'filing_date', 'reportDate', 'acceptanceDateTime', 'act', 'form', 'fileNumber', 'items', 'size', 'isXBRL', 'isInlineXBRL', 'primaryDocument', 'primaryDocDescription']\n",
      "  Found 10 10-K filings from 2015 onwards\n",
      "Processing GLW (CORNING INC /NY)\n",
      "  Available columns: ['accession_number', 'filing_date', 'reportDate', 'acceptanceDateTime', 'act', 'form', 'fileNumber', 'items', 'size', 'isXBRL', 'isInlineXBRL', 'primaryDocument', 'primaryDocDescription']\n",
      "  Found 10 10-K filings from 2015 onwards\n",
      "    Error processing filing for GLW: 'NoneType' object is not subscriptable\n",
      "    Error processing filing for GLW: 'NoneType' object is not subscriptable\n",
      "Processing CPAY (CORPAY, INC.)\n",
      "  Available columns: ['accession_number', 'filing_date', 'reportDate', 'acceptanceDateTime', 'act', 'form', 'fileNumber', 'items', 'size', 'isXBRL', 'isInlineXBRL', 'primaryDocument', 'primaryDocDescription']\n",
      "  Found 10 10-K filings from 2015 onwards\n",
      "Processing CTVA (Corteva, Inc.)\n",
      "  Available columns: ['accession_number', 'filing_date', 'reportDate', 'acceptanceDateTime', 'act', 'form', 'fileNumber', 'items', 'size', 'isXBRL', 'isInlineXBRL', 'primaryDocument', 'primaryDocDescription']\n",
      "  Found 6 10-K filings from 2015 onwards\n",
      "Processing CSGP (COSTAR GROUP, INC.)\n",
      "  Available columns: ['accession_number', 'filing_date', 'reportDate', 'acceptanceDateTime', 'act', 'form', 'fileNumber', 'items', 'size', 'isXBRL', 'isInlineXBRL', 'primaryDocument', 'primaryDocDescription']\n",
      "  Found 10 10-K filings from 2015 onwards\n",
      "Processing COST (COSTCO WHOLESALE CORP /NEW)\n",
      "  Available columns: ['accession_number', 'filing_date', 'reportDate', 'acceptanceDateTime', 'act', 'form', 'fileNumber', 'items', 'size', 'isXBRL', 'isInlineXBRL', 'primaryDocument', 'primaryDocDescription']\n",
      "  Found 10 10-K filings from 2015 onwards\n",
      "Processing CTRA (Coterra Energy Inc.)\n",
      "  Available columns: ['accession_number', 'filing_date', 'reportDate', 'acceptanceDateTime', 'act', 'form', 'fileNumber', 'items', 'size', 'isXBRL', 'isInlineXBRL', 'primaryDocument', 'primaryDocDescription']\n",
      "  Found 10 10-K filings from 2015 onwards\n",
      "Processing CRWD (CrowdStrike Holdings, Inc.)\n",
      "  Available columns: ['accession_number', 'filing_date', 'reportDate', 'acceptanceDateTime', 'act', 'form', 'fileNumber', 'items', 'size', 'isXBRL', 'isInlineXBRL', 'primaryDocument', 'primaryDocDescription']\n",
      "  Found 5 10-K filings from 2015 onwards\n",
      "Processing CCI (CROWN CASTLE INC.)\n",
      "  Available columns: ['accession_number', 'filing_date', 'reportDate', 'acceptanceDateTime', 'act', 'form', 'fileNumber', 'items', 'size', 'isXBRL', 'isInlineXBRL', 'primaryDocument', 'primaryDocDescription']\n",
      "  Found 9 10-K filings from 2015 onwards\n",
      "Processing CSX (CSX CORP)\n",
      "  Available columns: ['accession_number', 'filing_date', 'reportDate', 'acceptanceDateTime', 'act', 'form', 'fileNumber', 'items', 'size', 'isXBRL', 'isInlineXBRL', 'primaryDocument', 'primaryDocDescription']\n",
      "  Found 10 10-K filings from 2015 onwards\n",
      "Processing CMI (CUMMINS INC)\n",
      "  Available columns: ['accession_number', 'filing_date', 'reportDate', 'acceptanceDateTime', 'act', 'form', 'fileNumber', 'items', 'size', 'isXBRL', 'isInlineXBRL', 'primaryDocument', 'primaryDocDescription']\n",
      "  Found 10 10-K filings from 2015 onwards\n",
      "Processing CVS (CVS HEALTH Corp)\n",
      "  Available columns: ['accession_number', 'filing_date', 'reportDate', 'acceptanceDateTime', 'act', 'form', 'fileNumber', 'items', 'size', 'isXBRL', 'isInlineXBRL', 'primaryDocument', 'primaryDocDescription']\n",
      "  Found 10 10-K filings from 2015 onwards\n",
      "    Error processing filing for CVS: 'NoneType' object is not subscriptable\n",
      "Processing DHR (DANAHER CORP /DE/)\n",
      "  Available columns: ['accession_number', 'filing_date', 'reportDate', 'acceptanceDateTime', 'act', 'form', 'fileNumber', 'items', 'size', 'isXBRL', 'isInlineXBRL', 'primaryDocument', 'primaryDocDescription']\n",
      "  Found 10 10-K filings from 2015 onwards\n",
      "Processing DRI (DARDEN RESTAURANTS INC)\n",
      "  Available columns: ['accession_number', 'filing_date', 'reportDate', 'acceptanceDateTime', 'act', 'form', 'fileNumber', 'items', 'size', 'isXBRL', 'isInlineXBRL', 'primaryDocument', 'primaryDocDescription']\n",
      "  Found 10 10-K filings from 2015 onwards\n",
      "Processing DVA (DAVITA INC.)\n",
      "  Available columns: ['accession_number', 'filing_date', 'reportDate', 'acceptanceDateTime', 'act', 'form', 'fileNumber', 'items', 'size', 'isXBRL', 'isInlineXBRL', 'primaryDocument', 'primaryDocDescription']\n",
      "  Found 10 10-K filings from 2015 onwards\n",
      "Processing DAY (Dayforce, Inc.)\n",
      "  Available columns: ['accession_number', 'filing_date', 'reportDate', 'acceptanceDateTime', 'act', 'form', 'fileNumber', 'items', 'size', 'isXBRL', 'isInlineXBRL', 'primaryDocument', 'primaryDocDescription']\n",
      "  Found 7 10-K filings from 2015 onwards\n",
      "Processing DECK (DECKERS OUTDOOR CORP)\n",
      "  Available columns: ['accession_number', 'filing_date', 'reportDate', 'acceptanceDateTime', 'act', 'form', 'fileNumber', 'items', 'size', 'isXBRL', 'isInlineXBRL', 'primaryDocument', 'primaryDocDescription']\n",
      "  Found 10 10-K filings from 2015 onwards\n",
      "Processing DE (DEERE & CO)\n",
      "  Available columns: ['accession_number', 'filing_date', 'reportDate', 'acceptanceDateTime', 'act', 'form', 'fileNumber', 'items', 'size', 'isXBRL', 'isInlineXBRL', 'primaryDocument', 'primaryDocDescription']\n",
      "  Found 10 10-K filings from 2015 onwards\n",
      "Processing DELL (Dell Technologies Inc.)\n",
      "  Available columns: ['accession_number', 'filing_date', 'reportDate', 'acceptanceDateTime', 'act', 'form', 'fileNumber', 'items', 'size', 'isXBRL', 'isInlineXBRL', 'primaryDocument', 'primaryDocDescription']\n",
      "  Found 8 10-K filings from 2015 onwards\n",
      "Processing DAL (DELTA AIR LINES, INC.)\n",
      "  Available columns: ['accession_number', 'filing_date', 'reportDate', 'acceptanceDateTime', 'act', 'form', 'fileNumber', 'items', 'size', 'isXBRL', 'isInlineXBRL', 'primaryDocument', 'primaryDocDescription']\n",
      "  Found 10 10-K filings from 2015 onwards\n",
      "Processing DVN (DEVON ENERGY CORP/DE)\n",
      "  Available columns: ['accession_number', 'filing_date', 'reportDate', 'acceptanceDateTime', 'act', 'form', 'fileNumber', 'items', 'size', 'isXBRL', 'isInlineXBRL', 'primaryDocument', 'primaryDocDescription']\n",
      "  Found 10 10-K filings from 2015 onwards\n",
      "Processing DXCM (DEXCOM INC)\n",
      "  Available columns: ['accession_number', 'filing_date', 'reportDate', 'acceptanceDateTime', 'act', 'form', 'fileNumber', 'items', 'size', 'isXBRL', 'isInlineXBRL', 'primaryDocument', 'primaryDocDescription']\n",
      "  Found 10 10-K filings from 2015 onwards\n",
      "Processing FANG (Diamondback Energy, Inc.)\n",
      "  Available columns: ['accession_number', 'filing_date', 'reportDate', 'acceptanceDateTime', 'act', 'form', 'fileNumber', 'items', 'size', 'isXBRL', 'isInlineXBRL', 'primaryDocument', 'primaryDocDescription']\n",
      "  Found 10 10-K filings from 2015 onwards\n",
      "Processing DLR (DIGITAL REALTY TRUST, INC.)\n",
      "  Available columns: ['accession_number', 'filing_date', 'reportDate', 'acceptanceDateTime', 'act', 'form', 'fileNumber', 'items', 'size', 'isXBRL', 'isInlineXBRL', 'primaryDocument', 'primaryDocDescription']\n",
      "  Found 10 10-K filings from 2015 onwards\n",
      "Processing DFS (Discover Financial Services)\n",
      "  Available columns: ['accession_number', 'filing_date', 'reportDate', 'acceptanceDateTime', 'act', 'form', 'fileNumber', 'items', 'size', 'isXBRL', 'isInlineXBRL', 'primaryDocument', 'primaryDocDescription']\n",
      "  Found 10 10-K filings from 2015 onwards\n",
      "Processing DG (DOLLAR GENERAL CORP)\n",
      "  Available columns: ['accession_number', 'filing_date', 'reportDate', 'acceptanceDateTime', 'act', 'form', 'fileNumber', 'items', 'size', 'isXBRL', 'isInlineXBRL', 'primaryDocument', 'primaryDocDescription']\n",
      "  Found 10 10-K filings from 2015 onwards\n",
      "    Error processing filing for DG: 'NoneType' object is not subscriptable\n",
      "    Error processing filing for DG: 'NoneType' object is not subscriptable\n",
      "    Error processing filing for DG: 'NoneType' object is not subscriptable\n",
      "Processing DLTR (DOLLAR TREE, INC.)\n",
      "  Available columns: ['accession_number', 'filing_date', 'reportDate', 'acceptanceDateTime', 'act', 'form', 'fileNumber', 'items', 'size', 'isXBRL', 'isInlineXBRL', 'primaryDocument', 'primaryDocDescription']\n",
      "  Found 10 10-K filings from 2015 onwards\n",
      "Processing D (DOMINION ENERGY, INC)\n",
      "  Available columns: ['accession_number', 'filing_date', 'reportDate', 'acceptanceDateTime', 'act', 'form', 'fileNumber', 'items', 'size', 'isXBRL', 'isInlineXBRL', 'primaryDocument', 'primaryDocDescription']\n",
      "  Found 10 10-K filings from 2015 onwards\n",
      "Processing DPZ (DOMINOS PIZZA INC)\n",
      "  Available columns: ['accession_number', 'filing_date', 'reportDate', 'acceptanceDateTime', 'act', 'form', 'fileNumber', 'items', 'size', 'isXBRL', 'isInlineXBRL', 'primaryDocument', 'primaryDocDescription']\n",
      "  Found 10 10-K filings from 2015 onwards\n",
      "Processing DOV (DOVER Corp)\n",
      "  Available columns: ['accession_number', 'filing_date', 'reportDate', 'acceptanceDateTime', 'act', 'form', 'fileNumber', 'items', 'size', 'isXBRL', 'isInlineXBRL', 'primaryDocument', 'primaryDocDescription']\n",
      "  Found 10 10-K filings from 2015 onwards\n",
      "Processing DOW (DOW INC.)\n",
      "  Available columns: ['accession_number', 'filing_date', 'reportDate', 'acceptanceDateTime', 'act', 'form', 'fileNumber', 'items', 'size', 'isXBRL', 'isInlineXBRL', 'primaryDocument', 'primaryDocDescription']\n",
      "  Found 6 10-K filings from 2015 onwards\n",
      "Processing DHI (HORTON D R INC /DE/)\n",
      "  Available columns: ['accession_number', 'filing_date', 'reportDate', 'acceptanceDateTime', 'act', 'form', 'fileNumber', 'items', 'size', 'isXBRL', 'isInlineXBRL', 'primaryDocument', 'primaryDocDescription']\n",
      "  Found 10 10-K filings from 2015 onwards\n",
      "Processing DTE (DTE ENERGY CO)\n",
      "  Available columns: ['accession_number', 'filing_date', 'reportDate', 'acceptanceDateTime', 'act', 'form', 'fileNumber', 'items', 'size', 'isXBRL', 'isInlineXBRL', 'primaryDocument', 'primaryDocDescription']\n",
      "  Found 10 10-K filings from 2015 onwards\n",
      "Processing DUK (Duke Energy CORP)\n",
      "  Available columns: ['accession_number', 'filing_date', 'reportDate', 'acceptanceDateTime', 'act', 'form', 'fileNumber', 'items', 'size', 'isXBRL', 'isInlineXBRL', 'primaryDocument', 'primaryDocDescription']\n",
      "  Found 10 10-K filings from 2015 onwards\n",
      "Processing DD (DuPont de Nemours, Inc.)\n",
      "  Available columns: ['accession_number', 'filing_date', 'reportDate', 'acceptanceDateTime', 'act', 'form', 'fileNumber', 'items', 'size', 'isXBRL', 'isInlineXBRL', 'primaryDocument', 'primaryDocDescription']\n",
      "  Found 8 10-K filings from 2015 onwards\n",
      "Processing EMN (EASTMAN CHEMICAL CO)\n",
      "  Available columns: ['accession_number', 'filing_date', 'reportDate', 'acceptanceDateTime', 'act', 'form', 'fileNumber', 'items', 'size', 'isXBRL', 'isInlineXBRL', 'primaryDocument', 'primaryDocDescription']\n",
      "  Found 10 10-K filings from 2015 onwards\n",
      "    WARNING: No MD&A section found for EMN (CIK: 915389) for year 2024\n",
      "    WARNING: No MD&A section found for EMN (CIK: 915389) for year 2023\n",
      "    WARNING: No MD&A section found for EMN (CIK: 915389) for year 2022\n",
      "    WARNING: No MD&A section found for EMN (CIK: 915389) for year 2021\n",
      "    WARNING: No MD&A section found for EMN (CIK: 915389) for year 2020\n",
      "    WARNING: No MD&A section found for EMN (CIK: 915389) for year 2019\n",
      "    WARNING: No MD&A section found for EMN (CIK: 915389) for year 2018\n",
      "    WARNING: No MD&A section found for EMN (CIK: 915389) for year 2017\n",
      "    WARNING: No MD&A section found for EMN (CIK: 915389) for year 2016\n",
      "    WARNING: No MD&A section found for EMN (CIK: 915389) for year 2015\n",
      "Processing ETN (Eaton Corp plc)\n",
      "  Available columns: ['accession_number', 'filing_date', 'reportDate', 'acceptanceDateTime', 'act', 'form', 'fileNumber', 'items', 'size', 'isXBRL', 'isInlineXBRL', 'primaryDocument', 'primaryDocDescription']\n",
      "  Found 10 10-K filings from 2015 onwards\n",
      "Processing EBAY (EBAY INC)\n",
      "  Available columns: ['accession_number', 'filing_date', 'reportDate', 'acceptanceDateTime', 'act', 'form', 'fileNumber', 'items', 'size', 'isXBRL', 'isInlineXBRL', 'primaryDocument', 'primaryDocDescription']\n",
      "  Found 10 10-K filings from 2015 onwards\n",
      "Processing ECL (ECOLAB INC.)\n",
      "  Available columns: ['accession_number', 'filing_date', 'reportDate', 'acceptanceDateTime', 'act', 'form', 'fileNumber', 'items', 'size', 'isXBRL', 'isInlineXBRL', 'primaryDocument', 'primaryDocDescription']\n",
      "  Found 10 10-K filings from 2015 onwards\n",
      "    Error processing filing for ECL: 'NoneType' object is not subscriptable\n",
      "    Error processing filing for ECL: 'NoneType' object is not subscriptable\n",
      "    Error processing filing for ECL: 'NoneType' object is not subscriptable\n",
      "    Error processing filing for ECL: 'NoneType' object is not subscriptable\n",
      "Processing EIX (EDISON INTERNATIONAL)\n",
      "  Available columns: ['accession_number', 'filing_date', 'reportDate', 'acceptanceDateTime', 'act', 'form', 'fileNumber', 'items', 'size', 'isXBRL', 'isInlineXBRL', 'primaryDocument', 'primaryDocDescription']\n",
      "  Found 10 10-K filings from 2015 onwards\n",
      "    WARNING: No MD&A section found for EIX (CIK: 827052) for year 2024\n"
     ]
    },
    {
     "name": "stderr",
     "output_type": "stream",
     "text": [
      "/home/nawa/.local/lib/python3.11/site-packages/edgar/files/htmltools.py:271: FutureWarning: Downcasting object dtype arrays on .fillna, .ffill, .bfill is deprecated and will change in a future version. Call result.infer_objects(copy=False) instead. To opt-in to the future behavior, set `pd.set_option('future.no_silent_downcasting', True)`\n",
      "  chunk_df.Item = chunk_df.Item.ffill().infer_objects(copy=False)\n"
     ]
    },
    {
     "name": "stdout",
     "output_type": "stream",
     "text": [
      "    WARNING: No MD&A section found for EIX (CIK: 827052) for year 2023\n"
     ]
    },
    {
     "name": "stderr",
     "output_type": "stream",
     "text": [
      "/home/nawa/.local/lib/python3.11/site-packages/edgar/files/htmltools.py:271: FutureWarning: Downcasting object dtype arrays on .fillna, .ffill, .bfill is deprecated and will change in a future version. Call result.infer_objects(copy=False) instead. To opt-in to the future behavior, set `pd.set_option('future.no_silent_downcasting', True)`\n",
      "  chunk_df.Item = chunk_df.Item.ffill().infer_objects(copy=False)\n"
     ]
    },
    {
     "name": "stdout",
     "output_type": "stream",
     "text": [
      "    WARNING: No MD&A section found for EIX (CIK: 827052) for year 2022\n"
     ]
    },
    {
     "name": "stderr",
     "output_type": "stream",
     "text": [
      "/home/nawa/.local/lib/python3.11/site-packages/edgar/files/htmltools.py:271: FutureWarning: Downcasting object dtype arrays on .fillna, .ffill, .bfill is deprecated and will change in a future version. Call result.infer_objects(copy=False) instead. To opt-in to the future behavior, set `pd.set_option('future.no_silent_downcasting', True)`\n",
      "  chunk_df.Item = chunk_df.Item.ffill().infer_objects(copy=False)\n"
     ]
    },
    {
     "name": "stdout",
     "output_type": "stream",
     "text": [
      "    WARNING: No MD&A section found for EIX (CIK: 827052) for year 2021\n",
      "    WARNING: No MD&A section found for EIX (CIK: 827052) for year 2020\n",
      "    WARNING: No MD&A section found for EIX (CIK: 827052) for year 2019\n",
      "    WARNING: No MD&A section found for EIX (CIK: 827052) for year 2018\n",
      "    WARNING: No MD&A section found for EIX (CIK: 827052) for year 2017\n",
      "    WARNING: No MD&A section found for EIX (CIK: 827052) for year 2016\n",
      "    WARNING: No MD&A section found for EIX (CIK: 827052) for year 2015\n",
      "Processing EW (Edwards Lifesciences Corp)\n",
      "  Available columns: ['accession_number', 'filing_date', 'reportDate', 'acceptanceDateTime', 'act', 'form', 'fileNumber', 'items', 'size', 'isXBRL', 'isInlineXBRL', 'primaryDocument', 'primaryDocDescription']\n",
      "  Found 10 10-K filings from 2015 onwards\n",
      "Processing EA (ELECTRONIC ARTS INC.)\n",
      "  Available columns: ['accession_number', 'filing_date', 'reportDate', 'acceptanceDateTime', 'act', 'form', 'fileNumber', 'items', 'size', 'isXBRL', 'isInlineXBRL', 'primaryDocument', 'primaryDocDescription']\n",
      "  Found 10 10-K filings from 2015 onwards\n",
      "Processing ELV (Elevance Health, Inc.)\n",
      "  Available columns: ['accession_number', 'filing_date', 'reportDate', 'acceptanceDateTime', 'act', 'form', 'fileNumber', 'items', 'size', 'isXBRL', 'isInlineXBRL', 'primaryDocument', 'primaryDocDescription']\n",
      "  Found 10 10-K filings from 2015 onwards\n",
      "Processing EMR (EMERSON ELECTRIC CO)\n",
      "  Available columns: ['accession_number', 'filing_date', 'reportDate', 'acceptanceDateTime', 'act', 'form', 'fileNumber', 'items', 'size', 'isXBRL', 'isInlineXBRL', 'primaryDocument', 'primaryDocDescription']\n",
      "  Found 10 10-K filings from 2015 onwards\n",
      "    WARNING: No MD&A section found for EMR (CIK: 32604) for year 2023\n",
      "Processing ENPH (Enphase Energy, Inc.)\n",
      "  Available columns: ['accession_number', 'filing_date', 'reportDate', 'acceptanceDateTime', 'act', 'form', 'fileNumber', 'items', 'size', 'isXBRL', 'isInlineXBRL', 'primaryDocument', 'primaryDocDescription']\n",
      "  Found 10 10-K filings from 2015 onwards\n",
      "Processing ETR (ENTERGY CORP /DE/)\n",
      "  Available columns: ['accession_number', 'filing_date', 'reportDate', 'acceptanceDateTime', 'act', 'form', 'fileNumber', 'items', 'size', 'isXBRL', 'isInlineXBRL', 'primaryDocument', 'primaryDocDescription']\n",
      "  Found 10 10-K filings from 2015 onwards\n",
      "Processing EOG (EOG RESOURCES INC)\n",
      "  Available columns: ['accession_number', 'filing_date', 'reportDate', 'acceptanceDateTime', 'act', 'form', 'fileNumber', 'items', 'size', 'isXBRL', 'isInlineXBRL', 'primaryDocument', 'primaryDocDescription']\n",
      "  Found 10 10-K filings from 2015 onwards\n",
      "Processing EPAM (EPAM Systems, Inc.)\n",
      "  Available columns: ['accession_number', 'filing_date', 'reportDate', 'acceptanceDateTime', 'act', 'form', 'fileNumber', 'items', 'size', 'isXBRL', 'isInlineXBRL', 'primaryDocument', 'primaryDocDescription']\n",
      "  Found 10 10-K filings from 2015 onwards\n",
      "Processing EQT (EQT Corp)\n",
      "  Available columns: ['accession_number', 'filing_date', 'reportDate', 'acceptanceDateTime', 'act', 'form', 'fileNumber', 'items', 'size', 'isXBRL', 'isInlineXBRL', 'primaryDocument', 'primaryDocDescription']\n",
      "  Found 10 10-K filings from 2015 onwards\n",
      "Processing EFX (EQUIFAX INC)\n",
      "  Available columns: ['accession_number', 'filing_date', 'reportDate', 'acceptanceDateTime', 'act', 'form', 'fileNumber', 'items', 'size', 'isXBRL', 'isInlineXBRL', 'primaryDocument', 'primaryDocDescription']\n",
      "  Found 10 10-K filings from 2015 onwards\n",
      "Processing EQIX (EQUINIX INC)\n",
      "  Available columns: ['accession_number', 'filing_date', 'reportDate', 'acceptanceDateTime', 'act', 'form', 'fileNumber', 'items', 'size', 'isXBRL', 'isInlineXBRL', 'primaryDocument', 'primaryDocDescription']\n",
      "  Found 10 10-K filings from 2015 onwards\n",
      "Processing EQR (EQUITY RESIDENTIAL)\n",
      "  Available columns: ['accession_number', 'filing_date', 'reportDate', 'acceptanceDateTime', 'act', 'form', 'fileNumber', 'items', 'size', 'isXBRL', 'isInlineXBRL', 'primaryDocument', 'primaryDocDescription']\n",
      "  Found 10 10-K filings from 2015 onwards\n",
      "Processing ERIE (ERIE INDEMNITY CO)\n",
      "  Available columns: ['accession_number', 'filing_date', 'reportDate', 'acceptanceDateTime', 'act', 'form', 'fileNumber', 'items', 'size', 'isXBRL', 'isInlineXBRL', 'primaryDocument', 'primaryDocDescription']\n",
      "  Found 10 10-K filings from 2015 onwards\n",
      "Processing ESS (ESSEX PROPERTY TRUST, INC.)\n",
      "  Available columns: ['accession_number', 'filing_date', 'reportDate', 'acceptanceDateTime', 'act', 'form', 'fileNumber', 'items', 'size', 'isXBRL', 'isInlineXBRL', 'primaryDocument', 'primaryDocDescription']\n",
      "  Found 10 10-K filings from 2015 onwards\n",
      "Processing EL (ESTEE LAUDER COMPANIES INC)\n",
      "  Available columns: ['accession_number', 'filing_date', 'reportDate', 'acceptanceDateTime', 'act', 'form', 'fileNumber', 'items', 'size', 'isXBRL', 'isInlineXBRL', 'primaryDocument', 'primaryDocDescription']\n",
      "  Found 10 10-K filings from 2015 onwards\n",
      "Processing EG (EVEREST GROUP, LTD.)\n",
      "  Available columns: ['accession_number', 'filing_date', 'reportDate', 'acceptanceDateTime', 'act', 'form', 'fileNumber', 'items', 'size', 'isXBRL', 'isInlineXBRL', 'primaryDocument', 'primaryDocDescription']\n",
      "  Found 10 10-K filings from 2015 onwards\n",
      "Processing EVRG (Evergy, Inc.)\n",
      "  Available columns: ['accession_number', 'filing_date', 'reportDate', 'acceptanceDateTime', 'act', 'form', 'fileNumber', 'items', 'size', 'isXBRL', 'isInlineXBRL', 'primaryDocument', 'primaryDocDescription']\n",
      "  Found 7 10-K filings from 2015 onwards\n",
      "Processing ES (EVERSOURCE ENERGY)\n",
      "  Available columns: ['accession_number', 'filing_date', 'reportDate', 'acceptanceDateTime', 'act', 'form', 'fileNumber', 'items', 'size', 'isXBRL', 'isInlineXBRL', 'primaryDocument', 'primaryDocDescription']\n",
      "  Found 10 10-K filings from 2015 onwards\n",
      "    Error processing filing for ES: 'NoneType' object is not subscriptable\n",
      "Processing EXC (EXELON CORP)\n",
      "  Available columns: ['accession_number', 'filing_date', 'reportDate', 'acceptanceDateTime', 'act', 'form', 'fileNumber', 'items', 'size', 'isXBRL', 'isInlineXBRL', 'primaryDocument', 'primaryDocDescription']\n",
      "  Found 10 10-K filings from 2015 onwards\n",
      "Processing EXPE (Expedia Group, Inc.)\n",
      "  Available columns: ['accession_number', 'filing_date', 'reportDate', 'acceptanceDateTime', 'act', 'form', 'fileNumber', 'items', 'size', 'isXBRL', 'isInlineXBRL', 'primaryDocument', 'primaryDocDescription']\n",
      "  Found 10 10-K filings from 2015 onwards\n",
      "    WARNING: No MD&A section found for EXPE (CIK: 1324424) for year 2024\n",
      "    WARNING: No MD&A section found for EXPE (CIK: 1324424) for year 2023\n",
      "    WARNING: No MD&A section found for EXPE (CIK: 1324424) for year 2022\n",
      "    WARNING: No MD&A section found for EXPE (CIK: 1324424) for year 2021\n",
      "    WARNING: No MD&A section found for EXPE (CIK: 1324424) for year 2020\n",
      "    WARNING: No MD&A section found for EXPE (CIK: 1324424) for year 2019\n",
      "    WARNING: No MD&A section found for EXPE (CIK: 1324424) for year 2018\n",
      "    WARNING: No MD&A section found for EXPE (CIK: 1324424) for year 2017\n",
      "    WARNING: No MD&A section found for EXPE (CIK: 1324424) for year 2016\n",
      "    WARNING: No MD&A section found for EXPE (CIK: 1324424) for year 2015\n",
      "Processing EXPD (EXPEDITORS INTERNATIONAL OF WASHINGTON INC)\n",
      "  Available columns: ['accession_number', 'filing_date', 'reportDate', 'acceptanceDateTime', 'act', 'form', 'fileNumber', 'items', 'size', 'isXBRL', 'isInlineXBRL', 'primaryDocument', 'primaryDocDescription']\n",
      "  Found 10 10-K filings from 2015 onwards\n",
      "Processing EXR (Extra Space Storage Inc.)\n",
      "  Available columns: ['accession_number', 'filing_date', 'reportDate', 'acceptanceDateTime', 'act', 'form', 'fileNumber', 'items', 'size', 'isXBRL', 'isInlineXBRL', 'primaryDocument', 'primaryDocDescription']\n",
      "  Found 10 10-K filings from 2015 onwards\n",
      "Processing XOM (EXXON MOBIL CORP)\n",
      "  Available columns: ['accession_number', 'filing_date', 'reportDate', 'acceptanceDateTime', 'act', 'form', 'fileNumber', 'items', 'size', 'isXBRL', 'isInlineXBRL', 'primaryDocument', 'primaryDocDescription']\n",
      "  Found 10 10-K filings from 2015 onwards\n",
      "Processing FFIV (F5, INC.)\n",
      "  Available columns: ['accession_number', 'filing_date', 'reportDate', 'acceptanceDateTime', 'act', 'form', 'fileNumber', 'items', 'size', 'isXBRL', 'isInlineXBRL', 'primaryDocument', 'primaryDocDescription']\n",
      "  Found 10 10-K filings from 2015 onwards\n",
      "Processing FDS (FACTSET RESEARCH SYSTEMS INC)\n",
      "  Available columns: ['accession_number', 'filing_date', 'reportDate', 'acceptanceDateTime', 'act', 'form', 'fileNumber', 'items', 'size', 'isXBRL', 'isInlineXBRL', 'primaryDocument', 'primaryDocDescription']\n",
      "  Found 10 10-K filings from 2015 onwards\n",
      "Processing FICO (FAIR ISAAC CORP)\n",
      "  Available columns: ['accession_number', 'filing_date', 'reportDate', 'acceptanceDateTime', 'act', 'form', 'fileNumber', 'items', 'size', 'isXBRL', 'isInlineXBRL', 'primaryDocument', 'primaryDocDescription']\n",
      "  Found 10 10-K filings from 2015 onwards\n",
      "Processing FAST (FASTENAL CO)\n",
      "  Available columns: ['accession_number', 'filing_date', 'reportDate', 'acceptanceDateTime', 'act', 'form', 'fileNumber', 'items', 'size', 'isXBRL', 'isInlineXBRL', 'primaryDocument', 'primaryDocDescription']\n",
      "  Found 10 10-K filings from 2015 onwards\n",
      "Processing FRT (FEDERAL REALTY INVESTMENT TRUST)\n",
      "  Available columns: ['accession_number', 'filing_date', 'reportDate', 'acceptanceDateTime', 'act', 'form', 'fileNumber', 'items', 'size', 'isXBRL', 'isInlineXBRL', 'primaryDocument', 'primaryDocDescription']\n",
      "  Found 10 10-K filings from 2015 onwards\n",
      "Processing FDX (FEDEX CORP)\n",
      "  Available columns: ['accession_number', 'filing_date', 'reportDate', 'acceptanceDateTime', 'act', 'form', 'fileNumber', 'items', 'size', 'isXBRL', 'isInlineXBRL', 'primaryDocument', 'primaryDocDescription']\n",
      "  Found 10 10-K filings from 2015 onwards\n",
      "Processing FIS (Fidelity National Information Services, Inc.)\n",
      "  Available columns: ['accession_number', 'filing_date', 'reportDate', 'acceptanceDateTime', 'act', 'form', 'fileNumber', 'items', 'size', 'isXBRL', 'isInlineXBRL', 'primaryDocument', 'primaryDocDescription']\n",
      "  Found 10 10-K filings from 2015 onwards\n",
      "Processing FITB (FIFTH THIRD BANCORP)\n",
      "  Available columns: ['accession_number', 'filing_date', 'reportDate', 'acceptanceDateTime', 'act', 'form', 'fileNumber', 'items', 'size', 'isXBRL', 'isInlineXBRL', 'primaryDocument', 'primaryDocDescription']\n",
      "  Found 10 10-K filings from 2015 onwards\n",
      "    WARNING: No MD&A section found for FITB (CIK: 35527) for year 2017\n",
      "    WARNING: No MD&A section found for FITB (CIK: 35527) for year 2016\n",
      "    WARNING: No MD&A section found for FITB (CIK: 35527) for year 2015\n",
      "Processing FSLR (FIRST SOLAR, INC.)\n",
      "  Available columns: ['accession_number', 'filing_date', 'reportDate', 'acceptanceDateTime', 'act', 'form', 'fileNumber', 'items', 'size', 'isXBRL', 'isInlineXBRL', 'primaryDocument', 'primaryDocDescription']\n",
      "  Found 10 10-K filings from 2015 onwards\n",
      "Processing FE (FIRSTENERGY CORP)\n",
      "  Available columns: ['accession_number', 'filing_date', 'reportDate', 'acceptanceDateTime', 'act', 'form', 'fileNumber', 'items', 'size', 'isXBRL', 'isInlineXBRL', 'primaryDocument', 'primaryDocDescription']\n",
      "  Found 10 10-K filings from 2015 onwards\n",
      "Processing FI (FISERV INC)\n",
      "  Available columns: ['accession_number', 'filing_date', 'reportDate', 'acceptanceDateTime', 'act', 'form', 'fileNumber', 'items', 'size', 'isXBRL', 'isInlineXBRL', 'primaryDocument', 'primaryDocDescription']\n",
      "  Found 10 10-K filings from 2015 onwards\n",
      "Processing FMC (FMC CORP)\n",
      "  Available columns: ['accession_number', 'filing_date', 'reportDate', 'acceptanceDateTime', 'act', 'form', 'fileNumber', 'items', 'size', 'isXBRL', 'isInlineXBRL', 'primaryDocument', 'primaryDocDescription']\n",
      "  Found 10 10-K filings from 2015 onwards\n",
      "Processing F (FORD MOTOR CO)\n",
      "  Available columns: ['accession_number', 'filing_date', 'reportDate', 'acceptanceDateTime', 'act', 'form', 'fileNumber', 'items', 'size', 'isXBRL', 'isInlineXBRL', 'primaryDocument', 'primaryDocDescription']\n",
      "  Found 10 10-K filings from 2015 onwards\n",
      "Processing FTNT (Fortinet, Inc.)\n",
      "  Available columns: ['accession_number', 'filing_date', 'reportDate', 'acceptanceDateTime', 'act', 'form', 'fileNumber', 'items', 'size', 'isXBRL', 'isInlineXBRL', 'primaryDocument', 'primaryDocDescription']\n",
      "  Found 10 10-K filings from 2015 onwards\n",
      "Processing FTV (Fortive Corp)\n",
      "  Available columns: ['accession_number', 'filing_date', 'reportDate', 'acceptanceDateTime', 'act', 'form', 'fileNumber', 'items', 'size', 'isXBRL', 'isInlineXBRL', 'primaryDocument', 'primaryDocDescription']\n",
      "  Found 9 10-K filings from 2015 onwards\n",
      "Processing FOXA (Fox Corp)\n",
      "  Available columns: ['accession_number', 'filing_date', 'reportDate', 'acceptanceDateTime', 'act', 'form', 'fileNumber', 'items', 'size', 'isXBRL', 'isInlineXBRL', 'primaryDocument', 'primaryDocDescription']\n",
      "  Found 6 10-K filings from 2015 onwards\n",
      "Processing FOX (Fox Corp)\n",
      "  Available columns: ['accession_number', 'filing_date', 'reportDate', 'acceptanceDateTime', 'act', 'form', 'fileNumber', 'items', 'size', 'isXBRL', 'isInlineXBRL', 'primaryDocument', 'primaryDocDescription']\n",
      "  Found 6 10-K filings from 2015 onwards\n",
      "Processing BEN (FRANKLIN RESOURCES INC)\n",
      "  Available columns: ['accession_number', 'filing_date', 'reportDate', 'acceptanceDateTime', 'act', 'form', 'fileNumber', 'items', 'size', 'isXBRL', 'isInlineXBRL', 'primaryDocument', 'primaryDocDescription']\n",
      "  Found 10 10-K filings from 2015 onwards\n",
      "Processing FCX (FREEPORT-MCMORAN INC)\n",
      "  Available columns: ['accession_number', 'filing_date', 'reportDate', 'acceptanceDateTime', 'act', 'form', 'fileNumber', 'items', 'size', 'isXBRL', 'isInlineXBRL', 'primaryDocument', 'primaryDocDescription']\n",
      "  Found 10 10-K filings from 2015 onwards\n",
      "    WARNING: No MD&A section found for FCX (CIK: 831259) for year 2024\n",
      "    WARNING: No MD&A section found for FCX (CIK: 831259) for year 2023\n",
      "    WARNING: No MD&A section found for FCX (CIK: 831259) for year 2022\n",
      "    WARNING: No MD&A section found for FCX (CIK: 831259) for year 2021\n",
      "    WARNING: No MD&A section found for FCX (CIK: 831259) for year 2020\n",
      "    WARNING: No MD&A section found for FCX (CIK: 831259) for year 2019\n",
      "    WARNING: No MD&A section found for FCX (CIK: 831259) for year 2018\n",
      "    WARNING: No MD&A section found for FCX (CIK: 831259) for year 2017\n",
      "    WARNING: No MD&A section found for FCX (CIK: 831259) for year 2016\n",
      "    WARNING: No MD&A section found for FCX (CIK: 831259) for year 2015\n",
      "Processing GRMN (GARMIN LTD)\n",
      "  Available columns: ['accession_number', 'filing_date', 'reportDate', 'acceptanceDateTime', 'act', 'form', 'fileNumber', 'items', 'size', 'isXBRL', 'isInlineXBRL', 'primaryDocument', 'primaryDocDescription']\n",
      "  Found 10 10-K filings from 2015 onwards\n",
      "Processing IT (GARTNER INC)\n",
      "  Available columns: ['accession_number', 'filing_date', 'reportDate', 'acceptanceDateTime', 'act', 'form', 'fileNumber', 'items', 'size', 'isXBRL', 'isInlineXBRL', 'primaryDocument', 'primaryDocDescription']\n",
      "  Found 10 10-K filings from 2015 onwards\n",
      "Processing GE (GENERAL ELECTRIC CO)\n",
      "  Available columns: ['accession_number', 'filing_date', 'reportDate', 'acceptanceDateTime', 'act', 'form', 'fileNumber', 'items', 'size', 'isXBRL', 'isInlineXBRL', 'primaryDocument', 'primaryDocDescription']\n",
      "  Found 11 10-K filings from 2015 onwards\n",
      "    WARNING: No MD&A section found for GE (CIK: 40545) for year 2024\n",
      "    WARNING: No MD&A section found for GE (CIK: 40545) for year 2023\n",
      "    WARNING: No MD&A section found for GE (CIK: 40545) for year 2022\n",
      "    WARNING: No MD&A section found for GE (CIK: 40545) for year 2021\n",
      "    WARNING: No MD&A section found for GE (CIK: 40545) for year 2020\n",
      "    WARNING: No MD&A section found for GE (CIK: 40545) for year 2019\n",
      "    WARNING: No MD&A section found for GE (CIK: 40545) for year 2018\n",
      "    WARNING: No MD&A section found for GE (CIK: 40545) for year 2017\n",
      "    WARNING: No MD&A section found for GE (CIK: 40545) for year 2016\n",
      "    WARNING: No MD&A section found for GE (CIK: 40545) for year 2015\n",
      "    WARNING: No MD&A section found for GE (CIK: 40545) for year 2015\n",
      "Processing GEHC (GE HealthCare Technologies Inc.)\n",
      "  Available columns: ['accession_number', 'filing_date', 'reportDate', 'acceptanceDateTime', 'act', 'form', 'fileNumber', 'items', 'size', 'isXBRL', 'isInlineXBRL', 'primaryDocument', 'primaryDocDescription']\n",
      "  Found 3 10-K filings from 2015 onwards\n",
      "Processing GEV (GE Vernova Inc.)\n",
      "  Available columns: ['accession_number', 'filing_date', 'reportDate', 'acceptanceDateTime', 'act', 'form', 'fileNumber', 'items', 'size', 'isXBRL', 'isInlineXBRL', 'primaryDocument', 'primaryDocDescription']\n",
      "  Found 1 10-K filings from 2015 onwards\n",
      "Processing GEN (Gen Digital Inc.)\n",
      "  Available columns: ['accession_number', 'filing_date', 'reportDate', 'acceptanceDateTime', 'act', 'form', 'fileNumber', 'items', 'size', 'isXBRL', 'isInlineXBRL', 'primaryDocument', 'primaryDocDescription']\n",
      "  Found 10 10-K filings from 2015 onwards\n",
      "Processing GNRC (GENERAC HOLDINGS INC.)\n",
      "  Available columns: ['accession_number', 'filing_date', 'reportDate', 'acceptanceDateTime', 'act', 'form', 'fileNumber', 'items', 'size', 'isXBRL', 'isInlineXBRL', 'primaryDocument', 'primaryDocDescription']\n",
      "  Found 10 10-K filings from 2015 onwards\n",
      "Processing GD (GENERAL DYNAMICS CORP)\n",
      "  Available columns: ['accession_number', 'filing_date', 'reportDate', 'acceptanceDateTime', 'act', 'form', 'fileNumber', 'items', 'size', 'isXBRL', 'isInlineXBRL', 'primaryDocument', 'primaryDocDescription']\n",
      "  Found 10 10-K filings from 2015 onwards\n",
      "Processing GIS (GENERAL MILLS INC)\n",
      "  Available columns: ['accession_number', 'filing_date', 'reportDate', 'acceptanceDateTime', 'act', 'form', 'fileNumber', 'items', 'size', 'isXBRL', 'isInlineXBRL', 'primaryDocument', 'primaryDocDescription']\n",
      "  Found 10 10-K filings from 2015 onwards\n",
      "Processing GM (General Motors Co)\n",
      "  Available columns: ['accession_number', 'filing_date', 'reportDate', 'acceptanceDateTime', 'act', 'form', 'fileNumber', 'items', 'size', 'isXBRL', 'isInlineXBRL', 'primaryDocument', 'primaryDocDescription']\n",
      "  Found 10 10-K filings from 2015 onwards\n",
      "Processing GPC (GENUINE PARTS CO)\n",
      "  Available columns: ['accession_number', 'filing_date', 'reportDate', 'acceptanceDateTime', 'act', 'form', 'fileNumber', 'items', 'size', 'isXBRL', 'isInlineXBRL', 'primaryDocument', 'primaryDocDescription']\n",
      "  Found 10 10-K filings from 2015 onwards\n",
      "Processing GILD (GILEAD SCIENCES, INC.)\n",
      "  Available columns: ['accession_number', 'filing_date', 'reportDate', 'acceptanceDateTime', 'act', 'form', 'fileNumber', 'items', 'size', 'isXBRL', 'isInlineXBRL', 'primaryDocument', 'primaryDocDescription']\n",
      "  Found 10 10-K filings from 2015 onwards\n",
      "Processing GPN (GLOBAL PAYMENTS INC)\n",
      "  Available columns: ['accession_number', 'filing_date', 'reportDate', 'acceptanceDateTime', 'act', 'form', 'fileNumber', 'items', 'size', 'isXBRL', 'isInlineXBRL', 'primaryDocument', 'primaryDocDescription']\n",
      "  Found 10 10-K filings from 2015 onwards\n",
      "Processing GL (GLOBE LIFE INC.)\n",
      "  Available columns: ['accession_number', 'filing_date', 'reportDate', 'acceptanceDateTime', 'act', 'form', 'fileNumber', 'items', 'size', 'isXBRL', 'isInlineXBRL', 'primaryDocument', 'primaryDocDescription']\n",
      "  Found 10 10-K filings from 2015 onwards\n",
      "Processing GDDY (GoDaddy Inc.)\n",
      "  Available columns: ['accession_number', 'filing_date', 'reportDate', 'acceptanceDateTime', 'act', 'form', 'fileNumber', 'items', 'size', 'isXBRL', 'isInlineXBRL', 'primaryDocument', 'primaryDocDescription']\n",
      "  Found 10 10-K filings from 2015 onwards\n",
      "Processing GS (GOLDMAN SACHS GROUP INC)\n",
      "  Available columns: ['accession_number', 'filing_date', 'reportDate', 'acceptanceDateTime', 'act', 'form', 'fileNumber', 'items', 'size', 'isXBRL', 'isInlineXBRL', 'primaryDocument', 'primaryDocDescription']\n",
      "  Found 10 10-K filings from 2015 onwards\n",
      "Processing HAL (HALLIBURTON CO)\n",
      "  Available columns: ['accession_number', 'filing_date', 'reportDate', 'acceptanceDateTime', 'act', 'form', 'fileNumber', 'items', 'size', 'isXBRL', 'isInlineXBRL', 'primaryDocument', 'primaryDocDescription']\n",
      "  Found 10 10-K filings from 2015 onwards\n",
      "Processing HIG (HARTFORD INSURANCE GROUP, INC.)\n",
      "  Available columns: ['accession_number', 'filing_date', 'reportDate', 'acceptanceDateTime', 'act', 'form', 'fileNumber', 'items', 'size', 'isXBRL', 'isInlineXBRL', 'primaryDocument', 'primaryDocDescription']\n",
      "  Found 10 10-K filings from 2015 onwards\n",
      "Processing HAS (HASBRO, INC.)\n",
      "  Available columns: ['accession_number', 'filing_date', 'reportDate', 'acceptanceDateTime', 'act', 'form', 'fileNumber', 'items', 'size', 'isXBRL', 'isInlineXBRL', 'primaryDocument', 'primaryDocDescription']\n",
      "  Found 10 10-K filings from 2015 onwards\n",
      "Processing HCA (HCA Healthcare, Inc.)\n",
      "  Available columns: ['accession_number', 'filing_date', 'reportDate', 'acceptanceDateTime', 'act', 'form', 'fileNumber', 'items', 'size', 'isXBRL', 'isInlineXBRL', 'primaryDocument', 'primaryDocDescription']\n",
      "  Found 10 10-K filings from 2015 onwards\n",
      "Processing DOC (HEALTHPEAK PROPERTIES, INC.)\n",
      "  Available columns: ['accession_number', 'filing_date', 'reportDate', 'acceptanceDateTime', 'act', 'form', 'fileNumber', 'items', 'size', 'isXBRL', 'isInlineXBRL', 'primaryDocument', 'primaryDocDescription']\n",
      "  Found 10 10-K filings from 2015 onwards\n",
      "    Error processing filing for DOC: 'NoneType' object is not subscriptable\n",
      "    Error processing filing for DOC: 'NoneType' object is not subscriptable\n",
      "Processing HSIC (HENRY SCHEIN INC)\n",
      "  Available columns: ['accession_number', 'filing_date', 'reportDate', 'acceptanceDateTime', 'act', 'form', 'fileNumber', 'items', 'size', 'isXBRL', 'isInlineXBRL', 'primaryDocument', 'primaryDocDescription']\n",
      "  Found 10 10-K filings from 2015 onwards\n",
      "Processing HSY (HERSHEY CO)\n",
      "  Available columns: ['accession_number', 'filing_date', 'reportDate', 'acceptanceDateTime', 'act', 'form', 'fileNumber', 'items', 'size', 'isXBRL', 'isInlineXBRL', 'primaryDocument', 'primaryDocDescription']\n",
      "  Found 10 10-K filings from 2015 onwards\n",
      "Processing HES (HESS CORP)\n",
      "  Available columns: ['accession_number', 'filing_date', 'reportDate', 'acceptanceDateTime', 'act', 'form', 'fileNumber', 'items', 'size', 'isXBRL', 'isInlineXBRL', 'primaryDocument', 'primaryDocDescription']\n",
      "  Found 10 10-K filings from 2015 onwards\n",
      "Processing HPE (Hewlett Packard Enterprise Co)\n",
      "  Available columns: ['accession_number', 'filing_date', 'reportDate', 'acceptanceDateTime', 'act', 'form', 'fileNumber', 'items', 'size', 'isXBRL', 'isInlineXBRL', 'primaryDocument', 'primaryDocDescription']\n",
      "  Found 10 10-K filings from 2015 onwards\n",
      "    WARNING: No MD&A section found for HPE (CIK: 1645590) for year 2015\n",
      "Processing HLT (Hilton Worldwide Holdings Inc.)\n",
      "  Available columns: ['accession_number', 'filing_date', 'reportDate', 'acceptanceDateTime', 'act', 'form', 'fileNumber', 'items', 'size', 'isXBRL', 'isInlineXBRL', 'primaryDocument', 'primaryDocDescription']\n",
      "  Found 10 10-K filings from 2015 onwards\n",
      "Processing HOLX (HOLOGIC INC)\n",
      "  Available columns: ['accession_number', 'filing_date', 'reportDate', 'acceptanceDateTime', 'act', 'form', 'fileNumber', 'items', 'size', 'isXBRL', 'isInlineXBRL', 'primaryDocument', 'primaryDocDescription']\n",
      "  Found 10 10-K filings from 2015 onwards\n",
      "Processing HD (HOME DEPOT, INC.)\n",
      "  Available columns: ['accession_number', 'filing_date', 'reportDate', 'acceptanceDateTime', 'act', 'form', 'fileNumber', 'items', 'size', 'isXBRL', 'isInlineXBRL', 'primaryDocument', 'primaryDocDescription']\n",
      "  Found 10 10-K filings from 2015 onwards\n",
      "Processing HON (HONEYWELL INTERNATIONAL INC)\n",
      "  Available columns: ['accession_number', 'filing_date', 'reportDate', 'acceptanceDateTime', 'act', 'form', 'fileNumber', 'items', 'size', 'isXBRL', 'isInlineXBRL', 'primaryDocument', 'primaryDocDescription']\n",
      "  Found 10 10-K filings from 2015 onwards\n"
     ]
    },
    {
     "name": "stderr",
     "output_type": "stream",
     "text": [
      "/home/nawa/.local/lib/python3.11/site-packages/edgar/files/htmltools.py:271: FutureWarning: Downcasting object dtype arrays on .fillna, .ffill, .bfill is deprecated and will change in a future version. Call result.infer_objects(copy=False) instead. To opt-in to the future behavior, set `pd.set_option('future.no_silent_downcasting', True)`\n",
      "  chunk_df.Item = chunk_df.Item.ffill().infer_objects(copy=False)\n"
     ]
    },
    {
     "name": "stdout",
     "output_type": "stream",
     "text": [
      "    WARNING: No MD&A section found for HON (CIK: 773840) for year 2024\n"
     ]
    },
    {
     "name": "stderr",
     "output_type": "stream",
     "text": [
      "/home/nawa/.local/lib/python3.11/site-packages/edgar/files/htmltools.py:271: FutureWarning: Downcasting object dtype arrays on .fillna, .ffill, .bfill is deprecated and will change in a future version. Call result.infer_objects(copy=False) instead. To opt-in to the future behavior, set `pd.set_option('future.no_silent_downcasting', True)`\n",
      "  chunk_df.Item = chunk_df.Item.ffill().infer_objects(copy=False)\n"
     ]
    },
    {
     "name": "stdout",
     "output_type": "stream",
     "text": [
      "    WARNING: No MD&A section found for HON (CIK: 773840) for year 2023\n"
     ]
    },
    {
     "name": "stderr",
     "output_type": "stream",
     "text": [
      "/home/nawa/.local/lib/python3.11/site-packages/edgar/files/htmltools.py:271: FutureWarning: Downcasting object dtype arrays on .fillna, .ffill, .bfill is deprecated and will change in a future version. Call result.infer_objects(copy=False) instead. To opt-in to the future behavior, set `pd.set_option('future.no_silent_downcasting', True)`\n",
      "  chunk_df.Item = chunk_df.Item.ffill().infer_objects(copy=False)\n"
     ]
    },
    {
     "name": "stdout",
     "output_type": "stream",
     "text": [
      "    WARNING: No MD&A section found for HON (CIK: 773840) for year 2022\n"
     ]
    },
    {
     "name": "stderr",
     "output_type": "stream",
     "text": [
      "/home/nawa/.local/lib/python3.11/site-packages/edgar/files/htmltools.py:271: FutureWarning: Downcasting object dtype arrays on .fillna, .ffill, .bfill is deprecated and will change in a future version. Call result.infer_objects(copy=False) instead. To opt-in to the future behavior, set `pd.set_option('future.no_silent_downcasting', True)`\n",
      "  chunk_df.Item = chunk_df.Item.ffill().infer_objects(copy=False)\n"
     ]
    },
    {
     "name": "stdout",
     "output_type": "stream",
     "text": [
      "    WARNING: No MD&A section found for HON (CIK: 773840) for year 2021\n",
      "    WARNING: No MD&A section found for HON (CIK: 773840) for year 2020\n",
      "    Error processing filing for HON: 'NoneType' object is not subscriptable\n",
      "Processing HRL (HORMEL FOODS CORP /DE/)\n",
      "  Available columns: ['accession_number', 'filing_date', 'reportDate', 'acceptanceDateTime', 'act', 'form', 'fileNumber', 'items', 'size', 'isXBRL', 'isInlineXBRL', 'primaryDocument', 'primaryDocDescription']\n",
      "  Found 10 10-K filings from 2015 onwards\n",
      "Processing HST (HOST HOTELS & RESORTS, INC.)\n",
      "  Available columns: ['accession_number', 'filing_date', 'reportDate', 'acceptanceDateTime', 'act', 'form', 'fileNumber', 'items', 'size', 'isXBRL', 'isInlineXBRL', 'primaryDocument', 'primaryDocDescription']\n",
      "  Found 10 10-K filings from 2015 onwards\n",
      "Processing HWM (Howmet Aerospace Inc.)\n",
      "  Available columns: ['accession_number', 'filing_date', 'reportDate', 'acceptanceDateTime', 'act', 'form', 'fileNumber', 'items', 'size', 'isXBRL', 'isInlineXBRL', 'primaryDocument', 'primaryDocDescription']\n",
      "  Found 10 10-K filings from 2015 onwards\n",
      "Processing HPQ (HP INC)\n",
      "  Available columns: ['accession_number', 'filing_date', 'reportDate', 'acceptanceDateTime', 'act', 'form', 'fileNumber', 'items', 'size', 'isXBRL', 'isInlineXBRL', 'primaryDocument', 'primaryDocDescription']\n",
      "  Found 10 10-K filings from 2015 onwards\n",
      "    WARNING: No MD&A section found for HPQ (CIK: 47217) for year 2015\n",
      "Processing HUBB (HUBBELL INC)\n",
      "  Available columns: ['accession_number', 'filing_date', 'reportDate', 'acceptanceDateTime', 'act', 'form', 'fileNumber', 'items', 'size', 'isXBRL', 'isInlineXBRL', 'primaryDocument', 'primaryDocDescription']\n",
      "  Found 10 10-K filings from 2015 onwards\n",
      "Processing HUM (HUMANA INC)\n",
      "  Available columns: ['accession_number', 'filing_date', 'reportDate', 'acceptanceDateTime', 'act', 'form', 'fileNumber', 'items', 'size', 'isXBRL', 'isInlineXBRL', 'primaryDocument', 'primaryDocDescription']\n",
      "  Found 10 10-K filings from 2015 onwards\n",
      "Processing HBAN (HUNTINGTON BANCSHARES INC /MD/)\n",
      "  Available columns: ['accession_number', 'filing_date', 'reportDate', 'acceptanceDateTime', 'act', 'form', 'fileNumber', 'items', 'size', 'isXBRL', 'isInlineXBRL', 'primaryDocument', 'primaryDocDescription']\n",
      "  Found 10 10-K filings from 2015 onwards\n",
      "Processing HII (HUNTINGTON INGALLS INDUSTRIES, INC.)\n",
      "  Available columns: ['accession_number', 'filing_date', 'reportDate', 'acceptanceDateTime', 'act', 'form', 'fileNumber', 'items', 'size', 'isXBRL', 'isInlineXBRL', 'primaryDocument', 'primaryDocDescription']\n",
      "  Found 10 10-K filings from 2015 onwards\n",
      "Processing IBM (INTERNATIONAL BUSINESS MACHINES CORP)\n",
      "  Available columns: ['accession_number', 'filing_date', 'reportDate', 'acceptanceDateTime', 'act', 'form', 'fileNumber', 'items', 'size', 'isXBRL', 'isInlineXBRL', 'primaryDocument', 'primaryDocDescription']\n",
      "  Found 10 10-K filings from 2015 onwards\n",
      "Processing IEX (IDEX CORP /DE/)\n",
      "  Available columns: ['accession_number', 'filing_date', 'reportDate', 'acceptanceDateTime', 'act', 'form', 'fileNumber', 'items', 'size', 'isXBRL', 'isInlineXBRL', 'primaryDocument', 'primaryDocDescription']\n",
      "  Found 10 10-K filings from 2015 onwards\n",
      "Processing IDXX (IDEXX LABORATORIES INC /DE)\n",
      "  Available columns: ['accession_number', 'filing_date', 'reportDate', 'acceptanceDateTime', 'act', 'form', 'fileNumber', 'items', 'size', 'isXBRL', 'isInlineXBRL', 'primaryDocument', 'primaryDocDescription']\n",
      "  Found 10 10-K filings from 2015 onwards\n",
      "    Error processing filing for IDXX: 'NoneType' object is not subscriptable\n",
      "    Error processing filing for IDXX: 'NoneType' object is not subscriptable\n",
      "    Error processing filing for IDXX: 'NoneType' object is not subscriptable\n",
      "Processing ITW (ILLINOIS TOOL WORKS INC)\n",
      "  Available columns: ['accession_number', 'filing_date', 'reportDate', 'acceptanceDateTime', 'act', 'form', 'fileNumber', 'items', 'size', 'isXBRL', 'isInlineXBRL', 'primaryDocument', 'primaryDocDescription']\n",
      "  Found 10 10-K filings from 2015 onwards\n",
      "Processing INCY (INCYTE CORP)\n",
      "  Available columns: ['accession_number', 'filing_date', 'reportDate', 'acceptanceDateTime', 'act', 'form', 'fileNumber', 'items', 'size', 'isXBRL', 'isInlineXBRL', 'primaryDocument', 'primaryDocDescription']\n",
      "  Found 10 10-K filings from 2015 onwards\n",
      "    Error processing filing for INCY: 'NoneType' object is not subscriptable\n",
      "    Error processing filing for INCY: 'NoneType' object is not subscriptable\n",
      "    Error processing filing for INCY: 'NoneType' object is not subscriptable\n",
      "    Error processing filing for INCY: 'NoneType' object is not subscriptable\n",
      "Processing IR (Ingersoll Rand Inc.)\n",
      "  Available columns: ['accession_number', 'filing_date', 'reportDate', 'acceptanceDateTime', 'act', 'form', 'fileNumber', 'items', 'size', 'isXBRL', 'isInlineXBRL', 'primaryDocument', 'primaryDocDescription']\n",
      "  Found 8 10-K filings from 2015 onwards\n",
      "    Error processing filing for IR: 'NoneType' object is not subscriptable\n",
      "Processing PODD (INSULET CORP)\n",
      "  Available columns: ['accession_number', 'filing_date', 'reportDate', 'acceptanceDateTime', 'act', 'form', 'fileNumber', 'items', 'size', 'isXBRL', 'isInlineXBRL', 'primaryDocument', 'primaryDocDescription']\n",
      "  Found 10 10-K filings from 2015 onwards\n",
      "Processing INTC (INTEL CORP)\n",
      "  Available columns: ['accession_number', 'filing_date', 'reportDate', 'acceptanceDateTime', 'act', 'form', 'fileNumber', 'items', 'size', 'isXBRL', 'isInlineXBRL', 'primaryDocument', 'primaryDocDescription']\n",
      "  Found 10 10-K filings from 2015 onwards\n",
      "    WARNING: No MD&A section found for INTC (CIK: 50863) for year 2024\n",
      "    WARNING: No MD&A section found for INTC (CIK: 50863) for year 2023\n",
      "    WARNING: No MD&A section found for INTC (CIK: 50863) for year 2022\n",
      "    WARNING: No MD&A section found for INTC (CIK: 50863) for year 2021\n",
      "    WARNING: No MD&A section found for INTC (CIK: 50863) for year 2020\n",
      "    WARNING: No MD&A section found for INTC (CIK: 50863) for year 2019\n",
      "    WARNING: No MD&A section found for INTC (CIK: 50863) for year 2018\n",
      "    WARNING: No MD&A section found for INTC (CIK: 50863) for year 2017\n",
      "Processing ICE (Intercontinental Exchange, Inc.)\n",
      "  Available columns: ['accession_number', 'filing_date', 'reportDate', 'acceptanceDateTime', 'act', 'form', 'fileNumber', 'items', 'size', 'isXBRL', 'isInlineXBRL', 'primaryDocument', 'primaryDocDescription']\n",
      "  Found 10 10-K filings from 2015 onwards\n",
      "Processing IFF (INTERNATIONAL FLAVORS & FRAGRANCES INC)\n",
      "  Available columns: ['accession_number', 'filing_date', 'reportDate', 'acceptanceDateTime', 'act', 'form', 'fileNumber', 'items', 'size', 'isXBRL', 'isInlineXBRL', 'primaryDocument', 'primaryDocDescription']\n",
      "  Found 10 10-K filings from 2015 onwards\n",
      "Processing IP (INTERNATIONAL PAPER CO /NEW/)\n",
      "  Available columns: ['accession_number', 'filing_date', 'reportDate', 'acceptanceDateTime', 'act', 'form', 'fileNumber', 'items', 'size', 'isXBRL', 'isInlineXBRL', 'primaryDocument', 'primaryDocDescription']\n",
      "  Found 10 10-K filings from 2015 onwards\n",
      "Processing IPG (INTERPUBLIC GROUP OF COMPANIES, INC.)\n",
      "  Available columns: ['accession_number', 'filing_date', 'reportDate', 'acceptanceDateTime', 'act', 'form', 'fileNumber', 'items', 'size', 'isXBRL', 'isInlineXBRL', 'primaryDocument', 'primaryDocDescription']\n",
      "  Found 10 10-K filings from 2015 onwards\n",
      "Processing INTU (INTUIT INC.)\n",
      "  Available columns: ['accession_number', 'filing_date', 'reportDate', 'acceptanceDateTime', 'act', 'form', 'fileNumber', 'items', 'size', 'isXBRL', 'isInlineXBRL', 'primaryDocument', 'primaryDocDescription']\n",
      "  Found 10 10-K filings from 2015 onwards\n",
      "Processing ISRG (INTUITIVE SURGICAL INC)\n",
      "  Available columns: ['accession_number', 'filing_date', 'reportDate', 'acceptanceDateTime', 'act', 'form', 'fileNumber', 'items', 'size', 'isXBRL', 'isInlineXBRL', 'primaryDocument', 'primaryDocDescription']\n",
      "  Found 10 10-K filings from 2015 onwards\n",
      "Processing IVZ (Invesco Ltd.)\n",
      "  Available columns: ['accession_number', 'filing_date', 'reportDate', 'acceptanceDateTime', 'act', 'form', 'fileNumber', 'items', 'size', 'isXBRL', 'isInlineXBRL', 'primaryDocument', 'primaryDocDescription']\n",
      "  Found 10 10-K filings from 2015 onwards\n",
      "Processing INVH (Invitation Homes Inc.)\n",
      "  Available columns: ['accession_number', 'filing_date', 'reportDate', 'acceptanceDateTime', 'act', 'form', 'fileNumber', 'items', 'size', 'isXBRL', 'isInlineXBRL', 'primaryDocument', 'primaryDocDescription']\n",
      "  Found 9 10-K filings from 2015 onwards\n",
      "Processing IQV (IQVIA HOLDINGS INC.)\n",
      "  Available columns: ['accession_number', 'filing_date', 'reportDate', 'acceptanceDateTime', 'act', 'form', 'fileNumber', 'items', 'size', 'isXBRL', 'isInlineXBRL', 'primaryDocument', 'primaryDocDescription']\n",
      "  Found 10 10-K filings from 2015 onwards\n",
      "Processing IRM (IRON MOUNTAIN INC)\n",
      "  Available columns: ['accession_number', 'filing_date', 'reportDate', 'acceptanceDateTime', 'act', 'form', 'fileNumber', 'items', 'size', 'isXBRL', 'isInlineXBRL', 'primaryDocument', 'primaryDocDescription']\n",
      "  Found 10 10-K filings from 2015 onwards\n",
      "Processing JBHT (HUNT J B TRANSPORT SERVICES INC)\n",
      "  Available columns: ['accession_number', 'filing_date', 'reportDate', 'acceptanceDateTime', 'act', 'form', 'fileNumber', 'items', 'size', 'isXBRL', 'isInlineXBRL', 'primaryDocument', 'primaryDocDescription']\n",
      "  Found 10 10-K filings from 2015 onwards\n",
      "Processing JBL (JABIL INC)\n",
      "  Available columns: ['accession_number', 'filing_date', 'reportDate', 'acceptanceDateTime', 'act', 'form', 'fileNumber', 'items', 'size', 'isXBRL', 'isInlineXBRL', 'primaryDocument', 'primaryDocDescription']\n",
      "  Found 10 10-K filings from 2015 onwards\n",
      "Processing JKHY (JACK HENRY & ASSOCIATES INC)\n",
      "  Available columns: ['accession_number', 'filing_date', 'reportDate', 'acceptanceDateTime', 'act', 'form', 'fileNumber', 'items', 'size', 'isXBRL', 'isInlineXBRL', 'primaryDocument', 'primaryDocDescription']\n",
      "  Found 10 10-K filings from 2015 onwards\n",
      "Processing J (JACOBS SOLUTIONS INC.)\n",
      "  Available columns: ['accession_number', 'filing_date', 'reportDate', 'acceptanceDateTime', 'act', 'form', 'fileNumber', 'items', 'size', 'isXBRL', 'isInlineXBRL', 'primaryDocument', 'primaryDocDescription']\n",
      "  Found 10 10-K filings from 2015 onwards\n",
      "Processing JNJ (JOHNSON & JOHNSON)\n",
      "  Available columns: ['accession_number', 'filing_date', 'reportDate', 'acceptanceDateTime', 'act', 'form', 'fileNumber', 'items', 'size', 'isXBRL', 'isInlineXBRL', 'primaryDocument', 'primaryDocDescription']\n",
      "  Found 10 10-K filings from 2015 onwards\n",
      "Processing JCI (Johnson Controls International plc)\n",
      "  Available columns: ['accession_number', 'filing_date', 'reportDate', 'acceptanceDateTime', 'act', 'form', 'fileNumber', 'items', 'size', 'isXBRL', 'isInlineXBRL', 'primaryDocument', 'primaryDocDescription']\n",
      "  Found 10 10-K filings from 2015 onwards\n",
      "Processing JPM (JPMORGAN CHASE & CO)\n",
      "  Available columns: ['accession_number', 'filing_date', 'reportDate', 'acceptanceDateTime', 'act', 'form', 'fileNumber', 'items', 'size', 'isXBRL', 'isInlineXBRL', 'primaryDocument', 'primaryDocDescription']\n",
      "  Found 10 10-K filings from 2015 onwards\n",
      "Processing JNPR (JUNIPER NETWORKS INC)\n",
      "  Available columns: ['accession_number', 'filing_date', 'reportDate', 'acceptanceDateTime', 'act', 'form', 'fileNumber', 'items', 'size', 'isXBRL', 'isInlineXBRL', 'primaryDocument', 'primaryDocDescription']\n",
      "  Found 10 10-K filings from 2015 onwards\n",
      "Processing K (KELLANOVA)\n",
      "  Available columns: ['accession_number', 'filing_date', 'reportDate', 'acceptanceDateTime', 'act', 'form', 'fileNumber', 'items', 'size', 'isXBRL', 'isInlineXBRL', 'primaryDocument', 'primaryDocDescription']\n",
      "  Found 11 10-K filings from 2015 onwards\n",
      "Processing KVUE (Kenvue Inc.)\n",
      "  Available columns: ['accession_number', 'filing_date', 'reportDate', 'acceptanceDateTime', 'act', 'form', 'fileNumber', 'items', 'size', 'isXBRL', 'isInlineXBRL', 'primaryDocument', 'primaryDocDescription']\n",
      "  Found 2 10-K filings from 2015 onwards\n",
      "Processing KDP (Keurig Dr Pepper Inc.)\n",
      "  Available columns: ['accession_number', 'filing_date', 'reportDate', 'acceptanceDateTime', 'act', 'form', 'fileNumber', 'items', 'size', 'isXBRL', 'isInlineXBRL', 'primaryDocument', 'primaryDocDescription']\n",
      "  Found 10 10-K filings from 2015 onwards\n",
      "Processing KEY (KEYCORP /NEW/)\n",
      "  Available columns: ['accession_number', 'filing_date', 'reportDate', 'acceptanceDateTime', 'act', 'form', 'fileNumber', 'items', 'size', 'isXBRL', 'isInlineXBRL', 'primaryDocument', 'primaryDocDescription']\n",
      "  Found 10 10-K filings from 2015 onwards\n",
      "Processing KEYS (Keysight Technologies, Inc.)\n",
      "  Available columns: ['accession_number', 'filing_date', 'reportDate', 'acceptanceDateTime', 'act', 'form', 'fileNumber', 'items', 'size', 'isXBRL', 'isInlineXBRL', 'primaryDocument', 'primaryDocDescription']\n",
      "  Found 10 10-K filings from 2015 onwards\n",
      "Processing KMB (KIMBERLY CLARK CORP)\n",
      "  Available columns: ['accession_number', 'filing_date', 'reportDate', 'acceptanceDateTime', 'act', 'form', 'fileNumber', 'items', 'size', 'isXBRL', 'isInlineXBRL', 'primaryDocument', 'primaryDocDescription']\n",
      "  Found 10 10-K filings from 2015 onwards\n",
      "Processing KIM (KIMCO REALTY CORP)\n",
      "  Available columns: ['accession_number', 'filing_date', 'reportDate', 'acceptanceDateTime', 'act', 'form', 'fileNumber', 'items', 'size', 'isXBRL', 'isInlineXBRL', 'primaryDocument', 'primaryDocDescription']\n",
      "  Found 10 10-K filings from 2015 onwards\n",
      "Processing KMI (KINDER MORGAN, INC.)\n",
      "  Available columns: ['accession_number', 'filing_date', 'reportDate', 'acceptanceDateTime', 'act', 'form', 'fileNumber', 'items', 'size', 'isXBRL', 'isInlineXBRL', 'primaryDocument', 'primaryDocDescription']\n",
      "  Found 10 10-K filings from 2015 onwards\n",
      "Processing KKR (KKR & Co. Inc.)\n",
      "  Available columns: ['accession_number', 'filing_date', 'reportDate', 'acceptanceDateTime', 'act', 'form', 'fileNumber', 'items', 'size', 'isXBRL', 'isInlineXBRL', 'primaryDocument', 'primaryDocDescription']\n",
      "  Found 10 10-K filings from 2015 onwards\n",
      "Processing KLAC (KLA CORP)\n",
      "  Available columns: ['accession_number', 'filing_date', 'reportDate', 'acceptanceDateTime', 'act', 'form', 'fileNumber', 'items', 'size', 'isXBRL', 'isInlineXBRL', 'primaryDocument', 'primaryDocDescription']\n",
      "  Found 10 10-K filings from 2015 onwards\n",
      "Processing KHC (Kraft Heinz Co)\n",
      "  Available columns: ['accession_number', 'filing_date', 'reportDate', 'acceptanceDateTime', 'act', 'form', 'fileNumber', 'items', 'size', 'isXBRL', 'isInlineXBRL', 'primaryDocument', 'primaryDocDescription']\n",
      "  Found 10 10-K filings from 2015 onwards\n",
      "Processing KR (KROGER CO)\n",
      "  Available columns: ['accession_number', 'filing_date', 'reportDate', 'acceptanceDateTime', 'act', 'form', 'fileNumber', 'items', 'size', 'isXBRL', 'isInlineXBRL', 'primaryDocument', 'primaryDocDescription']\n",
      "  Found 10 10-K filings from 2015 onwards\n",
      "    Error processing filing for KR: 'NoneType' object is not subscriptable\n",
      "    Error processing filing for KR: 'NoneType' object is not subscriptable\n",
      "    Error processing filing for KR: 'NoneType' object is not subscriptable\n",
      "Processing LHX (L3HARRIS TECHNOLOGIES, INC. /DE/)\n",
      "  Available columns: ['accession_number', 'filing_date', 'reportDate', 'acceptanceDateTime', 'act', 'form', 'fileNumber', 'items', 'size', 'isXBRL', 'isInlineXBRL', 'primaryDocument', 'primaryDocDescription']\n",
      "  Found 10 10-K filings from 2015 onwards\n",
      "Processing LH (LABCORP HOLDINGS INC.)\n",
      "  Available columns: ['accession_number', 'filing_date', 'reportDate', 'acceptanceDateTime', 'act', 'form', 'fileNumber', 'items', 'size', 'isXBRL', 'isInlineXBRL', 'primaryDocument', 'primaryDocDescription']\n",
      "  Found 10 10-K filings from 2015 onwards\n",
      "Processing LRCX (LAM RESEARCH CORP)\n",
      "  Available columns: ['accession_number', 'filing_date', 'reportDate', 'acceptanceDateTime', 'act', 'form', 'fileNumber', 'items', 'size', 'isXBRL', 'isInlineXBRL', 'primaryDocument', 'primaryDocDescription']\n",
      "  Found 10 10-K filings from 2015 onwards\n",
      "Processing LW (Lamb Weston Holdings, Inc.)\n",
      "  Available columns: ['accession_number', 'filing_date', 'reportDate', 'acceptanceDateTime', 'act', 'form', 'fileNumber', 'items', 'size', 'isXBRL', 'isInlineXBRL', 'primaryDocument', 'primaryDocDescription']\n",
      "  Found 8 10-K filings from 2015 onwards\n",
      "    Error processing filing for LW: 'NoneType' object is not subscriptable\n",
      "    Error processing filing for LW: 'NoneType' object is not subscriptable\n",
      "    Error processing filing for LW: 'NoneType' object is not subscriptable\n",
      "Processing LVS (LAS VEGAS SANDS CORP)\n",
      "  Available columns: ['accession_number', 'filing_date', 'reportDate', 'acceptanceDateTime', 'act', 'form', 'fileNumber', 'items', 'size', 'isXBRL', 'isInlineXBRL', 'primaryDocument', 'primaryDocDescription']\n",
      "  Found 10 10-K filings from 2015 onwards\n",
      "Processing LDOS (Leidos Holdings, Inc.)\n",
      "  Available columns: ['accession_number', 'filing_date', 'reportDate', 'acceptanceDateTime', 'act', 'form', 'fileNumber', 'items', 'size', 'isXBRL', 'isInlineXBRL', 'primaryDocument', 'primaryDocDescription']\n",
      "  Found 10 10-K filings from 2015 onwards\n",
      "Processing LEN (LENNAR CORP /NEW/)\n",
      "  Available columns: ['accession_number', 'filing_date', 'reportDate', 'acceptanceDateTime', 'act', 'form', 'fileNumber', 'items', 'size', 'isXBRL', 'isInlineXBRL', 'primaryDocument', 'primaryDocDescription']\n",
      "  Found 10 10-K filings from 2015 onwards\n",
      "Processing LII (LENNOX INTERNATIONAL INC)\n",
      "  Available columns: ['accession_number', 'filing_date', 'reportDate', 'acceptanceDateTime', 'act', 'form', 'fileNumber', 'items', 'size', 'isXBRL', 'isInlineXBRL', 'primaryDocument', 'primaryDocDescription']\n",
      "  Found 10 10-K filings from 2015 onwards\n",
      "Processing LLY (ELI LILLY & Co)\n",
      "  Available columns: ['accession_number', 'filing_date', 'reportDate', 'acceptanceDateTime', 'act', 'form', 'fileNumber', 'items', 'size', 'isXBRL', 'isInlineXBRL', 'primaryDocument', 'primaryDocDescription']\n",
      "  Found 10 10-K filings from 2015 onwards\n",
      "Processing LIN (LINDE PLC)\n",
      "  Available columns: ['accession_number', 'filing_date', 'reportDate', 'acceptanceDateTime', 'act', 'form', 'fileNumber', 'items', 'size', 'isXBRL', 'isInlineXBRL', 'primaryDocument', 'primaryDocDescription']\n",
      "  Found 8 10-K filings from 2015 onwards\n",
      "Processing LYV (Live Nation Entertainment, Inc.)\n",
      "  Available columns: ['accession_number', 'filing_date', 'reportDate', 'acceptanceDateTime', 'act', 'form', 'fileNumber', 'items', 'size', 'isXBRL', 'isInlineXBRL', 'primaryDocument', 'primaryDocDescription']\n",
      "  Found 10 10-K filings from 2015 onwards\n",
      "Processing LKQ (LKQ CORP)\n",
      "  Available columns: ['accession_number', 'filing_date', 'reportDate', 'acceptanceDateTime', 'act', 'form', 'fileNumber', 'items', 'size', 'isXBRL', 'isInlineXBRL', 'primaryDocument', 'primaryDocDescription']\n",
      "  Found 10 10-K filings from 2015 onwards\n",
      "Processing LMT (LOCKHEED MARTIN CORP)\n",
      "  Available columns: ['accession_number', 'filing_date', 'reportDate', 'acceptanceDateTime', 'act', 'form', 'fileNumber', 'items', 'size', 'isXBRL', 'isInlineXBRL', 'primaryDocument', 'primaryDocDescription']\n",
      "  Found 10 10-K filings from 2015 onwards\n",
      "Processing L (LOEWS CORP)\n",
      "  Available columns: ['accession_number', 'filing_date', 'reportDate', 'acceptanceDateTime', 'act', 'form', 'fileNumber', 'items', 'size', 'isXBRL', 'isInlineXBRL', 'primaryDocument', 'primaryDocDescription']\n",
      "  Found 10 10-K filings from 2015 onwards\n",
      "Processing LOW (LOWES COMPANIES INC)\n",
      "  Available columns: ['accession_number', 'filing_date', 'reportDate', 'acceptanceDateTime', 'act', 'form', 'fileNumber', 'items', 'size', 'isXBRL', 'isInlineXBRL', 'primaryDocument', 'primaryDocDescription']\n",
      "  Found 10 10-K filings from 2015 onwards\n",
      "Processing LULU (lululemon athletica inc.)\n",
      "  Available columns: ['accession_number', 'filing_date', 'reportDate', 'acceptanceDateTime', 'act', 'form', 'fileNumber', 'items', 'size', 'isXBRL', 'isInlineXBRL', 'primaryDocument', 'primaryDocDescription']\n",
      "  Found 10 10-K filings from 2015 onwards\n",
      "Processing LYB (LyondellBasell Industries N.V.)\n",
      "  Available columns: ['accession_number', 'filing_date', 'reportDate', 'acceptanceDateTime', 'act', 'form', 'fileNumber', 'items', 'size', 'isXBRL', 'isInlineXBRL', 'primaryDocument', 'primaryDocDescription']\n",
      "  Found 10 10-K filings from 2015 onwards\n",
      "Processing MTB (M&T BANK CORP)\n",
      "  Available columns: ['accession_number', 'filing_date', 'reportDate', 'acceptanceDateTime', 'act', 'form', 'fileNumber', 'items', 'size', 'isXBRL', 'isInlineXBRL', 'primaryDocument', 'primaryDocDescription']\n",
      "  Found 10 10-K filings from 2015 onwards\n",
      "    WARNING: No MD&A section found for MTB (CIK: 36270) for year 2023\n",
      "    WARNING: No MD&A section found for MTB (CIK: 36270) for year 2022\n",
      "Processing MPC (Marathon Petroleum Corp)\n",
      "  Available columns: ['accession_number', 'filing_date', 'reportDate', 'acceptanceDateTime', 'act', 'form', 'fileNumber', 'items', 'size', 'isXBRL', 'isInlineXBRL', 'primaryDocument', 'primaryDocDescription']\n",
      "  Found 10 10-K filings from 2015 onwards\n",
      "Processing MKTX (MARKETAXESS HOLDINGS INC)\n",
      "  Available columns: ['accession_number', 'filing_date', 'reportDate', 'acceptanceDateTime', 'act', 'form', 'fileNumber', 'items', 'size', 'isXBRL', 'isInlineXBRL', 'primaryDocument', 'primaryDocDescription']\n",
      "  Found 10 10-K filings from 2015 onwards\n",
      "    WARNING: No MD&A section found for MKTX (CIK: 1278021) for year 2021\n",
      "Processing MAR (MARRIOTT INTERNATIONAL INC /MD/)\n",
      "  Available columns: ['accession_number', 'filing_date', 'reportDate', 'acceptanceDateTime', 'act', 'form', 'fileNumber', 'items', 'size', 'isXBRL', 'isInlineXBRL', 'primaryDocument', 'primaryDocDescription']\n",
      "  Found 10 10-K filings from 2015 onwards\n",
      "Processing MMC (MARSH & MCLENNAN COMPANIES, INC.)\n",
      "  Available columns: ['accession_number', 'filing_date', 'reportDate', 'acceptanceDateTime', 'act', 'form', 'fileNumber', 'items', 'size', 'isXBRL', 'isInlineXBRL', 'primaryDocument', 'primaryDocDescription']\n",
      "  Found 10 10-K filings from 2015 onwards\n",
      "Processing MLM (MARTIN MARIETTA MATERIALS INC)\n",
      "  Available columns: ['accession_number', 'filing_date', 'reportDate', 'acceptanceDateTime', 'act', 'form', 'fileNumber', 'items', 'size', 'isXBRL', 'isInlineXBRL', 'primaryDocument', 'primaryDocDescription']\n",
      "  Found 10 10-K filings from 2015 onwards\n",
      "Processing MAS (MASCO CORP /DE/)\n",
      "  Available columns: ['accession_number', 'filing_date', 'reportDate', 'acceptanceDateTime', 'act', 'form', 'fileNumber', 'items', 'size', 'isXBRL', 'isInlineXBRL', 'primaryDocument', 'primaryDocDescription']\n",
      "  Found 10 10-K filings from 2015 onwards\n",
      "Processing MA (Mastercard Inc)\n",
      "  Available columns: ['accession_number', 'filing_date', 'reportDate', 'acceptanceDateTime', 'act', 'form', 'fileNumber', 'items', 'size', 'isXBRL', 'isInlineXBRL', 'primaryDocument', 'primaryDocDescription']\n",
      "  Found 10 10-K filings from 2015 onwards\n",
      "Processing MTCH (Match Group, Inc.)\n",
      "  Available columns: ['accession_number', 'filing_date', 'reportDate', 'acceptanceDateTime', 'act', 'form', 'fileNumber', 'items', 'size', 'isXBRL', 'isInlineXBRL', 'primaryDocument', 'primaryDocDescription']\n",
      "  Found 10 10-K filings from 2015 onwards\n",
      "Processing MKC (MCCORMICK & CO INC)\n",
      "  Available columns: ['accession_number', 'filing_date', 'reportDate', 'acceptanceDateTime', 'act', 'form', 'fileNumber', 'items', 'size', 'isXBRL', 'isInlineXBRL', 'primaryDocument', 'primaryDocDescription']\n",
      "  Found 10 10-K filings from 2015 onwards\n",
      "Processing MCD (MCDONALDS CORP)\n",
      "  Available columns: ['accession_number', 'filing_date', 'reportDate', 'acceptanceDateTime', 'act', 'form', 'fileNumber', 'items', 'size', 'isXBRL', 'isInlineXBRL', 'primaryDocument', 'primaryDocDescription']\n",
      "  Found 10 10-K filings from 2015 onwards\n"
     ]
    },
    {
     "name": "stderr",
     "output_type": "stream",
     "text": [
      "/home/nawa/.local/lib/python3.11/site-packages/edgar/files/htmltools.py:271: FutureWarning: Downcasting object dtype arrays on .fillna, .ffill, .bfill is deprecated and will change in a future version. Call result.infer_objects(copy=False) instead. To opt-in to the future behavior, set `pd.set_option('future.no_silent_downcasting', True)`\n",
      "  chunk_df.Item = chunk_df.Item.ffill().infer_objects(copy=False)\n"
     ]
    },
    {
     "name": "stdout",
     "output_type": "stream",
     "text": [
      "    WARNING: No MD&A section found for MCD (CIK: 63908) for year 2024\n"
     ]
    },
    {
     "name": "stderr",
     "output_type": "stream",
     "text": [
      "/home/nawa/.local/lib/python3.11/site-packages/edgar/files/htmltools.py:271: FutureWarning: Downcasting object dtype arrays on .fillna, .ffill, .bfill is deprecated and will change in a future version. Call result.infer_objects(copy=False) instead. To opt-in to the future behavior, set `pd.set_option('future.no_silent_downcasting', True)`\n",
      "  chunk_df.Item = chunk_df.Item.ffill().infer_objects(copy=False)\n"
     ]
    },
    {
     "name": "stdout",
     "output_type": "stream",
     "text": [
      "    WARNING: No MD&A section found for MCD (CIK: 63908) for year 2023\n"
     ]
    },
    {
     "name": "stderr",
     "output_type": "stream",
     "text": [
      "/home/nawa/.local/lib/python3.11/site-packages/edgar/files/htmltools.py:271: FutureWarning: Downcasting object dtype arrays on .fillna, .ffill, .bfill is deprecated and will change in a future version. Call result.infer_objects(copy=False) instead. To opt-in to the future behavior, set `pd.set_option('future.no_silent_downcasting', True)`\n",
      "  chunk_df.Item = chunk_df.Item.ffill().infer_objects(copy=False)\n"
     ]
    },
    {
     "name": "stdout",
     "output_type": "stream",
     "text": [
      "    WARNING: No MD&A section found for MCD (CIK: 63908) for year 2022\n"
     ]
    },
    {
     "name": "stderr",
     "output_type": "stream",
     "text": [
      "/home/nawa/.local/lib/python3.11/site-packages/edgar/files/htmltools.py:271: FutureWarning: Downcasting object dtype arrays on .fillna, .ffill, .bfill is deprecated and will change in a future version. Call result.infer_objects(copy=False) instead. To opt-in to the future behavior, set `pd.set_option('future.no_silent_downcasting', True)`\n",
      "  chunk_df.Item = chunk_df.Item.ffill().infer_objects(copy=False)\n"
     ]
    },
    {
     "name": "stdout",
     "output_type": "stream",
     "text": [
      "    WARNING: No MD&A section found for MCD (CIK: 63908) for year 2021\n"
     ]
    },
    {
     "name": "stderr",
     "output_type": "stream",
     "text": [
      "/home/nawa/.local/lib/python3.11/site-packages/edgar/files/htmltools.py:271: FutureWarning: Downcasting object dtype arrays on .fillna, .ffill, .bfill is deprecated and will change in a future version. Call result.infer_objects(copy=False) instead. To opt-in to the future behavior, set `pd.set_option('future.no_silent_downcasting', True)`\n",
      "  chunk_df.Item = chunk_df.Item.ffill().infer_objects(copy=False)\n"
     ]
    },
    {
     "name": "stdout",
     "output_type": "stream",
     "text": [
      "    WARNING: No MD&A section found for MCD (CIK: 63908) for year 2020\n"
     ]
    },
    {
     "name": "stderr",
     "output_type": "stream",
     "text": [
      "/home/nawa/.local/lib/python3.11/site-packages/edgar/files/htmltools.py:271: FutureWarning: Downcasting object dtype arrays on .fillna, .ffill, .bfill is deprecated and will change in a future version. Call result.infer_objects(copy=False) instead. To opt-in to the future behavior, set `pd.set_option('future.no_silent_downcasting', True)`\n",
      "  chunk_df.Item = chunk_df.Item.ffill().infer_objects(copy=False)\n"
     ]
    },
    {
     "name": "stdout",
     "output_type": "stream",
     "text": [
      "    WARNING: No MD&A section found for MCD (CIK: 63908) for year 2019\n",
      "Processing MCK (MCKESSON CORP)\n",
      "  Available columns: ['accession_number', 'filing_date', 'reportDate', 'acceptanceDateTime', 'act', 'form', 'fileNumber', 'items', 'size', 'isXBRL', 'isInlineXBRL', 'primaryDocument', 'primaryDocDescription']\n",
      "  Found 10 10-K filings from 2015 onwards\n",
      "Processing MDT (Medtronic plc)\n",
      "  Available columns: ['accession_number', 'filing_date', 'reportDate', 'acceptanceDateTime', 'act', 'form', 'fileNumber', 'items', 'size', 'isXBRL', 'isInlineXBRL', 'primaryDocument', 'primaryDocDescription']\n",
      "  Found 10 10-K filings from 2015 onwards\n",
      "Processing MRK (Merck & Co., Inc.)\n",
      "  Available columns: ['accession_number', 'filing_date', 'reportDate', 'acceptanceDateTime', 'act', 'form', 'fileNumber', 'items', 'size', 'isXBRL', 'isInlineXBRL', 'primaryDocument', 'primaryDocDescription']\n",
      "  Found 10 10-K filings from 2015 onwards\n",
      "Processing META (Meta Platforms, Inc.)\n",
      "  Available columns: ['accession_number', 'filing_date', 'reportDate', 'acceptanceDateTime', 'act', 'form', 'fileNumber', 'items', 'size', 'isXBRL', 'isInlineXBRL', 'primaryDocument', 'primaryDocDescription']\n",
      "  Found 10 10-K filings from 2015 onwards\n",
      "Processing MET (METLIFE INC)\n",
      "  Available columns: ['accession_number', 'filing_date', 'reportDate', 'acceptanceDateTime', 'act', 'form', 'fileNumber', 'items', 'size', 'isXBRL', 'isInlineXBRL', 'primaryDocument', 'primaryDocDescription']\n",
      "  Found 10 10-K filings from 2015 onwards\n",
      "Processing MTD (METTLER TOLEDO INTERNATIONAL INC/)\n",
      "  Available columns: ['accession_number', 'filing_date', 'reportDate', 'acceptanceDateTime', 'act', 'form', 'fileNumber', 'items', 'size', 'isXBRL', 'isInlineXBRL', 'primaryDocument', 'primaryDocDescription']\n",
      "  Found 10 10-K filings from 2015 onwards\n",
      "Processing MGM (MGM Resorts International)\n",
      "  Available columns: ['accession_number', 'filing_date', 'reportDate', 'acceptanceDateTime', 'act', 'form', 'fileNumber', 'items', 'size', 'isXBRL', 'isInlineXBRL', 'primaryDocument', 'primaryDocDescription']\n",
      "  Found 10 10-K filings from 2015 onwards\n",
      "Processing MCHP (MICROCHIP TECHNOLOGY INC)\n",
      "  Available columns: ['accession_number', 'filing_date', 'reportDate', 'acceptanceDateTime', 'act', 'form', 'fileNumber', 'items', 'size', 'isXBRL', 'isInlineXBRL', 'primaryDocument', 'primaryDocDescription']\n",
      "  Found 10 10-K filings from 2015 onwards\n",
      "Processing MU (MICRON TECHNOLOGY INC)\n",
      "  Available columns: ['accession_number', 'filing_date', 'reportDate', 'acceptanceDateTime', 'act', 'form', 'fileNumber', 'items', 'size', 'isXBRL', 'isInlineXBRL', 'primaryDocument', 'primaryDocDescription']\n",
      "  Found 10 10-K filings from 2015 onwards\n",
      "Processing MSFT (MICROSOFT CORP)\n",
      "  Available columns: ['accession_number', 'filing_date', 'reportDate', 'acceptanceDateTime', 'act', 'form', 'fileNumber', 'items', 'size', 'isXBRL', 'isInlineXBRL', 'primaryDocument', 'primaryDocDescription']\n",
      "  Found 10 10-K filings from 2015 onwards\n",
      "Processing MAA (MID AMERICA APARTMENT COMMUNITIES INC.)\n",
      "  Available columns: ['accession_number', 'filing_date', 'reportDate', 'acceptanceDateTime', 'act', 'form', 'fileNumber', 'items', 'size', 'isXBRL', 'isInlineXBRL', 'primaryDocument', 'primaryDocDescription']\n",
      "  Found 10 10-K filings from 2015 onwards\n",
      "Processing MRNA (Moderna, Inc.)\n",
      "  Available columns: ['accession_number', 'filing_date', 'reportDate', 'acceptanceDateTime', 'act', 'form', 'fileNumber', 'items', 'size', 'isXBRL', 'isInlineXBRL', 'primaryDocument', 'primaryDocDescription']\n",
      "  Found 7 10-K filings from 2015 onwards\n",
      "Processing MHK (MOHAWK INDUSTRIES INC)\n",
      "  Available columns: ['accession_number', 'filing_date', 'reportDate', 'acceptanceDateTime', 'act', 'form', 'fileNumber', 'items', 'size', 'isXBRL', 'isInlineXBRL', 'primaryDocument', 'primaryDocDescription']\n",
      "  Found 10 10-K filings from 2015 onwards\n",
      "Processing MOH (MOLINA HEALTHCARE, INC.)\n",
      "  Available columns: ['accession_number', 'filing_date', 'reportDate', 'acceptanceDateTime', 'act', 'form', 'fileNumber', 'items', 'size', 'isXBRL', 'isInlineXBRL', 'primaryDocument', 'primaryDocDescription']\n",
      "  Found 10 10-K filings from 2015 onwards\n",
      "    WARNING: No MD&A section found for MOH (CIK: 1179929) for year 2024\n",
      "    WARNING: No MD&A section found for MOH (CIK: 1179929) for year 2023\n"
     ]
    },
    {
     "name": "stderr",
     "output_type": "stream",
     "text": [
      "/home/nawa/.local/lib/python3.11/site-packages/edgar/files/htmltools.py:271: FutureWarning: Downcasting object dtype arrays on .fillna, .ffill, .bfill is deprecated and will change in a future version. Call result.infer_objects(copy=False) instead. To opt-in to the future behavior, set `pd.set_option('future.no_silent_downcasting', True)`\n",
      "  chunk_df.Item = chunk_df.Item.ffill().infer_objects(copy=False)\n"
     ]
    },
    {
     "name": "stdout",
     "output_type": "stream",
     "text": [
      "    WARNING: No MD&A section found for MOH (CIK: 1179929) for year 2022\n"
     ]
    },
    {
     "name": "stderr",
     "output_type": "stream",
     "text": [
      "/home/nawa/.local/lib/python3.11/site-packages/edgar/files/htmltools.py:271: FutureWarning: Downcasting object dtype arrays on .fillna, .ffill, .bfill is deprecated and will change in a future version. Call result.infer_objects(copy=False) instead. To opt-in to the future behavior, set `pd.set_option('future.no_silent_downcasting', True)`\n",
      "  chunk_df.Item = chunk_df.Item.ffill().infer_objects(copy=False)\n"
     ]
    },
    {
     "name": "stdout",
     "output_type": "stream",
     "text": [
      "    WARNING: No MD&A section found for MOH (CIK: 1179929) for year 2021\n"
     ]
    },
    {
     "name": "stderr",
     "output_type": "stream",
     "text": [
      "/home/nawa/.local/lib/python3.11/site-packages/edgar/files/htmltools.py:271: FutureWarning: Downcasting object dtype arrays on .fillna, .ffill, .bfill is deprecated and will change in a future version. Call result.infer_objects(copy=False) instead. To opt-in to the future behavior, set `pd.set_option('future.no_silent_downcasting', True)`\n",
      "  chunk_df.Item = chunk_df.Item.ffill().infer_objects(copy=False)\n"
     ]
    },
    {
     "name": "stdout",
     "output_type": "stream",
     "text": [
      "    WARNING: No MD&A section found for MOH (CIK: 1179929) for year 2020\n"
     ]
    },
    {
     "name": "stderr",
     "output_type": "stream",
     "text": [
      "/home/nawa/.local/lib/python3.11/site-packages/edgar/files/htmltools.py:271: FutureWarning: Downcasting object dtype arrays on .fillna, .ffill, .bfill is deprecated and will change in a future version. Call result.infer_objects(copy=False) instead. To opt-in to the future behavior, set `pd.set_option('future.no_silent_downcasting', True)`\n",
      "  chunk_df.Item = chunk_df.Item.ffill().infer_objects(copy=False)\n"
     ]
    },
    {
     "name": "stdout",
     "output_type": "stream",
     "text": [
      "    WARNING: No MD&A section found for MOH (CIK: 1179929) for year 2019\n"
     ]
    },
    {
     "name": "stderr",
     "output_type": "stream",
     "text": [
      "/home/nawa/.local/lib/python3.11/site-packages/edgar/files/htmltools.py:271: FutureWarning: Downcasting object dtype arrays on .fillna, .ffill, .bfill is deprecated and will change in a future version. Call result.infer_objects(copy=False) instead. To opt-in to the future behavior, set `pd.set_option('future.no_silent_downcasting', True)`\n",
      "  chunk_df.Item = chunk_df.Item.ffill().infer_objects(copy=False)\n"
     ]
    },
    {
     "name": "stdout",
     "output_type": "stream",
     "text": [
      "    WARNING: No MD&A section found for MOH (CIK: 1179929) for year 2018\n"
     ]
    },
    {
     "name": "stderr",
     "output_type": "stream",
     "text": [
      "/home/nawa/.local/lib/python3.11/site-packages/edgar/files/htmltools.py:271: FutureWarning: Downcasting object dtype arrays on .fillna, .ffill, .bfill is deprecated and will change in a future version. Call result.infer_objects(copy=False) instead. To opt-in to the future behavior, set `pd.set_option('future.no_silent_downcasting', True)`\n",
      "  chunk_df.Item = chunk_df.Item.ffill().infer_objects(copy=False)\n"
     ]
    },
    {
     "name": "stdout",
     "output_type": "stream",
     "text": [
      "    WARNING: No MD&A section found for MOH (CIK: 1179929) for year 2017\n"
     ]
    },
    {
     "name": "stderr",
     "output_type": "stream",
     "text": [
      "/home/nawa/.local/lib/python3.11/site-packages/edgar/files/htmltools.py:271: FutureWarning: Downcasting object dtype arrays on .fillna, .ffill, .bfill is deprecated and will change in a future version. Call result.infer_objects(copy=False) instead. To opt-in to the future behavior, set `pd.set_option('future.no_silent_downcasting', True)`\n",
      "  chunk_df.Item = chunk_df.Item.ffill().infer_objects(copy=False)\n"
     ]
    },
    {
     "name": "stdout",
     "output_type": "stream",
     "text": [
      "    WARNING: No MD&A section found for MOH (CIK: 1179929) for year 2016\n",
      "Processing TAP (MOLSON COORS BEVERAGE CO)\n",
      "  Available columns: ['accession_number', 'filing_date', 'reportDate', 'acceptanceDateTime', 'act', 'form', 'fileNumber', 'items', 'size', 'isXBRL', 'isInlineXBRL', 'primaryDocument', 'primaryDocDescription']\n",
      "  Found 10 10-K filings from 2015 onwards\n",
      "    WARNING: No MD&A section found for TAP (CIK: 24545) for year 2020\n",
      "Processing MDLZ (Mondelez International, Inc.)\n",
      "  Available columns: ['accession_number', 'filing_date', 'reportDate', 'acceptanceDateTime', 'act', 'form', 'fileNumber', 'items', 'size', 'isXBRL', 'isInlineXBRL', 'primaryDocument', 'primaryDocDescription']\n",
      "  Found 10 10-K filings from 2015 onwards\n",
      "Processing MPWR (MONOLITHIC POWER SYSTEMS INC)\n",
      "  Available columns: ['accession_number', 'filing_date', 'reportDate', 'acceptanceDateTime', 'act', 'form', 'fileNumber', 'items', 'size', 'isXBRL', 'isInlineXBRL', 'primaryDocument', 'primaryDocDescription']\n",
      "  Found 9 10-K filings from 2015 onwards\n",
      "Processing MNST (Monster Beverage Corp)\n",
      "  Available columns: ['accession_number', 'filing_date', 'reportDate', 'acceptanceDateTime', 'act', 'form', 'fileNumber', 'items', 'size', 'isXBRL', 'isInlineXBRL', 'primaryDocument', 'primaryDocDescription']\n",
      "  Found 10 10-K filings from 2015 onwards\n",
      "Processing MCO (MOODYS CORP /DE/)\n",
      "  Available columns: ['accession_number', 'filing_date', 'reportDate', 'acceptanceDateTime', 'act', 'form', 'fileNumber', 'items', 'size', 'isXBRL', 'isInlineXBRL', 'primaryDocument', 'primaryDocDescription']\n",
      "  Found 10 10-K filings from 2015 onwards\n",
      "Processing MS (MORGAN STANLEY)\n",
      "  Available columns: ['accession_number', 'filing_date', 'reportDate', 'acceptanceDateTime', 'act', 'form', 'fileNumber', 'items', 'size', 'isXBRL', 'isInlineXBRL', 'primaryDocument', 'primaryDocDescription']\n",
      "  Found 10 10-K filings from 2015 onwards\n"
     ]
    },
    {
     "name": "stderr",
     "output_type": "stream",
     "text": [
      "/home/nawa/.local/lib/python3.11/site-packages/edgar/files/htmltools.py:271: FutureWarning: Downcasting object dtype arrays on .fillna, .ffill, .bfill is deprecated and will change in a future version. Call result.infer_objects(copy=False) instead. To opt-in to the future behavior, set `pd.set_option('future.no_silent_downcasting', True)`\n",
      "  chunk_df.Item = chunk_df.Item.ffill().infer_objects(copy=False)\n"
     ]
    },
    {
     "name": "stdout",
     "output_type": "stream",
     "text": [
      "    WARNING: No MD&A section found for MS (CIK: 895421) for year 2024\n"
     ]
    },
    {
     "name": "stderr",
     "output_type": "stream",
     "text": [
      "/home/nawa/.local/lib/python3.11/site-packages/edgar/files/htmltools.py:271: FutureWarning: Downcasting object dtype arrays on .fillna, .ffill, .bfill is deprecated and will change in a future version. Call result.infer_objects(copy=False) instead. To opt-in to the future behavior, set `pd.set_option('future.no_silent_downcasting', True)`\n",
      "  chunk_df.Item = chunk_df.Item.ffill().infer_objects(copy=False)\n"
     ]
    },
    {
     "name": "stdout",
     "output_type": "stream",
     "text": [
      "    WARNING: No MD&A section found for MS (CIK: 895421) for year 2023\n"
     ]
    },
    {
     "name": "stderr",
     "output_type": "stream",
     "text": [
      "/home/nawa/.local/lib/python3.11/site-packages/edgar/files/htmltools.py:271: FutureWarning: Downcasting object dtype arrays on .fillna, .ffill, .bfill is deprecated and will change in a future version. Call result.infer_objects(copy=False) instead. To opt-in to the future behavior, set `pd.set_option('future.no_silent_downcasting', True)`\n",
      "  chunk_df.Item = chunk_df.Item.ffill().infer_objects(copy=False)\n"
     ]
    },
    {
     "name": "stdout",
     "output_type": "stream",
     "text": [
      "    WARNING: No MD&A section found for MS (CIK: 895421) for year 2022\n"
     ]
    },
    {
     "name": "stderr",
     "output_type": "stream",
     "text": [
      "/home/nawa/.local/lib/python3.11/site-packages/edgar/files/htmltools.py:271: FutureWarning: Downcasting object dtype arrays on .fillna, .ffill, .bfill is deprecated and will change in a future version. Call result.infer_objects(copy=False) instead. To opt-in to the future behavior, set `pd.set_option('future.no_silent_downcasting', True)`\n",
      "  chunk_df.Item = chunk_df.Item.ffill().infer_objects(copy=False)\n"
     ]
    },
    {
     "name": "stdout",
     "output_type": "stream",
     "text": [
      "    WARNING: No MD&A section found for MS (CIK: 895421) for year 2021\n"
     ]
    },
    {
     "name": "stderr",
     "output_type": "stream",
     "text": [
      "/home/nawa/.local/lib/python3.11/site-packages/edgar/files/htmltools.py:271: FutureWarning: Downcasting object dtype arrays on .fillna, .ffill, .bfill is deprecated and will change in a future version. Call result.infer_objects(copy=False) instead. To opt-in to the future behavior, set `pd.set_option('future.no_silent_downcasting', True)`\n",
      "  chunk_df.Item = chunk_df.Item.ffill().infer_objects(copy=False)\n"
     ]
    },
    {
     "name": "stdout",
     "output_type": "stream",
     "text": [
      "    WARNING: No MD&A section found for MS (CIK: 895421) for year 2020\n"
     ]
    },
    {
     "name": "stderr",
     "output_type": "stream",
     "text": [
      "/home/nawa/.local/lib/python3.11/site-packages/edgar/files/htmltools.py:271: FutureWarning: Downcasting object dtype arrays on .fillna, .ffill, .bfill is deprecated and will change in a future version. Call result.infer_objects(copy=False) instead. To opt-in to the future behavior, set `pd.set_option('future.no_silent_downcasting', True)`\n",
      "  chunk_df.Item = chunk_df.Item.ffill().infer_objects(copy=False)\n"
     ]
    },
    {
     "name": "stdout",
     "output_type": "stream",
     "text": [
      "    WARNING: No MD&A section found for MS (CIK: 895421) for year 2019\n"
     ]
    },
    {
     "name": "stderr",
     "output_type": "stream",
     "text": [
      "/home/nawa/.local/lib/python3.11/site-packages/edgar/files/htmltools.py:271: FutureWarning: Downcasting object dtype arrays on .fillna, .ffill, .bfill is deprecated and will change in a future version. Call result.infer_objects(copy=False) instead. To opt-in to the future behavior, set `pd.set_option('future.no_silent_downcasting', True)`\n",
      "  chunk_df.Item = chunk_df.Item.ffill().infer_objects(copy=False)\n"
     ]
    },
    {
     "name": "stdout",
     "output_type": "stream",
     "text": [
      "    WARNING: No MD&A section found for MS (CIK: 895421) for year 2018\n"
     ]
    },
    {
     "name": "stderr",
     "output_type": "stream",
     "text": [
      "/home/nawa/.local/lib/python3.11/site-packages/edgar/files/htmltools.py:271: FutureWarning: Downcasting object dtype arrays on .fillna, .ffill, .bfill is deprecated and will change in a future version. Call result.infer_objects(copy=False) instead. To opt-in to the future behavior, set `pd.set_option('future.no_silent_downcasting', True)`\n",
      "  chunk_df.Item = chunk_df.Item.ffill().infer_objects(copy=False)\n"
     ]
    },
    {
     "name": "stdout",
     "output_type": "stream",
     "text": [
      "    WARNING: No MD&A section found for MS (CIK: 895421) for year 2017\n",
      "Processing MOS (MOSAIC CO)\n",
      "  Available columns: ['accession_number', 'filing_date', 'reportDate', 'acceptanceDateTime', 'act', 'form', 'fileNumber', 'items', 'size', 'isXBRL', 'isInlineXBRL', 'primaryDocument', 'primaryDocDescription']\n",
      "  Found 9 10-K filings from 2015 onwards\n",
      "Processing MSI (Motorola Solutions, Inc.)\n",
      "  Available columns: ['accession_number', 'filing_date', 'reportDate', 'acceptanceDateTime', 'act', 'form', 'fileNumber', 'items', 'size', 'isXBRL', 'isInlineXBRL', 'primaryDocument', 'primaryDocDescription']\n",
      "  Found 10 10-K filings from 2015 onwards\n",
      "Processing MSCI (MSCI Inc.)\n",
      "  Available columns: ['accession_number', 'filing_date', 'reportDate', 'acceptanceDateTime', 'act', 'form', 'fileNumber', 'items', 'size', 'isXBRL', 'isInlineXBRL', 'primaryDocument', 'primaryDocDescription']\n",
      "  Found 10 10-K filings from 2015 onwards\n",
      "Processing NDAQ (NASDAQ, INC.)\n",
      "  Available columns: ['accession_number', 'filing_date', 'reportDate', 'acceptanceDateTime', 'act', 'form', 'fileNumber', 'items', 'size', 'isXBRL', 'isInlineXBRL', 'primaryDocument', 'primaryDocDescription']\n",
      "  Found 10 10-K filings from 2015 onwards\n",
      "    Error processing filing for NDAQ: 'NoneType' object is not subscriptable\n",
      "Processing NTAP (NetApp, Inc.)\n",
      "  Available columns: ['accession_number', 'filing_date', 'reportDate', 'acceptanceDateTime', 'act', 'form', 'fileNumber', 'items', 'size', 'isXBRL', 'isInlineXBRL', 'primaryDocument', 'primaryDocDescription']\n",
      "  Found 10 10-K filings from 2015 onwards\n",
      "Processing NFLX (NETFLIX INC)\n",
      "  Available columns: ['accession_number', 'filing_date', 'reportDate', 'acceptanceDateTime', 'act', 'form', 'fileNumber', 'items', 'size', 'isXBRL', 'isInlineXBRL', 'primaryDocument', 'primaryDocDescription']\n",
      "  Found 10 10-K filings from 2015 onwards\n",
      "Processing NEM (NEWMONT Corp /DE/)\n",
      "  Available columns: ['accession_number', 'filing_date', 'reportDate', 'acceptanceDateTime', 'act', 'form', 'fileNumber', 'items', 'size', 'isXBRL', 'isInlineXBRL', 'primaryDocument', 'primaryDocDescription']\n",
      "  Found 10 10-K filings from 2015 onwards\n",
      "    Error processing filing for NEM: 'NoneType' object is not subscriptable\n",
      "    Error processing filing for NEM: 'NoneType' object is not subscriptable\n",
      "    Error processing filing for NEM: 'NoneType' object is not subscriptable\n",
      "    Error processing filing for NEM: 'NoneType' object is not subscriptable\n",
      "Processing NWSA (NEWS CORP)\n",
      "  Available columns: ['accession_number', 'filing_date', 'reportDate', 'acceptanceDateTime', 'act', 'form', 'fileNumber', 'items', 'size', 'isXBRL', 'isInlineXBRL', 'primaryDocument', 'primaryDocDescription']\n",
      "  Found 10 10-K filings from 2015 onwards\n",
      "Processing NWS (NEWS CORP)\n",
      "  Available columns: ['accession_number', 'filing_date', 'reportDate', 'acceptanceDateTime', 'act', 'form', 'fileNumber', 'items', 'size', 'isXBRL', 'isInlineXBRL', 'primaryDocument', 'primaryDocDescription']\n",
      "  Found 10 10-K filings from 2015 onwards\n",
      "Processing NEE (NEXTERA ENERGY INC)\n",
      "  Available columns: ['accession_number', 'filing_date', 'reportDate', 'acceptanceDateTime', 'act', 'form', 'fileNumber', 'items', 'size', 'isXBRL', 'isInlineXBRL', 'primaryDocument', 'primaryDocDescription']\n",
      "  Found 10 10-K filings from 2015 onwards\n",
      "Processing NKE (NIKE, Inc.)\n",
      "  Available columns: ['accession_number', 'filing_date', 'reportDate', 'acceptanceDateTime', 'act', 'form', 'fileNumber', 'items', 'size', 'isXBRL', 'isInlineXBRL', 'primaryDocument', 'primaryDocDescription']\n",
      "  Found 10 10-K filings from 2015 onwards\n",
      "Processing NI (NISOURCE INC.)\n",
      "  Available columns: ['accession_number', 'filing_date', 'reportDate', 'acceptanceDateTime', 'act', 'form', 'fileNumber', 'items', 'size', 'isXBRL', 'isInlineXBRL', 'primaryDocument', 'primaryDocDescription']\n",
      "  Found 10 10-K filings from 2015 onwards\n",
      "Processing NDSN (NORDSON CORP)\n",
      "  Available columns: ['accession_number', 'filing_date', 'reportDate', 'acceptanceDateTime', 'act', 'form', 'fileNumber', 'items', 'size', 'isXBRL', 'isInlineXBRL', 'primaryDocument', 'primaryDocDescription']\n",
      "  Found 10 10-K filings from 2015 onwards\n",
      "Processing NSC (NORFOLK SOUTHERN CORP)\n",
      "  Available columns: ['accession_number', 'filing_date', 'reportDate', 'acceptanceDateTime', 'act', 'form', 'fileNumber', 'items', 'size', 'isXBRL', 'isInlineXBRL', 'primaryDocument', 'primaryDocDescription']\n",
      "  Found 10 10-K filings from 2015 onwards\n",
      "Processing NTRS (NORTHERN TRUST CORP)\n",
      "  Available columns: ['accession_number', 'filing_date', 'reportDate', 'acceptanceDateTime', 'act', 'form', 'fileNumber', 'items', 'size', 'isXBRL', 'isInlineXBRL', 'primaryDocument', 'primaryDocDescription']\n",
      "  Found 10 10-K filings from 2015 onwards\n",
      "Processing NOC (NORTHROP GRUMMAN CORP /DE/)\n",
      "  Available columns: ['accession_number', 'filing_date', 'reportDate', 'acceptanceDateTime', 'act', 'form', 'fileNumber', 'items', 'size', 'isXBRL', 'isInlineXBRL', 'primaryDocument', 'primaryDocDescription']\n",
      "  Found 10 10-K filings from 2015 onwards\n",
      "Processing NCLH (Norwegian Cruise Line Holdings Ltd.)\n",
      "  Available columns: ['accession_number', 'filing_date', 'reportDate', 'acceptanceDateTime', 'act', 'form', 'fileNumber', 'items', 'size', 'isXBRL', 'isInlineXBRL', 'primaryDocument', 'primaryDocDescription']\n",
      "  Found 10 10-K filings from 2015 onwards\n",
      "Processing NRG (NRG ENERGY, INC.)\n",
      "  Available columns: ['accession_number', 'filing_date', 'reportDate', 'acceptanceDateTime', 'act', 'form', 'fileNumber', 'items', 'size', 'isXBRL', 'isInlineXBRL', 'primaryDocument', 'primaryDocDescription']\n",
      "  Found 10 10-K filings from 2015 onwards\n",
      "Processing NUE (NUCOR CORP)\n",
      "  Available columns: ['accession_number', 'filing_date', 'reportDate', 'acceptanceDateTime', 'act', 'form', 'fileNumber', 'items', 'size', 'isXBRL', 'isInlineXBRL', 'primaryDocument', 'primaryDocDescription']\n",
      "  Found 10 10-K filings from 2015 onwards\n",
      "Processing NVDA (NVIDIA CORP)\n",
      "  Available columns: ['accession_number', 'filing_date', 'reportDate', 'acceptanceDateTime', 'act', 'form', 'fileNumber', 'items', 'size', 'isXBRL', 'isInlineXBRL', 'primaryDocument', 'primaryDocDescription']\n",
      "  Found 11 10-K filings from 2015 onwards\n",
      "Processing NVR (NVR INC)\n",
      "  Available columns: ['accession_number', 'filing_date', 'reportDate', 'acceptanceDateTime', 'act', 'form', 'fileNumber', 'items', 'size', 'isXBRL', 'isInlineXBRL', 'primaryDocument', 'primaryDocDescription']\n",
      "  Found 10 10-K filings from 2015 onwards\n",
      "Processing NXPI (NXP Semiconductors N.V.)\n",
      "  Available columns: ['accession_number', 'filing_date', 'reportDate', 'acceptanceDateTime', 'act', 'form', 'fileNumber', 'items', 'size', 'isXBRL', 'isInlineXBRL', 'primaryDocument', 'primaryDocDescription']\n",
      "  Found 6 10-K filings from 2015 onwards\n",
      "Processing ORLY (O REILLY AUTOMOTIVE INC)\n",
      "  Available columns: ['accession_number', 'filing_date', 'reportDate', 'acceptanceDateTime', 'act', 'form', 'fileNumber', 'items', 'size', 'isXBRL', 'isInlineXBRL', 'primaryDocument', 'primaryDocDescription']\n",
      "  Found 10 10-K filings from 2015 onwards\n",
      "Processing OXY (OCCIDENTAL PETROLEUM CORP /DE/)\n",
      "  Available columns: ['accession_number', 'filing_date', 'reportDate', 'acceptanceDateTime', 'act', 'form', 'fileNumber', 'items', 'size', 'isXBRL', 'isInlineXBRL', 'primaryDocument', 'primaryDocDescription']\n",
      "  Found 10 10-K filings from 2015 onwards\n",
      "Processing ODFL (OLD DOMINION FREIGHT LINE, INC.)\n",
      "  Available columns: ['accession_number', 'filing_date', 'reportDate', 'acceptanceDateTime', 'act', 'form', 'fileNumber', 'items', 'size', 'isXBRL', 'isInlineXBRL', 'primaryDocument', 'primaryDocDescription']\n",
      "  Found 10 10-K filings from 2015 onwards\n",
      "    WARNING: No MD&A section found for ODFL (CIK: 878927) for year 2016\n",
      "    WARNING: No MD&A section found for ODFL (CIK: 878927) for year 2015\n",
      "Processing OMC (OMNICOM GROUP INC.)\n",
      "  Available columns: ['accession_number', 'filing_date', 'reportDate', 'acceptanceDateTime', 'act', 'form', 'fileNumber', 'items', 'size', 'isXBRL', 'isInlineXBRL', 'primaryDocument', 'primaryDocDescription']\n",
      "  Found 10 10-K filings from 2015 onwards\n",
      "Processing ON (ON SEMICONDUCTOR CORP)\n",
      "  Available columns: ['accession_number', 'filing_date', 'reportDate', 'acceptanceDateTime', 'act', 'form', 'fileNumber', 'items', 'size', 'isXBRL', 'isInlineXBRL', 'primaryDocument', 'primaryDocDescription']\n",
      "  Found 10 10-K filings from 2015 onwards\n",
      "Processing OKE (ONEOK INC /NEW/)\n",
      "  Available columns: ['accession_number', 'filing_date', 'reportDate', 'acceptanceDateTime', 'act', 'form', 'fileNumber', 'items', 'size', 'isXBRL', 'isInlineXBRL', 'primaryDocument', 'primaryDocDescription']\n",
      "  Found 10 10-K filings from 2015 onwards\n",
      "Processing ORCL (ORACLE CORP)\n",
      "  Available columns: ['accession_number', 'filing_date', 'reportDate', 'acceptanceDateTime', 'act', 'form', 'fileNumber', 'items', 'size', 'isXBRL', 'isInlineXBRL', 'primaryDocument', 'primaryDocDescription']\n",
      "  Found 10 10-K filings from 2015 onwards\n",
      "Processing OTIS (Otis Worldwide Corp)\n",
      "  Available columns: ['accession_number', 'filing_date', 'reportDate', 'acceptanceDateTime', 'act', 'form', 'fileNumber', 'items', 'size', 'isXBRL', 'isInlineXBRL', 'primaryDocument', 'primaryDocDescription']\n",
      "  Found 5 10-K filings from 2015 onwards\n",
      "Processing PCAR (PACCAR INC)\n",
      "  Available columns: ['accession_number', 'filing_date', 'reportDate', 'acceptanceDateTime', 'act', 'form', 'fileNumber', 'items', 'size', 'isXBRL', 'isInlineXBRL', 'primaryDocument', 'primaryDocDescription']\n",
      "  Found 10 10-K filings from 2015 onwards\n",
      "Processing PKG (PACKAGING CORP OF AMERICA)\n",
      "  Available columns: ['accession_number', 'filing_date', 'reportDate', 'acceptanceDateTime', 'act', 'form', 'fileNumber', 'items', 'size', 'isXBRL', 'isInlineXBRL', 'primaryDocument', 'primaryDocDescription']\n",
      "  Found 10 10-K filings from 2015 onwards\n",
      "Processing PLTR (Palantir Technologies Inc.)\n",
      "  Available columns: ['accession_number', 'filing_date', 'reportDate', 'acceptanceDateTime', 'act', 'form', 'fileNumber', 'items', 'size', 'isXBRL', 'isInlineXBRL', 'primaryDocument', 'primaryDocDescription']\n",
      "  Found 5 10-K filings from 2015 onwards\n",
      "Processing PANW (Palo Alto Networks Inc)\n",
      "  Available columns: ['accession_number', 'filing_date', 'reportDate', 'acceptanceDateTime', 'act', 'form', 'fileNumber', 'items', 'size', 'isXBRL', 'isInlineXBRL', 'primaryDocument', 'primaryDocDescription']\n",
      "  Found 10 10-K filings from 2015 onwards\n",
      "Processing PARA (Paramount Global)\n",
      "  Available columns: ['accession_number', 'filing_date', 'reportDate', 'acceptanceDateTime', 'act', 'form', 'fileNumber', 'items', 'size', 'isXBRL', 'isInlineXBRL', 'primaryDocument', 'primaryDocDescription']\n",
      "  Found 10 10-K filings from 2015 onwards\n",
      "Processing PH (Parker-Hannifin Corp)\n",
      "  Available columns: ['accession_number', 'filing_date', 'reportDate', 'acceptanceDateTime', 'act', 'form', 'fileNumber', 'items', 'size', 'isXBRL', 'isInlineXBRL', 'primaryDocument', 'primaryDocDescription']\n",
      "  Found 10 10-K filings from 2015 onwards\n",
      "Processing PAYX (PAYCHEX INC)\n",
      "  Available columns: ['accession_number', 'filing_date', 'reportDate', 'acceptanceDateTime', 'act', 'form', 'fileNumber', 'items', 'size', 'isXBRL', 'isInlineXBRL', 'primaryDocument', 'primaryDocDescription']\n",
      "  Found 10 10-K filings from 2015 onwards\n",
      "    Error processing filing for PAYX: 'NoneType' object is not subscriptable\n",
      "    Error processing filing for PAYX: 'NoneType' object is not subscriptable\n",
      "    Error processing filing for PAYX: 'NoneType' object is not subscriptable\n",
      "    Error processing filing for PAYX: 'NoneType' object is not subscriptable\n",
      "Processing PAYC (Paycom Software, Inc.)\n",
      "  Available columns: ['accession_number', 'filing_date', 'reportDate', 'acceptanceDateTime', 'act', 'form', 'fileNumber', 'items', 'size', 'isXBRL', 'isInlineXBRL', 'primaryDocument', 'primaryDocDescription']\n",
      "  Found 10 10-K filings from 2015 onwards\n",
      "Processing PYPL (PayPal Holdings, Inc.)\n",
      "  Available columns: ['accession_number', 'filing_date', 'reportDate', 'acceptanceDateTime', 'act', 'form', 'fileNumber', 'items', 'size', 'isXBRL', 'isInlineXBRL', 'primaryDocument', 'primaryDocDescription']\n",
      "  Found 10 10-K filings from 2015 onwards\n",
      "Processing PNR (PENTAIR plc)\n",
      "  Available columns: ['accession_number', 'filing_date', 'reportDate', 'acceptanceDateTime', 'act', 'form', 'fileNumber', 'items', 'size', 'isXBRL', 'isInlineXBRL', 'primaryDocument', 'primaryDocDescription']\n",
      "  Found 10 10-K filings from 2015 onwards\n",
      "Processing PEP (PEPSICO INC)\n",
      "  Available columns: ['accession_number', 'filing_date', 'reportDate', 'acceptanceDateTime', 'act', 'form', 'fileNumber', 'items', 'size', 'isXBRL', 'isInlineXBRL', 'primaryDocument', 'primaryDocDescription']\n",
      "  Found 10 10-K filings from 2015 onwards\n",
      "Processing PFE (PFIZER INC)\n",
      "  Available columns: ['accession_number', 'filing_date', 'reportDate', 'acceptanceDateTime', 'act', 'form', 'fileNumber', 'items', 'size', 'isXBRL', 'isInlineXBRL', 'primaryDocument', 'primaryDocDescription']\n",
      "  Found 10 10-K filings from 2015 onwards\n",
      "Processing PCG (PG&E Corp)\n",
      "  Available columns: ['accession_number', 'filing_date', 'reportDate', 'acceptanceDateTime', 'act', 'form', 'fileNumber', 'items', 'size', 'isXBRL', 'isInlineXBRL', 'primaryDocument', 'primaryDocDescription']\n",
      "  Found 10 10-K filings from 2015 onwards\n",
      "Processing PM (Philip Morris International Inc.)\n",
      "  Available columns: ['accession_number', 'filing_date', 'reportDate', 'acceptanceDateTime', 'act', 'form', 'fileNumber', 'items', 'size', 'isXBRL', 'isInlineXBRL', 'primaryDocument', 'primaryDocDescription']\n",
      "  Found 10 10-K filings from 2015 onwards\n",
      "Processing PSX (Phillips 66)\n",
      "  Available columns: ['accession_number', 'filing_date', 'reportDate', 'acceptanceDateTime', 'act', 'form', 'fileNumber', 'items', 'size', 'isXBRL', 'isInlineXBRL', 'primaryDocument', 'primaryDocDescription']\n",
      "  Found 10 10-K filings from 2015 onwards\n",
      "Processing PNW (PINNACLE WEST CAPITAL CORP)\n",
      "  Available columns: ['accession_number', 'filing_date', 'reportDate', 'acceptanceDateTime', 'act', 'form', 'fileNumber', 'items', 'size', 'isXBRL', 'isInlineXBRL', 'primaryDocument', 'primaryDocDescription']\n",
      "  Found 10 10-K filings from 2015 onwards\n",
      "Processing PNC (PNC FINANCIAL SERVICES GROUP, INC.)\n",
      "  Available columns: ['accession_number', 'filing_date', 'reportDate', 'acceptanceDateTime', 'act', 'form', 'fileNumber', 'items', 'size', 'isXBRL', 'isInlineXBRL', 'primaryDocument', 'primaryDocDescription']\n",
      "  Found 10 10-K filings from 2015 onwards\n",
      "Processing POOL (POOL CORP)\n",
      "  Available columns: ['accession_number', 'filing_date', 'reportDate', 'acceptanceDateTime', 'act', 'form', 'fileNumber', 'items', 'size', 'isXBRL', 'isInlineXBRL', 'primaryDocument', 'primaryDocDescription']\n",
      "  Found 10 10-K filings from 2015 onwards\n",
      "Processing PPG (PPG INDUSTRIES INC)\n",
      "  Available columns: ['accession_number', 'filing_date', 'reportDate', 'acceptanceDateTime', 'act', 'form', 'fileNumber', 'items', 'size', 'isXBRL', 'isInlineXBRL', 'primaryDocument', 'primaryDocDescription']\n",
      "  Found 10 10-K filings from 2015 onwards\n",
      "Processing PPL (PPL Corp)\n",
      "  Available columns: ['accession_number', 'filing_date', 'reportDate', 'acceptanceDateTime', 'act', 'form', 'fileNumber', 'items', 'size', 'isXBRL', 'isInlineXBRL', 'primaryDocument', 'primaryDocDescription']\n",
      "  Found 10 10-K filings from 2015 onwards\n",
      "Processing PFG (PRINCIPAL FINANCIAL GROUP INC)\n",
      "  Available columns: ['accession_number', 'filing_date', 'reportDate', 'acceptanceDateTime', 'act', 'form', 'fileNumber', 'items', 'size', 'isXBRL', 'isInlineXBRL', 'primaryDocument', 'primaryDocDescription']\n",
      "  Found 10 10-K filings from 2015 onwards\n",
      "    WARNING: No MD&A section found for PFG (CIK: 1126328) for year 2024\n",
      "    WARNING: No MD&A section found for PFG (CIK: 1126328) for year 2023\n",
      "    WARNING: No MD&A section found for PFG (CIK: 1126328) for year 2022\n",
      "    WARNING: No MD&A section found for PFG (CIK: 1126328) for year 2021\n",
      "    WARNING: No MD&A section found for PFG (CIK: 1126328) for year 2020\n",
      "    WARNING: No MD&A section found for PFG (CIK: 1126328) for year 2019\n",
      "Processing PG (PROCTER & GAMBLE Co)\n",
      "  Available columns: ['accession_number', 'filing_date', 'reportDate', 'acceptanceDateTime', 'act', 'form', 'fileNumber', 'items', 'size', 'isXBRL', 'isInlineXBRL', 'primaryDocument', 'primaryDocDescription']\n",
      "  Found 10 10-K filings from 2015 onwards\n",
      "Processing PGR (PROGRESSIVE CORP/OH/)\n",
      "  Available columns: ['accession_number', 'filing_date', 'reportDate', 'acceptanceDateTime', 'act', 'form', 'fileNumber', 'items', 'size', 'isXBRL', 'isInlineXBRL', 'primaryDocument', 'primaryDocDescription']\n",
      "  Found 9 10-K filings from 2015 onwards\n",
      "Processing PLD (Prologis, Inc.)\n",
      "  Available columns: ['accession_number', 'filing_date', 'reportDate', 'acceptanceDateTime', 'act', 'form', 'fileNumber', 'items', 'size', 'isXBRL', 'isInlineXBRL', 'primaryDocument', 'primaryDocDescription']\n",
      "  Found 10 10-K filings from 2015 onwards\n",
      "Processing PRU (PRUDENTIAL FINANCIAL INC)\n",
      "  Available columns: ['accession_number', 'filing_date', 'reportDate', 'acceptanceDateTime', 'act', 'form', 'fileNumber', 'items', 'size', 'isXBRL', 'isInlineXBRL', 'primaryDocument', 'primaryDocDescription']\n",
      "  Found 10 10-K filings from 2015 onwards\n",
      "Processing PEG (PUBLIC SERVICE ENTERPRISE GROUP INC)\n",
      "  Available columns: ['accession_number', 'filing_date', 'reportDate', 'acceptanceDateTime', 'act', 'form', 'fileNumber', 'items', 'size', 'isXBRL', 'isInlineXBRL', 'primaryDocument', 'primaryDocDescription']\n",
      "  Found 10 10-K filings from 2015 onwards\n",
      "Processing PTC (PTC INC.)\n",
      "  Available columns: ['accession_number', 'filing_date', 'reportDate', 'acceptanceDateTime', 'act', 'form', 'fileNumber', 'items', 'size', 'isXBRL', 'isInlineXBRL', 'primaryDocument', 'primaryDocDescription']\n",
      "  Found 10 10-K filings from 2015 onwards\n",
      "Processing PSA (Public Storage)\n",
      "  Available columns: ['accession_number', 'filing_date', 'reportDate', 'acceptanceDateTime', 'act', 'form', 'fileNumber', 'items', 'size', 'isXBRL', 'isInlineXBRL', 'primaryDocument', 'primaryDocDescription']\n",
      "  Found 10 10-K filings from 2015 onwards\n",
      "    Error processing filing for PSA: 'NoneType' object is not subscriptable\n",
      "    Error processing filing for PSA: 'NoneType' object is not subscriptable\n",
      "    Error processing filing for PSA: 'NoneType' object is not subscriptable\n",
      "    Error processing filing for PSA: 'NoneType' object is not subscriptable\n",
      "Processing PHM (PULTEGROUP INC/MI/)\n",
      "  Available columns: ['accession_number', 'filing_date', 'reportDate', 'acceptanceDateTime', 'act', 'form', 'fileNumber', 'items', 'size', 'isXBRL', 'isInlineXBRL', 'primaryDocument', 'primaryDocDescription']\n",
      "  Found 10 10-K filings from 2015 onwards\n",
      "Processing PWR (QUANTA SERVICES, INC.)\n",
      "  Available columns: ['accession_number', 'filing_date', 'reportDate', 'acceptanceDateTime', 'act', 'form', 'fileNumber', 'items', 'size', 'isXBRL', 'isInlineXBRL', 'primaryDocument', 'primaryDocDescription']\n",
      "  Found 10 10-K filings from 2015 onwards\n",
      "Processing QCOM (QUALCOMM INC/DE)\n",
      "  Available columns: ['accession_number', 'filing_date', 'reportDate', 'acceptanceDateTime', 'act', 'form', 'fileNumber', 'items', 'size', 'isXBRL', 'isInlineXBRL', 'primaryDocument', 'primaryDocDescription']\n",
      "  Found 10 10-K filings from 2015 onwards\n",
      "Processing DGX (QUEST DIAGNOSTICS INC)\n",
      "  Available columns: ['accession_number', 'filing_date', 'reportDate', 'acceptanceDateTime', 'act', 'form', 'fileNumber', 'items', 'size', 'isXBRL', 'isInlineXBRL', 'primaryDocument', 'primaryDocDescription']\n",
      "  Found 10 10-K filings from 2015 onwards\n",
      "Processing RL (RALPH LAUREN CORP)\n",
      "  Available columns: ['accession_number', 'filing_date', 'reportDate', 'acceptanceDateTime', 'act', 'form', 'fileNumber', 'items', 'size', 'isXBRL', 'isInlineXBRL', 'primaryDocument', 'primaryDocDescription']\n",
      "  Found 10 10-K filings from 2015 onwards\n",
      "Processing RJF (RAYMOND JAMES FINANCIAL INC)\n",
      "  Available columns: ['accession_number', 'filing_date', 'reportDate', 'acceptanceDateTime', 'act', 'form', 'fileNumber', 'items', 'size', 'isXBRL', 'isInlineXBRL', 'primaryDocument', 'primaryDocDescription']\n",
      "  Found 10 10-K filings from 2015 onwards\n",
      "Processing RTX (RTX Corp)\n",
      "  Available columns: ['accession_number', 'filing_date', 'reportDate', 'acceptanceDateTime', 'act', 'form', 'fileNumber', 'items', 'size', 'isXBRL', 'isInlineXBRL', 'primaryDocument', 'primaryDocDescription']\n",
      "  Found 10 10-K filings from 2015 onwards\n",
      "Processing O (REALTY INCOME CORP)\n",
      "  Available columns: ['accession_number', 'filing_date', 'reportDate', 'acceptanceDateTime', 'act', 'form', 'fileNumber', 'items', 'size', 'isXBRL', 'isInlineXBRL', 'primaryDocument', 'primaryDocDescription']\n",
      "  Found 10 10-K filings from 2015 onwards\n",
      "Processing REG (REGENCY CENTERS CORP)\n",
      "  Available columns: ['accession_number', 'filing_date', 'reportDate', 'acceptanceDateTime', 'act', 'form', 'fileNumber', 'items', 'size', 'isXBRL', 'isInlineXBRL', 'primaryDocument', 'primaryDocDescription']\n",
      "  Found 10 10-K filings from 2015 onwards\n",
      "Processing REGN (REGENERON PHARMACEUTICALS, INC.)\n",
      "  Available columns: ['accession_number', 'filing_date', 'reportDate', 'acceptanceDateTime', 'act', 'form', 'fileNumber', 'items', 'size', 'isXBRL', 'isInlineXBRL', 'primaryDocument', 'primaryDocDescription']\n",
      "  Found 10 10-K filings from 2015 onwards\n",
      "Processing RF (REGIONS FINANCIAL CORP)\n",
      "  Available columns: ['accession_number', 'filing_date', 'reportDate', 'acceptanceDateTime', 'act', 'form', 'fileNumber', 'items', 'size', 'isXBRL', 'isInlineXBRL', 'primaryDocument', 'primaryDocDescription']\n",
      "  Found 10 10-K filings from 2015 onwards\n",
      "Processing RSG (REPUBLIC SERVICES, INC.)\n",
      "  Available columns: ['accession_number', 'filing_date', 'reportDate', 'acceptanceDateTime', 'act', 'form', 'fileNumber', 'items', 'size', 'isXBRL', 'isInlineXBRL', 'primaryDocument', 'primaryDocDescription']\n",
      "  Found 10 10-K filings from 2015 onwards\n",
      "Processing RMD (RESMED INC)\n",
      "  Available columns: ['accession_number', 'filing_date', 'reportDate', 'acceptanceDateTime', 'act', 'form', 'fileNumber', 'items', 'size', 'isXBRL', 'isInlineXBRL', 'primaryDocument', 'primaryDocDescription']\n",
      "  Found 10 10-K filings from 2015 onwards\n",
      "    WARNING: No MD&A section found for RMD (CIK: 943819) for year 2021\n",
      "    WARNING: No MD&A section found for RMD (CIK: 943819) for year 2020\n",
      "    Error processing filing for RMD: 'NoneType' object is not subscriptable\n",
      "    Error processing filing for RMD: 'NoneType' object is not subscriptable\n",
      "Processing RVTY (REVVITY, INC.)\n",
      "  Available columns: ['accession_number', 'filing_date', 'reportDate', 'acceptanceDateTime', 'act', 'form', 'fileNumber', 'items', 'size', 'isXBRL', 'isInlineXBRL', 'primaryDocument', 'primaryDocDescription']\n",
      "  Found 10 10-K filings from 2015 onwards\n",
      "Processing ROK (ROCKWELL AUTOMATION, INC)\n",
      "  Available columns: ['accession_number', 'filing_date', 'reportDate', 'acceptanceDateTime', 'act', 'form', 'fileNumber', 'items', 'size', 'isXBRL', 'isInlineXBRL', 'primaryDocument', 'primaryDocDescription']\n",
      "  Found 10 10-K filings from 2015 onwards\n",
      "Processing ROL (ROLLINS INC)\n",
      "  Available columns: ['accession_number', 'filing_date', 'reportDate', 'acceptanceDateTime', 'act', 'form', 'fileNumber', 'items', 'size', 'isXBRL', 'isInlineXBRL', 'primaryDocument', 'primaryDocDescription']\n",
      "  Found 10 10-K filings from 2015 onwards\n",
      "Processing ROP (ROPER TECHNOLOGIES INC)\n",
      "  Available columns: ['accession_number', 'filing_date', 'reportDate', 'acceptanceDateTime', 'act', 'form', 'fileNumber', 'items', 'size', 'isXBRL', 'isInlineXBRL', 'primaryDocument', 'primaryDocDescription']\n",
      "  Found 10 10-K filings from 2015 onwards\n",
      "Processing ROST (ROSS STORES, INC.)\n",
      "  Available columns: ['accession_number', 'filing_date', 'reportDate', 'acceptanceDateTime', 'act', 'form', 'fileNumber', 'items', 'size', 'isXBRL', 'isInlineXBRL', 'primaryDocument', 'primaryDocDescription']\n",
      "  Found 10 10-K filings from 2015 onwards\n",
      "Processing RCL (ROYAL CARIBBEAN CRUISES LTD)\n",
      "  Available columns: ['accession_number', 'filing_date', 'reportDate', 'acceptanceDateTime', 'act', 'form', 'fileNumber', 'items', 'size', 'isXBRL', 'isInlineXBRL', 'primaryDocument', 'primaryDocDescription']\n",
      "  Found 10 10-K filings from 2015 onwards\n",
      "Processing SPGI (S&P Global Inc.)\n",
      "  Available columns: ['accession_number', 'filing_date', 'reportDate', 'acceptanceDateTime', 'act', 'form', 'fileNumber', 'items', 'size', 'isXBRL', 'isInlineXBRL', 'primaryDocument', 'primaryDocDescription']\n",
      "  Found 10 10-K filings from 2015 onwards\n",
      "Processing CRM (Salesforce, Inc.)\n",
      "  Available columns: ['accession_number', 'filing_date', 'reportDate', 'acceptanceDateTime', 'act', 'form', 'fileNumber', 'items', 'size', 'isXBRL', 'isInlineXBRL', 'primaryDocument', 'primaryDocDescription']\n",
      "  Found 10 10-K filings from 2015 onwards\n",
      "Processing SBAC (SBA COMMUNICATIONS CORP)\n",
      "  Available columns: ['accession_number', 'filing_date', 'reportDate', 'acceptanceDateTime', 'act', 'form', 'fileNumber', 'items', 'size', 'isXBRL', 'isInlineXBRL', 'primaryDocument', 'primaryDocDescription']\n",
      "  Found 10 10-K filings from 2015 onwards\n",
      "    Error processing filing for SBAC: 'NoneType' object is not subscriptable\n",
      "    Error processing filing for SBAC: 'NoneType' object is not subscriptable\n",
      "    Error processing filing for SBAC: 'NoneType' object is not subscriptable\n",
      "    Error processing filing for SBAC: 'NoneType' object is not subscriptable\n",
      "Processing SLB (SCHLUMBERGER LIMITED/NV)\n",
      "  Available columns: ['accession_number', 'filing_date', 'reportDate', 'acceptanceDateTime', 'act', 'form', 'fileNumber', 'items', 'size', 'isXBRL', 'isInlineXBRL', 'primaryDocument', 'primaryDocDescription']\n",
      "  Found 10 10-K filings from 2015 onwards\n",
      "Processing STX (Seagate Technology Holdings plc)\n",
      "  Available columns: ['accession_number', 'filing_date', 'reportDate', 'acceptanceDateTime', 'act', 'form', 'fileNumber', 'items', 'size', 'isXBRL', 'isInlineXBRL', 'primaryDocument', 'primaryDocDescription']\n",
      "  Found 10 10-K filings from 2015 onwards\n",
      "Processing SRE (SEMPRA)\n",
      "  Available columns: ['accession_number', 'filing_date', 'reportDate', 'acceptanceDateTime', 'act', 'form', 'fileNumber', 'items', 'size', 'isXBRL', 'isInlineXBRL', 'primaryDocument', 'primaryDocDescription']\n",
      "  Found 10 10-K filings from 2015 onwards\n",
      "Processing NOW (ServiceNow, Inc.)\n",
      "  Available columns: ['accession_number', 'filing_date', 'reportDate', 'acceptanceDateTime', 'act', 'form', 'fileNumber', 'items', 'size', 'isXBRL', 'isInlineXBRL', 'primaryDocument', 'primaryDocDescription']\n",
      "  Found 10 10-K filings from 2015 onwards\n",
      "Processing SHW (SHERWIN WILLIAMS CO)\n",
      "  Available columns: ['accession_number', 'filing_date', 'reportDate', 'acceptanceDateTime', 'act', 'form', 'fileNumber', 'items', 'size', 'isXBRL', 'isInlineXBRL', 'primaryDocument', 'primaryDocDescription']\n",
      "  Found 10 10-K filings from 2015 onwards\n",
      "Processing SPG (SIMON PROPERTY GROUP INC /DE/)\n",
      "  Available columns: ['accession_number', 'filing_date', 'reportDate', 'acceptanceDateTime', 'act', 'form', 'fileNumber', 'items', 'size', 'isXBRL', 'isInlineXBRL', 'primaryDocument', 'primaryDocDescription']\n",
      "  Found 10 10-K filings from 2015 onwards\n",
      "    Error processing filing for SPG: 'NoneType' object is not subscriptable\n",
      "    Error processing filing for SPG: 'NoneType' object is not subscriptable\n",
      "    Error processing filing for SPG: 'NoneType' object is not subscriptable\n",
      "Processing SWKS (SKYWORKS SOLUTIONS, INC.)\n",
      "  Available columns: ['accession_number', 'filing_date', 'reportDate', 'acceptanceDateTime', 'act', 'form', 'fileNumber', 'items', 'size', 'isXBRL', 'isInlineXBRL', 'primaryDocument', 'primaryDocDescription']\n",
      "  Found 10 10-K filings from 2015 onwards\n",
      "Processing SJM (J M SMUCKER Co)\n",
      "  Available columns: ['accession_number', 'filing_date', 'reportDate', 'acceptanceDateTime', 'act', 'form', 'fileNumber', 'items', 'size', 'isXBRL', 'isInlineXBRL', 'primaryDocument', 'primaryDocDescription']\n",
      "  Found 10 10-K filings from 2015 onwards\n",
      "Processing SW (Smurfit Westrock plc)\n",
      "  Available columns: ['accession_number', 'filing_date', 'reportDate', 'acceptanceDateTime', 'act', 'form', 'fileNumber', 'items', 'size', 'isXBRL', 'isInlineXBRL', 'primaryDocument', 'primaryDocDescription']\n",
      "  Found 0 10-K filings from 2015 onwards\n",
      "Processing SNA (Snap-on Inc)\n",
      "  Available columns: ['accession_number', 'filing_date', 'reportDate', 'acceptanceDateTime', 'act', 'form', 'fileNumber', 'items', 'size', 'isXBRL', 'isInlineXBRL', 'primaryDocument', 'primaryDocDescription']\n",
      "  Found 11 10-K filings from 2015 onwards\n",
      "Processing SOLV (Solventum Corp)\n",
      "  Available columns: ['accession_number', 'filing_date', 'reportDate', 'acceptanceDateTime', 'act', 'form', 'fileNumber', 'items', 'size', 'isXBRL', 'isInlineXBRL', 'primaryDocument', 'primaryDocDescription']\n",
      "  Found 1 10-K filings from 2015 onwards\n",
      "Processing SO (SOUTHERN CO)\n",
      "  Available columns: ['accession_number', 'filing_date', 'reportDate', 'acceptanceDateTime', 'act', 'form', 'fileNumber', 'items', 'size', 'isXBRL', 'isInlineXBRL', 'primaryDocument', 'primaryDocDescription']\n",
      "  Found 10 10-K filings from 2015 onwards\n",
      "Processing LUV (SOUTHWEST AIRLINES CO)\n",
      "  Available columns: ['accession_number', 'filing_date', 'reportDate', 'acceptanceDateTime', 'act', 'form', 'fileNumber', 'items', 'size', 'isXBRL', 'isInlineXBRL', 'primaryDocument', 'primaryDocDescription']\n",
      "  Found 10 10-K filings from 2015 onwards\n",
      "Processing SWK (STANLEY BLACK & DECKER, INC.)\n",
      "  Available columns: ['accession_number', 'filing_date', 'reportDate', 'acceptanceDateTime', 'act', 'form', 'fileNumber', 'items', 'size', 'isXBRL', 'isInlineXBRL', 'primaryDocument', 'primaryDocDescription']\n",
      "  Found 11 10-K filings from 2015 onwards\n",
      "Processing SBUX (STARBUCKS CORP)\n",
      "  Available columns: ['accession_number', 'filing_date', 'reportDate', 'acceptanceDateTime', 'act', 'form', 'fileNumber', 'items', 'size', 'isXBRL', 'isInlineXBRL', 'primaryDocument', 'primaryDocDescription']\n",
      "  Found 10 10-K filings from 2015 onwards\n",
      "Processing STT (STATE STREET CORP)\n",
      "  Available columns: ['accession_number', 'filing_date', 'reportDate', 'acceptanceDateTime', 'act', 'form', 'fileNumber', 'items', 'size', 'isXBRL', 'isInlineXBRL', 'primaryDocument', 'primaryDocDescription']\n",
      "  Found 10 10-K filings from 2015 onwards\n",
      "Processing STLD (STEEL DYNAMICS INC)\n",
      "  Available columns: ['accession_number', 'filing_date', 'reportDate', 'acceptanceDateTime', 'act', 'form', 'fileNumber', 'items', 'size', 'isXBRL', 'isInlineXBRL', 'primaryDocument', 'primaryDocDescription']\n",
      "  Found 10 10-K filings from 2015 onwards\n",
      "    Error processing filing for STLD: 'NoneType' object is not subscriptable\n",
      "    Error processing filing for STLD: 'NoneType' object is not subscriptable\n",
      "    Error processing filing for STLD: 'NoneType' object is not subscriptable\n",
      "Processing STE (STERIS plc)\n",
      "  Available columns: ['accession_number', 'filing_date', 'reportDate', 'acceptanceDateTime', 'act', 'form', 'fileNumber', 'items', 'size', 'isXBRL', 'isInlineXBRL', 'primaryDocument', 'primaryDocDescription']\n",
      "  Found 6 10-K filings from 2015 onwards\n",
      "Processing SYK (STRYKER CORP)\n",
      "  Available columns: ['accession_number', 'filing_date', 'reportDate', 'acceptanceDateTime', 'act', 'form', 'fileNumber', 'items', 'size', 'isXBRL', 'isInlineXBRL', 'primaryDocument', 'primaryDocDescription']\n",
      "  Found 10 10-K filings from 2015 onwards\n",
      "Processing SMCI (Super Micro Computer, Inc.)\n",
      "  Available columns: ['accession_number', 'filing_date', 'reportDate', 'acceptanceDateTime', 'act', 'form', 'fileNumber', 'items', 'size', 'isXBRL', 'isInlineXBRL', 'primaryDocument', 'primaryDocDescription']\n",
      "  Found 9 10-K filings from 2015 onwards\n",
      "Processing SYF (Synchrony Financial)\n",
      "  Available columns: ['accession_number', 'filing_date', 'reportDate', 'acceptanceDateTime', 'act', 'form', 'fileNumber', 'items', 'size', 'isXBRL', 'isInlineXBRL', 'primaryDocument', 'primaryDocDescription']\n",
      "  Found 10 10-K filings from 2015 onwards\n",
      "    WARNING: No MD&A section found for SYF (CIK: 1601712) for year 2024\n",
      "    WARNING: No MD&A section found for SYF (CIK: 1601712) for year 2023\n",
      "    WARNING: No MD&A section found for SYF (CIK: 1601712) for year 2022\n",
      "    WARNING: No MD&A section found for SYF (CIK: 1601712) for year 2021\n",
      "    WARNING: No MD&A section found for SYF (CIK: 1601712) for year 2020\n",
      "    WARNING: No MD&A section found for SYF (CIK: 1601712) for year 2019\n",
      "    WARNING: No MD&A section found for SYF (CIK: 1601712) for year 2018\n",
      "Processing SNPS (SYNOPSYS INC)\n",
      "  Available columns: ['accession_number', 'filing_date', 'reportDate', 'acceptanceDateTime', 'act', 'form', 'fileNumber', 'items', 'size', 'isXBRL', 'isInlineXBRL', 'primaryDocument', 'primaryDocDescription']\n",
      "  Found 10 10-K filings from 2015 onwards\n",
      "Processing SYY (SYSCO CORP)\n",
      "  Available columns: ['accession_number', 'filing_date', 'reportDate', 'acceptanceDateTime', 'act', 'form', 'fileNumber', 'items', 'size', 'isXBRL', 'isInlineXBRL', 'primaryDocument', 'primaryDocDescription']\n",
      "  Found 10 10-K filings from 2015 onwards\n",
      "    WARNING: No MD&A section found for SYY (CIK: 96021) for year 2020\n",
      "Processing TMUS (T-Mobile US, Inc.)\n",
      "  Available columns: ['accession_number', 'filing_date', 'reportDate', 'acceptanceDateTime', 'act', 'form', 'fileNumber', 'items', 'size', 'isXBRL', 'isInlineXBRL', 'primaryDocument', 'primaryDocDescription']\n",
      "  Found 10 10-K filings from 2015 onwards\n",
      "Processing TROW (PRICE T ROWE GROUP INC)\n",
      "  Available columns: ['accession_number', 'filing_date', 'reportDate', 'acceptanceDateTime', 'act', 'form', 'fileNumber', 'items', 'size', 'isXBRL', 'isInlineXBRL', 'primaryDocument', 'primaryDocDescription']\n",
      "  Found 10 10-K filings from 2015 onwards\n",
      "Processing TTWO (TAKE TWO INTERACTIVE SOFTWARE INC)\n",
      "  Available columns: ['accession_number', 'filing_date', 'reportDate', 'acceptanceDateTime', 'act', 'form', 'fileNumber', 'items', 'size', 'isXBRL', 'isInlineXBRL', 'primaryDocument', 'primaryDocDescription']\n",
      "  Found 10 10-K filings from 2015 onwards\n",
      "Processing TPR (TAPESTRY, INC.)\n",
      "  Available columns: ['accession_number', 'filing_date', 'reportDate', 'acceptanceDateTime', 'act', 'form', 'fileNumber', 'items', 'size', 'isXBRL', 'isInlineXBRL', 'primaryDocument', 'primaryDocDescription']\n",
      "  Found 10 10-K filings from 2015 onwards\n",
      "Processing TRGP (Targa Resources Corp.)\n",
      "  Available columns: ['accession_number', 'filing_date', 'reportDate', 'acceptanceDateTime', 'act', 'form', 'fileNumber', 'items', 'size', 'isXBRL', 'isInlineXBRL', 'primaryDocument', 'primaryDocDescription']\n",
      "  Found 10 10-K filings from 2015 onwards\n",
      "Processing TGT (TARGET CORP)\n",
      "  Available columns: ['accession_number', 'filing_date', 'reportDate', 'acceptanceDateTime', 'act', 'form', 'fileNumber', 'items', 'size', 'isXBRL', 'isInlineXBRL', 'primaryDocument', 'primaryDocDescription']\n",
      "  Found 10 10-K filings from 2015 onwards\n",
      "Processing TEL (TE Connectivity plc)\n",
      "  Available columns: ['accession_number', 'filing_date', 'reportDate', 'acceptanceDateTime', 'act', 'form', 'fileNumber', 'items', 'size', 'isXBRL', 'isInlineXBRL', 'primaryDocument', 'primaryDocDescription']\n",
      "  Found 10 10-K filings from 2015 onwards\n",
      "Processing TDY (TELEDYNE TECHNOLOGIES INC)\n",
      "  Available columns: ['accession_number', 'filing_date', 'reportDate', 'acceptanceDateTime', 'act', 'form', 'fileNumber', 'items', 'size', 'isXBRL', 'isInlineXBRL', 'primaryDocument', 'primaryDocDescription']\n",
      "  Found 10 10-K filings from 2015 onwards\n",
      "Processing TFX (TELEFLEX INC)\n",
      "  Available columns: ['accession_number', 'filing_date', 'reportDate', 'acceptanceDateTime', 'act', 'form', 'fileNumber', 'items', 'size', 'isXBRL', 'isInlineXBRL', 'primaryDocument', 'primaryDocDescription']\n",
      "  Found 10 10-K filings from 2015 onwards\n",
      "Processing TER (TERADYNE, INC)\n",
      "  Available columns: ['accession_number', 'filing_date', 'reportDate', 'acceptanceDateTime', 'act', 'form', 'fileNumber', 'items', 'size', 'isXBRL', 'isInlineXBRL', 'primaryDocument', 'primaryDocDescription']\n",
      "  Found 10 10-K filings from 2015 onwards\n",
      "Processing TSLA (Tesla, Inc.)\n",
      "  Available columns: ['accession_number', 'filing_date', 'reportDate', 'acceptanceDateTime', 'act', 'form', 'fileNumber', 'items', 'size', 'isXBRL', 'isInlineXBRL', 'primaryDocument', 'primaryDocDescription']\n",
      "  Found 10 10-K filings from 2015 onwards\n",
      "Processing TXN (TEXAS INSTRUMENTS INC)\n",
      "  Available columns: ['accession_number', 'filing_date', 'reportDate', 'acceptanceDateTime', 'act', 'form', 'fileNumber', 'items', 'size', 'isXBRL', 'isInlineXBRL', 'primaryDocument', 'primaryDocDescription']\n",
      "  Found 10 10-K filings from 2015 onwards\n",
      "Processing TPL (Texas Pacific Land Corp)\n",
      "  Available columns: ['accession_number', 'filing_date', 'reportDate', 'acceptanceDateTime', 'act', 'form', 'fileNumber', 'items', 'size', 'isXBRL', 'isInlineXBRL', 'primaryDocument', 'primaryDocDescription']\n",
      "  Found 5 10-K filings from 2015 onwards\n",
      "Processing TXT (TEXTRON INC)\n",
      "  Available columns: ['accession_number', 'filing_date', 'reportDate', 'acceptanceDateTime', 'act', 'form', 'fileNumber', 'items', 'size', 'isXBRL', 'isInlineXBRL', 'primaryDocument', 'primaryDocDescription']\n",
      "  Found 11 10-K filings from 2015 onwards\n",
      "Processing TMO (THERMO FISHER SCIENTIFIC INC.)\n",
      "  Available columns: ['accession_number', 'filing_date', 'reportDate', 'acceptanceDateTime', 'act', 'form', 'fileNumber', 'items', 'size', 'isXBRL', 'isInlineXBRL', 'primaryDocument', 'primaryDocDescription']\n",
      "  Found 10 10-K filings from 2015 onwards\n",
      "Processing TJX (TJX COMPANIES INC /DE/)\n",
      "  Available columns: ['accession_number', 'filing_date', 'reportDate', 'acceptanceDateTime', 'act', 'form', 'fileNumber', 'items', 'size', 'isXBRL', 'isInlineXBRL', 'primaryDocument', 'primaryDocDescription']\n",
      "  Found 10 10-K filings from 2015 onwards\n",
      "Processing TSCO (TRACTOR SUPPLY CO /DE/)\n",
      "  Available columns: ['accession_number', 'filing_date', 'reportDate', 'acceptanceDateTime', 'act', 'form', 'fileNumber', 'items', 'size', 'isXBRL', 'isInlineXBRL', 'primaryDocument', 'primaryDocDescription']\n",
      "  Found 11 10-K filings from 2015 onwards\n",
      "Processing TT (Trane Technologies plc)\n",
      "  Available columns: ['accession_number', 'filing_date', 'reportDate', 'acceptanceDateTime', 'act', 'form', 'fileNumber', 'items', 'size', 'isXBRL', 'isInlineXBRL', 'primaryDocument', 'primaryDocDescription']\n",
      "  Found 10 10-K filings from 2015 onwards\n",
      "Processing TDG (TransDigm Group INC)\n",
      "  Available columns: ['accession_number', 'filing_date', 'reportDate', 'acceptanceDateTime', 'act', 'form', 'fileNumber', 'items', 'size', 'isXBRL', 'isInlineXBRL', 'primaryDocument', 'primaryDocDescription']\n",
      "  Found 10 10-K filings from 2015 onwards\n",
      "Processing TRV (TRAVELERS COMPANIES, INC.)\n",
      "  Available columns: ['accession_number', 'filing_date', 'reportDate', 'acceptanceDateTime', 'act', 'form', 'fileNumber', 'items', 'size', 'isXBRL', 'isInlineXBRL', 'primaryDocument', 'primaryDocDescription']\n",
      "  Found 10 10-K filings from 2015 onwards\n",
      "Processing TRMB (TRIMBLE INC.)\n",
      "  Available columns: ['accession_number', 'filing_date', 'reportDate', 'acceptanceDateTime', 'act', 'form', 'fileNumber', 'items', 'size', 'isXBRL', 'isInlineXBRL', 'primaryDocument', 'primaryDocDescription']\n",
      "  Found 10 10-K filings from 2015 onwards\n",
      "Processing TFC (TRUIST FINANCIAL CORP)\n",
      "  Available columns: ['accession_number', 'filing_date', 'reportDate', 'acceptanceDateTime', 'act', 'form', 'fileNumber', 'items', 'size', 'isXBRL', 'isInlineXBRL', 'primaryDocument', 'primaryDocDescription']\n",
      "  Found 10 10-K filings from 2015 onwards\n",
      "Processing TYL (TYLER TECHNOLOGIES INC)\n",
      "  Available columns: ['accession_number', 'filing_date', 'reportDate', 'acceptanceDateTime', 'act', 'form', 'fileNumber', 'items', 'size', 'isXBRL', 'isInlineXBRL', 'primaryDocument', 'primaryDocDescription']\n",
      "  Found 10 10-K filings from 2015 onwards\n",
      "Processing TSN (TYSON FOODS, INC.)\n",
      "  Available columns: ['accession_number', 'filing_date', 'reportDate', 'acceptanceDateTime', 'act', 'form', 'fileNumber', 'items', 'size', 'isXBRL', 'isInlineXBRL', 'primaryDocument', 'primaryDocDescription']\n",
      "  Found 10 10-K filings from 2015 onwards\n",
      "Processing USB (US BANCORP \\DE\\)\n",
      "  Available columns: ['accession_number', 'filing_date', 'reportDate', 'acceptanceDateTime', 'act', 'form', 'fileNumber', 'items', 'size', 'isXBRL', 'isInlineXBRL', 'primaryDocument', 'primaryDocDescription']\n",
      "  Found 10 10-K filings from 2015 onwards\n",
      "Processing UBER (Uber Technologies, Inc)\n",
      "  Available columns: ['accession_number', 'filing_date', 'reportDate', 'acceptanceDateTime', 'act', 'form', 'fileNumber', 'items', 'size', 'isXBRL', 'isInlineXBRL', 'primaryDocument', 'primaryDocDescription']\n",
      "  Found 6 10-K filings from 2015 onwards\n",
      "Processing UDR (UDR, Inc.)\n",
      "  Available columns: ['accession_number', 'filing_date', 'reportDate', 'acceptanceDateTime', 'act', 'form', 'fileNumber', 'items', 'size', 'isXBRL', 'isInlineXBRL', 'primaryDocument', 'primaryDocDescription']\n",
      "  Found 10 10-K filings from 2015 onwards\n",
      "    Error processing filing for UDR: 'NoneType' object is not subscriptable\n",
      "    Error processing filing for UDR: 'NoneType' object is not subscriptable\n",
      "Processing ULTA (Ulta Beauty, Inc.)\n",
      "  Available columns: ['accession_number', 'filing_date', 'reportDate', 'acceptanceDateTime', 'act', 'form', 'fileNumber', 'items', 'size', 'isXBRL', 'isInlineXBRL', 'primaryDocument', 'primaryDocDescription']\n",
      "  Found 10 10-K filings from 2015 onwards\n",
      "    Error processing filing for ULTA: 'NoneType' object is not subscriptable\n",
      "    Error processing filing for ULTA: 'NoneType' object is not subscriptable\n",
      "Processing UNP (UNION PACIFIC CORP)\n",
      "  Available columns: ['accession_number', 'filing_date', 'reportDate', 'acceptanceDateTime', 'act', 'form', 'fileNumber', 'items', 'size', 'isXBRL', 'isInlineXBRL', 'primaryDocument', 'primaryDocDescription']\n",
      "  Found 10 10-K filings from 2015 onwards\n",
      "    Error processing filing for UNP: 'NoneType' object is not subscriptable\n",
      "    Error processing filing for UNP: 'NoneType' object is not subscriptable\n",
      "    Error processing filing for UNP: 'NoneType' object is not subscriptable\n",
      "    Error processing filing for UNP: 'NoneType' object is not subscriptable\n",
      "Processing UAL (United Airlines Holdings, Inc.)\n",
      "  Available columns: ['accession_number', 'filing_date', 'reportDate', 'acceptanceDateTime', 'act', 'form', 'fileNumber', 'items', 'size', 'isXBRL', 'isInlineXBRL', 'primaryDocument', 'primaryDocDescription']\n",
      "  Found 10 10-K filings from 2015 onwards\n",
      "Processing UPS (UNITED PARCEL SERVICE INC)\n",
      "  Available columns: ['accession_number', 'filing_date', 'reportDate', 'acceptanceDateTime', 'act', 'form', 'fileNumber', 'items', 'size', 'isXBRL', 'isInlineXBRL', 'primaryDocument', 'primaryDocDescription']\n",
      "  Found 10 10-K filings from 2015 onwards\n",
      "Processing URI (UNITED RENTALS, INC.)\n",
      "  Available columns: ['accession_number', 'filing_date', 'reportDate', 'acceptanceDateTime', 'act', 'form', 'fileNumber', 'items', 'size', 'isXBRL', 'isInlineXBRL', 'primaryDocument', 'primaryDocDescription']\n",
      "  Found 10 10-K filings from 2015 onwards\n",
      "Processing UNH (UNITEDHEALTH GROUP INC)\n",
      "  Available columns: ['accession_number', 'filing_date', 'reportDate', 'acceptanceDateTime', 'act', 'form', 'fileNumber', 'items', 'size', 'isXBRL', 'isInlineXBRL', 'primaryDocument', 'primaryDocDescription']\n",
      "  Found 10 10-K filings from 2015 onwards\n",
      "Processing UHS (UNIVERSAL HEALTH SERVICES INC)\n",
      "  Available columns: ['accession_number', 'filing_date', 'reportDate', 'acceptanceDateTime', 'act', 'form', 'fileNumber', 'items', 'size', 'isXBRL', 'isInlineXBRL', 'primaryDocument', 'primaryDocDescription']\n",
      "  Found 10 10-K filings from 2015 onwards\n",
      "Processing VLO (VALERO ENERGY CORP/TX)\n",
      "  Available columns: ['accession_number', 'filing_date', 'reportDate', 'acceptanceDateTime', 'act', 'form', 'fileNumber', 'items', 'size', 'isXBRL', 'isInlineXBRL', 'primaryDocument', 'primaryDocDescription']\n",
      "  Found 10 10-K filings from 2015 onwards\n",
      "Processing VTR (Ventas, Inc.)\n",
      "  Available columns: ['accession_number', 'filing_date', 'reportDate', 'acceptanceDateTime', 'act', 'form', 'fileNumber', 'items', 'size', 'isXBRL', 'isInlineXBRL', 'primaryDocument', 'primaryDocDescription']\n",
      "  Found 10 10-K filings from 2015 onwards\n",
      "Processing VLTO (Veralto Corp)\n",
      "  Available columns: ['accession_number', 'filing_date', 'reportDate', 'acceptanceDateTime', 'act', 'form', 'fileNumber', 'items', 'size', 'isXBRL', 'isInlineXBRL', 'primaryDocument', 'primaryDocDescription']\n",
      "  Found 2 10-K filings from 2015 onwards\n",
      "Processing VRSN (VERISIGN INC/CA)\n",
      "  Available columns: ['accession_number', 'filing_date', 'reportDate', 'acceptanceDateTime', 'act', 'form', 'fileNumber', 'items', 'size', 'isXBRL', 'isInlineXBRL', 'primaryDocument', 'primaryDocDescription']\n",
      "  Found 10 10-K filings from 2015 onwards\n",
      "Processing VRSK (Verisk Analytics, Inc.)\n",
      "  Available columns: ['accession_number', 'filing_date', 'reportDate', 'acceptanceDateTime', 'act', 'form', 'fileNumber', 'items', 'size', 'isXBRL', 'isInlineXBRL', 'primaryDocument', 'primaryDocDescription']\n",
      "  Found 10 10-K filings from 2015 onwards\n",
      "Processing VZ (VERIZON COMMUNICATIONS INC)\n",
      "  Available columns: ['accession_number', 'filing_date', 'reportDate', 'acceptanceDateTime', 'act', 'form', 'fileNumber', 'items', 'size', 'isXBRL', 'isInlineXBRL', 'primaryDocument', 'primaryDocDescription']\n",
      "  Found 10 10-K filings from 2015 onwards\n",
      "Processing VRTX (VERTEX PHARMACEUTICALS INC / MA)\n",
      "  Available columns: ['accession_number', 'filing_date', 'reportDate', 'acceptanceDateTime', 'act', 'form', 'fileNumber', 'items', 'size', 'isXBRL', 'isInlineXBRL', 'primaryDocument', 'primaryDocDescription']\n",
      "  Found 10 10-K filings from 2015 onwards\n",
      "Processing VTRS (Viatris Inc)\n",
      "  Available columns: ['accession_number', 'filing_date', 'reportDate', 'acceptanceDateTime', 'act', 'form', 'fileNumber', 'items', 'size', 'isXBRL', 'isInlineXBRL', 'primaryDocument', 'primaryDocDescription']\n",
      "  Found 6 10-K filings from 2015 onwards\n"
     ]
    },
    {
     "name": "stderr",
     "output_type": "stream",
     "text": [
      "/home/nawa/.local/lib/python3.11/site-packages/edgar/files/htmltools.py:271: FutureWarning: Downcasting object dtype arrays on .fillna, .ffill, .bfill is deprecated and will change in a future version. Call result.infer_objects(copy=False) instead. To opt-in to the future behavior, set `pd.set_option('future.no_silent_downcasting', True)`\n",
      "  chunk_df.Item = chunk_df.Item.ffill().infer_objects(copy=False)\n"
     ]
    },
    {
     "name": "stdout",
     "output_type": "stream",
     "text": [
      "    WARNING: No MD&A section found for VTRS (CIK: 1792044) for year 2019\n",
      "Processing VICI (VICI PROPERTIES INC.)\n",
      "  Available columns: ['accession_number', 'filing_date', 'reportDate', 'acceptanceDateTime', 'act', 'form', 'fileNumber', 'items', 'size', 'isXBRL', 'isInlineXBRL', 'primaryDocument', 'primaryDocDescription']\n",
      "  Found 8 10-K filings from 2015 onwards\n",
      "Processing V (VISA INC.)\n",
      "  Available columns: ['accession_number', 'filing_date', 'reportDate', 'acceptanceDateTime', 'act', 'form', 'fileNumber', 'items', 'size', 'isXBRL', 'isInlineXBRL', 'primaryDocument', 'primaryDocDescription']\n",
      "  Found 10 10-K filings from 2015 onwards\n",
      "Processing VST (Vistra Corp.)\n",
      "  Available columns: ['accession_number', 'filing_date', 'reportDate', 'acceptanceDateTime', 'act', 'form', 'fileNumber', 'items', 'size', 'isXBRL', 'isInlineXBRL', 'primaryDocument', 'primaryDocDescription']\n",
      "  Found 8 10-K filings from 2015 onwards\n",
      "Processing VMC (Vulcan Materials CO)\n",
      "  Available columns: ['accession_number', 'filing_date', 'reportDate', 'acceptanceDateTime', 'act', 'form', 'fileNumber', 'items', 'size', 'isXBRL', 'isInlineXBRL', 'primaryDocument', 'primaryDocDescription']\n",
      "  Found 10 10-K filings from 2015 onwards\n",
      "    Error processing filing for VMC: 'NoneType' object is not subscriptable\n",
      "    Error processing filing for VMC: 'NoneType' object is not subscriptable\n",
      "    Error processing filing for VMC: 'NoneType' object is not subscriptable\n",
      "    Error processing filing for VMC: 'NoneType' object is not subscriptable\n",
      "Processing WRB (BERKLEY W R CORP)\n",
      "  Available columns: ['accession_number', 'filing_date', 'reportDate', 'acceptanceDateTime', 'act', 'form', 'fileNumber', 'items', 'size', 'isXBRL', 'isInlineXBRL', 'primaryDocument', 'primaryDocDescription']\n",
      "  Found 10 10-K filings from 2015 onwards\n",
      "Processing GWW (W.W. GRAINGER, INC.)\n",
      "  Available columns: ['accession_number', 'filing_date', 'reportDate', 'acceptanceDateTime', 'act', 'form', 'fileNumber', 'items', 'size', 'isXBRL', 'isInlineXBRL', 'primaryDocument', 'primaryDocDescription']\n",
      "  Found 10 10-K filings from 2015 onwards\n",
      "Processing WAB (WESTINGHOUSE AIR BRAKE TECHNOLOGIES CORP)\n",
      "  Available columns: ['accession_number', 'filing_date', 'reportDate', 'acceptanceDateTime', 'act', 'form', 'fileNumber', 'items', 'size', 'isXBRL', 'isInlineXBRL', 'primaryDocument', 'primaryDocDescription']\n",
      "  Found 10 10-K filings from 2015 onwards\n",
      "Processing WBA (Walgreens Boots Alliance, Inc.)\n",
      "  Available columns: ['accession_number', 'filing_date', 'reportDate', 'acceptanceDateTime', 'act', 'form', 'fileNumber', 'items', 'size', 'isXBRL', 'isInlineXBRL', 'primaryDocument', 'primaryDocDescription']\n",
      "  Found 10 10-K filings from 2015 onwards\n",
      "Processing WMT (Walmart Inc.)\n",
      "  Available columns: ['accession_number', 'filing_date', 'reportDate', 'acceptanceDateTime', 'act', 'form', 'fileNumber', 'items', 'size', 'isXBRL', 'isInlineXBRL', 'primaryDocument', 'primaryDocDescription']\n",
      "  Found 10 10-K filings from 2015 onwards\n",
      "Processing DIS (Walt Disney Co)\n",
      "  Available columns: ['accession_number', 'filing_date', 'reportDate', 'acceptanceDateTime', 'act', 'form', 'fileNumber', 'items', 'size', 'isXBRL', 'isInlineXBRL', 'primaryDocument', 'primaryDocDescription']\n",
      "  Found 6 10-K filings from 2015 onwards\n",
      "Processing WBD (Warner Bros. Discovery, Inc.)\n",
      "  Available columns: ['accession_number', 'filing_date', 'reportDate', 'acceptanceDateTime', 'act', 'form', 'fileNumber', 'items', 'size', 'isXBRL', 'isInlineXBRL', 'primaryDocument', 'primaryDocDescription']\n",
      "  Found 10 10-K filings from 2015 onwards\n",
      "Processing WM (WASTE MANAGEMENT INC)\n",
      "  Available columns: ['accession_number', 'filing_date', 'reportDate', 'acceptanceDateTime', 'act', 'form', 'fileNumber', 'items', 'size', 'isXBRL', 'isInlineXBRL', 'primaryDocument', 'primaryDocDescription']\n",
      "  Found 10 10-K filings from 2015 onwards\n",
      "    Error processing filing for WM: 'NoneType' object is not subscriptable\n",
      "    Error processing filing for WM: 'NoneType' object is not subscriptable\n",
      "Processing WAT (WATERS CORP /DE/)\n",
      "  Available columns: ['accession_number', 'filing_date', 'reportDate', 'acceptanceDateTime', 'act', 'form', 'fileNumber', 'items', 'size', 'isXBRL', 'isInlineXBRL', 'primaryDocument', 'primaryDocDescription']\n",
      "  Found 10 10-K filings from 2015 onwards\n",
      "Processing WEC (WEC ENERGY GROUP, INC.)\n",
      "  Available columns: ['accession_number', 'filing_date', 'reportDate', 'acceptanceDateTime', 'act', 'form', 'fileNumber', 'items', 'size', 'isXBRL', 'isInlineXBRL', 'primaryDocument', 'primaryDocDescription']\n",
      "  Found 10 10-K filings from 2015 onwards\n",
      "Processing WFC (WELLS FARGO & COMPANY/MN)\n",
      "  Available columns: ['accession_number', 'filing_date', 'reportDate', 'acceptanceDateTime', 'act', 'form', 'fileNumber', 'items', 'size', 'isXBRL', 'isInlineXBRL', 'primaryDocument', 'primaryDocDescription']\n",
      "  Found 10 10-K filings from 2015 onwards\n",
      "Processing WELL (WELLTOWER INC.)\n",
      "  Available columns: ['accession_number', 'filing_date', 'reportDate', 'acceptanceDateTime', 'act', 'form', 'fileNumber', 'items', 'size', 'isXBRL', 'isInlineXBRL', 'primaryDocument', 'primaryDocDescription']\n",
      "  Found 10 10-K filings from 2015 onwards\n",
      "    Error processing filing for WELL: 'NoneType' object is not subscriptable\n",
      "Processing WST (WEST PHARMACEUTICAL SERVICES INC)\n",
      "  Available columns: ['accession_number', 'filing_date', 'reportDate', 'acceptanceDateTime', 'act', 'form', 'fileNumber', 'items', 'size', 'isXBRL', 'isInlineXBRL', 'primaryDocument', 'primaryDocDescription']\n",
      "  Found 10 10-K filings from 2015 onwards\n",
      "Processing WDC (WESTERN DIGITAL CORP)\n",
      "  Available columns: ['accession_number', 'filing_date', 'reportDate', 'acceptanceDateTime', 'act', 'form', 'fileNumber', 'items', 'size', 'isXBRL', 'isInlineXBRL', 'primaryDocument', 'primaryDocDescription']\n",
      "  Found 10 10-K filings from 2015 onwards\n",
      "    WARNING: No MD&A section found for WDC (CIK: 106040) for year 2019\n",
      "Processing WY (WEYERHAEUSER CO)\n",
      "  Available columns: ['accession_number', 'filing_date', 'reportDate', 'acceptanceDateTime', 'act', 'form', 'fileNumber', 'items', 'size', 'isXBRL', 'isInlineXBRL', 'primaryDocument', 'primaryDocDescription']\n",
      "  Found 10 10-K filings from 2015 onwards\n",
      "    WARNING: No MD&A section found for WY (CIK: 106535) for year 2024\n",
      "    WARNING: No MD&A section found for WY (CIK: 106535) for year 2023\n",
      "    WARNING: No MD&A section found for WY (CIK: 106535) for year 2022\n",
      "    WARNING: No MD&A section found for WY (CIK: 106535) for year 2021\n",
      "    WARNING: No MD&A section found for WY (CIK: 106535) for year 2020\n",
      "    WARNING: No MD&A section found for WY (CIK: 106535) for year 2019\n",
      "    WARNING: No MD&A section found for WY (CIK: 106535) for year 2018\n",
      "    WARNING: No MD&A section found for WY (CIK: 106535) for year 2017\n",
      "    WARNING: No MD&A section found for WY (CIK: 106535) for year 2016\n",
      "    WARNING: No MD&A section found for WY (CIK: 106535) for year 2015\n",
      "Processing WMB (WILLIAMS COMPANIES, INC.)\n",
      "  Available columns: ['accession_number', 'filing_date', 'reportDate', 'acceptanceDateTime', 'act', 'form', 'fileNumber', 'items', 'size', 'isXBRL', 'isInlineXBRL', 'primaryDocument', 'primaryDocDescription']\n",
      "  Found 10 10-K filings from 2015 onwards\n",
      "Processing WTW (WILLIS TOWERS WATSON PLC)\n",
      "  Available columns: ['accession_number', 'filing_date', 'reportDate', 'acceptanceDateTime', 'act', 'form', 'fileNumber', 'items', 'size', 'isXBRL', 'isInlineXBRL', 'primaryDocument', 'primaryDocDescription']\n",
      "  Found 10 10-K filings from 2015 onwards\n",
      "Processing WDAY (Workday, Inc.)\n",
      "  Available columns: ['accession_number', 'filing_date', 'reportDate', 'acceptanceDateTime', 'act', 'form', 'fileNumber', 'items', 'size', 'isXBRL', 'isInlineXBRL', 'primaryDocument', 'primaryDocDescription']\n",
      "  Found 10 10-K filings from 2015 onwards\n",
      "Processing WYNN (WYNN RESORTS LTD)\n",
      "  Available columns: ['accession_number', 'filing_date', 'reportDate', 'acceptanceDateTime', 'act', 'form', 'fileNumber', 'items', 'size', 'isXBRL', 'isInlineXBRL', 'primaryDocument', 'primaryDocDescription']\n",
      "  Found 10 10-K filings from 2015 onwards\n",
      "Processing XEL (XCEL ENERGY INC)\n",
      "  Available columns: ['accession_number', 'filing_date', 'reportDate', 'acceptanceDateTime', 'act', 'form', 'fileNumber', 'items', 'size', 'isXBRL', 'isInlineXBRL', 'primaryDocument', 'primaryDocDescription']\n",
      "  Found 10 10-K filings from 2015 onwards\n",
      "Processing XYL (Xylem Inc.)\n",
      "  Available columns: ['accession_number', 'filing_date', 'reportDate', 'acceptanceDateTime', 'act', 'form', 'fileNumber', 'items', 'size', 'isXBRL', 'isInlineXBRL', 'primaryDocument', 'primaryDocDescription']\n",
      "  Found 9 10-K filings from 2015 onwards\n",
      "Processing YUM (YUM BRANDS INC)\n",
      "  Available columns: ['accession_number', 'filing_date', 'reportDate', 'acceptanceDateTime', 'act', 'form', 'fileNumber', 'items', 'size', 'isXBRL', 'isInlineXBRL', 'primaryDocument', 'primaryDocDescription']\n",
      "  Found 10 10-K filings from 2015 onwards\n",
      "Processing ZBRA (ZEBRA TECHNOLOGIES CORP)\n",
      "  Available columns: ['accession_number', 'filing_date', 'reportDate', 'acceptanceDateTime', 'act', 'form', 'fileNumber', 'items', 'size', 'isXBRL', 'isInlineXBRL', 'primaryDocument', 'primaryDocDescription']\n",
      "  Found 10 10-K filings from 2015 onwards\n",
      "Processing ZBH (ZIMMER BIOMET HOLDINGS, INC.)\n",
      "  Available columns: ['accession_number', 'filing_date', 'reportDate', 'acceptanceDateTime', 'act', 'form', 'fileNumber', 'items', 'size', 'isXBRL', 'isInlineXBRL', 'primaryDocument', 'primaryDocDescription']\n",
      "  Found 10 10-K filings from 2015 onwards\n",
      "Processing ZTS (Zoetis Inc.)\n",
      "  Available columns: ['accession_number', 'filing_date', 'reportDate', 'acceptanceDateTime', 'act', 'form', 'fileNumber', 'items', 'size', 'isXBRL', 'isInlineXBRL', 'primaryDocument', 'primaryDocDescription']\n",
      "  Found 10 10-K filings from 2015 onwards\n",
      "Successfully extracted MD&A sections: 4599\n",
      "Missing MD&A sections: 243\n",
      "Data saved to sp500_management_discussion_2015_to_present.csv\n",
      "Missing MD&A information saved to sp500_missing_mda_2015_to_present.csv\n"
     ]
    }
   ],
   "source": [
    "# S&P 500 Management Discussion & Analysis Extractor\n",
    "# This script extracts Item 7 (MD&A) text from 10-K filings from 2015 to present\n",
    "# of S&P 500 companies and exports it to a CSV file.\n",
    "\n",
    "import pandas as pd\n",
    "import time\n",
    "from edgar import *\n",
    "import csv\n",
    "import os\n",
    "from tqdm import tqdm  # For progress bar\n",
    "from datetime import datetime\n",
    "\n",
    "# Set your identity as required by SEC EDGAR\n",
    "set_identity(\"mike@indigo.com\")\n",
    "\n",
    "# Function to get S&P 500 tickers\n",
    "def get_sp500_tickers():\n",
    "    # You can use pandas to get S&P 500 tickers from Wikipedia\n",
    "    url = \"https://en.wikipedia.org/wiki/List_of_S%26P_500_companies\"\n",
    "    tables = pd.read_html(url)\n",
    "    sp500 = tables[0]\n",
    "    return sp500['Symbol'].tolist()\n",
    "\n",
    "# Function to extract MD&A text from a company's 10-K filings from 2015 to present\n",
    "def extract_mda_historical(ticker, start_year=2015, delay=1):\n",
    "    results = []\n",
    "    missing_mda = []  # Track filings where MD&A section couldn't be retrieved\n",
    "    \n",
    "    try:\n",
    "        # Create Company object\n",
    "        company = Company(ticker)\n",
    "        company_name = company.name\n",
    "        cik = company.cik\n",
    "        \n",
    "        print(f\"Processing {ticker} ({company_name})\")\n",
    "        \n",
    "        # Get all 10-K filings\n",
    "        filings = company.get_filings(form=\"10-K\")\n",
    "        \n",
    "        # Convert filings to DataFrame for easier filtering\n",
    "        try:\n",
    "            filings_df = filings.to_pandas()\n",
    "            \n",
    "            # Print the columns to understand the data structure\n",
    "            print(f\"  Available columns: {filings_df.columns.tolist()}\")\n",
    "            \n",
    "            # Filter filings from 2015 onwards based on reportDate\n",
    "            if 'reportDate' in filings_df.columns:\n",
    "                # Extract year from reportDate and filter\n",
    "                filings_df['year'] = pd.to_datetime(filings_df['reportDate']).dt.year\n",
    "                filtered_df = filings_df[filings_df['year'] >= start_year]\n",
    "                \n",
    "                print(f\"  Found {len(filtered_df)} 10-K filings from {start_year} onwards\")\n",
    "                \n",
    "                # Process each filing in the filtered DataFrame\n",
    "                for _, row in filtered_df.iterrows():\n",
    "                    try:\n",
    "                        # Get filing object using the accessionNumber\n",
    "                        accession_number = row['accessionNumber'] if 'accessionNumber' in row else None\n",
    "                        filing_url = row['fileUrl'] if 'fileUrl' in row else None\n",
    "                        \n",
    "                        # Find the corresponding filing object\n",
    "                        filing_obj = None\n",
    "                        for filing in filings:\n",
    "                            if (accession_number and hasattr(filing, 'accession_number') and \n",
    "                                filing.accession_number == accession_number):\n",
    "                                filing_obj = filing\n",
    "                                break\n",
    "                            # Alternative: try by index if the dataframe and filings list maintain the same order\n",
    "                            if filing_obj is None and filing_url:\n",
    "                                # Try to match by any other identifier if available\n",
    "                                pass\n",
    "                        \n",
    "                        # If no match found by accession number, try to get the filing by index\n",
    "                        if filing_obj is None:\n",
    "                            idx = filtered_df.index.get_loc(row.name)\n",
    "                            if idx < len(filings):\n",
    "                                filing_obj = filings[idx]\n",
    "                        \n",
    "                        # If we found a filing object, process it\n",
    "                        if filing_obj:\n",
    "                            tenk = filing_obj.obj()\n",
    "                            \n",
    "                            filing_date = tenk.filing_date\n",
    "                            \n",
    "                            # Get Management Discussion section (Item 7)\n",
    "                            mda_text = tenk.management_discussion\n",
    "                            \n",
    "                            # Check if MD&A section was retrieved\n",
    "                            current_year = row['year'] if 'year' in row else None\n",
    "                            \n",
    "                            if not mda_text or mda_text.strip() == \"\":\n",
    "                                missing_mda.append({\n",
    "                                    'Ticker': ticker,\n",
    "                                    'CIK': cik,\n",
    "                                    'Year': current_year,\n",
    "                                    'Filing Date': filing_date\n",
    "                                })\n",
    "                                print(f\"    WARNING: No MD&A section found for {ticker} (CIK: {cik}) for year {current_year}\")\n",
    "                            else:\n",
    "                                results.append({\n",
    "                                    'Ticker': ticker,\n",
    "                                    'Company Name': company_name,\n",
    "                                    'CIK': cik,\n",
    "                                    'Filing Date': filing_date,\n",
    "                                    'Report Date': row['reportDate'] if 'reportDate' in row else None,\n",
    "                                    'Year': current_year,\n",
    "                                    'MD&A Text': mda_text\n",
    "                                })\n",
    "                            \n",
    "                            # Wait to avoid hitting rate limits\n",
    "                            time.sleep(delay)\n",
    "                    except Exception as e:\n",
    "                        print(f\"    Error processing filing for {ticker}: {e}\")\n",
    "                        # Track the missing data\n",
    "                        current_year = row['year'] if 'year' in row else None\n",
    "                        missing_mda.append({\n",
    "                            'Ticker': ticker,\n",
    "                            'CIK': cik,\n",
    "                            'Year': current_year,\n",
    "                            'Filing Date': None,\n",
    "                            'Error': str(e)\n",
    "                        })\n",
    "                        continue\n",
    "            else:\n",
    "                # If reportDate is not available, process all filings and filter by filing_date\n",
    "                print(\"  'reportDate' column not found. Processing all filings and filtering by filing_date.\")\n",
    "                \n",
    "                for filing in filings:\n",
    "                    try:\n",
    "                        tenk = filing.obj()\n",
    "                        filing_date = tenk.filing_date\n",
    "                        \n",
    "                        # Check if filing_date is available and from 2015 or later\n",
    "                        if filing_date and filing_date.startswith('20'):\n",
    "                            filing_year = int(filing_date.split('-')[0])\n",
    "                            if filing_year >= start_year:\n",
    "                                # Get Management Discussion section (Item 7)\n",
    "                                mda_text = tenk.management_discussion\n",
    "                                \n",
    "                                # Check if MD&A section was retrieved\n",
    "                                if not mda_text or mda_text.strip() == \"\":\n",
    "                                    missing_mda.append({\n",
    "                                        'Ticker': ticker,\n",
    "                                        'CIK': cik,\n",
    "                                        'Year': filing_year,\n",
    "                                        'Filing Date': filing_date\n",
    "                                    })\n",
    "                                    print(f\"    WARNING: No MD&A section found for {ticker} (CIK: {cik}) for year {filing_year}\")\n",
    "                                else:\n",
    "                                    results.append({\n",
    "                                        'Ticker': ticker,\n",
    "                                        'Company Name': company_name,\n",
    "                                        'CIK': cik,\n",
    "                                        'Filing Date': filing_date,\n",
    "                                        'Report Date': None,\n",
    "                                        'Year': filing_year,\n",
    "                                        'MD&A Text': mda_text\n",
    "                                    })\n",
    "                        \n",
    "                        # Wait to avoid hitting rate limits\n",
    "                        time.sleep(delay)\n",
    "                    except Exception as e:\n",
    "                        print(f\"    Error processing filing: {e}\")\n",
    "                        # Can't track year here since we don't know it\n",
    "                        missing_mda.append({\n",
    "                            'Ticker': ticker,\n",
    "                            'CIK': cik,\n",
    "                            'Year': None,\n",
    "                            'Filing Date': None,\n",
    "                            'Error': str(e)\n",
    "                        })\n",
    "                        continue\n",
    "                \n",
    "        except Exception as e:\n",
    "            print(f\"  Error converting filings to DataFrame: {e}\")\n",
    "            # Fallback: process all filings without DataFrame filtering\n",
    "            print(\"  Falling back to processing all filings without DataFrame filtering.\")\n",
    "            \n",
    "            for filing in filings:\n",
    "                try:\n",
    "                    tenk = filing.obj()\n",
    "                    filing_date = tenk.filing_date\n",
    "                    \n",
    "                    # Check if filing_date is available and from 2015 or later\n",
    "                    if filing_date and filing_date.startswith('20'):\n",
    "                        filing_year = int(filing_date.split('-')[0])\n",
    "                        if filing_year >= start_year:\n",
    "                            # Get Management Discussion section (Item 7)\n",
    "                            mda_text = tenk.management_discussion\n",
    "                            \n",
    "                            # Check if MD&A section was retrieved\n",
    "                            if not mda_text or mda_text.strip() == \"\":\n",
    "                                missing_mda.append({\n",
    "                                    'Ticker': ticker,\n",
    "                                    'CIK': cik,\n",
    "                                    'Year': filing_year,\n",
    "                                    'Filing Date': filing_date\n",
    "                                })\n",
    "                                print(f\"    WARNING: No MD&A section found for {ticker} (CIK: {cik}) for year {filing_year}\")\n",
    "                            else:\n",
    "                                results.append({\n",
    "                                    'Ticker': ticker,\n",
    "                                    'Company Name': company_name,\n",
    "                                    'CIK': cik,\n",
    "                                    'Filing Date': filing_date,\n",
    "                                    'Report Date': None,\n",
    "                                    'Year': filing_year,\n",
    "                                    'MD&A Text': mda_text\n",
    "                                })\n",
    "                    \n",
    "                    # Wait to avoid hitting rate limits\n",
    "                    time.sleep(delay)\n",
    "                except Exception as e:\n",
    "                    print(f\"    Error processing filing: {e}\")\n",
    "                    missing_mda.append({\n",
    "                        'Ticker': ticker,\n",
    "                        'CIK': cik,\n",
    "                        'Year': None,\n",
    "                        'Filing Date': None,\n",
    "                        'Error': str(e)\n",
    "                    })\n",
    "                    continue\n",
    "        \n",
    "        return results, missing_mda\n",
    "    \n",
    "    except Exception as e:\n",
    "        print(f\"Error processing company {ticker}: {e}\")\n",
    "        missing_mda.append({\n",
    "            'Ticker': ticker,\n",
    "            'CIK': cik if 'cik' in locals() else None,\n",
    "            'Year': None,\n",
    "            'Filing Date': None,\n",
    "            'Error': str(e)\n",
    "        })\n",
    "        return [], missing_mda\n",
    "\n",
    "# Main function\n",
    "def main():\n",
    "    # Get S&P 500 tickers\n",
    "    print(\"Getting S&P 500 tickers...\")\n",
    "    tickers = get_sp500_tickers()\n",
    "    \n",
    "    # Create timestamp for the output files\n",
    "    # timestamp = datetime.now().strftime(\"%Y%m%d_%H%M%S\")\n",
    "    output_file = \"sp500_management_discussion_2015_to_present.csv\"\n",
    "    missing_mda_file = \"sp500_missing_mda_2015_to_present.csv\"\n",
    "    \n",
    "    # Define start year\n",
    "    start_year = 2015\n",
    "    \n",
    "    # Write CSV header for main output file\n",
    "    with open(output_file, 'w', newline='', encoding='utf-8') as csvfile:\n",
    "        fieldnames = ['Ticker', 'Company Name', 'CIK', 'Filing Date', 'Report Date', 'Year', 'MD&A Text']\n",
    "        writer = csv.DictWriter(csvfile, fieldnames=fieldnames)\n",
    "        writer.writeheader()\n",
    "    \n",
    "    # Write CSV header for missing MD&A file\n",
    "    with open(missing_mda_file, 'w', newline='', encoding='utf-8') as csvfile:\n",
    "        fieldnames = ['Ticker', 'CIK', 'Year', 'Filing Date', 'Error']\n",
    "        writer = csv.DictWriter(csvfile, fieldnames=fieldnames)\n",
    "        writer.writeheader()\n",
    "    \n",
    "    # Process each ticker\n",
    "    print(f\"Processing {len(tickers)} companies from {start_year} onwards...\")\n",
    "    \n",
    "    # You can adjust this to process only a subset of companies for testing\n",
    "    # tickers = tickers[:3]  # Uncomment to test with only 3 companies\n",
    "    \n",
    "    all_missing_mda = []\n",
    "    \n",
    "    for ticker in tqdm(tickers):\n",
    "        # Clean ticker symbol (remove dots and special characters)\n",
    "        clean_ticker = ticker.replace('.', '-')\n",
    "        \n",
    "        # Extract historical MD&A\n",
    "        results, missing_mda = extract_mda_historical(clean_ticker, start_year)\n",
    "        \n",
    "        # Append to CSV\n",
    "        if results:\n",
    "            with open(output_file, 'a', newline='', encoding='utf-8') as csvfile:\n",
    "                fieldnames = ['Ticker', 'Company Name', 'CIK', 'Filing Date', 'Report Date', 'Year', 'MD&A Text']\n",
    "                writer = csv.DictWriter(csvfile, fieldnames=fieldnames)\n",
    "                for result in results:\n",
    "                    writer.writerow(result)\n",
    "        \n",
    "        # Append missing MD&A to list\n",
    "        all_missing_mda.extend(missing_mda)\n",
    "        \n",
    "        # Write missing MD&A to CSV after each company to save progress\n",
    "        if missing_mda:\n",
    "            with open(missing_mda_file, 'a', newline='', encoding='utf-8') as csvfile:\n",
    "                fieldnames = ['Ticker', 'CIK', 'Year', 'Filing Date', 'Error']\n",
    "                writer = csv.DictWriter(csvfile, fieldnames=fieldnames)\n",
    "                for item in missing_mda:\n",
    "                    writer.writerow(item)\n",
    "        \n",
    "        # Add a slight delay between companies to avoid hitting rate limits\n",
    "        time.sleep(1)\n",
    "    \n",
    "    # Print summary\n",
    "    print(f\"Extraction complete.\")\n",
    "    print(f\"Successfully extracted MD&A sections: {sum(len(results) for ticker, results, _ in [(t, *extract_mda_historical(t.replace('.', '-'), start_year)) for t in tickers])}\")\n",
    "    print(f\"Missing MD&A sections: {len(all_missing_mda)}\")\n",
    "    print(f\"Data saved to {output_file}\")\n",
    "    print(f\"Missing MD&A information saved to {missing_mda_file}\")\n",
    "\n",
    "if __name__ == \"__main__\":\n",
    "    main()"
   ]
  },
  {
   "cell_type": "markdown",
   "id": "7f80d7a6-6863-4489-a941-1d7eb8b89e57",
   "metadata": {
    "jp-MarkdownHeadingCollapsed": true
   },
   "source": [
    "# Extract most recent 10-K filings ONLY"
   ]
  },
  {
   "cell_type": "code",
   "execution_count": 1,
   "id": "0dccaba4-c5fb-4797-b7b0-f816575f17a8",
   "metadata": {},
   "outputs": [
    {
     "name": "stderr",
     "output_type": "stream",
     "text": [
      "/home/nawa/.local/lib/python3.11/site-packages/tqdm/auto.py:21: TqdmWarning: IProgress not found. Please update jupyter and ipywidgets. See https://ipywidgets.readthedocs.io/en/stable/user_install.html\n",
      "  from .autonotebook import tqdm as notebook_tqdm\n"
     ]
    },
    {
     "name": "stdout",
     "output_type": "stream",
     "text": [
      "Getting S&P 500 tickers...\n",
      "Processing 503 companies...\n"
     ]
    },
    {
     "name": "stderr",
     "output_type": "stream",
     "text": [
      " 17%|█▋        | 85/503 [05:03<23:38,  3.39s/it]/home/nawa/.local/lib/python3.11/site-packages/edgar/files/htmltools.py:271: FutureWarning: Downcasting object dtype arrays on .fillna, .ffill, .bfill is deprecated and will change in a future version. Call result.infer_objects(copy=False) instead. To opt-in to the future behavior, set `pd.set_option('future.no_silent_downcasting', True)`\n",
      "  chunk_df.Item = chunk_df.Item.ffill().infer_objects(copy=False)\n",
      " 22%|██▏       | 109/503 [06:20<20:10,  3.07s/it]/home/nawa/.local/lib/python3.11/site-packages/edgar/files/htmltools.py:271: FutureWarning: Downcasting object dtype arrays on .fillna, .ffill, .bfill is deprecated and will change in a future version. Call result.infer_objects(copy=False) instead. To opt-in to the future behavior, set `pd.set_option('future.no_silent_downcasting', True)`\n",
      "  chunk_df.Item = chunk_df.Item.ffill().infer_objects(copy=False)\n",
      " 47%|████▋     | 234/503 [13:52<14:08,  3.16s/it]/home/nawa/.local/lib/python3.11/site-packages/edgar/files/htmltools.py:271: FutureWarning: Downcasting object dtype arrays on .fillna, .ffill, .bfill is deprecated and will change in a future version. Call result.infer_objects(copy=False) instead. To opt-in to the future behavior, set `pd.set_option('future.no_silent_downcasting', True)`\n",
      "  chunk_df.Item = chunk_df.Item.ffill().infer_objects(copy=False)\n",
      " 61%|██████    | 308/503 [17:58<09:08,  2.81s/it]/home/nawa/.local/lib/python3.11/site-packages/edgar/files/htmltools.py:271: FutureWarning: Downcasting object dtype arrays on .fillna, .ffill, .bfill is deprecated and will change in a future version. Call result.infer_objects(copy=False) instead. To opt-in to the future behavior, set `pd.set_option('future.no_silent_downcasting', True)`\n",
      "  chunk_df.Item = chunk_df.Item.ffill().infer_objects(copy=False)\n",
      " 65%|██████▌   | 328/503 [19:07<09:09,  3.14s/it]/home/nawa/.local/lib/python3.11/site-packages/edgar/files/htmltools.py:271: FutureWarning: Downcasting object dtype arrays on .fillna, .ffill, .bfill is deprecated and will change in a future version. Call result.infer_objects(copy=False) instead. To opt-in to the future behavior, set `pd.set_option('future.no_silent_downcasting', True)`\n",
      "  chunk_df.Item = chunk_df.Item.ffill().infer_objects(copy=False)\n",
      " 83%|████████▎ | 418/503 [24:31<03:00,  2.13s/it]"
     ]
    },
    {
     "name": "stdout",
     "output_type": "stream",
     "text": [
      "Error processing SW: 'NoneType' object has no attribute 'obj'\n"
     ]
    },
    {
     "name": "stderr",
     "output_type": "stream",
     "text": [
      "100%|██████████| 503/503 [29:05<00:00,  3.47s/it]"
     ]
    },
    {
     "name": "stdout",
     "output_type": "stream",
     "text": [
      "Extraction complete. Data saved to sp500_management_discussion.csv\n"
     ]
    },
    {
     "name": "stderr",
     "output_type": "stream",
     "text": [
      "\n"
     ]
    }
   ],
   "source": [
    "# S&P 500 Management Discussion & Analysis Extractor\n",
    "# This script extracts Item 7 (MD&A) text from the most recent 10-K filings\n",
    "# of S&P 500 companies and exports it to a CSV file.\n",
    "\n",
    "import pandas as pd\n",
    "import time\n",
    "from edgar import *\n",
    "import csv\n",
    "import os\n",
    "from tqdm import tqdm  # For progress bar\n",
    "\n",
    "# Set your identity as required by SEC EDGAR\n",
    "set_identity(\"mike@indigo.com\")\n",
    "\n",
    "# Function to get S&P 500 tickers\n",
    "def get_sp500_tickers():\n",
    "    # You can use pandas to get S&P 500 tickers from Wikipedia\n",
    "    url = \"https://en.wikipedia.org/wiki/List_of_S%26P_500_companies\"\n",
    "    tables = pd.read_html(url)\n",
    "    sp500 = tables[0]\n",
    "    return sp500['Symbol'].tolist()\n",
    "\n",
    "# Function to extract MD&A text from a company's 10-K\n",
    "def extract_mda(ticker, delay=1):\n",
    "    try:\n",
    "        # Create Company object\n",
    "        company = Company(ticker)\n",
    "        \n",
    "        # Get latest 10-K filing\n",
    "        filing = company.get_filings(form=\"10-K\").latest()\n",
    "        tenk = filing.obj()\n",
    "        \n",
    "        # Extract information\n",
    "        company_name = company.name\n",
    "        cik = company.cik\n",
    "        filing_date = tenk.filing_date\n",
    "        \n",
    "        # Get Management Discussion section (Item 7)\n",
    "        mda_text = tenk.management_discussion\n",
    "        \n",
    "        # Wait to avoid hitting rate limits\n",
    "        time.sleep(delay)\n",
    "        \n",
    "        return {\n",
    "            'Ticker': ticker,\n",
    "            'Company Name': company_name,\n",
    "            'CIK': cik,\n",
    "            'Filing Date': filing_date,\n",
    "            'MD&A Text': mda_text\n",
    "        }\n",
    "    \n",
    "    except Exception as e:\n",
    "        print(f\"Error processing {ticker}: {e}\")\n",
    "        return {\n",
    "            'Ticker': ticker,\n",
    "            'Company Name': None,\n",
    "            'CIK': None,\n",
    "            'Filing Date': None,\n",
    "            'MD&A Text': str(e)\n",
    "        }\n",
    "\n",
    "# Main function\n",
    "def main():\n",
    "    # Get S&P 500 tickers\n",
    "    print(\"Getting S&P 500 tickers...\")\n",
    "    tickers = get_sp500_tickers()\n",
    "    \n",
    "    # Output file\n",
    "    output_file = \"sp500_management_discussion.csv\"\n",
    "    \n",
    "    # Write CSV header\n",
    "    with open(output_file, 'w', newline='', encoding='utf-8') as csvfile:\n",
    "        fieldnames = ['Ticker', 'Company Name', 'CIK', 'Filing Date', 'MD&A Text']\n",
    "        writer = csv.DictWriter(csvfile, fieldnames=fieldnames)\n",
    "        writer.writeheader()\n",
    "    \n",
    "    # Process each ticker\n",
    "    print(f\"Processing {len(tickers)} companies...\")\n",
    "    for ticker in tqdm(tickers):\n",
    "        # Clean ticker symbol (remove dots and special characters)\n",
    "        clean_ticker = ticker.replace('.', '-')\n",
    "        \n",
    "        # Extract MD&A\n",
    "        result = extract_mda(clean_ticker)\n",
    "        \n",
    "        # Append to CSV\n",
    "        with open(output_file, 'a', newline='', encoding='utf-8') as csvfile:\n",
    "            fieldnames = ['Ticker', 'Company Name', 'CIK', 'Filing Date', 'MD&A Text']\n",
    "            writer = csv.DictWriter(csvfile, fieldnames=fieldnames)\n",
    "            writer.writerow(result)\n",
    "    \n",
    "    print(f\"Extraction complete. Data saved to {output_file}\")\n",
    "\n",
    "if __name__ == \"__main__\":\n",
    "    main()"
   ]
  }
 ],
 "metadata": {
  "kernelspec": {
   "display_name": "IDAS Python 3.11",
   "language": "python",
   "name": "python3"
  },
  "language_info": {
   "codemirror_mode": {
    "name": "ipython",
    "version": 3
   },
   "file_extension": ".py",
   "mimetype": "text/x-python",
   "name": "python",
   "nbconvert_exporter": "python",
   "pygments_lexer": "ipython3",
   "version": "3.11.4"
  }
 },
 "nbformat": 4,
 "nbformat_minor": 5
}
